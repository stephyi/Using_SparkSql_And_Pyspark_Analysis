{
  "nbformat": 4,
  "nbformat_minor": 0,
  "metadata": {
    "colab": {
      "name": "spark.ipynb",
      "provenance": [],
      "collapsed_sections": [
        "JEb4HTRwiaJx"
      ],
      "authorship_tag": "ABX9TyO6BJHhxTGU3UinRDkElc0q",
      "include_colab_link": true
    },
    "kernelspec": {
      "name": "python3",
      "display_name": "Python 3"
    }
  },
  "cells": [
    {
      "cell_type": "markdown",
      "metadata": {
        "id": "view-in-github",
        "colab_type": "text"
      },
      "source": [
        "<a href=\"https://colab.research.google.com/github/stephyi/Using_SparkSql_And_Pyspark_Analysis/blob/main/spark.ipynb\" target=\"_parent\"><img src=\"https://colab.research.google.com/assets/colab-badge.svg\" alt=\"Open In Colab\"/></a>"
      ]
    },
    {
      "cell_type": "markdown",
      "metadata": {
        "id": "Gweq9U8hYVed"
      },
      "source": [
        "# Installing Libraries"
      ]
    },
    {
      "cell_type": "code",
      "metadata": {
        "colab": {
          "base_uri": "https://localhost:8080/"
        },
        "id": "JTralUhbBs3z",
        "outputId": "b9d39ff6-9f0b-46d7-f88b-2ea593a23921"
      },
      "source": [
        "#Installing the required dependencies\n",
        "\n",
        "!apt-get install openjdk-8-jdk-headless \n",
        "!wget -q http://mirror.its.dal.ca/apache/spark/spark-2.4.7/spark-2.4.7-bin-hadoop2.7.tgz\n",
        "!tar xvf spark-2.4.7-bin-hadoop2.7.tgz\n",
        "!pip install -q findspark\n",
        "\n",
        "\n",
        "!pip install pyspark"
      ],
      "execution_count": 1,
      "outputs": [
        {
          "output_type": "stream",
          "text": [
            "Reading package lists... Done\n",
            "Building dependency tree       \n",
            "Reading state information... Done\n",
            "The following additional packages will be installed:\n",
            "  openjdk-8-jre-headless\n",
            "Suggested packages:\n",
            "  openjdk-8-demo openjdk-8-source libnss-mdns fonts-dejavu-extra\n",
            "  fonts-ipafont-gothic fonts-ipafont-mincho fonts-wqy-microhei\n",
            "  fonts-wqy-zenhei fonts-indic\n",
            "The following NEW packages will be installed:\n",
            "  openjdk-8-jdk-headless openjdk-8-jre-headless\n",
            "0 upgraded, 2 newly installed, 0 to remove and 14 not upgraded.\n",
            "Need to get 36.5 MB of archives.\n",
            "After this operation, 143 MB of additional disk space will be used.\n",
            "Get:1 http://archive.ubuntu.com/ubuntu bionic-updates/universe amd64 openjdk-8-jre-headless amd64 8u275-b01-0ubuntu1~18.04 [28.2 MB]\n",
            "Get:2 http://archive.ubuntu.com/ubuntu bionic-updates/universe amd64 openjdk-8-jdk-headless amd64 8u275-b01-0ubuntu1~18.04 [8,269 kB]\n",
            "Fetched 36.5 MB in 2s (18.0 MB/s)\n",
            "Selecting previously unselected package openjdk-8-jre-headless:amd64.\n",
            "(Reading database ... 144793 files and directories currently installed.)\n",
            "Preparing to unpack .../openjdk-8-jre-headless_8u275-b01-0ubuntu1~18.04_amd64.deb ...\n",
            "Unpacking openjdk-8-jre-headless:amd64 (8u275-b01-0ubuntu1~18.04) ...\n",
            "Selecting previously unselected package openjdk-8-jdk-headless:amd64.\n",
            "Preparing to unpack .../openjdk-8-jdk-headless_8u275-b01-0ubuntu1~18.04_amd64.deb ...\n",
            "Unpacking openjdk-8-jdk-headless:amd64 (8u275-b01-0ubuntu1~18.04) ...\n",
            "Setting up openjdk-8-jre-headless:amd64 (8u275-b01-0ubuntu1~18.04) ...\n",
            "update-alternatives: using /usr/lib/jvm/java-8-openjdk-amd64/jre/bin/orbd to provide /usr/bin/orbd (orbd) in auto mode\n",
            "update-alternatives: using /usr/lib/jvm/java-8-openjdk-amd64/jre/bin/servertool to provide /usr/bin/servertool (servertool) in auto mode\n",
            "update-alternatives: using /usr/lib/jvm/java-8-openjdk-amd64/jre/bin/tnameserv to provide /usr/bin/tnameserv (tnameserv) in auto mode\n",
            "Setting up openjdk-8-jdk-headless:amd64 (8u275-b01-0ubuntu1~18.04) ...\n",
            "update-alternatives: using /usr/lib/jvm/java-8-openjdk-amd64/bin/idlj to provide /usr/bin/idlj (idlj) in auto mode\n",
            "update-alternatives: using /usr/lib/jvm/java-8-openjdk-amd64/bin/wsimport to provide /usr/bin/wsimport (wsimport) in auto mode\n",
            "update-alternatives: using /usr/lib/jvm/java-8-openjdk-amd64/bin/jsadebugd to provide /usr/bin/jsadebugd (jsadebugd) in auto mode\n",
            "update-alternatives: using /usr/lib/jvm/java-8-openjdk-amd64/bin/native2ascii to provide /usr/bin/native2ascii (native2ascii) in auto mode\n",
            "update-alternatives: using /usr/lib/jvm/java-8-openjdk-amd64/bin/javah to provide /usr/bin/javah (javah) in auto mode\n",
            "update-alternatives: using /usr/lib/jvm/java-8-openjdk-amd64/bin/clhsdb to provide /usr/bin/clhsdb (clhsdb) in auto mode\n",
            "update-alternatives: using /usr/lib/jvm/java-8-openjdk-amd64/bin/xjc to provide /usr/bin/xjc (xjc) in auto mode\n",
            "update-alternatives: using /usr/lib/jvm/java-8-openjdk-amd64/bin/hsdb to provide /usr/bin/hsdb (hsdb) in auto mode\n",
            "update-alternatives: using /usr/lib/jvm/java-8-openjdk-amd64/bin/schemagen to provide /usr/bin/schemagen (schemagen) in auto mode\n",
            "update-alternatives: using /usr/lib/jvm/java-8-openjdk-amd64/bin/extcheck to provide /usr/bin/extcheck (extcheck) in auto mode\n",
            "update-alternatives: using /usr/lib/jvm/java-8-openjdk-amd64/bin/jhat to provide /usr/bin/jhat (jhat) in auto mode\n",
            "update-alternatives: using /usr/lib/jvm/java-8-openjdk-amd64/bin/wsgen to provide /usr/bin/wsgen (wsgen) in auto mode\n",
            "spark-2.4.7-bin-hadoop2.7/\n",
            "spark-2.4.7-bin-hadoop2.7/kubernetes/\n",
            "spark-2.4.7-bin-hadoop2.7/kubernetes/tests/\n",
            "spark-2.4.7-bin-hadoop2.7/kubernetes/tests/py_container_checks.py\n",
            "spark-2.4.7-bin-hadoop2.7/kubernetes/tests/pyfiles.py\n",
            "spark-2.4.7-bin-hadoop2.7/kubernetes/tests/worker_memory_check.py\n",
            "spark-2.4.7-bin-hadoop2.7/kubernetes/dockerfiles/\n",
            "spark-2.4.7-bin-hadoop2.7/kubernetes/dockerfiles/spark/\n",
            "spark-2.4.7-bin-hadoop2.7/kubernetes/dockerfiles/spark/entrypoint.sh\n",
            "spark-2.4.7-bin-hadoop2.7/kubernetes/dockerfiles/spark/bindings/\n",
            "spark-2.4.7-bin-hadoop2.7/kubernetes/dockerfiles/spark/bindings/python/\n",
            "spark-2.4.7-bin-hadoop2.7/kubernetes/dockerfiles/spark/bindings/python/Dockerfile\n",
            "spark-2.4.7-bin-hadoop2.7/kubernetes/dockerfiles/spark/bindings/R/\n",
            "spark-2.4.7-bin-hadoop2.7/kubernetes/dockerfiles/spark/bindings/R/Dockerfile\n",
            "spark-2.4.7-bin-hadoop2.7/kubernetes/dockerfiles/spark/Dockerfile\n",
            "spark-2.4.7-bin-hadoop2.7/NOTICE\n",
            "spark-2.4.7-bin-hadoop2.7/data/\n",
            "spark-2.4.7-bin-hadoop2.7/data/streaming/\n",
            "spark-2.4.7-bin-hadoop2.7/data/streaming/AFINN-111.txt\n",
            "spark-2.4.7-bin-hadoop2.7/data/mllib/\n",
            "spark-2.4.7-bin-hadoop2.7/data/mllib/sample_multiclass_classification_data.txt\n",
            "spark-2.4.7-bin-hadoop2.7/data/mllib/streaming_kmeans_data_test.txt\n",
            "spark-2.4.7-bin-hadoop2.7/data/mllib/ridge-data/\n",
            "spark-2.4.7-bin-hadoop2.7/data/mllib/ridge-data/lpsa.data\n",
            "spark-2.4.7-bin-hadoop2.7/data/mllib/als/\n",
            "spark-2.4.7-bin-hadoop2.7/data/mllib/als/test.data\n",
            "spark-2.4.7-bin-hadoop2.7/data/mllib/als/sample_movielens_ratings.txt\n",
            "spark-2.4.7-bin-hadoop2.7/data/mllib/sample_svm_data.txt\n",
            "spark-2.4.7-bin-hadoop2.7/data/mllib/images/\n",
            "spark-2.4.7-bin-hadoop2.7/data/mllib/images/origin/\n",
            "spark-2.4.7-bin-hadoop2.7/data/mllib/images/origin/license.txt\n",
            "spark-2.4.7-bin-hadoop2.7/data/mllib/images/origin/multi-channel/\n",
            "spark-2.4.7-bin-hadoop2.7/data/mllib/images/origin/multi-channel/grayscale.jpg\n",
            "spark-2.4.7-bin-hadoop2.7/data/mllib/images/origin/multi-channel/BGRA_alpha_60.png\n",
            "spark-2.4.7-bin-hadoop2.7/data/mllib/images/origin/multi-channel/chr30.4.184.jpg\n",
            "spark-2.4.7-bin-hadoop2.7/data/mllib/images/origin/multi-channel/BGRA.png\n",
            "spark-2.4.7-bin-hadoop2.7/data/mllib/images/origin/kittens/\n",
            "spark-2.4.7-bin-hadoop2.7/data/mllib/images/origin/kittens/not-image.txt\n",
            "spark-2.4.7-bin-hadoop2.7/data/mllib/images/origin/kittens/29.5.a_b_EGDP022204.jpg\n",
            "spark-2.4.7-bin-hadoop2.7/data/mllib/images/origin/kittens/54893.jpg\n",
            "spark-2.4.7-bin-hadoop2.7/data/mllib/images/origin/kittens/DP153539.jpg\n",
            "spark-2.4.7-bin-hadoop2.7/data/mllib/images/origin/kittens/DP802813.jpg\n",
            "spark-2.4.7-bin-hadoop2.7/data/mllib/images/partitioned/\n",
            "spark-2.4.7-bin-hadoop2.7/data/mllib/images/partitioned/cls=multichannel/\n",
            "spark-2.4.7-bin-hadoop2.7/data/mllib/images/partitioned/cls=multichannel/date=2018-01/\n",
            "spark-2.4.7-bin-hadoop2.7/data/mllib/images/partitioned/cls=multichannel/date=2018-01/BGRA_alpha_60.png\n",
            "spark-2.4.7-bin-hadoop2.7/data/mllib/images/partitioned/cls=multichannel/date=2018-01/BGRA.png\n",
            "spark-2.4.7-bin-hadoop2.7/data/mllib/images/partitioned/cls=multichannel/date=2018-02/\n",
            "spark-2.4.7-bin-hadoop2.7/data/mllib/images/partitioned/cls=multichannel/date=2018-02/grayscale.jpg\n",
            "spark-2.4.7-bin-hadoop2.7/data/mllib/images/partitioned/cls=multichannel/date=2018-02/chr30.4.184.jpg\n",
            "spark-2.4.7-bin-hadoop2.7/data/mllib/images/partitioned/cls=kittens/\n",
            "spark-2.4.7-bin-hadoop2.7/data/mllib/images/partitioned/cls=kittens/date=2018-01/\n",
            "spark-2.4.7-bin-hadoop2.7/data/mllib/images/partitioned/cls=kittens/date=2018-01/not-image.txt\n",
            "spark-2.4.7-bin-hadoop2.7/data/mllib/images/partitioned/cls=kittens/date=2018-01/29.5.a_b_EGDP022204.jpg\n",
            "spark-2.4.7-bin-hadoop2.7/data/mllib/images/partitioned/cls=kittens/date=2018-02/\n",
            "spark-2.4.7-bin-hadoop2.7/data/mllib/images/partitioned/cls=kittens/date=2018-02/54893.jpg\n",
            "spark-2.4.7-bin-hadoop2.7/data/mllib/images/partitioned/cls=kittens/date=2018-02/DP153539.jpg\n",
            "spark-2.4.7-bin-hadoop2.7/data/mllib/images/partitioned/cls=kittens/date=2018-02/DP802813.jpg\n",
            "spark-2.4.7-bin-hadoop2.7/data/mllib/images/license.txt\n",
            "spark-2.4.7-bin-hadoop2.7/data/mllib/sample_fpgrowth.txt\n",
            "spark-2.4.7-bin-hadoop2.7/data/mllib/iris_libsvm.txt\n",
            "spark-2.4.7-bin-hadoop2.7/data/mllib/sample_lda_data.txt\n",
            "spark-2.4.7-bin-hadoop2.7/data/mllib/sample_movielens_data.txt\n",
            "spark-2.4.7-bin-hadoop2.7/data/mllib/sample_binary_classification_data.txt\n",
            "spark-2.4.7-bin-hadoop2.7/data/mllib/sample_lda_libsvm_data.txt\n",
            "spark-2.4.7-bin-hadoop2.7/data/mllib/pagerank_data.txt\n",
            "spark-2.4.7-bin-hadoop2.7/data/mllib/sample_linear_regression_data.txt\n",
            "spark-2.4.7-bin-hadoop2.7/data/mllib/gmm_data.txt\n",
            "spark-2.4.7-bin-hadoop2.7/data/mllib/sample_kmeans_data.txt\n",
            "spark-2.4.7-bin-hadoop2.7/data/mllib/pic_data.txt\n",
            "spark-2.4.7-bin-hadoop2.7/data/mllib/kmeans_data.txt\n",
            "spark-2.4.7-bin-hadoop2.7/data/mllib/sample_isotonic_regression_libsvm_data.txt\n",
            "spark-2.4.7-bin-hadoop2.7/data/mllib/sample_libsvm_data.txt\n",
            "spark-2.4.7-bin-hadoop2.7/data/graphx/\n",
            "spark-2.4.7-bin-hadoop2.7/data/graphx/followers.txt\n",
            "spark-2.4.7-bin-hadoop2.7/data/graphx/users.txt\n",
            "spark-2.4.7-bin-hadoop2.7/README.md\n",
            "spark-2.4.7-bin-hadoop2.7/conf/\n",
            "spark-2.4.7-bin-hadoop2.7/conf/docker.properties.template\n",
            "spark-2.4.7-bin-hadoop2.7/conf/spark-env.sh.template\n",
            "spark-2.4.7-bin-hadoop2.7/conf/metrics.properties.template\n",
            "spark-2.4.7-bin-hadoop2.7/conf/log4j.properties.template\n",
            "spark-2.4.7-bin-hadoop2.7/conf/spark-defaults.conf.template\n",
            "spark-2.4.7-bin-hadoop2.7/conf/fairscheduler.xml.template\n",
            "spark-2.4.7-bin-hadoop2.7/conf/slaves.template\n",
            "spark-2.4.7-bin-hadoop2.7/licenses/\n",
            "spark-2.4.7-bin-hadoop2.7/licenses/LICENSE-jline.txt\n",
            "spark-2.4.7-bin-hadoop2.7/licenses/LICENSE-javolution.txt\n",
            "spark-2.4.7-bin-hadoop2.7/licenses/LICENSE-heapq.txt\n",
            "spark-2.4.7-bin-hadoop2.7/licenses/LICENSE-dagre-d3.txt\n",
            "spark-2.4.7-bin-hadoop2.7/licenses/LICENSE-modernizr.txt\n",
            "spark-2.4.7-bin-hadoop2.7/licenses/LICENSE-bootstrap.txt\n",
            "spark-2.4.7-bin-hadoop2.7/licenses/LICENSE-mustache.txt\n",
            "spark-2.4.7-bin-hadoop2.7/licenses/LICENSE-respond.txt\n",
            "spark-2.4.7-bin-hadoop2.7/licenses/LICENSE-jtransforms.html\n",
            "spark-2.4.7-bin-hadoop2.7/licenses/LICENSE-zstd-jni.txt\n",
            "spark-2.4.7-bin-hadoop2.7/licenses/LICENSE-vis-timeline.txt\n",
            "spark-2.4.7-bin-hadoop2.7/licenses/LICENSE-protobuf.txt\n",
            "spark-2.4.7-bin-hadoop2.7/licenses/LICENSE-netlib.txt\n",
            "spark-2.4.7-bin-hadoop2.7/licenses/LICENSE-xmlenc.txt\n",
            "spark-2.4.7-bin-hadoop2.7/licenses/LICENSE-reflectasm.txt\n",
            "spark-2.4.7-bin-hadoop2.7/licenses/LICENSE-jodd.txt\n",
            "spark-2.4.7-bin-hadoop2.7/licenses/LICENSE-arpack.txt\n",
            "spark-2.4.7-bin-hadoop2.7/licenses/LICENSE-zstd.txt\n",
            "spark-2.4.7-bin-hadoop2.7/licenses/LICENSE-machinist.txt\n",
            "spark-2.4.7-bin-hadoop2.7/licenses/LICENSE-CC0.txt\n",
            "spark-2.4.7-bin-hadoop2.7/licenses/LICENSE-leveldbjni.txt\n",
            "spark-2.4.7-bin-hadoop2.7/licenses/LICENSE-minlog.txt\n",
            "spark-2.4.7-bin-hadoop2.7/licenses/LICENSE-spire.txt\n",
            "spark-2.4.7-bin-hadoop2.7/licenses/LICENSE-scala.txt\n",
            "spark-2.4.7-bin-hadoop2.7/licenses/LICENSE-janino.txt\n",
            "spark-2.4.7-bin-hadoop2.7/licenses/LICENSE-antlr.txt\n",
            "spark-2.4.7-bin-hadoop2.7/licenses/LICENSE-AnchorJS.txt\n",
            "spark-2.4.7-bin-hadoop2.7/licenses/LICENSE-cloudpickle.txt\n",
            "spark-2.4.7-bin-hadoop2.7/licenses/LICENSE-f2j.txt\n",
            "spark-2.4.7-bin-hadoop2.7/licenses/LICENSE-graphlib-dot.txt\n",
            "spark-2.4.7-bin-hadoop2.7/licenses/LICENSE-pyrolite.txt\n",
            "spark-2.4.7-bin-hadoop2.7/licenses/LICENSE-datatables.txt\n",
            "spark-2.4.7-bin-hadoop2.7/licenses/LICENSE-kryo.txt\n",
            "spark-2.4.7-bin-hadoop2.7/licenses/LICENSE-join.txt\n",
            "spark-2.4.7-bin-hadoop2.7/licenses/LICENSE-scopt.txt\n",
            "spark-2.4.7-bin-hadoop2.7/licenses/LICENSE-sbt-launch-lib.txt\n",
            "spark-2.4.7-bin-hadoop2.7/licenses/LICENSE-paranamer.txt\n",
            "spark-2.4.7-bin-hadoop2.7/licenses/LICENSE-d3.min.js.txt\n",
            "spark-2.4.7-bin-hadoop2.7/licenses/LICENSE-automaton.txt\n",
            "spark-2.4.7-bin-hadoop2.7/licenses/LICENSE-slf4j.txt\n",
            "spark-2.4.7-bin-hadoop2.7/licenses/LICENSE-matchMedia-polyfill.txt\n",
            "spark-2.4.7-bin-hadoop2.7/licenses/LICENSE-javassist.html\n",
            "spark-2.4.7-bin-hadoop2.7/licenses/LICENSE-pmml-model.txt\n",
            "spark-2.4.7-bin-hadoop2.7/licenses/LICENSE-jquery.txt\n",
            "spark-2.4.7-bin-hadoop2.7/licenses/LICENSE-sorttable.js.txt\n",
            "spark-2.4.7-bin-hadoop2.7/licenses/LICENSE-py4j.txt\n",
            "spark-2.4.7-bin-hadoop2.7/licenses/LICENSE-json-formatter.txt\n",
            "spark-2.4.7-bin-hadoop2.7/yarn/\n",
            "spark-2.4.7-bin-hadoop2.7/yarn/spark-2.4.7-yarn-shuffle.jar\n",
            "spark-2.4.7-bin-hadoop2.7/bin/\n",
            "spark-2.4.7-bin-hadoop2.7/bin/spark-shell\n",
            "spark-2.4.7-bin-hadoop2.7/bin/spark-sql.cmd\n",
            "spark-2.4.7-bin-hadoop2.7/bin/spark-shell2.cmd\n",
            "spark-2.4.7-bin-hadoop2.7/bin/find-spark-home.cmd\n",
            "spark-2.4.7-bin-hadoop2.7/bin/load-spark-env.sh\n",
            "spark-2.4.7-bin-hadoop2.7/bin/beeline.cmd\n",
            "spark-2.4.7-bin-hadoop2.7/bin/spark-class\n",
            "spark-2.4.7-bin-hadoop2.7/bin/sparkR2.cmd\n",
            "spark-2.4.7-bin-hadoop2.7/bin/run-example\n",
            "spark-2.4.7-bin-hadoop2.7/bin/sparkR\n",
            "spark-2.4.7-bin-hadoop2.7/bin/pyspark2.cmd\n",
            "spark-2.4.7-bin-hadoop2.7/bin/run-example.cmd\n",
            "spark-2.4.7-bin-hadoop2.7/bin/spark-sql2.cmd\n",
            "spark-2.4.7-bin-hadoop2.7/bin/spark-submit\n",
            "spark-2.4.7-bin-hadoop2.7/bin/spark-shell.cmd\n",
            "spark-2.4.7-bin-hadoop2.7/bin/docker-image-tool.sh\n",
            "spark-2.4.7-bin-hadoop2.7/bin/find-spark-home\n",
            "spark-2.4.7-bin-hadoop2.7/bin/sparkR.cmd\n",
            "spark-2.4.7-bin-hadoop2.7/bin/load-spark-env.cmd\n",
            "spark-2.4.7-bin-hadoop2.7/bin/pyspark\n",
            "spark-2.4.7-bin-hadoop2.7/bin/beeline\n",
            "spark-2.4.7-bin-hadoop2.7/bin/spark-sql\n",
            "spark-2.4.7-bin-hadoop2.7/bin/spark-submit.cmd\n",
            "spark-2.4.7-bin-hadoop2.7/bin/spark-submit2.cmd\n",
            "spark-2.4.7-bin-hadoop2.7/bin/spark-class2.cmd\n",
            "spark-2.4.7-bin-hadoop2.7/bin/pyspark.cmd\n",
            "spark-2.4.7-bin-hadoop2.7/bin/spark-class.cmd\n",
            "spark-2.4.7-bin-hadoop2.7/sbin/\n",
            "spark-2.4.7-bin-hadoop2.7/sbin/stop-shuffle-service.sh\n",
            "spark-2.4.7-bin-hadoop2.7/sbin/start-master.sh\n",
            "spark-2.4.7-bin-hadoop2.7/sbin/start-mesos-dispatcher.sh\n",
            "spark-2.4.7-bin-hadoop2.7/sbin/stop-slave.sh\n",
            "spark-2.4.7-bin-hadoop2.7/sbin/stop-thriftserver.sh\n",
            "spark-2.4.7-bin-hadoop2.7/sbin/stop-history-server.sh\n",
            "spark-2.4.7-bin-hadoop2.7/sbin/start-thriftserver.sh\n",
            "spark-2.4.7-bin-hadoop2.7/sbin/stop-master.sh\n",
            "spark-2.4.7-bin-hadoop2.7/sbin/start-history-server.sh\n",
            "spark-2.4.7-bin-hadoop2.7/sbin/stop-mesos-shuffle-service.sh\n",
            "spark-2.4.7-bin-hadoop2.7/sbin/stop-mesos-dispatcher.sh\n",
            "spark-2.4.7-bin-hadoop2.7/sbin/stop-all.sh\n",
            "spark-2.4.7-bin-hadoop2.7/sbin/start-mesos-shuffle-service.sh\n",
            "spark-2.4.7-bin-hadoop2.7/sbin/start-slaves.sh\n",
            "spark-2.4.7-bin-hadoop2.7/sbin/spark-config.sh\n",
            "spark-2.4.7-bin-hadoop2.7/sbin/start-shuffle-service.sh\n",
            "spark-2.4.7-bin-hadoop2.7/sbin/start-slave.sh\n",
            "spark-2.4.7-bin-hadoop2.7/sbin/spark-daemons.sh\n",
            "spark-2.4.7-bin-hadoop2.7/sbin/start-all.sh\n",
            "spark-2.4.7-bin-hadoop2.7/sbin/spark-daemon.sh\n",
            "spark-2.4.7-bin-hadoop2.7/sbin/slaves.sh\n",
            "spark-2.4.7-bin-hadoop2.7/sbin/stop-slaves.sh\n",
            "spark-2.4.7-bin-hadoop2.7/LICENSE\n",
            "spark-2.4.7-bin-hadoop2.7/python/\n",
            "spark-2.4.7-bin-hadoop2.7/python/setup.py\n",
            "spark-2.4.7-bin-hadoop2.7/python/pylintrc\n",
            "spark-2.4.7-bin-hadoop2.7/python/README.md\n",
            "spark-2.4.7-bin-hadoop2.7/python/run-tests.py\n",
            "spark-2.4.7-bin-hadoop2.7/python/.coveragerc\n",
            "spark-2.4.7-bin-hadoop2.7/python/run-tests-with-coverage\n",
            "spark-2.4.7-bin-hadoop2.7/python/.gitignore\n",
            "spark-2.4.7-bin-hadoop2.7/python/test_support/\n",
            "spark-2.4.7-bin-hadoop2.7/python/test_support/userlibrary.py\n",
            "spark-2.4.7-bin-hadoop2.7/python/test_support/sql/\n",
            "spark-2.4.7-bin-hadoop2.7/python/test_support/sql/parquet_partitioned/\n",
            "spark-2.4.7-bin-hadoop2.7/python/test_support/sql/parquet_partitioned/_SUCCESS\n",
            "spark-2.4.7-bin-hadoop2.7/python/test_support/sql/parquet_partitioned/year=2014/\n",
            "spark-2.4.7-bin-hadoop2.7/python/test_support/sql/parquet_partitioned/year=2014/month=9/\n",
            "spark-2.4.7-bin-hadoop2.7/python/test_support/sql/parquet_partitioned/year=2014/month=9/day=1/\n",
            "spark-2.4.7-bin-hadoop2.7/python/test_support/sql/parquet_partitioned/year=2014/month=9/day=1/.part-r-00008.gz.parquet.crc\n",
            "spark-2.4.7-bin-hadoop2.7/python/test_support/sql/parquet_partitioned/year=2014/month=9/day=1/part-r-00008.gz.parquet\n",
            "spark-2.4.7-bin-hadoop2.7/python/test_support/sql/parquet_partitioned/year=2015/\n",
            "spark-2.4.7-bin-hadoop2.7/python/test_support/sql/parquet_partitioned/year=2015/month=10/\n",
            "spark-2.4.7-bin-hadoop2.7/python/test_support/sql/parquet_partitioned/year=2015/month=10/day=26/\n",
            "spark-2.4.7-bin-hadoop2.7/python/test_support/sql/parquet_partitioned/year=2015/month=10/day=26/part-r-00005.gz.parquet\n",
            "spark-2.4.7-bin-hadoop2.7/python/test_support/sql/parquet_partitioned/year=2015/month=10/day=26/.part-r-00005.gz.parquet.crc\n",
            "spark-2.4.7-bin-hadoop2.7/python/test_support/sql/parquet_partitioned/year=2015/month=10/day=25/\n",
            "spark-2.4.7-bin-hadoop2.7/python/test_support/sql/parquet_partitioned/year=2015/month=10/day=25/part-r-00002.gz.parquet\n",
            "spark-2.4.7-bin-hadoop2.7/python/test_support/sql/parquet_partitioned/year=2015/month=10/day=25/.part-r-00002.gz.parquet.crc\n",
            "spark-2.4.7-bin-hadoop2.7/python/test_support/sql/parquet_partitioned/year=2015/month=10/day=25/.part-r-00004.gz.parquet.crc\n",
            "spark-2.4.7-bin-hadoop2.7/python/test_support/sql/parquet_partitioned/year=2015/month=10/day=25/part-r-00004.gz.parquet\n",
            "spark-2.4.7-bin-hadoop2.7/python/test_support/sql/parquet_partitioned/year=2015/month=9/\n",
            "spark-2.4.7-bin-hadoop2.7/python/test_support/sql/parquet_partitioned/year=2015/month=9/day=1/\n",
            "spark-2.4.7-bin-hadoop2.7/python/test_support/sql/parquet_partitioned/year=2015/month=9/day=1/.part-r-00007.gz.parquet.crc\n",
            "spark-2.4.7-bin-hadoop2.7/python/test_support/sql/parquet_partitioned/year=2015/month=9/day=1/part-r-00007.gz.parquet\n",
            "spark-2.4.7-bin-hadoop2.7/python/test_support/sql/parquet_partitioned/_metadata\n",
            "spark-2.4.7-bin-hadoop2.7/python/test_support/sql/parquet_partitioned/_common_metadata\n",
            "spark-2.4.7-bin-hadoop2.7/python/test_support/sql/people_array.json\n",
            "spark-2.4.7-bin-hadoop2.7/python/test_support/sql/ages.csv\n",
            "spark-2.4.7-bin-hadoop2.7/python/test_support/sql/ages_newlines.csv\n",
            "spark-2.4.7-bin-hadoop2.7/python/test_support/sql/people_array_utf16le.json\n",
            "spark-2.4.7-bin-hadoop2.7/python/test_support/sql/people1.json\n",
            "spark-2.4.7-bin-hadoop2.7/python/test_support/sql/people.json\n",
            "spark-2.4.7-bin-hadoop2.7/python/test_support/sql/orc_partitioned/\n",
            "spark-2.4.7-bin-hadoop2.7/python/test_support/sql/orc_partitioned/_SUCCESS\n",
            "spark-2.4.7-bin-hadoop2.7/python/test_support/sql/orc_partitioned/b=0/\n",
            "spark-2.4.7-bin-hadoop2.7/python/test_support/sql/orc_partitioned/b=0/c=0/\n",
            "spark-2.4.7-bin-hadoop2.7/python/test_support/sql/orc_partitioned/b=0/c=0/part-r-00000-829af031-b970-49d6-ad39-30460a0be2c8.orc\n",
            "spark-2.4.7-bin-hadoop2.7/python/test_support/sql/orc_partitioned/b=0/c=0/.part-r-00000-829af031-b970-49d6-ad39-30460a0be2c8.orc.crc\n",
            "spark-2.4.7-bin-hadoop2.7/python/test_support/sql/orc_partitioned/b=1/\n",
            "spark-2.4.7-bin-hadoop2.7/python/test_support/sql/orc_partitioned/b=1/c=1/\n",
            "spark-2.4.7-bin-hadoop2.7/python/test_support/sql/orc_partitioned/b=1/c=1/part-r-00000-829af031-b970-49d6-ad39-30460a0be2c8.orc\n",
            "spark-2.4.7-bin-hadoop2.7/python/test_support/sql/orc_partitioned/b=1/c=1/.part-r-00000-829af031-b970-49d6-ad39-30460a0be2c8.orc.crc\n",
            "spark-2.4.7-bin-hadoop2.7/python/test_support/sql/streaming/\n",
            "spark-2.4.7-bin-hadoop2.7/python/test_support/sql/streaming/text-test.txt\n",
            "spark-2.4.7-bin-hadoop2.7/python/test_support/sql/text-test.txt\n",
            "spark-2.4.7-bin-hadoop2.7/python/test_support/userlib-0.1.zip\n",
            "spark-2.4.7-bin-hadoop2.7/python/test_support/SimpleHTTPServer.py\n",
            "spark-2.4.7-bin-hadoop2.7/python/test_support/hello/\n",
            "spark-2.4.7-bin-hadoop2.7/python/test_support/hello/sub_hello/\n",
            "spark-2.4.7-bin-hadoop2.7/python/test_support/hello/sub_hello/sub_hello.txt\n",
            "spark-2.4.7-bin-hadoop2.7/python/test_support/hello/hello.txt\n",
            "spark-2.4.7-bin-hadoop2.7/python/MANIFEST.in\n",
            "spark-2.4.7-bin-hadoop2.7/python/lib/\n",
            "spark-2.4.7-bin-hadoop2.7/python/lib/PY4J_LICENSE.txt\n",
            "spark-2.4.7-bin-hadoop2.7/python/lib/pyspark.zip\n",
            "spark-2.4.7-bin-hadoop2.7/python/lib/py4j-0.10.7-src.zip\n",
            "spark-2.4.7-bin-hadoop2.7/python/pyspark/\n",
            "spark-2.4.7-bin-hadoop2.7/python/pyspark/find_spark_home.py\n",
            "spark-2.4.7-bin-hadoop2.7/python/pyspark/serializers.py\n",
            "spark-2.4.7-bin-hadoop2.7/python/pyspark/__init__.py\n",
            "spark-2.4.7-bin-hadoop2.7/python/pyspark/util.py\n",
            "spark-2.4.7-bin-hadoop2.7/python/pyspark/_globals.py\n",
            "spark-2.4.7-bin-hadoop2.7/python/pyspark/heapq3.py\n",
            "spark-2.4.7-bin-hadoop2.7/python/pyspark/cloudpickle.py\n",
            "spark-2.4.7-bin-hadoop2.7/python/pyspark/version.py\n",
            "spark-2.4.7-bin-hadoop2.7/python/pyspark/shell.py\n",
            "spark-2.4.7-bin-hadoop2.7/python/pyspark/traceback_utils.py\n",
            "spark-2.4.7-bin-hadoop2.7/python/pyspark/taskcontext.py\n",
            "spark-2.4.7-bin-hadoop2.7/python/pyspark/worker.py\n",
            "spark-2.4.7-bin-hadoop2.7/python/pyspark/daemon.py\n",
            "spark-2.4.7-bin-hadoop2.7/python/pyspark/statcounter.py\n",
            "spark-2.4.7-bin-hadoop2.7/python/pyspark/java_gateway.py\n",
            "spark-2.4.7-bin-hadoop2.7/python/pyspark/context.py\n",
            "spark-2.4.7-bin-hadoop2.7/python/pyspark/sql/\n",
            "spark-2.4.7-bin-hadoop2.7/python/pyspark/sql/readwriter.py\n",
            "spark-2.4.7-bin-hadoop2.7/python/pyspark/sql/streaming.py\n",
            "spark-2.4.7-bin-hadoop2.7/python/pyspark/sql/__init__.py\n",
            "spark-2.4.7-bin-hadoop2.7/python/pyspark/sql/utils.py\n",
            "spark-2.4.7-bin-hadoop2.7/python/pyspark/sql/udf.py\n",
            "spark-2.4.7-bin-hadoop2.7/python/pyspark/sql/session.py\n",
            "spark-2.4.7-bin-hadoop2.7/python/pyspark/sql/dataframe.py\n",
            "spark-2.4.7-bin-hadoop2.7/python/pyspark/sql/column.py\n",
            "spark-2.4.7-bin-hadoop2.7/python/pyspark/sql/context.py\n",
            "spark-2.4.7-bin-hadoop2.7/python/pyspark/sql/functions.py\n",
            "spark-2.4.7-bin-hadoop2.7/python/pyspark/sql/types.py\n",
            "spark-2.4.7-bin-hadoop2.7/python/pyspark/sql/catalog.py\n",
            "spark-2.4.7-bin-hadoop2.7/python/pyspark/sql/tests.py\n",
            "spark-2.4.7-bin-hadoop2.7/python/pyspark/sql/conf.py\n",
            "spark-2.4.7-bin-hadoop2.7/python/pyspark/sql/window.py\n",
            "spark-2.4.7-bin-hadoop2.7/python/pyspark/sql/group.py\n",
            "spark-2.4.7-bin-hadoop2.7/python/pyspark/shuffle.py\n",
            "spark-2.4.7-bin-hadoop2.7/python/pyspark/test_serializers.py\n",
            "spark-2.4.7-bin-hadoop2.7/python/pyspark/rddsampler.py\n",
            "spark-2.4.7-bin-hadoop2.7/python/pyspark/files.py\n",
            "spark-2.4.7-bin-hadoop2.7/python/pyspark/join.py\n",
            "spark-2.4.7-bin-hadoop2.7/python/pyspark/profiler.py\n",
            "spark-2.4.7-bin-hadoop2.7/python/pyspark/streaming/\n",
            "spark-2.4.7-bin-hadoop2.7/python/pyspark/streaming/__init__.py\n",
            "spark-2.4.7-bin-hadoop2.7/python/pyspark/streaming/util.py\n",
            "spark-2.4.7-bin-hadoop2.7/python/pyspark/streaming/flume.py\n",
            "spark-2.4.7-bin-hadoop2.7/python/pyspark/streaming/context.py\n",
            "spark-2.4.7-bin-hadoop2.7/python/pyspark/streaming/listener.py\n",
            "spark-2.4.7-bin-hadoop2.7/python/pyspark/streaming/kafka.py\n",
            "spark-2.4.7-bin-hadoop2.7/python/pyspark/streaming/kinesis.py\n",
            "spark-2.4.7-bin-hadoop2.7/python/pyspark/streaming/dstream.py\n",
            "spark-2.4.7-bin-hadoop2.7/python/pyspark/streaming/tests.py\n",
            "spark-2.4.7-bin-hadoop2.7/python/pyspark/ml/\n",
            "spark-2.4.7-bin-hadoop2.7/python/pyspark/ml/recommendation.py\n",
            "spark-2.4.7-bin-hadoop2.7/python/pyspark/ml/linalg/\n",
            "spark-2.4.7-bin-hadoop2.7/python/pyspark/ml/linalg/__init__.py\n",
            "spark-2.4.7-bin-hadoop2.7/python/pyspark/ml/clustering.py\n",
            "spark-2.4.7-bin-hadoop2.7/python/pyspark/ml/__init__.py\n",
            "spark-2.4.7-bin-hadoop2.7/python/pyspark/ml/tuning.py\n",
            "spark-2.4.7-bin-hadoop2.7/python/pyspark/ml/util.py\n",
            "spark-2.4.7-bin-hadoop2.7/python/pyspark/ml/classification.py\n",
            "spark-2.4.7-bin-hadoop2.7/python/pyspark/ml/wrapper.py\n",
            "spark-2.4.7-bin-hadoop2.7/python/pyspark/ml/param/\n",
            "spark-2.4.7-bin-hadoop2.7/python/pyspark/ml/param/__init__.py\n",
            "spark-2.4.7-bin-hadoop2.7/python/pyspark/ml/param/_shared_params_code_gen.py\n",
            "spark-2.4.7-bin-hadoop2.7/python/pyspark/ml/param/shared.py\n",
            "spark-2.4.7-bin-hadoop2.7/python/pyspark/ml/feature.py\n",
            "spark-2.4.7-bin-hadoop2.7/python/pyspark/ml/regression.py\n",
            "spark-2.4.7-bin-hadoop2.7/python/pyspark/ml/stat.py\n",
            "spark-2.4.7-bin-hadoop2.7/python/pyspark/ml/common.py\n",
            "spark-2.4.7-bin-hadoop2.7/python/pyspark/ml/evaluation.py\n",
            "spark-2.4.7-bin-hadoop2.7/python/pyspark/ml/tests.py\n",
            "spark-2.4.7-bin-hadoop2.7/python/pyspark/ml/image.py\n",
            "spark-2.4.7-bin-hadoop2.7/python/pyspark/ml/pipeline.py\n",
            "spark-2.4.7-bin-hadoop2.7/python/pyspark/ml/fpm.py\n",
            "spark-2.4.7-bin-hadoop2.7/python/pyspark/ml/base.py\n",
            "spark-2.4.7-bin-hadoop2.7/python/pyspark/resultiterable.py\n",
            "spark-2.4.7-bin-hadoop2.7/python/pyspark/tests.py\n",
            "spark-2.4.7-bin-hadoop2.7/python/pyspark/conf.py\n",
            "spark-2.4.7-bin-hadoop2.7/python/pyspark/broadcast.py\n",
            "spark-2.4.7-bin-hadoop2.7/python/pyspark/accumulators.py\n",
            "spark-2.4.7-bin-hadoop2.7/python/pyspark/python/\n",
            "spark-2.4.7-bin-hadoop2.7/python/pyspark/python/pyspark/\n",
            "spark-2.4.7-bin-hadoop2.7/python/pyspark/python/pyspark/shell.py\n",
            "spark-2.4.7-bin-hadoop2.7/python/pyspark/status.py\n",
            "spark-2.4.7-bin-hadoop2.7/python/pyspark/test_broadcast.py\n",
            "spark-2.4.7-bin-hadoop2.7/python/pyspark/mllib/\n",
            "spark-2.4.7-bin-hadoop2.7/python/pyspark/mllib/recommendation.py\n",
            "spark-2.4.7-bin-hadoop2.7/python/pyspark/mllib/linalg/\n",
            "spark-2.4.7-bin-hadoop2.7/python/pyspark/mllib/linalg/distributed.py\n",
            "spark-2.4.7-bin-hadoop2.7/python/pyspark/mllib/linalg/__init__.py\n",
            "spark-2.4.7-bin-hadoop2.7/python/pyspark/mllib/clustering.py\n",
            "spark-2.4.7-bin-hadoop2.7/python/pyspark/mllib/random.py\n",
            "spark-2.4.7-bin-hadoop2.7/python/pyspark/mllib/__init__.py\n",
            "spark-2.4.7-bin-hadoop2.7/python/pyspark/mllib/util.py\n",
            "spark-2.4.7-bin-hadoop2.7/python/pyspark/mllib/classification.py\n",
            "spark-2.4.7-bin-hadoop2.7/python/pyspark/mllib/stat/\n",
            "spark-2.4.7-bin-hadoop2.7/python/pyspark/mllib/stat/_statistics.py\n",
            "spark-2.4.7-bin-hadoop2.7/python/pyspark/mllib/stat/__init__.py\n",
            "spark-2.4.7-bin-hadoop2.7/python/pyspark/mllib/stat/KernelDensity.py\n",
            "spark-2.4.7-bin-hadoop2.7/python/pyspark/mllib/stat/distribution.py\n",
            "spark-2.4.7-bin-hadoop2.7/python/pyspark/mllib/stat/test.py\n",
            "spark-2.4.7-bin-hadoop2.7/python/pyspark/mllib/feature.py\n",
            "spark-2.4.7-bin-hadoop2.7/python/pyspark/mllib/regression.py\n",
            "spark-2.4.7-bin-hadoop2.7/python/pyspark/mllib/common.py\n",
            "spark-2.4.7-bin-hadoop2.7/python/pyspark/mllib/evaluation.py\n",
            "spark-2.4.7-bin-hadoop2.7/python/pyspark/mllib/tests.py\n",
            "spark-2.4.7-bin-hadoop2.7/python/pyspark/mllib/tree.py\n",
            "spark-2.4.7-bin-hadoop2.7/python/pyspark/mllib/fpm.py\n",
            "spark-2.4.7-bin-hadoop2.7/python/pyspark/rdd.py\n",
            "spark-2.4.7-bin-hadoop2.7/python/pyspark/storagelevel.py\n",
            "spark-2.4.7-bin-hadoop2.7/python/dist/\n",
            "spark-2.4.7-bin-hadoop2.7/python/setup.cfg\n",
            "spark-2.4.7-bin-hadoop2.7/python/pyspark.egg-info/\n",
            "spark-2.4.7-bin-hadoop2.7/python/pyspark.egg-info/top_level.txt\n",
            "spark-2.4.7-bin-hadoop2.7/python/pyspark.egg-info/SOURCES.txt\n",
            "spark-2.4.7-bin-hadoop2.7/python/pyspark.egg-info/PKG-INFO\n",
            "spark-2.4.7-bin-hadoop2.7/python/pyspark.egg-info/requires.txt\n",
            "spark-2.4.7-bin-hadoop2.7/python/pyspark.egg-info/dependency_links.txt\n",
            "spark-2.4.7-bin-hadoop2.7/python/docs/\n",
            "spark-2.4.7-bin-hadoop2.7/python/docs/pyspark.ml.rst\n",
            "spark-2.4.7-bin-hadoop2.7/python/docs/epytext.py\n",
            "spark-2.4.7-bin-hadoop2.7/python/docs/Makefile\n",
            "spark-2.4.7-bin-hadoop2.7/python/docs/pyspark.sql.rst\n",
            "spark-2.4.7-bin-hadoop2.7/python/docs/pyspark.streaming.rst\n",
            "spark-2.4.7-bin-hadoop2.7/python/docs/pyspark.mllib.rst\n",
            "spark-2.4.7-bin-hadoop2.7/python/docs/make.bat\n",
            "spark-2.4.7-bin-hadoop2.7/python/docs/conf.py\n",
            "spark-2.4.7-bin-hadoop2.7/python/docs/_templates/\n",
            "spark-2.4.7-bin-hadoop2.7/python/docs/_templates/layout.html\n",
            "spark-2.4.7-bin-hadoop2.7/python/docs/_static/\n",
            "spark-2.4.7-bin-hadoop2.7/python/docs/_static/pyspark.js\n",
            "spark-2.4.7-bin-hadoop2.7/python/docs/_static/pyspark.css\n",
            "spark-2.4.7-bin-hadoop2.7/python/docs/make2.bat\n",
            "spark-2.4.7-bin-hadoop2.7/python/docs/index.rst\n",
            "spark-2.4.7-bin-hadoop2.7/python/docs/pyspark.rst\n",
            "spark-2.4.7-bin-hadoop2.7/python/run-tests\n",
            "spark-2.4.7-bin-hadoop2.7/python/test_coverage/\n",
            "spark-2.4.7-bin-hadoop2.7/python/test_coverage/conf/\n",
            "spark-2.4.7-bin-hadoop2.7/python/test_coverage/conf/spark-defaults.conf\n",
            "spark-2.4.7-bin-hadoop2.7/python/test_coverage/coverage_daemon.py\n",
            "spark-2.4.7-bin-hadoop2.7/python/test_coverage/sitecustomize.py\n",
            "spark-2.4.7-bin-hadoop2.7/examples/\n",
            "spark-2.4.7-bin-hadoop2.7/examples/src/\n",
            "spark-2.4.7-bin-hadoop2.7/examples/src/main/\n",
            "spark-2.4.7-bin-hadoop2.7/examples/src/main/r/\n",
            "spark-2.4.7-bin-hadoop2.7/examples/src/main/r/dataframe.R\n",
            "spark-2.4.7-bin-hadoop2.7/examples/src/main/r/data-manipulation.R\n",
            "spark-2.4.7-bin-hadoop2.7/examples/src/main/r/RSparkSQLExample.R\n",
            "spark-2.4.7-bin-hadoop2.7/examples/src/main/r/streaming/\n",
            "spark-2.4.7-bin-hadoop2.7/examples/src/main/r/streaming/structured_network_wordcount.R\n",
            "spark-2.4.7-bin-hadoop2.7/examples/src/main/r/ml/\n",
            "spark-2.4.7-bin-hadoop2.7/examples/src/main/r/ml/fpm.R\n",
            "spark-2.4.7-bin-hadoop2.7/examples/src/main/r/ml/glm.R\n",
            "spark-2.4.7-bin-hadoop2.7/examples/src/main/r/ml/mlp.R\n",
            "spark-2.4.7-bin-hadoop2.7/examples/src/main/r/ml/naiveBayes.R\n",
            "spark-2.4.7-bin-hadoop2.7/examples/src/main/r/ml/logit.R\n",
            "spark-2.4.7-bin-hadoop2.7/examples/src/main/r/ml/decisionTree.R\n",
            "spark-2.4.7-bin-hadoop2.7/examples/src/main/r/ml/svmLinear.R\n",
            "spark-2.4.7-bin-hadoop2.7/examples/src/main/r/ml/isoreg.R\n",
            "spark-2.4.7-bin-hadoop2.7/examples/src/main/r/ml/gaussianMixture.R\n",
            "spark-2.4.7-bin-hadoop2.7/examples/src/main/r/ml/randomForest.R\n",
            "spark-2.4.7-bin-hadoop2.7/examples/src/main/r/ml/gbt.R\n",
            "spark-2.4.7-bin-hadoop2.7/examples/src/main/r/ml/als.R\n",
            "spark-2.4.7-bin-hadoop2.7/examples/src/main/r/ml/lda.R\n",
            "spark-2.4.7-bin-hadoop2.7/examples/src/main/r/ml/ml.R\n",
            "spark-2.4.7-bin-hadoop2.7/examples/src/main/r/ml/survreg.R\n",
            "spark-2.4.7-bin-hadoop2.7/examples/src/main/r/ml/bisectingKmeans.R\n",
            "spark-2.4.7-bin-hadoop2.7/examples/src/main/r/ml/kmeans.R\n",
            "spark-2.4.7-bin-hadoop2.7/examples/src/main/r/ml/kstest.R\n",
            "spark-2.4.7-bin-hadoop2.7/examples/src/main/resources/\n",
            "spark-2.4.7-bin-hadoop2.7/examples/src/main/resources/users.avro\n",
            "spark-2.4.7-bin-hadoop2.7/examples/src/main/resources/people.txt\n",
            "spark-2.4.7-bin-hadoop2.7/examples/src/main/resources/people.csv\n",
            "spark-2.4.7-bin-hadoop2.7/examples/src/main/resources/users.parquet\n",
            "spark-2.4.7-bin-hadoop2.7/examples/src/main/resources/kv1.txt\n",
            "spark-2.4.7-bin-hadoop2.7/examples/src/main/resources/people.json\n",
            "spark-2.4.7-bin-hadoop2.7/examples/src/main/resources/employees.json\n",
            "spark-2.4.7-bin-hadoop2.7/examples/src/main/resources/user.avsc\n",
            "spark-2.4.7-bin-hadoop2.7/examples/src/main/resources/full_user.avsc\n",
            "spark-2.4.7-bin-hadoop2.7/examples/src/main/resources/users.orc\n",
            "spark-2.4.7-bin-hadoop2.7/examples/src/main/scala/\n",
            "spark-2.4.7-bin-hadoop2.7/examples/src/main/scala/org/\n",
            "spark-2.4.7-bin-hadoop2.7/examples/src/main/scala/org/apache/\n",
            "spark-2.4.7-bin-hadoop2.7/examples/src/main/scala/org/apache/spark/\n",
            "spark-2.4.7-bin-hadoop2.7/examples/src/main/scala/org/apache/spark/examples/\n",
            "spark-2.4.7-bin-hadoop2.7/examples/src/main/scala/org/apache/spark/examples/ExceptionHandlingTest.scala\n",
            "spark-2.4.7-bin-hadoop2.7/examples/src/main/scala/org/apache/spark/examples/GroupByTest.scala\n",
            "spark-2.4.7-bin-hadoop2.7/examples/src/main/scala/org/apache/spark/examples/LogQuery.scala\n",
            "spark-2.4.7-bin-hadoop2.7/examples/src/main/scala/org/apache/spark/examples/DriverSubmissionTest.scala\n",
            "spark-2.4.7-bin-hadoop2.7/examples/src/main/scala/org/apache/spark/examples/SparkPi.scala\n",
            "spark-2.4.7-bin-hadoop2.7/examples/src/main/scala/org/apache/spark/examples/SparkALS.scala\n",
            "spark-2.4.7-bin-hadoop2.7/examples/src/main/scala/org/apache/spark/examples/SparkRemoteFileTest.scala\n",
            "spark-2.4.7-bin-hadoop2.7/examples/src/main/scala/org/apache/spark/examples/SparkLR.scala\n",
            "spark-2.4.7-bin-hadoop2.7/examples/src/main/scala/org/apache/spark/examples/SparkKMeans.scala\n",
            "spark-2.4.7-bin-hadoop2.7/examples/src/main/scala/org/apache/spark/examples/SparkPageRank.scala\n",
            "spark-2.4.7-bin-hadoop2.7/examples/src/main/scala/org/apache/spark/examples/LocalPi.scala\n",
            "spark-2.4.7-bin-hadoop2.7/examples/src/main/scala/org/apache/spark/examples/BroadcastTest.scala\n",
            "spark-2.4.7-bin-hadoop2.7/examples/src/main/scala/org/apache/spark/examples/SimpleSkewedGroupByTest.scala\n",
            "spark-2.4.7-bin-hadoop2.7/examples/src/main/scala/org/apache/spark/examples/pythonconverters/\n",
            "spark-2.4.7-bin-hadoop2.7/examples/src/main/scala/org/apache/spark/examples/pythonconverters/AvroConverters.scala\n",
            "spark-2.4.7-bin-hadoop2.7/examples/src/main/scala/org/apache/spark/examples/LocalKMeans.scala\n",
            "spark-2.4.7-bin-hadoop2.7/examples/src/main/scala/org/apache/spark/examples/sql/\n",
            "spark-2.4.7-bin-hadoop2.7/examples/src/main/scala/org/apache/spark/examples/sql/UserDefinedTypedAggregation.scala\n",
            "spark-2.4.7-bin-hadoop2.7/examples/src/main/scala/org/apache/spark/examples/sql/SparkSQLExample.scala\n",
            "spark-2.4.7-bin-hadoop2.7/examples/src/main/scala/org/apache/spark/examples/sql/SQLDataSourceExample.scala\n",
            "spark-2.4.7-bin-hadoop2.7/examples/src/main/scala/org/apache/spark/examples/sql/RDDRelation.scala\n",
            "spark-2.4.7-bin-hadoop2.7/examples/src/main/scala/org/apache/spark/examples/sql/UserDefinedUntypedAggregation.scala\n",
            "spark-2.4.7-bin-hadoop2.7/examples/src/main/scala/org/apache/spark/examples/sql/streaming/\n",
            "spark-2.4.7-bin-hadoop2.7/examples/src/main/scala/org/apache/spark/examples/sql/streaming/StructuredNetworkWordCount.scala\n",
            "spark-2.4.7-bin-hadoop2.7/examples/src/main/scala/org/apache/spark/examples/sql/streaming/StructuredKafkaWordCount.scala\n",
            "spark-2.4.7-bin-hadoop2.7/examples/src/main/scala/org/apache/spark/examples/sql/streaming/StructuredSessionization.scala\n",
            "spark-2.4.7-bin-hadoop2.7/examples/src/main/scala/org/apache/spark/examples/sql/streaming/StructuredNetworkWordCountWindowed.scala\n",
            "spark-2.4.7-bin-hadoop2.7/examples/src/main/scala/org/apache/spark/examples/sql/hive/\n",
            "spark-2.4.7-bin-hadoop2.7/examples/src/main/scala/org/apache/spark/examples/sql/hive/SparkHiveExample.scala\n",
            "spark-2.4.7-bin-hadoop2.7/examples/src/main/scala/org/apache/spark/examples/SparkHdfsLR.scala\n",
            "spark-2.4.7-bin-hadoop2.7/examples/src/main/scala/org/apache/spark/examples/SparkTC.scala\n",
            "spark-2.4.7-bin-hadoop2.7/examples/src/main/scala/org/apache/spark/examples/LocalLR.scala\n",
            "spark-2.4.7-bin-hadoop2.7/examples/src/main/scala/org/apache/spark/examples/LocalFileLR.scala\n",
            "spark-2.4.7-bin-hadoop2.7/examples/src/main/scala/org/apache/spark/examples/streaming/\n",
            "spark-2.4.7-bin-hadoop2.7/examples/src/main/scala/org/apache/spark/examples/streaming/clickstream/\n",
            "spark-2.4.7-bin-hadoop2.7/examples/src/main/scala/org/apache/spark/examples/streaming/clickstream/PageViewStream.scala\n",
            "spark-2.4.7-bin-hadoop2.7/examples/src/main/scala/org/apache/spark/examples/streaming/clickstream/PageViewGenerator.scala\n",
            "spark-2.4.7-bin-hadoop2.7/examples/src/main/scala/org/apache/spark/examples/streaming/QueueStream.scala\n",
            "spark-2.4.7-bin-hadoop2.7/examples/src/main/scala/org/apache/spark/examples/streaming/RecoverableNetworkWordCount.scala\n",
            "spark-2.4.7-bin-hadoop2.7/examples/src/main/scala/org/apache/spark/examples/streaming/DirectKafkaWordCount.scala\n",
            "spark-2.4.7-bin-hadoop2.7/examples/src/main/scala/org/apache/spark/examples/streaming/StreamingExamples.scala\n",
            "spark-2.4.7-bin-hadoop2.7/examples/src/main/scala/org/apache/spark/examples/streaming/CustomReceiver.scala\n",
            "spark-2.4.7-bin-hadoop2.7/examples/src/main/scala/org/apache/spark/examples/streaming/NetworkWordCount.scala\n",
            "spark-2.4.7-bin-hadoop2.7/examples/src/main/scala/org/apache/spark/examples/streaming/StatefulNetworkWordCount.scala\n",
            "spark-2.4.7-bin-hadoop2.7/examples/src/main/scala/org/apache/spark/examples/streaming/SqlNetworkWordCount.scala\n",
            "spark-2.4.7-bin-hadoop2.7/examples/src/main/scala/org/apache/spark/examples/streaming/HdfsWordCount.scala\n",
            "spark-2.4.7-bin-hadoop2.7/examples/src/main/scala/org/apache/spark/examples/streaming/RawNetworkGrep.scala\n",
            "spark-2.4.7-bin-hadoop2.7/examples/src/main/scala/org/apache/spark/examples/MultiBroadcastTest.scala\n",
            "spark-2.4.7-bin-hadoop2.7/examples/src/main/scala/org/apache/spark/examples/ml/\n",
            "spark-2.4.7-bin-hadoop2.7/examples/src/main/scala/org/apache/spark/examples/ml/StringIndexerExample.scala\n",
            "spark-2.4.7-bin-hadoop2.7/examples/src/main/scala/org/apache/spark/examples/ml/StopWordsRemoverExample.scala\n",
            "spark-2.4.7-bin-hadoop2.7/examples/src/main/scala/org/apache/spark/examples/ml/ModelSelectionViaTrainValidationSplitExample.scala\n",
            "spark-2.4.7-bin-hadoop2.7/examples/src/main/scala/org/apache/spark/examples/ml/StandardScalerExample.scala\n",
            "spark-2.4.7-bin-hadoop2.7/examples/src/main/scala/org/apache/spark/examples/ml/ImputerExample.scala\n",
            "spark-2.4.7-bin-hadoop2.7/examples/src/main/scala/org/apache/spark/examples/ml/CorrelationExample.scala\n",
            "spark-2.4.7-bin-hadoop2.7/examples/src/main/scala/org/apache/spark/examples/ml/ElementwiseProductExample.scala\n",
            "spark-2.4.7-bin-hadoop2.7/examples/src/main/scala/org/apache/spark/examples/ml/NormalizerExample.scala\n",
            "spark-2.4.7-bin-hadoop2.7/examples/src/main/scala/org/apache/spark/examples/ml/ChiSqSelectorExample.scala\n",
            "spark-2.4.7-bin-hadoop2.7/examples/src/main/scala/org/apache/spark/examples/ml/NaiveBayesExample.scala\n",
            "spark-2.4.7-bin-hadoop2.7/examples/src/main/scala/org/apache/spark/examples/ml/SQLTransformerExample.scala\n",
            "spark-2.4.7-bin-hadoop2.7/examples/src/main/scala/org/apache/spark/examples/ml/MinHashLSHExample.scala\n",
            "spark-2.4.7-bin-hadoop2.7/examples/src/main/scala/org/apache/spark/examples/ml/FPGrowthExample.scala\n",
            "spark-2.4.7-bin-hadoop2.7/examples/src/main/scala/org/apache/spark/examples/ml/LogisticRegressionSummaryExample.scala\n",
            "spark-2.4.7-bin-hadoop2.7/examples/src/main/scala/org/apache/spark/examples/ml/DataFrameExample.scala\n",
            "spark-2.4.7-bin-hadoop2.7/examples/src/main/scala/org/apache/spark/examples/ml/VectorSlicerExample.scala\n",
            "spark-2.4.7-bin-hadoop2.7/examples/src/main/scala/org/apache/spark/examples/ml/VectorAssemblerExample.scala\n",
            "spark-2.4.7-bin-hadoop2.7/examples/src/main/scala/org/apache/spark/examples/ml/VectorSizeHintExample.scala\n",
            "spark-2.4.7-bin-hadoop2.7/examples/src/main/scala/org/apache/spark/examples/ml/DecisionTreeClassificationExample.scala\n",
            "spark-2.4.7-bin-hadoop2.7/examples/src/main/scala/org/apache/spark/examples/ml/RFormulaExample.scala\n",
            "spark-2.4.7-bin-hadoop2.7/examples/src/main/scala/org/apache/spark/examples/ml/BinarizerExample.scala\n",
            "spark-2.4.7-bin-hadoop2.7/examples/src/main/scala/org/apache/spark/examples/ml/TfIdfExample.scala\n",
            "spark-2.4.7-bin-hadoop2.7/examples/src/main/scala/org/apache/spark/examples/ml/RandomForestRegressorExample.scala\n",
            "spark-2.4.7-bin-hadoop2.7/examples/src/main/scala/org/apache/spark/examples/ml/LinearSVCExample.scala\n",
            "spark-2.4.7-bin-hadoop2.7/examples/src/main/scala/org/apache/spark/examples/ml/DecisionTreeRegressionExample.scala\n",
            "spark-2.4.7-bin-hadoop2.7/examples/src/main/scala/org/apache/spark/examples/ml/MinMaxScalerExample.scala\n",
            "spark-2.4.7-bin-hadoop2.7/examples/src/main/scala/org/apache/spark/examples/ml/CountVectorizerExample.scala\n",
            "spark-2.4.7-bin-hadoop2.7/examples/src/main/scala/org/apache/spark/examples/ml/DecisionTreeExample.scala\n",
            "spark-2.4.7-bin-hadoop2.7/examples/src/main/scala/org/apache/spark/examples/ml/LinearRegressionWithElasticNetExample.scala\n",
            "spark-2.4.7-bin-hadoop2.7/examples/src/main/scala/org/apache/spark/examples/ml/FeatureHasherExample.scala\n",
            "spark-2.4.7-bin-hadoop2.7/examples/src/main/scala/org/apache/spark/examples/ml/ALSExample.scala\n",
            "spark-2.4.7-bin-hadoop2.7/examples/src/main/scala/org/apache/spark/examples/ml/GeneralizedLinearRegressionExample.scala\n",
            "spark-2.4.7-bin-hadoop2.7/examples/src/main/scala/org/apache/spark/examples/ml/LinearRegressionExample.scala\n",
            "spark-2.4.7-bin-hadoop2.7/examples/src/main/scala/org/apache/spark/examples/ml/VectorIndexerExample.scala\n",
            "spark-2.4.7-bin-hadoop2.7/examples/src/main/scala/org/apache/spark/examples/ml/BucketizerExample.scala\n",
            "spark-2.4.7-bin-hadoop2.7/examples/src/main/scala/org/apache/spark/examples/ml/AFTSurvivalRegressionExample.scala\n",
            "spark-2.4.7-bin-hadoop2.7/examples/src/main/scala/org/apache/spark/examples/ml/TokenizerExample.scala\n",
            "spark-2.4.7-bin-hadoop2.7/examples/src/main/scala/org/apache/spark/examples/ml/QuantileDiscretizerExample.scala\n",
            "spark-2.4.7-bin-hadoop2.7/examples/src/main/scala/org/apache/spark/examples/ml/GaussianMixtureExample.scala\n",
            "spark-2.4.7-bin-hadoop2.7/examples/src/main/scala/org/apache/spark/examples/ml/DeveloperApiExample.scala\n",
            "spark-2.4.7-bin-hadoop2.7/examples/src/main/scala/org/apache/spark/examples/ml/IsotonicRegressionExample.scala\n",
            "spark-2.4.7-bin-hadoop2.7/examples/src/main/scala/org/apache/spark/examples/ml/GBTExample.scala\n",
            "spark-2.4.7-bin-hadoop2.7/examples/src/main/scala/org/apache/spark/examples/ml/MaxAbsScalerExample.scala\n",
            "spark-2.4.7-bin-hadoop2.7/examples/src/main/scala/org/apache/spark/examples/ml/ChiSquareTestExample.scala\n",
            "spark-2.4.7-bin-hadoop2.7/examples/src/main/scala/org/apache/spark/examples/ml/BucketedRandomProjectionLSHExample.scala\n",
            "spark-2.4.7-bin-hadoop2.7/examples/src/main/scala/org/apache/spark/examples/ml/Word2VecExample.scala\n",
            "spark-2.4.7-bin-hadoop2.7/examples/src/main/scala/org/apache/spark/examples/ml/NGramExample.scala\n",
            "spark-2.4.7-bin-hadoop2.7/examples/src/main/scala/org/apache/spark/examples/ml/DCTExample.scala\n",
            "spark-2.4.7-bin-hadoop2.7/examples/src/main/scala/org/apache/spark/examples/ml/LDAExample.scala\n",
            "spark-2.4.7-bin-hadoop2.7/examples/src/main/scala/org/apache/spark/examples/ml/SummarizerExample.scala\n",
            "spark-2.4.7-bin-hadoop2.7/examples/src/main/scala/org/apache/spark/examples/ml/InteractionExample.scala\n",
            "spark-2.4.7-bin-hadoop2.7/examples/src/main/scala/org/apache/spark/examples/ml/RandomForestClassifierExample.scala\n",
            "spark-2.4.7-bin-hadoop2.7/examples/src/main/scala/org/apache/spark/examples/ml/RandomForestExample.scala\n",
            "spark-2.4.7-bin-hadoop2.7/examples/src/main/scala/org/apache/spark/examples/ml/ModelSelectionViaCrossValidationExample.scala\n",
            "spark-2.4.7-bin-hadoop2.7/examples/src/main/scala/org/apache/spark/examples/ml/KMeansExample.scala\n",
            "spark-2.4.7-bin-hadoop2.7/examples/src/main/scala/org/apache/spark/examples/ml/GradientBoostedTreeRegressorExample.scala\n",
            "spark-2.4.7-bin-hadoop2.7/examples/src/main/scala/org/apache/spark/examples/ml/UnaryTransformerExample.scala\n",
            "spark-2.4.7-bin-hadoop2.7/examples/src/main/scala/org/apache/spark/examples/ml/PolynomialExpansionExample.scala\n",
            "spark-2.4.7-bin-hadoop2.7/examples/src/main/scala/org/apache/spark/examples/ml/IndexToStringExample.scala\n",
            "spark-2.4.7-bin-hadoop2.7/examples/src/main/scala/org/apache/spark/examples/ml/LogisticRegressionWithElasticNetExample.scala\n",
            "spark-2.4.7-bin-hadoop2.7/examples/src/main/scala/org/apache/spark/examples/ml/BisectingKMeansExample.scala\n",
            "spark-2.4.7-bin-hadoop2.7/examples/src/main/scala/org/apache/spark/examples/ml/LogisticRegressionExample.scala\n",
            "spark-2.4.7-bin-hadoop2.7/examples/src/main/scala/org/apache/spark/examples/ml/MulticlassLogisticRegressionWithElasticNetExample.scala\n",
            "spark-2.4.7-bin-hadoop2.7/examples/src/main/scala/org/apache/spark/examples/ml/PipelineExample.scala\n",
            "spark-2.4.7-bin-hadoop2.7/examples/src/main/scala/org/apache/spark/examples/ml/PCAExample.scala\n",
            "spark-2.4.7-bin-hadoop2.7/examples/src/main/scala/org/apache/spark/examples/ml/OneVsRestExample.scala\n",
            "spark-2.4.7-bin-hadoop2.7/examples/src/main/scala/org/apache/spark/examples/ml/MultilayerPerceptronClassifierExample.scala\n",
            "spark-2.4.7-bin-hadoop2.7/examples/src/main/scala/org/apache/spark/examples/ml/EstimatorTransformerParamExample.scala\n",
            "spark-2.4.7-bin-hadoop2.7/examples/src/main/scala/org/apache/spark/examples/ml/OneHotEncoderEstimatorExample.scala\n",
            "spark-2.4.7-bin-hadoop2.7/examples/src/main/scala/org/apache/spark/examples/ml/GradientBoostedTreeClassifierExample.scala\n",
            "spark-2.4.7-bin-hadoop2.7/examples/src/main/scala/org/apache/spark/examples/ml/PrefixSpanExample.scala\n",
            "spark-2.4.7-bin-hadoop2.7/examples/src/main/scala/org/apache/spark/examples/ml/PowerIterationClusteringExample.scala\n",
            "spark-2.4.7-bin-hadoop2.7/examples/src/main/scala/org/apache/spark/examples/HdfsTest.scala\n",
            "spark-2.4.7-bin-hadoop2.7/examples/src/main/scala/org/apache/spark/examples/LocalALS.scala\n",
            "spark-2.4.7-bin-hadoop2.7/examples/src/main/scala/org/apache/spark/examples/mllib/\n",
            "spark-2.4.7-bin-hadoop2.7/examples/src/main/scala/org/apache/spark/examples/mllib/LinearRegressionWithSGDExample.scala\n",
            "spark-2.4.7-bin-hadoop2.7/examples/src/main/scala/org/apache/spark/examples/mllib/StandardScalerExample.scala\n",
            "spark-2.4.7-bin-hadoop2.7/examples/src/main/scala/org/apache/spark/examples/mllib/MultiLabelMetricsExample.scala\n",
            "spark-2.4.7-bin-hadoop2.7/examples/src/main/scala/org/apache/spark/examples/mllib/HypothesisTestingKolmogorovSmirnovTestExample.scala\n",
            "spark-2.4.7-bin-hadoop2.7/examples/src/main/scala/org/apache/spark/examples/mllib/StreamingLogisticRegression.scala\n",
            "spark-2.4.7-bin-hadoop2.7/examples/src/main/scala/org/apache/spark/examples/mllib/RandomForestRegressionExample.scala\n",
            "spark-2.4.7-bin-hadoop2.7/examples/src/main/scala/org/apache/spark/examples/mllib/RandomForestClassificationExample.scala\n",
            "spark-2.4.7-bin-hadoop2.7/examples/src/main/scala/org/apache/spark/examples/mllib/ElementwiseProductExample.scala\n",
            "spark-2.4.7-bin-hadoop2.7/examples/src/main/scala/org/apache/spark/examples/mllib/NormalizerExample.scala\n",
            "spark-2.4.7-bin-hadoop2.7/examples/src/main/scala/org/apache/spark/examples/mllib/ChiSqSelectorExample.scala\n",
            "spark-2.4.7-bin-hadoop2.7/examples/src/main/scala/org/apache/spark/examples/mllib/NaiveBayesExample.scala\n",
            "spark-2.4.7-bin-hadoop2.7/examples/src/main/scala/org/apache/spark/examples/mllib/RecommendationExample.scala\n",
            "spark-2.4.7-bin-hadoop2.7/examples/src/main/scala/org/apache/spark/examples/mllib/BinaryClassification.scala\n",
            "spark-2.4.7-bin-hadoop2.7/examples/src/main/scala/org/apache/spark/examples/mllib/StreamingTestExample.scala\n",
            "spark-2.4.7-bin-hadoop2.7/examples/src/main/scala/org/apache/spark/examples/mllib/FPGrowthExample.scala\n",
            "spark-2.4.7-bin-hadoop2.7/examples/src/main/scala/org/apache/spark/examples/mllib/GradientBoostingClassificationExample.scala\n",
            "spark-2.4.7-bin-hadoop2.7/examples/src/main/scala/org/apache/spark/examples/mllib/BinaryClassificationMetricsExample.scala\n",
            "spark-2.4.7-bin-hadoop2.7/examples/src/main/scala/org/apache/spark/examples/mllib/AssociationRulesExample.scala\n",
            "spark-2.4.7-bin-hadoop2.7/examples/src/main/scala/org/apache/spark/examples/mllib/DecisionTreeRunner.scala\n",
            "spark-2.4.7-bin-hadoop2.7/examples/src/main/scala/org/apache/spark/examples/mllib/DecisionTreeClassificationExample.scala\n",
            "spark-2.4.7-bin-hadoop2.7/examples/src/main/scala/org/apache/spark/examples/mllib/MulticlassMetricsExample.scala\n",
            "spark-2.4.7-bin-hadoop2.7/examples/src/main/scala/org/apache/spark/examples/mllib/RankingMetricsExample.scala\n",
            "spark-2.4.7-bin-hadoop2.7/examples/src/main/scala/org/apache/spark/examples/mllib/StreamingLinearRegressionExample.scala\n",
            "spark-2.4.7-bin-hadoop2.7/examples/src/main/scala/org/apache/spark/examples/mllib/MovieLensALS.scala\n",
            "spark-2.4.7-bin-hadoop2.7/examples/src/main/scala/org/apache/spark/examples/mllib/DecisionTreeRegressionExample.scala\n",
            "spark-2.4.7-bin-hadoop2.7/examples/src/main/scala/org/apache/spark/examples/mllib/TallSkinnySVD.scala\n",
            "spark-2.4.7-bin-hadoop2.7/examples/src/main/scala/org/apache/spark/examples/mllib/SummaryStatisticsExample.scala\n",
            "spark-2.4.7-bin-hadoop2.7/examples/src/main/scala/org/apache/spark/examples/mllib/CosineSimilarity.scala\n",
            "spark-2.4.7-bin-hadoop2.7/examples/src/main/scala/org/apache/spark/examples/mllib/CorrelationsExample.scala\n",
            "spark-2.4.7-bin-hadoop2.7/examples/src/main/scala/org/apache/spark/examples/mllib/LatentDirichletAllocationExample.scala\n",
            "spark-2.4.7-bin-hadoop2.7/examples/src/main/scala/org/apache/spark/examples/mllib/LBFGSExample.scala\n",
            "spark-2.4.7-bin-hadoop2.7/examples/src/main/scala/org/apache/spark/examples/mllib/PCAOnRowMatrixExample.scala\n",
            "spark-2.4.7-bin-hadoop2.7/examples/src/main/scala/org/apache/spark/examples/mllib/SVDExample.scala\n",
            "spark-2.4.7-bin-hadoop2.7/examples/src/main/scala/org/apache/spark/examples/mllib/TFIDFExample.scala\n",
            "spark-2.4.7-bin-hadoop2.7/examples/src/main/scala/org/apache/spark/examples/mllib/GaussianMixtureExample.scala\n",
            "spark-2.4.7-bin-hadoop2.7/examples/src/main/scala/org/apache/spark/examples/mllib/SampledRDDs.scala\n",
            "spark-2.4.7-bin-hadoop2.7/examples/src/main/scala/org/apache/spark/examples/mllib/DenseKMeans.scala\n",
            "spark-2.4.7-bin-hadoop2.7/examples/src/main/scala/org/apache/spark/examples/mllib/IsotonicRegressionExample.scala\n",
            "spark-2.4.7-bin-hadoop2.7/examples/src/main/scala/org/apache/spark/examples/mllib/SVMWithSGDExample.scala\n",
            "spark-2.4.7-bin-hadoop2.7/examples/src/main/scala/org/apache/spark/examples/mllib/GradientBoostingRegressionExample.scala\n",
            "spark-2.4.7-bin-hadoop2.7/examples/src/main/scala/org/apache/spark/examples/mllib/StratifiedSamplingExample.scala\n",
            "spark-2.4.7-bin-hadoop2.7/examples/src/main/scala/org/apache/spark/examples/mllib/StreamingKMeansExample.scala\n",
            "spark-2.4.7-bin-hadoop2.7/examples/src/main/scala/org/apache/spark/examples/mllib/SparseNaiveBayes.scala\n",
            "spark-2.4.7-bin-hadoop2.7/examples/src/main/scala/org/apache/spark/examples/mllib/Word2VecExample.scala\n",
            "spark-2.4.7-bin-hadoop2.7/examples/src/main/scala/org/apache/spark/examples/mllib/LDAExample.scala\n",
            "spark-2.4.7-bin-hadoop2.7/examples/src/main/scala/org/apache/spark/examples/mllib/PMMLModelExportExample.scala\n",
            "spark-2.4.7-bin-hadoop2.7/examples/src/main/scala/org/apache/spark/examples/mllib/Correlations.scala\n",
            "spark-2.4.7-bin-hadoop2.7/examples/src/main/scala/org/apache/spark/examples/mllib/MultivariateSummarizer.scala\n",
            "spark-2.4.7-bin-hadoop2.7/examples/src/main/scala/org/apache/spark/examples/mllib/KMeansExample.scala\n",
            "spark-2.4.7-bin-hadoop2.7/examples/src/main/scala/org/apache/spark/examples/mllib/LinearRegression.scala\n",
            "spark-2.4.7-bin-hadoop2.7/examples/src/main/scala/org/apache/spark/examples/mllib/KernelDensityEstimationExample.scala\n",
            "spark-2.4.7-bin-hadoop2.7/examples/src/main/scala/org/apache/spark/examples/mllib/PCAOnSourceVectorExample.scala\n",
            "spark-2.4.7-bin-hadoop2.7/examples/src/main/scala/org/apache/spark/examples/mllib/RandomRDDGeneration.scala\n",
            "spark-2.4.7-bin-hadoop2.7/examples/src/main/scala/org/apache/spark/examples/mllib/TallSkinnyPCA.scala\n",
            "spark-2.4.7-bin-hadoop2.7/examples/src/main/scala/org/apache/spark/examples/mllib/GradientBoostedTreesRunner.scala\n",
            "spark-2.4.7-bin-hadoop2.7/examples/src/main/scala/org/apache/spark/examples/mllib/LogisticRegressionWithLBFGSExample.scala\n",
            "spark-2.4.7-bin-hadoop2.7/examples/src/main/scala/org/apache/spark/examples/mllib/BisectingKMeansExample.scala\n",
            "spark-2.4.7-bin-hadoop2.7/examples/src/main/scala/org/apache/spark/examples/mllib/PCAExample.scala\n",
            "spark-2.4.7-bin-hadoop2.7/examples/src/main/scala/org/apache/spark/examples/mllib/RegressionMetricsExample.scala\n",
            "spark-2.4.7-bin-hadoop2.7/examples/src/main/scala/org/apache/spark/examples/mllib/AbstractParams.scala\n",
            "spark-2.4.7-bin-hadoop2.7/examples/src/main/scala/org/apache/spark/examples/mllib/PrefixSpanExample.scala\n",
            "spark-2.4.7-bin-hadoop2.7/examples/src/main/scala/org/apache/spark/examples/mllib/HypothesisTestingExample.scala\n",
            "spark-2.4.7-bin-hadoop2.7/examples/src/main/scala/org/apache/spark/examples/mllib/SimpleFPGrowth.scala\n",
            "spark-2.4.7-bin-hadoop2.7/examples/src/main/scala/org/apache/spark/examples/mllib/PowerIterationClusteringExample.scala\n",
            "spark-2.4.7-bin-hadoop2.7/examples/src/main/scala/org/apache/spark/examples/graphx/\n",
            "spark-2.4.7-bin-hadoop2.7/examples/src/main/scala/org/apache/spark/examples/graphx/AggregateMessagesExample.scala\n",
            "spark-2.4.7-bin-hadoop2.7/examples/src/main/scala/org/apache/spark/examples/graphx/SynthBenchmark.scala\n",
            "spark-2.4.7-bin-hadoop2.7/examples/src/main/scala/org/apache/spark/examples/graphx/TriangleCountingExample.scala\n",
            "spark-2.4.7-bin-hadoop2.7/examples/src/main/scala/org/apache/spark/examples/graphx/ComprehensiveExample.scala\n",
            "spark-2.4.7-bin-hadoop2.7/examples/src/main/scala/org/apache/spark/examples/graphx/Analytics.scala\n",
            "spark-2.4.7-bin-hadoop2.7/examples/src/main/scala/org/apache/spark/examples/graphx/SSSPExample.scala\n",
            "spark-2.4.7-bin-hadoop2.7/examples/src/main/scala/org/apache/spark/examples/graphx/ConnectedComponentsExample.scala\n",
            "spark-2.4.7-bin-hadoop2.7/examples/src/main/scala/org/apache/spark/examples/graphx/PageRankExample.scala\n",
            "spark-2.4.7-bin-hadoop2.7/examples/src/main/scala/org/apache/spark/examples/graphx/LiveJournalPageRank.scala\n",
            "spark-2.4.7-bin-hadoop2.7/examples/src/main/scala/org/apache/spark/examples/SkewedGroupByTest.scala\n",
            "spark-2.4.7-bin-hadoop2.7/examples/src/main/scala/org/apache/spark/examples/DFSReadWriteTest.scala\n",
            "spark-2.4.7-bin-hadoop2.7/examples/src/main/java/\n",
            "spark-2.4.7-bin-hadoop2.7/examples/src/main/java/org/\n",
            "spark-2.4.7-bin-hadoop2.7/examples/src/main/java/org/apache/\n",
            "spark-2.4.7-bin-hadoop2.7/examples/src/main/java/org/apache/spark/\n",
            "spark-2.4.7-bin-hadoop2.7/examples/src/main/java/org/apache/spark/examples/\n",
            "spark-2.4.7-bin-hadoop2.7/examples/src/main/java/org/apache/spark/examples/JavaTC.java\n",
            "spark-2.4.7-bin-hadoop2.7/examples/src/main/java/org/apache/spark/examples/JavaStatusTrackerDemo.java\n",
            "spark-2.4.7-bin-hadoop2.7/examples/src/main/java/org/apache/spark/examples/JavaWordCount.java\n",
            "spark-2.4.7-bin-hadoop2.7/examples/src/main/java/org/apache/spark/examples/JavaPageRank.java\n",
            "spark-2.4.7-bin-hadoop2.7/examples/src/main/java/org/apache/spark/examples/JavaHdfsLR.java\n",
            "spark-2.4.7-bin-hadoop2.7/examples/src/main/java/org/apache/spark/examples/sql/\n",
            "spark-2.4.7-bin-hadoop2.7/examples/src/main/java/org/apache/spark/examples/sql/JavaSparkSQLExample.java\n",
            "spark-2.4.7-bin-hadoop2.7/examples/src/main/java/org/apache/spark/examples/sql/JavaUserDefinedTypedAggregation.java\n",
            "spark-2.4.7-bin-hadoop2.7/examples/src/main/java/org/apache/spark/examples/sql/JavaSQLDataSourceExample.java\n",
            "spark-2.4.7-bin-hadoop2.7/examples/src/main/java/org/apache/spark/examples/sql/streaming/\n",
            "spark-2.4.7-bin-hadoop2.7/examples/src/main/java/org/apache/spark/examples/sql/streaming/JavaStructuredNetworkWordCount.java\n",
            "spark-2.4.7-bin-hadoop2.7/examples/src/main/java/org/apache/spark/examples/sql/streaming/JavaStructuredKafkaWordCount.java\n",
            "spark-2.4.7-bin-hadoop2.7/examples/src/main/java/org/apache/spark/examples/sql/streaming/JavaStructuredSessionization.java\n",
            "spark-2.4.7-bin-hadoop2.7/examples/src/main/java/org/apache/spark/examples/sql/streaming/JavaStructuredNetworkWordCountWindowed.java\n",
            "spark-2.4.7-bin-hadoop2.7/examples/src/main/java/org/apache/spark/examples/sql/JavaUserDefinedUntypedAggregation.java\n",
            "spark-2.4.7-bin-hadoop2.7/examples/src/main/java/org/apache/spark/examples/sql/hive/\n",
            "spark-2.4.7-bin-hadoop2.7/examples/src/main/java/org/apache/spark/examples/sql/hive/JavaSparkHiveExample.java\n",
            "spark-2.4.7-bin-hadoop2.7/examples/src/main/java/org/apache/spark/examples/streaming/\n",
            "spark-2.4.7-bin-hadoop2.7/examples/src/main/java/org/apache/spark/examples/streaming/JavaCustomReceiver.java\n",
            "spark-2.4.7-bin-hadoop2.7/examples/src/main/java/org/apache/spark/examples/streaming/JavaRecord.java\n",
            "spark-2.4.7-bin-hadoop2.7/examples/src/main/java/org/apache/spark/examples/streaming/JavaQueueStream.java\n",
            "spark-2.4.7-bin-hadoop2.7/examples/src/main/java/org/apache/spark/examples/streaming/JavaRecoverableNetworkWordCount.java\n",
            "spark-2.4.7-bin-hadoop2.7/examples/src/main/java/org/apache/spark/examples/streaming/JavaSqlNetworkWordCount.java\n",
            "spark-2.4.7-bin-hadoop2.7/examples/src/main/java/org/apache/spark/examples/streaming/JavaStatefulNetworkWordCount.java\n",
            "spark-2.4.7-bin-hadoop2.7/examples/src/main/java/org/apache/spark/examples/streaming/JavaDirectKafkaWordCount.java\n",
            "spark-2.4.7-bin-hadoop2.7/examples/src/main/java/org/apache/spark/examples/streaming/JavaNetworkWordCount.java\n",
            "spark-2.4.7-bin-hadoop2.7/examples/src/main/java/org/apache/spark/examples/ml/\n",
            "spark-2.4.7-bin-hadoop2.7/examples/src/main/java/org/apache/spark/examples/ml/JavaGradientBoostedTreeRegressorExample.java\n",
            "spark-2.4.7-bin-hadoop2.7/examples/src/main/java/org/apache/spark/examples/ml/JavaPowerIterationClusteringExample.java\n",
            "spark-2.4.7-bin-hadoop2.7/examples/src/main/java/org/apache/spark/examples/ml/JavaMaxAbsScalerExample.java\n",
            "spark-2.4.7-bin-hadoop2.7/examples/src/main/java/org/apache/spark/examples/ml/JavaGradientBoostedTreeClassifierExample.java\n",
            "spark-2.4.7-bin-hadoop2.7/examples/src/main/java/org/apache/spark/examples/ml/JavaSQLTransformerExample.java\n",
            "spark-2.4.7-bin-hadoop2.7/examples/src/main/java/org/apache/spark/examples/ml/JavaModelSelectionViaCrossValidationExample.java\n",
            "spark-2.4.7-bin-hadoop2.7/examples/src/main/java/org/apache/spark/examples/ml/JavaCorrelationExample.java\n",
            "spark-2.4.7-bin-hadoop2.7/examples/src/main/java/org/apache/spark/examples/ml/JavaDecisionTreeClassificationExample.java\n",
            "spark-2.4.7-bin-hadoop2.7/examples/src/main/java/org/apache/spark/examples/ml/JavaDocument.java\n",
            "spark-2.4.7-bin-hadoop2.7/examples/src/main/java/org/apache/spark/examples/ml/JavaChiSqSelectorExample.java\n",
            "spark-2.4.7-bin-hadoop2.7/examples/src/main/java/org/apache/spark/examples/ml/JavaLabeledDocument.java\n",
            "spark-2.4.7-bin-hadoop2.7/examples/src/main/java/org/apache/spark/examples/ml/JavaGaussianMixtureExample.java\n",
            "spark-2.4.7-bin-hadoop2.7/examples/src/main/java/org/apache/spark/examples/ml/JavaModelSelectionViaTrainValidationSplitExample.java\n",
            "spark-2.4.7-bin-hadoop2.7/examples/src/main/java/org/apache/spark/examples/ml/JavaDCTExample.java\n",
            "spark-2.4.7-bin-hadoop2.7/examples/src/main/java/org/apache/spark/examples/ml/JavaNaiveBayesExample.java\n",
            "spark-2.4.7-bin-hadoop2.7/examples/src/main/java/org/apache/spark/examples/ml/JavaRandomForestRegressorExample.java\n",
            "spark-2.4.7-bin-hadoop2.7/examples/src/main/java/org/apache/spark/examples/ml/JavaPolynomialExpansionExample.java\n",
            "spark-2.4.7-bin-hadoop2.7/examples/src/main/java/org/apache/spark/examples/ml/JavaLDAExample.java\n",
            "spark-2.4.7-bin-hadoop2.7/examples/src/main/java/org/apache/spark/examples/ml/JavaAFTSurvivalRegressionExample.java\n",
            "spark-2.4.7-bin-hadoop2.7/examples/src/main/java/org/apache/spark/examples/ml/JavaEstimatorTransformerParamExample.java\n",
            "spark-2.4.7-bin-hadoop2.7/examples/src/main/java/org/apache/spark/examples/ml/JavaMultilayerPerceptronClassifierExample.java\n",
            "spark-2.4.7-bin-hadoop2.7/examples/src/main/java/org/apache/spark/examples/ml/JavaRFormulaExample.java\n",
            "spark-2.4.7-bin-hadoop2.7/examples/src/main/java/org/apache/spark/examples/ml/JavaBucketedRandomProjectionLSHExample.java\n",
            "spark-2.4.7-bin-hadoop2.7/examples/src/main/java/org/apache/spark/examples/ml/JavaLogisticRegressionWithElasticNetExample.java\n",
            "spark-2.4.7-bin-hadoop2.7/examples/src/main/java/org/apache/spark/examples/ml/JavaVectorSlicerExample.java\n",
            "spark-2.4.7-bin-hadoop2.7/examples/src/main/java/org/apache/spark/examples/ml/JavaMinHashLSHExample.java\n",
            "spark-2.4.7-bin-hadoop2.7/examples/src/main/java/org/apache/spark/examples/ml/JavaBisectingKMeansExample.java\n",
            "spark-2.4.7-bin-hadoop2.7/examples/src/main/java/org/apache/spark/examples/ml/JavaStandardScalerExample.java\n",
            "spark-2.4.7-bin-hadoop2.7/examples/src/main/java/org/apache/spark/examples/ml/JavaIndexToStringExample.java\n",
            "spark-2.4.7-bin-hadoop2.7/examples/src/main/java/org/apache/spark/examples/ml/JavaPipelineExample.java\n",
            "spark-2.4.7-bin-hadoop2.7/examples/src/main/java/org/apache/spark/examples/ml/JavaNGramExample.java\n",
            "spark-2.4.7-bin-hadoop2.7/examples/src/main/java/org/apache/spark/examples/ml/JavaGeneralizedLinearRegressionExample.java\n",
            "spark-2.4.7-bin-hadoop2.7/examples/src/main/java/org/apache/spark/examples/ml/JavaIsotonicRegressionExample.java\n",
            "spark-2.4.7-bin-hadoop2.7/examples/src/main/java/org/apache/spark/examples/ml/JavaWord2VecExample.java\n",
            "spark-2.4.7-bin-hadoop2.7/examples/src/main/java/org/apache/spark/examples/ml/JavaFPGrowthExample.java\n",
            "spark-2.4.7-bin-hadoop2.7/examples/src/main/java/org/apache/spark/examples/ml/JavaMulticlassLogisticRegressionWithElasticNetExample.java\n",
            "spark-2.4.7-bin-hadoop2.7/examples/src/main/java/org/apache/spark/examples/ml/JavaVectorAssemblerExample.java\n",
            "spark-2.4.7-bin-hadoop2.7/examples/src/main/java/org/apache/spark/examples/ml/JavaLinearRegressionWithElasticNetExample.java\n",
            "spark-2.4.7-bin-hadoop2.7/examples/src/main/java/org/apache/spark/examples/ml/JavaElementwiseProductExample.java\n",
            "spark-2.4.7-bin-hadoop2.7/examples/src/main/java/org/apache/spark/examples/ml/JavaOneVsRestExample.java\n",
            "spark-2.4.7-bin-hadoop2.7/examples/src/main/java/org/apache/spark/examples/ml/JavaInteractionExample.java\n",
            "spark-2.4.7-bin-hadoop2.7/examples/src/main/java/org/apache/spark/examples/ml/JavaVectorSizeHintExample.java\n",
            "spark-2.4.7-bin-hadoop2.7/examples/src/main/java/org/apache/spark/examples/ml/JavaPrefixSpanExample.java\n",
            "spark-2.4.7-bin-hadoop2.7/examples/src/main/java/org/apache/spark/examples/ml/JavaNormalizerExample.java\n",
            "spark-2.4.7-bin-hadoop2.7/examples/src/main/java/org/apache/spark/examples/ml/JavaTokenizerExample.java\n",
            "spark-2.4.7-bin-hadoop2.7/examples/src/main/java/org/apache/spark/examples/ml/JavaLinearSVCExample.java\n",
            "spark-2.4.7-bin-hadoop2.7/examples/src/main/java/org/apache/spark/examples/ml/JavaVectorIndexerExample.java\n",
            "spark-2.4.7-bin-hadoop2.7/examples/src/main/java/org/apache/spark/examples/ml/JavaCountVectorizerExample.java\n",
            "spark-2.4.7-bin-hadoop2.7/examples/src/main/java/org/apache/spark/examples/ml/JavaStringIndexerExample.java\n",
            "spark-2.4.7-bin-hadoop2.7/examples/src/main/java/org/apache/spark/examples/ml/JavaBinarizerExample.java\n",
            "spark-2.4.7-bin-hadoop2.7/examples/src/main/java/org/apache/spark/examples/ml/JavaChiSquareTestExample.java\n",
            "spark-2.4.7-bin-hadoop2.7/examples/src/main/java/org/apache/spark/examples/ml/JavaPCAExample.java\n",
            "spark-2.4.7-bin-hadoop2.7/examples/src/main/java/org/apache/spark/examples/ml/JavaRandomForestClassifierExample.java\n",
            "spark-2.4.7-bin-hadoop2.7/examples/src/main/java/org/apache/spark/examples/ml/JavaSummarizerExample.java\n",
            "spark-2.4.7-bin-hadoop2.7/examples/src/main/java/org/apache/spark/examples/ml/JavaQuantileDiscretizerExample.java\n",
            "spark-2.4.7-bin-hadoop2.7/examples/src/main/java/org/apache/spark/examples/ml/JavaALSExample.java\n",
            "spark-2.4.7-bin-hadoop2.7/examples/src/main/java/org/apache/spark/examples/ml/JavaOneHotEncoderEstimatorExample.java\n",
            "spark-2.4.7-bin-hadoop2.7/examples/src/main/java/org/apache/spark/examples/ml/JavaFeatureHasherExample.java\n",
            "spark-2.4.7-bin-hadoop2.7/examples/src/main/java/org/apache/spark/examples/ml/JavaTfIdfExample.java\n",
            "spark-2.4.7-bin-hadoop2.7/examples/src/main/java/org/apache/spark/examples/ml/JavaStopWordsRemoverExample.java\n",
            "spark-2.4.7-bin-hadoop2.7/examples/src/main/java/org/apache/spark/examples/ml/JavaMinMaxScalerExample.java\n",
            "spark-2.4.7-bin-hadoop2.7/examples/src/main/java/org/apache/spark/examples/ml/JavaLogisticRegressionSummaryExample.java\n",
            "spark-2.4.7-bin-hadoop2.7/examples/src/main/java/org/apache/spark/examples/ml/JavaKMeansExample.java\n",
            "spark-2.4.7-bin-hadoop2.7/examples/src/main/java/org/apache/spark/examples/ml/JavaDecisionTreeRegressionExample.java\n",
            "spark-2.4.7-bin-hadoop2.7/examples/src/main/java/org/apache/spark/examples/ml/JavaBucketizerExample.java\n",
            "spark-2.4.7-bin-hadoop2.7/examples/src/main/java/org/apache/spark/examples/ml/JavaImputerExample.java\n",
            "spark-2.4.7-bin-hadoop2.7/examples/src/main/java/org/apache/spark/examples/JavaLogQuery.java\n",
            "spark-2.4.7-bin-hadoop2.7/examples/src/main/java/org/apache/spark/examples/JavaSparkPi.java\n",
            "spark-2.4.7-bin-hadoop2.7/examples/src/main/java/org/apache/spark/examples/mllib/\n",
            "spark-2.4.7-bin-hadoop2.7/examples/src/main/java/org/apache/spark/examples/mllib/JavaPowerIterationClusteringExample.java\n",
            "spark-2.4.7-bin-hadoop2.7/examples/src/main/java/org/apache/spark/examples/mllib/JavaALS.java\n",
            "spark-2.4.7-bin-hadoop2.7/examples/src/main/java/org/apache/spark/examples/mllib/JavaDecisionTreeClassificationExample.java\n",
            "spark-2.4.7-bin-hadoop2.7/examples/src/main/java/org/apache/spark/examples/mllib/JavaSVMWithSGDExample.java\n",
            "spark-2.4.7-bin-hadoop2.7/examples/src/main/java/org/apache/spark/examples/mllib/JavaLinearRegressionWithSGDExample.java\n",
            "spark-2.4.7-bin-hadoop2.7/examples/src/main/java/org/apache/spark/examples/mllib/JavaGradientBoostingClassificationExample.java\n",
            "spark-2.4.7-bin-hadoop2.7/examples/src/main/java/org/apache/spark/examples/mllib/JavaChiSqSelectorExample.java\n",
            "spark-2.4.7-bin-hadoop2.7/examples/src/main/java/org/apache/spark/examples/mllib/JavaRankingMetricsExample.java\n",
            "spark-2.4.7-bin-hadoop2.7/examples/src/main/java/org/apache/spark/examples/mllib/JavaKernelDensityEstimationExample.java\n",
            "spark-2.4.7-bin-hadoop2.7/examples/src/main/java/org/apache/spark/examples/mllib/JavaGaussianMixtureExample.java\n",
            "spark-2.4.7-bin-hadoop2.7/examples/src/main/java/org/apache/spark/examples/mllib/JavaNaiveBayesExample.java\n",
            "spark-2.4.7-bin-hadoop2.7/examples/src/main/java/org/apache/spark/examples/mllib/JavaStreamingTestExample.java\n",
            "spark-2.4.7-bin-hadoop2.7/examples/src/main/java/org/apache/spark/examples/mllib/JavaSimpleFPGrowth.java\n",
            "spark-2.4.7-bin-hadoop2.7/examples/src/main/java/org/apache/spark/examples/mllib/JavaAssociationRulesExample.java\n",
            "spark-2.4.7-bin-hadoop2.7/examples/src/main/java/org/apache/spark/examples/mllib/JavaLBFGSExample.java\n",
            "spark-2.4.7-bin-hadoop2.7/examples/src/main/java/org/apache/spark/examples/mllib/JavaBinaryClassificationMetricsExample.java\n",
            "spark-2.4.7-bin-hadoop2.7/examples/src/main/java/org/apache/spark/examples/mllib/JavaRecommendationExample.java\n",
            "spark-2.4.7-bin-hadoop2.7/examples/src/main/java/org/apache/spark/examples/mllib/JavaBisectingKMeansExample.java\n",
            "spark-2.4.7-bin-hadoop2.7/examples/src/main/java/org/apache/spark/examples/mllib/JavaHypothesisTestingExample.java\n",
            "spark-2.4.7-bin-hadoop2.7/examples/src/main/java/org/apache/spark/examples/mllib/JavaLatentDirichletAllocationExample.java\n",
            "spark-2.4.7-bin-hadoop2.7/examples/src/main/java/org/apache/spark/examples/mllib/JavaIsotonicRegressionExample.java\n",
            "spark-2.4.7-bin-hadoop2.7/examples/src/main/java/org/apache/spark/examples/mllib/JavaMulticlassClassificationMetricsExample.java\n",
            "spark-2.4.7-bin-hadoop2.7/examples/src/main/java/org/apache/spark/examples/mllib/JavaSVDExample.java\n",
            "spark-2.4.7-bin-hadoop2.7/examples/src/main/java/org/apache/spark/examples/mllib/JavaStratifiedSamplingExample.java\n",
            "spark-2.4.7-bin-hadoop2.7/examples/src/main/java/org/apache/spark/examples/mllib/JavaElementwiseProductExample.java\n",
            "spark-2.4.7-bin-hadoop2.7/examples/src/main/java/org/apache/spark/examples/mllib/JavaRegressionMetricsExample.java\n",
            "spark-2.4.7-bin-hadoop2.7/examples/src/main/java/org/apache/spark/examples/mllib/JavaLogisticRegressionWithLBFGSExample.java\n",
            "spark-2.4.7-bin-hadoop2.7/examples/src/main/java/org/apache/spark/examples/mllib/JavaPrefixSpanExample.java\n",
            "spark-2.4.7-bin-hadoop2.7/examples/src/main/java/org/apache/spark/examples/mllib/JavaRandomForestClassificationExample.java\n",
            "spark-2.4.7-bin-hadoop2.7/examples/src/main/java/org/apache/spark/examples/mllib/JavaHypothesisTestingKolmogorovSmirnovTestExample.java\n",
            "spark-2.4.7-bin-hadoop2.7/examples/src/main/java/org/apache/spark/examples/mllib/JavaRandomForestRegressionExample.java\n",
            "spark-2.4.7-bin-hadoop2.7/examples/src/main/java/org/apache/spark/examples/mllib/JavaCorrelationsExample.java\n",
            "spark-2.4.7-bin-hadoop2.7/examples/src/main/java/org/apache/spark/examples/mllib/JavaMultiLabelClassificationMetricsExample.java\n",
            "spark-2.4.7-bin-hadoop2.7/examples/src/main/java/org/apache/spark/examples/mllib/JavaPCAExample.java\n",
            "spark-2.4.7-bin-hadoop2.7/examples/src/main/java/org/apache/spark/examples/mllib/JavaKMeansExample.java\n",
            "spark-2.4.7-bin-hadoop2.7/examples/src/main/java/org/apache/spark/examples/mllib/JavaDecisionTreeRegressionExample.java\n",
            "spark-2.4.7-bin-hadoop2.7/examples/src/main/java/org/apache/spark/examples/mllib/JavaSummaryStatisticsExample.java\n",
            "spark-2.4.7-bin-hadoop2.7/examples/src/main/java/org/apache/spark/examples/mllib/JavaGradientBoostingRegressionExample.java\n",
            "spark-2.4.7-bin-hadoop2.7/examples/src/main/python/\n",
            "spark-2.4.7-bin-hadoop2.7/examples/src/main/python/parquet_inputformat.py\n",
            "spark-2.4.7-bin-hadoop2.7/examples/src/main/python/pagerank.py\n",
            "spark-2.4.7-bin-hadoop2.7/examples/src/main/python/transitive_closure.py\n",
            "spark-2.4.7-bin-hadoop2.7/examples/src/main/python/logistic_regression.py\n",
            "spark-2.4.7-bin-hadoop2.7/examples/src/main/python/kmeans.py\n",
            "spark-2.4.7-bin-hadoop2.7/examples/src/main/python/wordcount.py\n",
            "spark-2.4.7-bin-hadoop2.7/examples/src/main/python/sql/\n",
            "spark-2.4.7-bin-hadoop2.7/examples/src/main/python/sql/basic.py\n",
            "spark-2.4.7-bin-hadoop2.7/examples/src/main/python/sql/arrow.py\n",
            "spark-2.4.7-bin-hadoop2.7/examples/src/main/python/sql/hive.py\n",
            "spark-2.4.7-bin-hadoop2.7/examples/src/main/python/sql/streaming/\n",
            "spark-2.4.7-bin-hadoop2.7/examples/src/main/python/sql/streaming/structured_network_wordcount.py\n",
            "spark-2.4.7-bin-hadoop2.7/examples/src/main/python/sql/streaming/structured_kafka_wordcount.py\n",
            "spark-2.4.7-bin-hadoop2.7/examples/src/main/python/sql/streaming/structured_network_wordcount_windowed.py\n",
            "spark-2.4.7-bin-hadoop2.7/examples/src/main/python/sql/datasource.py\n",
            "spark-2.4.7-bin-hadoop2.7/examples/src/main/python/status_api_demo.py\n",
            "spark-2.4.7-bin-hadoop2.7/examples/src/main/python/pi.py\n",
            "spark-2.4.7-bin-hadoop2.7/examples/src/main/python/streaming/\n",
            "spark-2.4.7-bin-hadoop2.7/examples/src/main/python/streaming/hdfs_wordcount.py\n",
            "spark-2.4.7-bin-hadoop2.7/examples/src/main/python/streaming/recoverable_network_wordcount.py\n",
            "spark-2.4.7-bin-hadoop2.7/examples/src/main/python/streaming/network_wordjoinsentiments.py\n",
            "spark-2.4.7-bin-hadoop2.7/examples/src/main/python/streaming/stateful_network_wordcount.py\n",
            "spark-2.4.7-bin-hadoop2.7/examples/src/main/python/streaming/kafka_wordcount.py\n",
            "spark-2.4.7-bin-hadoop2.7/examples/src/main/python/streaming/sql_network_wordcount.py\n",
            "spark-2.4.7-bin-hadoop2.7/examples/src/main/python/streaming/network_wordcount.py\n",
            "spark-2.4.7-bin-hadoop2.7/examples/src/main/python/streaming/direct_kafka_wordcount.py\n",
            "spark-2.4.7-bin-hadoop2.7/examples/src/main/python/streaming/flume_wordcount.py\n",
            "spark-2.4.7-bin-hadoop2.7/examples/src/main/python/streaming/queue_stream.py\n",
            "spark-2.4.7-bin-hadoop2.7/examples/src/main/python/ml/\n",
            "spark-2.4.7-bin-hadoop2.7/examples/src/main/python/ml/logistic_regression_with_elastic_net.py\n",
            "spark-2.4.7-bin-hadoop2.7/examples/src/main/python/ml/decision_tree_regression_example.py\n",
            "spark-2.4.7-bin-hadoop2.7/examples/src/main/python/ml/generalized_linear_regression_example.py\n",
            "spark-2.4.7-bin-hadoop2.7/examples/src/main/python/ml/vector_assembler_example.py\n",
            "spark-2.4.7-bin-hadoop2.7/examples/src/main/python/ml/elementwise_product_example.py\n",
            "spark-2.4.7-bin-hadoop2.7/examples/src/main/python/ml/polynomial_expansion_example.py\n",
            "spark-2.4.7-bin-hadoop2.7/examples/src/main/python/ml/vector_slicer_example.py\n",
            "spark-2.4.7-bin-hadoop2.7/examples/src/main/python/ml/train_validation_split.py\n",
            "spark-2.4.7-bin-hadoop2.7/examples/src/main/python/ml/index_to_string_example.py\n",
            "spark-2.4.7-bin-hadoop2.7/examples/src/main/python/ml/n_gram_example.py\n",
            "spark-2.4.7-bin-hadoop2.7/examples/src/main/python/ml/pca_example.py\n",
            "spark-2.4.7-bin-hadoop2.7/examples/src/main/python/ml/one_vs_rest_example.py\n",
            "spark-2.4.7-bin-hadoop2.7/examples/src/main/python/ml/logistic_regression_summary_example.py\n",
            "spark-2.4.7-bin-hadoop2.7/examples/src/main/python/ml/dct_example.py\n",
            "spark-2.4.7-bin-hadoop2.7/examples/src/main/python/ml/quantile_discretizer_example.py\n",
            "spark-2.4.7-bin-hadoop2.7/examples/src/main/python/ml/bucketizer_example.py\n",
            "spark-2.4.7-bin-hadoop2.7/examples/src/main/python/ml/binarizer_example.py\n",
            "spark-2.4.7-bin-hadoop2.7/examples/src/main/python/ml/fpgrowth_example.py\n",
            "spark-2.4.7-bin-hadoop2.7/examples/src/main/python/ml/stopwords_remover_example.py\n",
            "spark-2.4.7-bin-hadoop2.7/examples/src/main/python/ml/correlation_example.py\n",
            "spark-2.4.7-bin-hadoop2.7/examples/src/main/python/ml/min_hash_lsh_example.py\n",
            "spark-2.4.7-bin-hadoop2.7/examples/src/main/python/ml/standard_scaler_example.py\n",
            "spark-2.4.7-bin-hadoop2.7/examples/src/main/python/ml/multiclass_logistic_regression_with_elastic_net.py\n",
            "spark-2.4.7-bin-hadoop2.7/examples/src/main/python/ml/naive_bayes_example.py\n",
            "spark-2.4.7-bin-hadoop2.7/examples/src/main/python/ml/linearsvc.py\n",
            "spark-2.4.7-bin-hadoop2.7/examples/src/main/python/ml/vector_size_hint_example.py\n",
            "spark-2.4.7-bin-hadoop2.7/examples/src/main/python/ml/rformula_example.py\n",
            "spark-2.4.7-bin-hadoop2.7/examples/src/main/python/ml/count_vectorizer_example.py\n",
            "spark-2.4.7-bin-hadoop2.7/examples/src/main/python/ml/min_max_scaler_example.py\n",
            "spark-2.4.7-bin-hadoop2.7/examples/src/main/python/ml/cross_validator.py\n",
            "spark-2.4.7-bin-hadoop2.7/examples/src/main/python/ml/gaussian_mixture_example.py\n",
            "spark-2.4.7-bin-hadoop2.7/examples/src/main/python/ml/tokenizer_example.py\n",
            "spark-2.4.7-bin-hadoop2.7/examples/src/main/python/ml/dataframe_example.py\n",
            "spark-2.4.7-bin-hadoop2.7/examples/src/main/python/ml/chisq_selector_example.py\n",
            "spark-2.4.7-bin-hadoop2.7/examples/src/main/python/ml/max_abs_scaler_example.py\n",
            "spark-2.4.7-bin-hadoop2.7/examples/src/main/python/ml/gradient_boosted_tree_classifier_example.py\n",
            "spark-2.4.7-bin-hadoop2.7/examples/src/main/python/ml/random_forest_classifier_example.py\n",
            "spark-2.4.7-bin-hadoop2.7/examples/src/main/python/ml/bisecting_k_means_example.py\n",
            "spark-2.4.7-bin-hadoop2.7/examples/src/main/python/ml/aft_survival_regression.py\n",
            "spark-2.4.7-bin-hadoop2.7/examples/src/main/python/ml/kmeans_example.py\n",
            "spark-2.4.7-bin-hadoop2.7/examples/src/main/python/ml/decision_tree_classification_example.py\n",
            "spark-2.4.7-bin-hadoop2.7/examples/src/main/python/ml/linear_regression_with_elastic_net.py\n",
            "spark-2.4.7-bin-hadoop2.7/examples/src/main/python/ml/lda_example.py\n",
            "spark-2.4.7-bin-hadoop2.7/examples/src/main/python/ml/string_indexer_example.py\n",
            "spark-2.4.7-bin-hadoop2.7/examples/src/main/python/ml/estimator_transformer_param_example.py\n",
            "spark-2.4.7-bin-hadoop2.7/examples/src/main/python/ml/imputer_example.py\n",
            "spark-2.4.7-bin-hadoop2.7/examples/src/main/python/ml/isotonic_regression_example.py\n",
            "spark-2.4.7-bin-hadoop2.7/examples/src/main/python/ml/als_example.py\n",
            "spark-2.4.7-bin-hadoop2.7/examples/src/main/python/ml/sql_transformer.py\n",
            "spark-2.4.7-bin-hadoop2.7/examples/src/main/python/ml/summarizer_example.py\n",
            "spark-2.4.7-bin-hadoop2.7/examples/src/main/python/ml/multilayer_perceptron_classification.py\n",
            "spark-2.4.7-bin-hadoop2.7/examples/src/main/python/ml/prefixspan_example.py\n",
            "spark-2.4.7-bin-hadoop2.7/examples/src/main/python/ml/normalizer_example.py\n",
            "spark-2.4.7-bin-hadoop2.7/examples/src/main/python/ml/bucketed_random_projection_lsh_example.py\n",
            "spark-2.4.7-bin-hadoop2.7/examples/src/main/python/ml/feature_hasher_example.py\n",
            "spark-2.4.7-bin-hadoop2.7/examples/src/main/python/ml/random_forest_regressor_example.py\n",
            "spark-2.4.7-bin-hadoop2.7/examples/src/main/python/ml/chi_square_test_example.py\n",
            "spark-2.4.7-bin-hadoop2.7/examples/src/main/python/ml/tf_idf_example.py\n",
            "spark-2.4.7-bin-hadoop2.7/examples/src/main/python/ml/vector_indexer_example.py\n",
            "spark-2.4.7-bin-hadoop2.7/examples/src/main/python/ml/onehot_encoder_estimator_example.py\n",
            "spark-2.4.7-bin-hadoop2.7/examples/src/main/python/ml/pipeline_example.py\n",
            "spark-2.4.7-bin-hadoop2.7/examples/src/main/python/ml/word2vec_example.py\n",
            "spark-2.4.7-bin-hadoop2.7/examples/src/main/python/ml/gradient_boosted_tree_regressor_example.py\n",
            "spark-2.4.7-bin-hadoop2.7/examples/src/main/python/mllib/\n",
            "spark-2.4.7-bin-hadoop2.7/examples/src/main/python/mllib/summary_statistics_example.py\n",
            "spark-2.4.7-bin-hadoop2.7/examples/src/main/python/mllib/decision_tree_regression_example.py\n",
            "spark-2.4.7-bin-hadoop2.7/examples/src/main/python/mllib/stratified_sampling_example.py\n",
            "spark-2.4.7-bin-hadoop2.7/examples/src/main/python/mllib/multi_class_metrics_example.py\n",
            "spark-2.4.7-bin-hadoop2.7/examples/src/main/python/mllib/elementwise_product_example.py\n",
            "spark-2.4.7-bin-hadoop2.7/examples/src/main/python/mllib/streaming_k_means_example.py\n",
            "spark-2.4.7-bin-hadoop2.7/examples/src/main/python/mllib/binary_classification_metrics_example.py\n",
            "spark-2.4.7-bin-hadoop2.7/examples/src/main/python/mllib/svd_example.py\n",
            "spark-2.4.7-bin-hadoop2.7/examples/src/main/python/mllib/random_forest_classification_example.py\n",
            "spark-2.4.7-bin-hadoop2.7/examples/src/main/python/mllib/correlations_example.py\n",
            "spark-2.4.7-bin-hadoop2.7/examples/src/main/python/mllib/pca_rowmatrix_example.py\n",
            "spark-2.4.7-bin-hadoop2.7/examples/src/main/python/mllib/hypothesis_testing_kolmogorov_smirnov_test_example.py\n",
            "spark-2.4.7-bin-hadoop2.7/examples/src/main/python/mllib/sampled_rdds.py\n",
            "spark-2.4.7-bin-hadoop2.7/examples/src/main/python/mllib/correlations.py\n",
            "spark-2.4.7-bin-hadoop2.7/examples/src/main/python/mllib/regression_metrics_example.py\n",
            "spark-2.4.7-bin-hadoop2.7/examples/src/main/python/mllib/logistic_regression.py\n",
            "spark-2.4.7-bin-hadoop2.7/examples/src/main/python/mllib/linear_regression_with_sgd_example.py\n",
            "spark-2.4.7-bin-hadoop2.7/examples/src/main/python/mllib/logistic_regression_with_lbfgs_example.py\n",
            "spark-2.4.7-bin-hadoop2.7/examples/src/main/python/mllib/fpgrowth_example.py\n",
            "spark-2.4.7-bin-hadoop2.7/examples/src/main/python/mllib/svm_with_sgd_example.py\n",
            "spark-2.4.7-bin-hadoop2.7/examples/src/main/python/mllib/standard_scaler_example.py\n",
            "spark-2.4.7-bin-hadoop2.7/examples/src/main/python/mllib/naive_bayes_example.py\n",
            "spark-2.4.7-bin-hadoop2.7/examples/src/main/python/mllib/power_iteration_clustering_example.py\n",
            "spark-2.4.7-bin-hadoop2.7/examples/src/main/python/mllib/k_means_example.py\n",
            "spark-2.4.7-bin-hadoop2.7/examples/src/main/python/mllib/kmeans.py\n",
            "spark-2.4.7-bin-hadoop2.7/examples/src/main/python/mllib/kernel_density_estimation_example.py\n",
            "spark-2.4.7-bin-hadoop2.7/examples/src/main/python/mllib/gaussian_mixture_example.py\n",
            "spark-2.4.7-bin-hadoop2.7/examples/src/main/python/mllib/word2vec.py\n",
            "spark-2.4.7-bin-hadoop2.7/examples/src/main/python/mllib/random_rdd_generation.py\n",
            "spark-2.4.7-bin-hadoop2.7/examples/src/main/python/mllib/multi_label_metrics_example.py\n",
            "spark-2.4.7-bin-hadoop2.7/examples/src/main/python/mllib/bisecting_k_means_example.py\n",
            "spark-2.4.7-bin-hadoop2.7/examples/src/main/python/mllib/gradient_boosting_classification_example.py\n",
            "spark-2.4.7-bin-hadoop2.7/examples/src/main/python/mllib/hypothesis_testing_example.py\n",
            "spark-2.4.7-bin-hadoop2.7/examples/src/main/python/mllib/decision_tree_classification_example.py\n",
            "spark-2.4.7-bin-hadoop2.7/examples/src/main/python/mllib/recommendation_example.py\n",
            "spark-2.4.7-bin-hadoop2.7/examples/src/main/python/mllib/gaussian_mixture_model.py\n",
            "spark-2.4.7-bin-hadoop2.7/examples/src/main/python/mllib/isotonic_regression_example.py\n",
            "spark-2.4.7-bin-hadoop2.7/examples/src/main/python/mllib/gradient_boosting_regression_example.py\n",
            "spark-2.4.7-bin-hadoop2.7/examples/src/main/python/mllib/normalizer_example.py\n",
            "spark-2.4.7-bin-hadoop2.7/examples/src/main/python/mllib/random_forest_regression_example.py\n",
            "spark-2.4.7-bin-hadoop2.7/examples/src/main/python/mllib/tf_idf_example.py\n",
            "spark-2.4.7-bin-hadoop2.7/examples/src/main/python/mllib/latent_dirichlet_allocation_example.py\n",
            "spark-2.4.7-bin-hadoop2.7/examples/src/main/python/mllib/ranking_metrics_example.py\n",
            "spark-2.4.7-bin-hadoop2.7/examples/src/main/python/mllib/word2vec_example.py\n",
            "spark-2.4.7-bin-hadoop2.7/examples/src/main/python/mllib/streaming_linear_regression_example.py\n",
            "spark-2.4.7-bin-hadoop2.7/examples/src/main/python/als.py\n",
            "spark-2.4.7-bin-hadoop2.7/examples/src/main/python/sort.py\n",
            "spark-2.4.7-bin-hadoop2.7/examples/src/main/python/avro_inputformat.py\n",
            "spark-2.4.7-bin-hadoop2.7/examples/jars/\n",
            "spark-2.4.7-bin-hadoop2.7/examples/jars/spark-examples_2.11-2.4.7.jar\n",
            "spark-2.4.7-bin-hadoop2.7/examples/jars/scopt_2.11-3.7.0.jar\n",
            "spark-2.4.7-bin-hadoop2.7/R/\n",
            "spark-2.4.7-bin-hadoop2.7/R/lib/\n",
            "spark-2.4.7-bin-hadoop2.7/R/lib/SparkR/\n",
            "spark-2.4.7-bin-hadoop2.7/R/lib/SparkR/tests/\n",
            "spark-2.4.7-bin-hadoop2.7/R/lib/SparkR/tests/testthat/\n",
            "spark-2.4.7-bin-hadoop2.7/R/lib/SparkR/tests/testthat/test_basic.R\n",
            "spark-2.4.7-bin-hadoop2.7/R/lib/SparkR/html/\n",
            "spark-2.4.7-bin-hadoop2.7/R/lib/SparkR/html/R.css\n",
            "spark-2.4.7-bin-hadoop2.7/R/lib/SparkR/html/00Index.html\n",
            "spark-2.4.7-bin-hadoop2.7/R/lib/SparkR/NAMESPACE\n",
            "spark-2.4.7-bin-hadoop2.7/R/lib/SparkR/profile/\n",
            "spark-2.4.7-bin-hadoop2.7/R/lib/SparkR/profile/shell.R\n",
            "spark-2.4.7-bin-hadoop2.7/R/lib/SparkR/profile/general.R\n",
            "spark-2.4.7-bin-hadoop2.7/R/lib/SparkR/Meta/\n",
            "spark-2.4.7-bin-hadoop2.7/R/lib/SparkR/Meta/Rd.rds\n",
            "spark-2.4.7-bin-hadoop2.7/R/lib/SparkR/Meta/features.rds\n",
            "spark-2.4.7-bin-hadoop2.7/R/lib/SparkR/Meta/hsearch.rds\n",
            "spark-2.4.7-bin-hadoop2.7/R/lib/SparkR/Meta/links.rds\n",
            "spark-2.4.7-bin-hadoop2.7/R/lib/SparkR/Meta/nsInfo.rds\n",
            "spark-2.4.7-bin-hadoop2.7/R/lib/SparkR/Meta/package.rds\n",
            "spark-2.4.7-bin-hadoop2.7/R/lib/SparkR/worker/\n",
            "spark-2.4.7-bin-hadoop2.7/R/lib/SparkR/worker/daemon.R\n",
            "spark-2.4.7-bin-hadoop2.7/R/lib/SparkR/worker/worker.R\n",
            "spark-2.4.7-bin-hadoop2.7/R/lib/SparkR/help/\n",
            "spark-2.4.7-bin-hadoop2.7/R/lib/SparkR/help/paths.rds\n",
            "spark-2.4.7-bin-hadoop2.7/R/lib/SparkR/help/aliases.rds\n",
            "spark-2.4.7-bin-hadoop2.7/R/lib/SparkR/help/SparkR.rdx\n",
            "spark-2.4.7-bin-hadoop2.7/R/lib/SparkR/help/AnIndex\n",
            "spark-2.4.7-bin-hadoop2.7/R/lib/SparkR/help/SparkR.rdb\n",
            "spark-2.4.7-bin-hadoop2.7/R/lib/SparkR/DESCRIPTION\n",
            "spark-2.4.7-bin-hadoop2.7/R/lib/SparkR/INDEX\n",
            "spark-2.4.7-bin-hadoop2.7/R/lib/SparkR/R/\n",
            "spark-2.4.7-bin-hadoop2.7/R/lib/SparkR/R/SparkR\n",
            "spark-2.4.7-bin-hadoop2.7/R/lib/SparkR/R/SparkR.rdx\n",
            "spark-2.4.7-bin-hadoop2.7/R/lib/SparkR/R/SparkR.rdb\n",
            "spark-2.4.7-bin-hadoop2.7/R/lib/sparkr.zip\n",
            "spark-2.4.7-bin-hadoop2.7/RELEASE\n",
            "spark-2.4.7-bin-hadoop2.7/jars/\n",
            "spark-2.4.7-bin-hadoop2.7/jars/hadoop-client-2.7.3.jar\n",
            "spark-2.4.7-bin-hadoop2.7/jars/compress-lzf-1.0.3.jar\n",
            "spark-2.4.7-bin-hadoop2.7/jars/activation-1.1.1.jar\n",
            "spark-2.4.7-bin-hadoop2.7/jars/json4s-scalap_2.11-3.5.3.jar\n",
            "spark-2.4.7-bin-hadoop2.7/jars/chill-java-0.9.3.jar\n",
            "spark-2.4.7-bin-hadoop2.7/jars/hk2-locator-2.4.0-b34.jar\n",
            "spark-2.4.7-bin-hadoop2.7/jars/validation-api-1.1.0.Final.jar\n",
            "spark-2.4.7-bin-hadoop2.7/jars/super-csv-2.2.0.jar\n",
            "spark-2.4.7-bin-hadoop2.7/jars/leveldbjni-all-1.8.jar\n",
            "spark-2.4.7-bin-hadoop2.7/jars/arrow-format-0.10.0.jar\n",
            "spark-2.4.7-bin-hadoop2.7/jars/hadoop-common-2.7.3.jar\n",
            "spark-2.4.7-bin-hadoop2.7/jars/spark-hive_2.11-2.4.7.jar\n",
            "spark-2.4.7-bin-hadoop2.7/jars/javassist-3.18.1-GA.jar\n",
            "spark-2.4.7-bin-hadoop2.7/jars/oro-2.0.8.jar\n",
            "spark-2.4.7-bin-hadoop2.7/jars/jersey-client-2.22.2.jar\n",
            "spark-2.4.7-bin-hadoop2.7/jars/parquet-encoding-1.10.1.jar\n",
            "spark-2.4.7-bin-hadoop2.7/jars/janino-3.0.16.jar\n",
            "spark-2.4.7-bin-hadoop2.7/jars/arrow-memory-0.10.0.jar\n",
            "spark-2.4.7-bin-hadoop2.7/jars/hadoop-mapreduce-client-core-2.7.3.jar\n",
            "spark-2.4.7-bin-hadoop2.7/jars/logging-interceptor-3.12.0.jar\n",
            "spark-2.4.7-bin-hadoop2.7/jars/flatbuffers-1.2.0-3f79e055.jar\n",
            "spark-2.4.7-bin-hadoop2.7/jars/slf4j-log4j12-1.7.16.jar\n",
            "spark-2.4.7-bin-hadoop2.7/jars/guava-14.0.1.jar\n",
            "spark-2.4.7-bin-hadoop2.7/jars/datanucleus-core-3.2.10.jar\n",
            "spark-2.4.7-bin-hadoop2.7/jars/calcite-core-1.2.0-incubating.jar\n",
            "spark-2.4.7-bin-hadoop2.7/jars/antlr-2.7.7.jar\n",
            "spark-2.4.7-bin-hadoop2.7/jars/jackson-core-2.6.7.jar\n",
            "spark-2.4.7-bin-hadoop2.7/jars/jaxb-api-2.2.2.jar\n",
            "spark-2.4.7-bin-hadoop2.7/jars/commons-configuration-1.6.jar\n",
            "spark-2.4.7-bin-hadoop2.7/jars/json4s-ast_2.11-3.5.3.jar\n",
            "spark-2.4.7-bin-hadoop2.7/jars/hive-jdbc-1.2.1.spark2.jar\n",
            "spark-2.4.7-bin-hadoop2.7/jars/jackson-module-jaxb-annotations-2.6.7.jar\n",
            "spark-2.4.7-bin-hadoop2.7/jars/bonecp-0.8.0.RELEASE.jar\n",
            "spark-2.4.7-bin-hadoop2.7/jars/spark-hive-thriftserver_2.11-2.4.7.jar\n",
            "spark-2.4.7-bin-hadoop2.7/jars/hadoop-yarn-client-2.7.3.jar\n",
            "spark-2.4.7-bin-hadoop2.7/jars/machinist_2.11-0.6.1.jar\n",
            "spark-2.4.7-bin-hadoop2.7/jars/kubernetes-model-common-4.6.1.jar\n",
            "spark-2.4.7-bin-hadoop2.7/jars/hive-beeline-1.2.1.spark2.jar\n",
            "spark-2.4.7-bin-hadoop2.7/jars/libthrift-0.9.3.jar\n",
            "spark-2.4.7-bin-hadoop2.7/jars/commons-pool-1.5.4.jar\n",
            "spark-2.4.7-bin-hadoop2.7/jars/metrics-graphite-3.1.5.jar\n",
            "spark-2.4.7-bin-hadoop2.7/jars/libfb303-0.9.3.jar\n",
            "spark-2.4.7-bin-hadoop2.7/jars/commons-lang-2.6.jar\n",
            "spark-2.4.7-bin-hadoop2.7/jars/pyrolite-4.13.jar\n",
            "spark-2.4.7-bin-hadoop2.7/jars/lz4-java-1.4.0.jar\n",
            "spark-2.4.7-bin-hadoop2.7/jars/orc-core-1.5.5-nohive.jar\n",
            "spark-2.4.7-bin-hadoop2.7/jars/calcite-linq4j-1.2.0-incubating.jar\n",
            "spark-2.4.7-bin-hadoop2.7/jars/hk2-api-2.4.0-b34.jar\n",
            "spark-2.4.7-bin-hadoop2.7/jars/snakeyaml-1.15.jar\n",
            "spark-2.4.7-bin-hadoop2.7/jars/shapeless_2.11-2.3.2.jar\n",
            "spark-2.4.7-bin-hadoop2.7/jars/arrow-vector-0.10.0.jar\n",
            "spark-2.4.7-bin-hadoop2.7/jars/spark-tags_2.11-2.4.7-tests.jar\n",
            "spark-2.4.7-bin-hadoop2.7/jars/jackson-module-paranamer-2.7.9.jar\n",
            "spark-2.4.7-bin-hadoop2.7/jars/api-asn1-api-1.0.0-M20.jar\n",
            "spark-2.4.7-bin-hadoop2.7/jars/minlog-1.3.0.jar\n",
            "spark-2.4.7-bin-hadoop2.7/jars/spark-yarn_2.11-2.4.7.jar\n",
            "spark-2.4.7-bin-hadoop2.7/jars/curator-framework-2.7.1.jar\n",
            "spark-2.4.7-bin-hadoop2.7/jars/commons-compress-1.8.1.jar\n",
            "spark-2.4.7-bin-hadoop2.7/jars/javax.ws.rs-api-2.0.1.jar\n",
            "spark-2.4.7-bin-hadoop2.7/jars/scala-compiler-2.11.12.jar\n",
            "spark-2.4.7-bin-hadoop2.7/jars/jackson-xc-1.9.13.jar\n",
            "spark-2.4.7-bin-hadoop2.7/jars/jackson-databind-2.6.7.3.jar\n",
            "spark-2.4.7-bin-hadoop2.7/jars/jersey-media-jaxb-2.22.2.jar\n",
            "spark-2.4.7-bin-hadoop2.7/jars/arpack_combined_all-0.1.jar\n",
            "spark-2.4.7-bin-hadoop2.7/jars/gson-2.2.4.jar\n",
            "spark-2.4.7-bin-hadoop2.7/jars/hadoop-yarn-api-2.7.3.jar\n",
            "spark-2.4.7-bin-hadoop2.7/jars/parquet-hadoop-1.10.1.jar\n",
            "spark-2.4.7-bin-hadoop2.7/jars/apacheds-i18n-2.0.0-M15.jar\n",
            "spark-2.4.7-bin-hadoop2.7/jars/metrics-json-3.1.5.jar\n",
            "spark-2.4.7-bin-hadoop2.7/jars/hk2-utils-2.4.0-b34.jar\n",
            "spark-2.4.7-bin-hadoop2.7/jars/log4j-1.2.17.jar\n",
            "spark-2.4.7-bin-hadoop2.7/jars/javolution-5.5.1.jar\n",
            "spark-2.4.7-bin-hadoop2.7/jars/macro-compat_2.11-1.1.1.jar\n",
            "spark-2.4.7-bin-hadoop2.7/jars/aopalliance-repackaged-2.4.0-b34.jar\n",
            "spark-2.4.7-bin-hadoop2.7/jars/spark-graphx_2.11-2.4.7.jar\n",
            "spark-2.4.7-bin-hadoop2.7/jars/commons-beanutils-1.9.4.jar\n",
            "spark-2.4.7-bin-hadoop2.7/jars/xz-1.5.jar\n",
            "spark-2.4.7-bin-hadoop2.7/jars/xmlenc-0.52.jar\n",
            "spark-2.4.7-bin-hadoop2.7/jars/jersey-container-servlet-2.22.2.jar\n",
            "spark-2.4.7-bin-hadoop2.7/jars/jcl-over-slf4j-1.7.16.jar\n",
            "spark-2.4.7-bin-hadoop2.7/jars/parquet-format-2.4.0.jar\n",
            "spark-2.4.7-bin-hadoop2.7/jars/spark-streaming_2.11-2.4.7.jar\n",
            "spark-2.4.7-bin-hadoop2.7/jars/spark-sql_2.11-2.4.7.jar\n",
            "spark-2.4.7-bin-hadoop2.7/jars/jdo-api-3.0.1.jar\n",
            "spark-2.4.7-bin-hadoop2.7/jars/jpam-1.1.jar\n",
            "spark-2.4.7-bin-hadoop2.7/jars/spark-tags_2.11-2.4.7.jar\n",
            "spark-2.4.7-bin-hadoop2.7/jars/json4s-core_2.11-3.5.3.jar\n",
            "spark-2.4.7-bin-hadoop2.7/jars/core-1.1.2.jar\n",
            "spark-2.4.7-bin-hadoop2.7/jars/hppc-0.7.2.jar\n",
            "spark-2.4.7-bin-hadoop2.7/jars/datanucleus-api-jdo-3.2.6.jar\n",
            "spark-2.4.7-bin-hadoop2.7/jars/commons-math3-3.4.1.jar\n",
            "spark-2.4.7-bin-hadoop2.7/jars/spark-network-common_2.11-2.4.7.jar\n",
            "spark-2.4.7-bin-hadoop2.7/jars/commons-net-3.1.jar\n",
            "spark-2.4.7-bin-hadoop2.7/jars/commons-compiler-3.0.16.jar\n",
            "spark-2.4.7-bin-hadoop2.7/jars/spire_2.11-0.13.0.jar\n",
            "spark-2.4.7-bin-hadoop2.7/jars/aircompressor-0.10.jar\n",
            "spark-2.4.7-bin-hadoop2.7/jars/derby-10.12.1.1.jar\n",
            "spark-2.4.7-bin-hadoop2.7/jars/datanucleus-rdbms-3.2.9.jar\n",
            "spark-2.4.7-bin-hadoop2.7/jars/hadoop-mapreduce-client-jobclient-2.7.3.jar\n",
            "spark-2.4.7-bin-hadoop2.7/jars/avro-1.8.2.jar\n",
            "spark-2.4.7-bin-hadoop2.7/jars/chill_2.11-0.9.3.jar\n",
            "spark-2.4.7-bin-hadoop2.7/jars/hadoop-auth-2.7.3.jar\n",
            "spark-2.4.7-bin-hadoop2.7/jars/stream-2.7.0.jar\n",
            "spark-2.4.7-bin-hadoop2.7/jars/apacheds-kerberos-codec-2.0.0-M15.jar\n",
            "spark-2.4.7-bin-hadoop2.7/jars/antlr4-runtime-4.7.jar\n",
            "spark-2.4.7-bin-hadoop2.7/jars/osgi-resource-locator-1.0.1.jar\n",
            "spark-2.4.7-bin-hadoop2.7/jars/httpcore-4.4.10.jar\n",
            "spark-2.4.7-bin-hadoop2.7/jars/ivy-2.4.0.jar\n",
            "spark-2.4.7-bin-hadoop2.7/jars/kryo-shaded-4.0.2.jar\n",
            "spark-2.4.7-bin-hadoop2.7/jars/jackson-module-scala_2.11-2.6.7.1.jar\n",
            "spark-2.4.7-bin-hadoop2.7/jars/orc-shims-1.5.5.jar\n",
            "spark-2.4.7-bin-hadoop2.7/jars/curator-recipes-2.7.1.jar\n",
            "spark-2.4.7-bin-hadoop2.7/jars/json4s-jackson_2.11-3.5.3.jar\n",
            "spark-2.4.7-bin-hadoop2.7/jars/commons-cli-1.2.jar\n",
            "spark-2.4.7-bin-hadoop2.7/jars/slf4j-api-1.7.16.jar\n",
            "spark-2.4.7-bin-hadoop2.7/jars/jetty-6.1.26.jar\n",
            "spark-2.4.7-bin-hadoop2.7/jars/spark-catalyst_2.11-2.4.7.jar\n",
            "spark-2.4.7-bin-hadoop2.7/jars/stax-api-1.0.1.jar\n",
            "spark-2.4.7-bin-hadoop2.7/jars/eigenbase-properties-1.1.5.jar\n",
            "spark-2.4.7-bin-hadoop2.7/jars/spark-unsafe_2.11-2.4.7.jar\n",
            "spark-2.4.7-bin-hadoop2.7/jars/commons-io-2.4.jar\n",
            "spark-2.4.7-bin-hadoop2.7/jars/javax.inject-1.jar\n",
            "spark-2.4.7-bin-hadoop2.7/jars/guice-3.0.jar\n",
            "spark-2.4.7-bin-hadoop2.7/jars/commons-logging-1.1.3.jar\n",
            "spark-2.4.7-bin-hadoop2.7/jars/spark-mllib_2.11-2.4.7.jar\n",
            "spark-2.4.7-bin-hadoop2.7/jars/hadoop-mapreduce-client-common-2.7.3.jar\n",
            "spark-2.4.7-bin-hadoop2.7/jars/zjsonpatch-0.3.0.jar\n",
            "spark-2.4.7-bin-hadoop2.7/jars/spark-sketch_2.11-2.4.7.jar\n",
            "spark-2.4.7-bin-hadoop2.7/jars/univocity-parsers-2.7.3.jar\n",
            "spark-2.4.7-bin-hadoop2.7/jars/scala-reflect-2.11.12.jar\n",
            "spark-2.4.7-bin-hadoop2.7/jars/jsp-api-2.1.jar\n",
            "spark-2.4.7-bin-hadoop2.7/jars/kubernetes-model-4.6.1.jar\n",
            "spark-2.4.7-bin-hadoop2.7/jars/parquet-jackson-1.10.1.jar\n",
            "spark-2.4.7-bin-hadoop2.7/jars/jackson-core-asl-1.9.13.jar\n",
            "spark-2.4.7-bin-hadoop2.7/jars/aopalliance-1.0.jar\n",
            "spark-2.4.7-bin-hadoop2.7/jars/hadoop-yarn-server-web-proxy-2.7.3.jar\n",
            "spark-2.4.7-bin-hadoop2.7/jars/metrics-jvm-3.1.5.jar\n",
            "spark-2.4.7-bin-hadoop2.7/jars/spark-mesos_2.11-2.4.7.jar\n",
            "spark-2.4.7-bin-hadoop2.7/jars/hive-cli-1.2.1.spark2.jar\n",
            "spark-2.4.7-bin-hadoop2.7/jars/apache-log4j-extras-1.2.17.jar\n",
            "spark-2.4.7-bin-hadoop2.7/jars/guice-servlet-3.0.jar\n",
            "spark-2.4.7-bin-hadoop2.7/jars/commons-dbcp-1.4.jar\n",
            "spark-2.4.7-bin-hadoop2.7/jars/netty-all-4.1.47.Final.jar\n",
            "spark-2.4.7-bin-hadoop2.7/jars/protobuf-java-2.5.0.jar\n",
            "spark-2.4.7-bin-hadoop2.7/jars/jta-1.1.jar\n",
            "spark-2.4.7-bin-hadoop2.7/jars/netty-3.9.9.Final.jar\n",
            "spark-2.4.7-bin-hadoop2.7/jars/orc-mapreduce-1.5.5-nohive.jar\n",
            "spark-2.4.7-bin-hadoop2.7/jars/spark-core_2.11-2.4.7.jar\n",
            "spark-2.4.7-bin-hadoop2.7/jars/scala-xml_2.11-1.0.5.jar\n",
            "spark-2.4.7-bin-hadoop2.7/jars/javax.annotation-api-1.2.jar\n",
            "spark-2.4.7-bin-hadoop2.7/jars/hadoop-yarn-common-2.7.3.jar\n",
            "spark-2.4.7-bin-hadoop2.7/jars/jackson-mapper-asl-1.9.13.jar\n",
            "spark-2.4.7-bin-hadoop2.7/jars/jul-to-slf4j-1.7.16.jar\n",
            "spark-2.4.7-bin-hadoop2.7/jars/spire-macros_2.11-0.13.0.jar\n",
            "spark-2.4.7-bin-hadoop2.7/jars/javax.servlet-api-3.1.0.jar\n",
            "spark-2.4.7-bin-hadoop2.7/jars/hive-exec-1.2.1.spark2.jar\n",
            "spark-2.4.7-bin-hadoop2.7/jars/mesos-1.4.0-shaded-protobuf.jar\n",
            "spark-2.4.7-bin-hadoop2.7/jars/jodd-core-3.5.2.jar\n",
            "spark-2.4.7-bin-hadoop2.7/jars/curator-client-2.7.1.jar\n",
            "spark-2.4.7-bin-hadoop2.7/jars/zookeeper-3.4.6.jar\n",
            "spark-2.4.7-bin-hadoop2.7/jars/commons-digester-1.8.jar\n",
            "spark-2.4.7-bin-hadoop2.7/jars/xbean-asm6-shaded-4.8.jar\n",
            "spark-2.4.7-bin-hadoop2.7/jars/scala-parser-combinators_2.11-1.1.0.jar\n",
            "spark-2.4.7-bin-hadoop2.7/jars/spark-launcher_2.11-2.4.7.jar\n",
            "spark-2.4.7-bin-hadoop2.7/jars/jsr305-1.3.9.jar\n",
            "spark-2.4.7-bin-hadoop2.7/jars/scala-library-2.11.12.jar\n",
            "spark-2.4.7-bin-hadoop2.7/jars/jersey-container-servlet-core-2.22.2.jar\n",
            "spark-2.4.7-bin-hadoop2.7/jars/spark-repl_2.11-2.4.7.jar\n",
            "spark-2.4.7-bin-hadoop2.7/jars/jackson-jaxrs-1.9.13.jar\n",
            "spark-2.4.7-bin-hadoop2.7/jars/opencsv-2.3.jar\n",
            "spark-2.4.7-bin-hadoop2.7/jars/commons-lang3-3.5.jar\n",
            "spark-2.4.7-bin-hadoop2.7/jars/jetty-util-6.1.26.jar\n",
            "spark-2.4.7-bin-hadoop2.7/jars/generex-1.0.2.jar\n",
            "spark-2.4.7-bin-hadoop2.7/jars/joda-time-2.9.3.jar\n",
            "spark-2.4.7-bin-hadoop2.7/jars/shims-0.7.45.jar\n",
            "spark-2.4.7-bin-hadoop2.7/jars/objenesis-2.5.1.jar\n",
            "spark-2.4.7-bin-hadoop2.7/jars/commons-codec-1.10.jar\n",
            "spark-2.4.7-bin-hadoop2.7/jars/py4j-0.10.7.jar\n",
            "spark-2.4.7-bin-hadoop2.7/jars/avro-mapred-1.8.2-hadoop2.jar\n",
            "spark-2.4.7-bin-hadoop2.7/jars/RoaringBitmap-0.7.45.jar\n",
            "spark-2.4.7-bin-hadoop2.7/jars/zstd-jni-1.3.2-2.jar\n",
            "spark-2.4.7-bin-hadoop2.7/jars/hadoop-annotations-2.7.3.jar\n",
            "spark-2.4.7-bin-hadoop2.7/jars/commons-collections-3.2.2.jar\n",
            "spark-2.4.7-bin-hadoop2.7/jars/parquet-column-1.10.1.jar\n",
            "spark-2.4.7-bin-hadoop2.7/jars/commons-crypto-1.0.0.jar\n",
            "spark-2.4.7-bin-hadoop2.7/jars/spark-kvstore_2.11-2.4.7.jar\n",
            "spark-2.4.7-bin-hadoop2.7/jars/snappy-java-1.1.7.5.jar\n",
            "spark-2.4.7-bin-hadoop2.7/jars/httpclient-4.5.6.jar\n",
            "spark-2.4.7-bin-hadoop2.7/jars/spark-mllib-local_2.11-2.4.7.jar\n",
            "spark-2.4.7-bin-hadoop2.7/jars/okio-1.15.0.jar\n",
            "spark-2.4.7-bin-hadoop2.7/jars/hadoop-hdfs-2.7.3.jar\n",
            "spark-2.4.7-bin-hadoop2.7/jars/breeze_2.11-0.13.2.jar\n",
            "spark-2.4.7-bin-hadoop2.7/jars/hadoop-yarn-server-common-2.7.3.jar\n",
            "spark-2.4.7-bin-hadoop2.7/jars/paranamer-2.8.jar\n",
            "spark-2.4.7-bin-hadoop2.7/jars/commons-httpclient-3.1.jar\n",
            "spark-2.4.7-bin-hadoop2.7/jars/jersey-server-2.22.2.jar\n",
            "spark-2.4.7-bin-hadoop2.7/jars/jline-2.14.6.jar\n",
            "spark-2.4.7-bin-hadoop2.7/jars/spark-network-shuffle_2.11-2.4.7.jar\n",
            "spark-2.4.7-bin-hadoop2.7/jars/spark-kubernetes_2.11-2.4.7.jar\n",
            "spark-2.4.7-bin-hadoop2.7/jars/jackson-annotations-2.6.7.jar\n",
            "spark-2.4.7-bin-hadoop2.7/jars/parquet-common-1.10.1.jar\n",
            "spark-2.4.7-bin-hadoop2.7/jars/ST4-4.0.4.jar\n",
            "spark-2.4.7-bin-hadoop2.7/jars/htrace-core-3.1.0-incubating.jar\n",
            "spark-2.4.7-bin-hadoop2.7/jars/JavaEWAH-0.3.2.jar\n",
            "spark-2.4.7-bin-hadoop2.7/jars/api-util-1.0.0-M20.jar\n",
            "spark-2.4.7-bin-hadoop2.7/jars/parquet-hadoop-bundle-1.6.0.jar\n",
            "spark-2.4.7-bin-hadoop2.7/jars/breeze-macros_2.11-0.13.2.jar\n",
            "spark-2.4.7-bin-hadoop2.7/jars/snappy-0.2.jar\n",
            "spark-2.4.7-bin-hadoop2.7/jars/stringtemplate-3.2.1.jar\n",
            "spark-2.4.7-bin-hadoop2.7/jars/kubernetes-client-4.6.1.jar\n",
            "spark-2.4.7-bin-hadoop2.7/jars/automaton-1.11-8.jar\n",
            "spark-2.4.7-bin-hadoop2.7/jars/hive-metastore-1.2.1.spark2.jar\n",
            "spark-2.4.7-bin-hadoop2.7/jars/jersey-common-2.22.2.jar\n",
            "spark-2.4.7-bin-hadoop2.7/jars/javax.inject-2.4.0-b34.jar\n",
            "spark-2.4.7-bin-hadoop2.7/jars/okhttp-3.12.0.jar\n",
            "spark-2.4.7-bin-hadoop2.7/jars/antlr-runtime-3.4.jar\n",
            "spark-2.4.7-bin-hadoop2.7/jars/hadoop-mapreduce-client-app-2.7.3.jar\n",
            "spark-2.4.7-bin-hadoop2.7/jars/xercesImpl-2.9.1.jar\n",
            "spark-2.4.7-bin-hadoop2.7/jars/jersey-guava-2.22.2.jar\n",
            "spark-2.4.7-bin-hadoop2.7/jars/jtransforms-2.4.0.jar\n",
            "spark-2.4.7-bin-hadoop2.7/jars/hadoop-mapreduce-client-shuffle-2.7.3.jar\n",
            "spark-2.4.7-bin-hadoop2.7/jars/stax-api-1.0-2.jar\n",
            "spark-2.4.7-bin-hadoop2.7/jars/metrics-core-3.1.5.jar\n",
            "spark-2.4.7-bin-hadoop2.7/jars/jackson-dataformat-yaml-2.6.7.jar\n",
            "spark-2.4.7-bin-hadoop2.7/jars/avro-ipc-1.8.2.jar\n",
            "spark-2.4.7-bin-hadoop2.7/jars/calcite-avatica-1.2.0-incubating.jar\n",
            "Collecting pyspark\n",
            "\u001b[?25l  Downloading https://files.pythonhosted.org/packages/f0/26/198fc8c0b98580f617cb03cb298c6056587b8f0447e20fa40c5b634ced77/pyspark-3.0.1.tar.gz (204.2MB)\n",
            "\u001b[K     |████████████████████████████████| 204.2MB 59kB/s \n",
            "\u001b[?25hCollecting py4j==0.10.9\n",
            "\u001b[?25l  Downloading https://files.pythonhosted.org/packages/9e/b6/6a4fb90cd235dc8e265a6a2067f2a2c99f0d91787f06aca4bcf7c23f3f80/py4j-0.10.9-py2.py3-none-any.whl (198kB)\n",
            "\u001b[K     |████████████████████████████████| 204kB 42.9MB/s \n",
            "\u001b[?25hBuilding wheels for collected packages: pyspark\n",
            "  Building wheel for pyspark (setup.py) ... \u001b[?25l\u001b[?25hdone\n",
            "  Created wheel for pyspark: filename=pyspark-3.0.1-py2.py3-none-any.whl size=204612243 sha256=1b6c0871170160c5e5f1fc6749b302460ac9ecc9449d59fcc6e781168374e17b\n",
            "  Stored in directory: /root/.cache/pip/wheels/5e/bd/07/031766ca628adec8435bb40f0bd83bb676ce65ff4007f8e73f\n",
            "Successfully built pyspark\n",
            "Installing collected packages: py4j, pyspark\n",
            "Successfully installed py4j-0.10.9 pyspark-3.0.1\n"
          ],
          "name": "stdout"
        }
      ]
    },
    {
      "cell_type": "code",
      "metadata": {
        "id": "4X1daGXPDdUP"
      },
      "source": [
        "#Set up required environment variables\n",
        "import os\n",
        "os.environ[\"JAVA_HOME\"] = \"/usr/lib/jvm/java-8-openjdk-amd64\"\n",
        "os.environ[\"SPARK_HOME\"] = \"/content/spark-2.4.7-bin-hadoop2.7\""
      ],
      "execution_count": 2,
      "outputs": []
    },
    {
      "cell_type": "markdown",
      "metadata": {
        "id": "D2KnPoqqYru9"
      },
      "source": [
        "# Query and Analysis using Spark SQL"
      ]
    },
    {
      "cell_type": "code",
      "metadata": {
        "id": "ge-kPuZ7DijV"
      },
      "source": [
        "#Tools we need to connect to the SparK Server \n",
        "import findspark\n",
        "findspark.init()\n",
        "from pyspark.sql import SparkSession\n",
        "spark = SparkSession.builder.master(\"local[*]\").getOrCreate()"
      ],
      "execution_count": 3,
      "outputs": []
    },
    {
      "cell_type": "code",
      "metadata": {
        "id": "_T4bca96FLZ4"
      },
      "source": [
        "#Load datasets\n",
        "# Creating a dataframe form reading a csv file\n",
        "\n",
        "df=spark.read.options(header=\"true\",inferschema=\"true\").csv('03-02-2018.csv')"
      ],
      "execution_count": 4,
      "outputs": []
    },
    {
      "cell_type": "code",
      "metadata": {
        "colab": {
          "base_uri": "https://localhost:8080/"
        },
        "id": "xb0zrLEHFkYI",
        "outputId": "1248dd9e-200d-4ff4-fcd6-3bed226ff621"
      },
      "source": [
        "print(f\"The shape is {df.count():d} rows by {len(df.columns):d} columns.\")"
      ],
      "execution_count": 5,
      "outputs": [
        {
          "output_type": "stream",
          "text": [
            "The shape is 46200 rows by 80 columns.\n"
          ],
          "name": "stdout"
        }
      ]
    },
    {
      "cell_type": "markdown",
      "metadata": {
        "id": "6oyLaSbrFrmN"
      },
      "source": [
        ">> This is a massive amount of data!!"
      ]
    },
    {
      "cell_type": "code",
      "metadata": {
        "colab": {
          "base_uri": "https://localhost:8080/"
        },
        "id": "zNLoBAdgHQ-h",
        "outputId": "506e88d8-862d-40ca-fb2c-db68aceda71a"
      },
      "source": [
        "## Let's look at some data points from our dataframe\n",
        "#df=spark.read.options(header=\"true\",inferschema=\"true\").csv('03-02-2018.csv')\n",
        "df.show(10)"
      ],
      "execution_count": null,
      "outputs": [
        {
          "output_type": "stream",
          "text": [
            "+--------+--------+-------------------+-------------+------------+------------+---------------+---------------+---------------+---------------+----------------+---------------+---------------+---------------+----------------+---------------+-----------+-----------+-------------+------------+------------+------------+-----------+------------+-----------+-----------+-----------+-----------+------------+-----------+-----------+-----------+-------------+-------------+-------------+-------------+--------------+--------------+-----------+-----------+-----------+-----------+------------+-----------+-----------+------------+------------+------------+------------+------------+------------+--------------+------------+-------------+------------+----------------+----------------+--------------+--------------+----------------+--------------+--------------+----------------+----------------+----------------+----------------+----------------+-----------------+-----------------+-----------------+----------------+-----------+----------+----------+----------+---------+--------+--------+--------+------+\n",
            "|Dst Port|Protocol|          Timestamp|Flow Duration|Tot Fwd Pkts|Tot Bwd Pkts|TotLen Fwd Pkts|TotLen Bwd Pkts|Fwd Pkt Len Max|Fwd Pkt Len Min|Fwd Pkt Len Mean|Fwd Pkt Len Std|Bwd Pkt Len Max|Bwd Pkt Len Min|Bwd Pkt Len Mean|Bwd Pkt Len Std|Flow Byts/s|Flow Pkts/s|Flow IAT Mean|Flow IAT Std|Flow IAT Max|Flow IAT Min|Fwd IAT Tot|Fwd IAT Mean|Fwd IAT Std|Fwd IAT Max|Fwd IAT Min|Bwd IAT Tot|Bwd IAT Mean|Bwd IAT Std|Bwd IAT Max|Bwd IAT Min|Fwd PSH Flags|Bwd PSH Flags|Fwd URG Flags|Bwd URG Flags|Fwd Header Len|Bwd Header Len| Fwd Pkts/s| Bwd Pkts/s|Pkt Len Min|Pkt Len Max|Pkt Len Mean|Pkt Len Std|Pkt Len Var|FIN Flag Cnt|SYN Flag Cnt|RST Flag Cnt|PSH Flag Cnt|ACK Flag Cnt|URG Flag Cnt|CWE Flag Count|ECE Flag Cnt|Down/Up Ratio|Pkt Size Avg|Fwd Seg Size Avg|Bwd Seg Size Avg|Fwd Byts/b Avg|Fwd Pkts/b Avg|Fwd Blk Rate Avg|Bwd Byts/b Avg|Bwd Pkts/b Avg|Bwd Blk Rate Avg|Subflow Fwd Pkts|Subflow Fwd Byts|Subflow Bwd Pkts|Subflow Bwd Byts|Init Fwd Win Byts|Init Bwd Win Byts|Fwd Act Data Pkts|Fwd Seg Size Min|Active Mean|Active Std|Active Max|Active Min|Idle Mean|Idle Std|Idle Max|Idle Min| Label|\n",
            "+--------+--------+-------------------+-------------+------------+------------+---------------+---------------+---------------+---------------+----------------+---------------+---------------+---------------+----------------+---------------+-----------+-----------+-------------+------------+------------+------------+-----------+------------+-----------+-----------+-----------+-----------+------------+-----------+-----------+-----------+-------------+-------------+-------------+-------------+--------------+--------------+-----------+-----------+-----------+-----------+------------+-----------+-----------+------------+------------+------------+------------+------------+------------+--------------+------------+-------------+------------+----------------+----------------+--------------+--------------+----------------+--------------+--------------+----------------+----------------+----------------+----------------+----------------+-----------------+-----------------+-----------------+----------------+-----------+----------+----------+----------+---------+--------+--------+--------+------+\n",
            "|     443|       6|02/03/2018 08:47:38|       141385|           9|           7|            553|           3773|            202|              0|     61.44444444|    87.53443767|           1460|              0|           539.0|    655.4329358|30597.30523|113.1661775|  9425.666667| 19069.11685|       73403|           1|     141385|   17673.125|23965.32327|      73403|         22|      51417|      8569.5|13036.89082|      31525|          1|            0|            0|            0|            0|           192|           152|63.65597482|49.51020264|          0|       1460| 254.4705882|474.7129551|225352.3897|           0|           0|           1|           1|           0|           0|             0|           1|            0|     270.375|     61.44444444|           539.0|             0|             0|               0|             0|             0|               0|               9|             553|               7|            3773|             8192|              119|                4|              20|        0.0|       0.0|         0|         0|      0.0|     0.0|       0|       0|Benign|\n",
            "|   49684|       6|02/03/2018 08:47:38|          281|           2|           1|             38|              0|             38|              0|            19.0|    26.87005769|              0|              0|             0.0|            0.0|135231.3167|10676.15658|        140.5|  174.655375|         264|          17|        281|       281.0|        0.0|        281|        281|          0|         0.0|        0.0|          0|          0|            1|            0|            0|            0|            40|            20|7117.437722|3558.718861|          0|         38|        19.0|21.93931023|481.3333333|           0|           1|           0|           0|           1|           0|             0|           0|            0| 25.33333333|            19.0|             0.0|             0|             0|               0|             0|             0|               0|               2|              38|               1|               0|              123|                0|                0|              20|        0.0|       0.0|         0|         0|      0.0|     0.0|       0|       0|Benign|\n",
            "|     443|       6|02/03/2018 08:47:40|       279824|          11|          15|           1086|          10527|            385|              0|     98.72727273|    129.3924966|           1460|              0|           701.8|    636.3141856| 41501.0864|92.91554692|     11192.96| 24379.44834|      112589|           1|     279728|     27972.8|36167.74032|     112589|         94|     258924| 18494.57143|36356.50372|     133669|          1|            0|            0|            0|            0|           232|           312|39.31042369|53.60512322|          0|       1460| 430.1111111| 566.234209|320621.1795|           0|           0|           1|           1|           0|           0|             0|           1|            1| 446.6538462|     98.72727273|           701.8|             0|             0|               0|             0|             0|               0|              11|            1086|              15|           10527|             8192|             1047|                5|              20|        0.0|       0.0|         0|         0|      0.0|     0.0|       0|       0|Benign|\n",
            "|     443|       6|02/03/2018 08:47:40|          132|           2|           0|              0|              0|              0|              0|             0.0|            0.0|              0|              0|             0.0|            0.0|        0.0|15151.51515|        132.0|         0.0|         132|         132|        132|       132.0|        0.0|        132|        132|          0|         0.0|        0.0|          0|          0|            0|            0|            0|            0|            40|             0|15151.51515|        0.0|          0|          0|         0.0|        0.0|        0.0|           0|           0|           0|           0|           1|           0|             0|           0|            0|         0.0|             0.0|             0.0|             0|             0|               0|             0|             0|               0|               2|               0|               0|               0|              256|               -1|                0|              20|        0.0|       0.0|         0|         0|      0.0|     0.0|       0|       0|Benign|\n",
            "|     443|       6|02/03/2018 08:47:41|       274016|           9|          13|           1285|           6141|            517|              0|     142.7777778|    183.8877224|           1460|              0|     472.3846154|    611.1804887|27100.60726|80.28728249|  13048.38095| 26311.62703|      114077|           1|     273946|    34243.25|37996.56546|     114077|        201|     252994| 21082.83333|39075.73819|     135611|          1|            0|            0|            0|            0|           192|           272|32.84479738|47.44248511|          0|       1460| 322.8695652|497.2547641|247262.3004|           0|           0|           1|           1|           0|           0|             0|           1|            1| 337.5454545|     142.7777778|     472.3846154|             0|             0|               0|             0|             0|               0|               9|            1285|              13|            6141|             8192|             1047|                5|              20|        0.0|       0.0|         0|         0|      0.0|     0.0|       0|       0|Benign|\n",
            "|     443|       6|02/03/2018 08:47:41|          250|           2|           0|              0|              0|              0|              0|             0.0|            0.0|              0|              0|             0.0|            0.0|        0.0|     8000.0|        250.0|         0.0|         250|         250|        250|       250.0|        0.0|        250|        250|          0|         0.0|        0.0|          0|          0|            0|            0|            0|            0|            40|             0|     8000.0|        0.0|          0|          0|         0.0|        0.0|        0.0|           0|           0|           0|           0|           1|           0|             0|           0|            0|         0.0|             0.0|             0.0|             0|             0|               0|             0|             0|               0|               2|               0|               0|               0|              251|               -1|                0|              20|        0.0|       0.0|         0|         0|      0.0|     0.0|       0|       0|Benign|\n",
            "|      80|       6|02/03/2018 08:47:41|      5964033|           3|           1|              0|              0|              0|              0|             0.0|            0.0|              0|              0|             0.0|            0.0|        0.0|  0.6706871|    1988011.0|  3425209.65|     5943084|          19|    5964033|   2982016.5|4187581.818|    5943084|      20949|          0|         0.0|        0.0|          0|          0|            0|            0|            0|            0|            72|            32|0.503015325|0.167671775|          0|          0|         0.0|        0.0|        0.0|           0|           0|           1|           1|           0|           0|             0|           1|            0|         0.0|             0.0|             0.0|             0|             0|               0|             0|             0|               0|               3|               0|               1|               0|             8192|            29200|                0|              20|        0.0|       0.0|         0|         0|      0.0|     0.0|       0|       0|Benign|\n",
            "|   49690|       6|02/03/2018 08:47:46|          144|           2|           0|              0|              0|              0|              0|             0.0|            0.0|              0|              0|             0.0|            0.0|        0.0|13888.88889|        144.0|         0.0|         144|         144|        144|       144.0|        0.0|        144|        144|          0|         0.0|        0.0|          0|          0|            0|            0|            0|            0|            40|             0|13888.88889|        0.0|          0|          0|         0.0|        0.0|        0.0|           0|           0|           0|           0|           1|           0|             0|           0|            0|         0.0|             0.0|             0.0|             0|             0|               0|             0|             0|               0|               2|               0|               0|               0|              913|               -1|                0|              20|        0.0|       0.0|         0|         0|      0.0|     0.0|       0|       0|Benign|\n",
            "|     443|       6|02/03/2018 08:48:17|        90828|           8|           8|           1748|           3898|           1078|              0|           218.5|    363.7133879|           1460|              0|          487.25|    639.5062269|62161.44801|176.1571322|       6055.2| 9948.657879|       23343|           1|      69438| 9919.714286|11893.19116|      23365|         48|      69553| 9936.142857|12312.69524|      23723|          1|            0|            0|            0|            0|           172|           172|88.07856608|88.07856608|          0|       1460| 332.1176471|512.0358731|262180.7353|           0|           0|           1|           1|           0|           0|             0|           1|            1|     352.875|           218.5|          487.25|             0|             0|               0|             0|             0|               0|               8|            1748|               8|            3898|             8192|             8192|                5|              20|        0.0|       0.0|         0|         0|      0.0|     0.0|       0|       0|Benign|\n",
            "|     443|       6|02/03/2018 08:48:17|          152|           3|           0|             31|              0|             31|              0|     10.33333333|    17.89785834|              0|              0|             0.0|            0.0|203947.3684|19736.84211|         76.0| 63.63961031|         121|          31|        152|        76.0|63.63961031|        121|         31|          0|         0.0|        0.0|          0|          0|            0|            0|            0|            0|            60|             0|19736.84211|        0.0|          0|         31|        7.75|       15.5|     240.25|           0|           0|           0|           0|           1|           0|             0|           0|            0| 10.33333333|     10.33333333|             0.0|             0|             0|               0|             0|             0|               0|               3|              31|               0|               0|              257|               -1|                1|              20|        0.0|       0.0|         0|         0|      0.0|     0.0|       0|       0|Benign|\n",
            "+--------+--------+-------------------+-------------+------------+------------+---------------+---------------+---------------+---------------+----------------+---------------+---------------+---------------+----------------+---------------+-----------+-----------+-------------+------------+------------+------------+-----------+------------+-----------+-----------+-----------+-----------+------------+-----------+-----------+-----------+-------------+-------------+-------------+-------------+--------------+--------------+-----------+-----------+-----------+-----------+------------+-----------+-----------+------------+------------+------------+------------+------------+------------+--------------+------------+-------------+------------+----------------+----------------+--------------+--------------+----------------+--------------+--------------+----------------+----------------+----------------+----------------+----------------+-----------------+-----------------+-----------------+----------------+-----------+----------+----------+----------+---------+--------+--------+--------+------+\n",
            "only showing top 10 rows\n",
            "\n"
          ],
          "name": "stdout"
        }
      ]
    },
    {
      "cell_type": "code",
      "metadata": {
        "colab": {
          "base_uri": "https://localhost:8080/"
        },
        "id": "bkoMbDAbH6ND",
        "outputId": "214d6aa0-0f50-4ae7-ef79-0b8a12873d01"
      },
      "source": [
        "## Printing the Dataframe Schema\n",
        "df.printSchema()"
      ],
      "execution_count": null,
      "outputs": [
        {
          "output_type": "stream",
          "text": [
            "root\n",
            " |-- Dst Port: integer (nullable = true)\n",
            " |-- Protocol: integer (nullable = true)\n",
            " |-- Timestamp: string (nullable = true)\n",
            " |-- Flow Duration: integer (nullable = true)\n",
            " |-- Tot Fwd Pkts: integer (nullable = true)\n",
            " |-- Tot Bwd Pkts: integer (nullable = true)\n",
            " |-- TotLen Fwd Pkts: integer (nullable = true)\n",
            " |-- TotLen Bwd Pkts: decimal(9,0) (nullable = true)\n",
            " |-- Fwd Pkt Len Max: integer (nullable = true)\n",
            " |-- Fwd Pkt Len Min: integer (nullable = true)\n",
            " |-- Fwd Pkt Len Mean: double (nullable = true)\n",
            " |-- Fwd Pkt Len Std: double (nullable = true)\n",
            " |-- Bwd Pkt Len Max: integer (nullable = true)\n",
            " |-- Bwd Pkt Len Min: integer (nullable = true)\n",
            " |-- Bwd Pkt Len Mean: double (nullable = true)\n",
            " |-- Bwd Pkt Len Std: double (nullable = true)\n",
            " |-- Flow Byts/s: double (nullable = true)\n",
            " |-- Flow Pkts/s: double (nullable = true)\n",
            " |-- Flow IAT Mean: double (nullable = true)\n",
            " |-- Flow IAT Std: double (nullable = true)\n",
            " |-- Flow IAT Max: decimal(9,0) (nullable = true)\n",
            " |-- Flow IAT Min: decimal(9,0) (nullable = true)\n",
            " |-- Fwd IAT Tot: decimal(9,0) (nullable = true)\n",
            " |-- Fwd IAT Mean: double (nullable = true)\n",
            " |-- Fwd IAT Std: double (nullable = true)\n",
            " |-- Fwd IAT Max: decimal(9,0) (nullable = true)\n",
            " |-- Fwd IAT Min: decimal(9,0) (nullable = true)\n",
            " |-- Bwd IAT Tot: decimal(9,0) (nullable = true)\n",
            " |-- Bwd IAT Mean: double (nullable = true)\n",
            " |-- Bwd IAT Std: double (nullable = true)\n",
            " |-- Bwd IAT Max: decimal(9,0) (nullable = true)\n",
            " |-- Bwd IAT Min: decimal(9,0) (nullable = true)\n",
            " |-- Fwd PSH Flags: integer (nullable = true)\n",
            " |-- Bwd PSH Flags: integer (nullable = true)\n",
            " |-- Fwd URG Flags: integer (nullable = true)\n",
            " |-- Bwd URG Flags: integer (nullable = true)\n",
            " |-- Fwd Header Len: integer (nullable = true)\n",
            " |-- Bwd Header Len: integer (nullable = true)\n",
            " |-- Fwd Pkts/s: double (nullable = true)\n",
            " |-- Bwd Pkts/s: double (nullable = true)\n",
            " |-- Pkt Len Min: integer (nullable = true)\n",
            " |-- Pkt Len Max: integer (nullable = true)\n",
            " |-- Pkt Len Mean: double (nullable = true)\n",
            " |-- Pkt Len Std: double (nullable = true)\n",
            " |-- Pkt Len Var: double (nullable = true)\n",
            " |-- FIN Flag Cnt: integer (nullable = true)\n",
            " |-- SYN Flag Cnt: integer (nullable = true)\n",
            " |-- RST Flag Cnt: integer (nullable = true)\n",
            " |-- PSH Flag Cnt: integer (nullable = true)\n",
            " |-- ACK Flag Cnt: integer (nullable = true)\n",
            " |-- URG Flag Cnt: integer (nullable = true)\n",
            " |-- CWE Flag Count: integer (nullable = true)\n",
            " |-- ECE Flag Cnt: integer (nullable = true)\n",
            " |-- Down/Up Ratio: integer (nullable = true)\n",
            " |-- Pkt Size Avg: double (nullable = true)\n",
            " |-- Fwd Seg Size Avg: double (nullable = true)\n",
            " |-- Bwd Seg Size Avg: double (nullable = true)\n",
            " |-- Fwd Byts/b Avg: integer (nullable = true)\n",
            " |-- Fwd Pkts/b Avg: integer (nullable = true)\n",
            " |-- Fwd Blk Rate Avg: string (nullable = true)\n",
            " |-- Bwd Byts/b Avg: integer (nullable = true)\n",
            " |-- Bwd Pkts/b Avg: integer (nullable = true)\n",
            " |-- Bwd Blk Rate Avg: integer (nullable = true)\n",
            " |-- Subflow Fwd Pkts: integer (nullable = true)\n",
            " |-- Subflow Fwd Byts: integer (nullable = true)\n",
            " |-- Subflow Bwd Pkts: integer (nullable = true)\n",
            " |-- Subflow Bwd Byts: integer (nullable = true)\n",
            " |-- Init Fwd Win Byts: integer (nullable = true)\n",
            " |-- Init Bwd Win Byts: integer (nullable = true)\n",
            " |-- Fwd Act Data Pkts: integer (nullable = true)\n",
            " |-- Fwd Seg Size Min: integer (nullable = true)\n",
            " |-- Active Mean: double (nullable = true)\n",
            " |-- Active Std: double (nullable = true)\n",
            " |-- Active Max: decimal(9,0) (nullable = true)\n",
            " |-- Active Min: decimal(9,0) (nullable = true)\n",
            " |-- Idle Mean: double (nullable = true)\n",
            " |-- Idle Std: double (nullable = true)\n",
            " |-- Idle Max: decimal(9,0) (nullable = true)\n",
            " |-- Idle Min: decimal(9,0) (nullable = true)\n",
            " |-- Label: string (nullable = true)\n",
            "\n"
          ],
          "name": "stdout"
        }
      ]
    },
    {
      "cell_type": "code",
      "metadata": {
        "id": "Vz0HiymCgGvz"
      },
      "source": [
        "df.na.drop()\n",
        "df=df.fillna(1)\n",
        "\n",
        "#df.na.drop(Seq(\"c_name\")).select(avg(col(\"c_name\")))"
      ],
      "execution_count": null,
      "outputs": []
    },
    {
      "cell_type": "markdown",
      "metadata": {
        "id": "pqIHC2LtGHfr"
      },
      "source": [
        "##  Spark SQL"
      ]
    },
    {
      "cell_type": "code",
      "metadata": {
        "colab": {
          "base_uri": "https://localhost:8080/"
        },
        "id": "9d16aDRHX-ET",
        "outputId": "59c203ba-336f-4976-87ed-3da07b1ba531"
      },
      "source": [
        "# Typically the entry point into all SQL functionality in Spark is the SQLContext class. To create a basic instance of this call, all we need is a SparkContext reference\n",
        "from pyspark.sql import SQLContext\n",
        "from pyspark import SparkContext\n",
        "sc=SparkContext.getOrCreate()\n",
        "sqlContext = SQLContext(sc)\n",
        "sqlContext"
      ],
      "execution_count": null,
      "outputs": [
        {
          "output_type": "execute_result",
          "data": {
            "text/plain": [
              "<pyspark.sql.context.SQLContext at 0x7f46bdd41eb8>"
            ]
          },
          "metadata": {
            "tags": []
          },
          "execution_count": 9
        }
      ]
    },
    {
      "cell_type": "code",
      "metadata": {
        "colab": {
          "base_uri": "https://localhost:8080/"
        },
        "id": "N_k6UM6-piSb",
        "outputId": "5c73e79a-c037-4690-fa04-3746ab58db04"
      },
      "source": [
        "#Register temporary table\n",
        "df.registerTempTable('sample')\n",
        "protocols_frequency = sqlContext.sql(\"\"\"\n",
        "                           SELECT Protocol, count(*) as freq\n",
        "                           FROM sample\n",
        "                           GROUP BY Protocol\n",
        "                           \"\"\")\n",
        "protocols_frequency.show()"
      ],
      "execution_count": null,
      "outputs": [
        {
          "output_type": "stream",
          "text": [
            "+--------+------+\n",
            "|Protocol|  freq|\n",
            "+--------+------+\n",
            "|       6|832490|\n",
            "|      17|202699|\n",
            "|       0| 13382|\n",
            "+--------+------+\n",
            "\n"
          ],
          "name": "stdout"
        }
      ]
    },
    {
      "cell_type": "code",
      "metadata": {
        "colab": {
          "base_uri": "https://localhost:8080/"
        },
        "id": "me7Nb8XD-3dR",
        "outputId": "283f1719-505a-43db-957c-4515f1316521"
      },
      "source": [
        "from pyspark.sql.functions import isnan, when, count, col\n",
        "\n",
        "df.select([count(when(isnan(c), c)).alias(c) for c in df.columns]).show()"
      ],
      "execution_count": null,
      "outputs": [
        {
          "output_type": "stream",
          "text": [
            "+--------+--------+---------+-------------+------------+------------+---------------+---------------+---------------+---------------+----------------+---------------+---------------+---------------+----------------+---------------+-----------+-----------+-------------+------------+------------+------------+-----------+------------+-----------+-----------+-----------+-----------+------------+-----------+-----------+-----------+-------------+-------------+-------------+-------------+--------------+--------------+----------+----------+-----------+-----------+------------+-----------+-----------+------------+------------+------------+------------+------------+------------+--------------+------------+-------------+------------+----------------+----------------+--------------+--------------+----------------+--------------+--------------+----------------+----------------+----------------+----------------+----------------+-----------------+-----------------+-----------------+----------------+-----------+----------+----------+----------+---------+--------+--------+--------+-----+\n",
            "|Dst Port|Protocol|Timestamp|Flow Duration|Tot Fwd Pkts|Tot Bwd Pkts|TotLen Fwd Pkts|TotLen Bwd Pkts|Fwd Pkt Len Max|Fwd Pkt Len Min|Fwd Pkt Len Mean|Fwd Pkt Len Std|Bwd Pkt Len Max|Bwd Pkt Len Min|Bwd Pkt Len Mean|Bwd Pkt Len Std|Flow Byts/s|Flow Pkts/s|Flow IAT Mean|Flow IAT Std|Flow IAT Max|Flow IAT Min|Fwd IAT Tot|Fwd IAT Mean|Fwd IAT Std|Fwd IAT Max|Fwd IAT Min|Bwd IAT Tot|Bwd IAT Mean|Bwd IAT Std|Bwd IAT Max|Bwd IAT Min|Fwd PSH Flags|Bwd PSH Flags|Fwd URG Flags|Bwd URG Flags|Fwd Header Len|Bwd Header Len|Fwd Pkts/s|Bwd Pkts/s|Pkt Len Min|Pkt Len Max|Pkt Len Mean|Pkt Len Std|Pkt Len Var|FIN Flag Cnt|SYN Flag Cnt|RST Flag Cnt|PSH Flag Cnt|ACK Flag Cnt|URG Flag Cnt|CWE Flag Count|ECE Flag Cnt|Down/Up Ratio|Pkt Size Avg|Fwd Seg Size Avg|Bwd Seg Size Avg|Fwd Byts/b Avg|Fwd Pkts/b Avg|Fwd Blk Rate Avg|Bwd Byts/b Avg|Bwd Pkts/b Avg|Bwd Blk Rate Avg|Subflow Fwd Pkts|Subflow Fwd Byts|Subflow Bwd Pkts|Subflow Bwd Byts|Init Fwd Win Byts|Init Bwd Win Byts|Fwd Act Data Pkts|Fwd Seg Size Min|Active Mean|Active Std|Active Max|Active Min|Idle Mean|Idle Std|Idle Max|Idle Min|Label|\n",
            "+--------+--------+---------+-------------+------------+------------+---------------+---------------+---------------+---------------+----------------+---------------+---------------+---------------+----------------+---------------+-----------+-----------+-------------+------------+------------+------------+-----------+------------+-----------+-----------+-----------+-----------+------------+-----------+-----------+-----------+-------------+-------------+-------------+-------------+--------------+--------------+----------+----------+-----------+-----------+------------+-----------+-----------+------------+------------+------------+------------+------------+------------+--------------+------------+-------------+------------+----------------+----------------+--------------+--------------+----------------+--------------+--------------+----------------+----------------+----------------+----------------+----------------+-----------------+-----------------+-----------------+----------------+-----------+----------+----------+----------+---------+--------+--------+--------+-----+\n",
            "|       0|       0|        0|            0|           0|           0|              0|              0|              0|              0|               0|              0|              0|              0|               0|              0|          0|          0|            0|           0|           0|           0|          0|           0|          0|          0|          0|          0|           0|          0|          0|          0|            0|            0|            0|            0|             0|             0|         0|         0|          0|          0|           0|          0|          0|           0|           0|           0|           0|           0|           0|             0|           0|            0|           0|               0|               0|             0|             0|               0|             0|             0|               0|               0|               0|               0|               0|                0|                0|                0|               0|          0|         0|         0|         0|        0|       0|       0|       0|    0|\n",
            "+--------+--------+---------+-------------+------------+------------+---------------+---------------+---------------+---------------+----------------+---------------+---------------+---------------+----------------+---------------+-----------+-----------+-------------+------------+------------+------------+-----------+------------+-----------+-----------+-----------+-----------+------------+-----------+-----------+-----------+-------------+-------------+-------------+-------------+--------------+--------------+----------+----------+-----------+-----------+------------+-----------+-----------+------------+------------+------------+------------+------------+------------+--------------+------------+-------------+------------+----------------+----------------+--------------+--------------+----------------+--------------+--------------+----------------+----------------+----------------+----------------+----------------+-----------------+-----------------+-----------------+----------------+-----------+----------+----------+----------+---------+--------+--------+--------+-----+\n",
            "\n"
          ],
          "name": "stdout"
        }
      ]
    },
    {
      "cell_type": "code",
      "metadata": {
        "colab": {
          "base_uri": "https://localhost:8080/"
        },
        "id": "guwq1jvvdACY",
        "outputId": "e9d63fec-08ce-4416-8efb-0b6115a47523"
      },
      "source": [
        " #Register temporary table\n",
        "df.registerTempTable('sample')\n",
        "timestamp_by_day_of_month = sqlContext.sql(\"\"\"\n",
        "                           SELECT Timestamp,\n",
        "                           COALESCE(AVG(\"Tot Fwd Pkts\"),0) as mean_Forward_packets,AVG(\"Tot Bwd Pkts\") as mean_Backward_packets\n",
        "                           FROM sample\n",
        "                           GROUP BY Timestamp\n",
        "                           \"\"\")\n",
        "timestamp_by_day_of_month.show()"
      ],
      "execution_count": null,
      "outputs": [
        {
          "output_type": "stream",
          "text": [
            "+-------------------+--------------------+---------------------+\n",
            "|          Timestamp|mean_Forward_packets|mean_Backward_packets|\n",
            "+-------------------+--------------------+---------------------+\n",
            "|02/03/2018 09:04:22|                   1|                    1|\n",
            "|02/03/2018 09:38:34|                   2|                    2|\n",
            "|02/03/2018 09:49:10|                   2|                    2|\n",
            "|02/03/2018 09:47:13|                   2|                    2|\n",
            "|02/03/2018 10:18:28|                   2|                    2|\n",
            "|02/03/2018 10:24:34|                   2|                    2|\n",
            "|02/03/2018 10:31:42|                   2|                    2|\n",
            "|02/03/2018 10:36:54|                   2|                    2|\n",
            "|02/03/2018 10:47:00|                   9|                    9|\n",
            "|02/03/2018 10:49:46|                   6|                    6|\n",
            "|02/03/2018 10:56:39|                   4|                    4|\n",
            "|02/03/2018 11:02:01|                   2|                    2|\n",
            "|02/03/2018 11:04:28|                   3|                    3|\n",
            "|02/03/2018 11:04:32|                   2|                    2|\n",
            "|02/03/2018 11:07:14|                   4|                    4|\n",
            "|02/03/2018 11:08:57|                   8|                    8|\n",
            "|02/03/2018 11:12:02|                   8|                    8|\n",
            "|02/03/2018 11:13:06|                   9|                    9|\n",
            "|02/03/2018 11:15:46|                  15|                   15|\n",
            "|02/03/2018 11:18:41|                   4|                    4|\n",
            "+-------------------+--------------------+---------------------+\n",
            "only showing top 20 rows\n",
            "\n"
          ],
          "name": "stdout"
        }
      ]
    },
    {
      "cell_type": "code",
      "metadata": {
        "colab": {
          "base_uri": "https://localhost:8080/"
        },
        "id": "_sOGZ0PXe-PN",
        "outputId": "ea5679bc-fdba-43ec-9087-f8a1eae6eee4"
      },
      "source": [
        "#Register temporary table\n",
        "df1.registerTempTable('sample')\n",
        "protocols = sqlContext.sql(\"\"\"\n",
        "                           SELECT Label,Protocol, count(*) as freq\n",
        "                           FROM sample\n",
        "                           GROUP BY Protocol,Label\n",
        "                           \"\"\")\n",
        "protocols.show(10)"
      ],
      "execution_count": null,
      "outputs": [
        {
          "output_type": "stream",
          "text": [
            "+------+--------+------+\n",
            "| Label|Protocol|  freq|\n",
            "+------+--------+------+\n",
            "|   Bot|       0|   258|\n",
            "|Benign|      17| 91256|\n",
            "|   Bot|       6|285933|\n",
            "|Benign|       0|  6999|\n",
            "|Benign|       6|241282|\n",
            "+------+--------+------+\n",
            "\n"
          ],
          "name": "stdout"
        }
      ]
    },
    {
      "cell_type": "code",
      "metadata": {
        "colab": {
          "base_uri": "https://localhost:8080/"
        },
        "id": "ktPFd1f4VdhN",
        "outputId": "5cadc505-fd5b-4a75-ed18-9cd9eaa2d4d3"
      },
      "source": [
        "attack_stats = sqlContext.sql(\"\"\"\n",
        "                           SELECT *,\n",
        "                             CASE Label\n",
        "                               WHEN 'Benign' THEN 'no attack'\n",
        "                               ELSE 'attack'\n",
        "                             END AS state,\n",
        "                             COUNT(*) as total_freq,\n",
        "                             ROUND(AVG(\"Fwd Byts/b Avg\"), 2) as mean_fwd_bytes,\n",
        "                             ROUND(AVG(\"Flow Duration\"), 2) as mean_duration,\n",
        "                             AVG(\"Pkt Size Avg\") as pkt_size_avg,\n",
        "                           FROM connections\n",
        "                           GROUP BY Label, state\n",
        "                           ORDER BY 3 DESC\n",
        "                           \"\"\")\n",
        "display(attack_stats)"
      ],
      "execution_count": null,
      "outputs": [
        {
          "output_type": "stream",
          "text": [
            "+--------+--------+-------------------+-------------+------------+------------+---------------+---------------+---------------+---------------+----------------+---------------+---------------+---------------+----------------+---------------+-----------+-----------+-------------+------------+------------+------------+-----------+------------+-----------+-----------+-----------+-----------+------------+-----------+-----------+-----------+-------------+-------------+-------------+-------------+--------------+--------------+-----------+-----------+-----------+-----------+------------+-----------+-----------+------------+------------+------------+------------+------------+------------+--------------+------------+-------------+------------+----------------+----------------+--------------+--------------+----------------+--------------+--------------+----------------+----------------+----------------+----------------+----------------+-----------------+-----------------+-----------------+----------------+-----------+----------+----------+----------+---------+--------+--------+--------+------+\n",
            "|Dst Port|Protocol|          Timestamp|Flow Duration|Tot Fwd Pkts|Tot Bwd Pkts|TotLen Fwd Pkts|TotLen Bwd Pkts|Fwd Pkt Len Max|Fwd Pkt Len Min|Fwd Pkt Len Mean|Fwd Pkt Len Std|Bwd Pkt Len Max|Bwd Pkt Len Min|Bwd Pkt Len Mean|Bwd Pkt Len Std|Flow Byts/s|Flow Pkts/s|Flow IAT Mean|Flow IAT Std|Flow IAT Max|Flow IAT Min|Fwd IAT Tot|Fwd IAT Mean|Fwd IAT Std|Fwd IAT Max|Fwd IAT Min|Bwd IAT Tot|Bwd IAT Mean|Bwd IAT Std|Bwd IAT Max|Bwd IAT Min|Fwd PSH Flags|Bwd PSH Flags|Fwd URG Flags|Bwd URG Flags|Fwd Header Len|Bwd Header Len| Fwd Pkts/s| Bwd Pkts/s|Pkt Len Min|Pkt Len Max|Pkt Len Mean|Pkt Len Std|Pkt Len Var|FIN Flag Cnt|SYN Flag Cnt|RST Flag Cnt|PSH Flag Cnt|ACK Flag Cnt|URG Flag Cnt|CWE Flag Count|ECE Flag Cnt|Down/Up Ratio|Pkt Size Avg|Fwd Seg Size Avg|Bwd Seg Size Avg|Fwd Byts/b Avg|Fwd Pkts/b Avg|Fwd Blk Rate Avg|Bwd Byts/b Avg|Bwd Pkts/b Avg|Bwd Blk Rate Avg|Subflow Fwd Pkts|Subflow Fwd Byts|Subflow Bwd Pkts|Subflow Bwd Byts|Init Fwd Win Byts|Init Bwd Win Byts|Fwd Act Data Pkts|Fwd Seg Size Min|Active Mean|Active Std|Active Max|Active Min|Idle Mean|Idle Std|Idle Max|Idle Min| Label|\n",
            "+--------+--------+-------------------+-------------+------------+------------+---------------+---------------+---------------+---------------+----------------+---------------+---------------+---------------+----------------+---------------+-----------+-----------+-------------+------------+------------+------------+-----------+------------+-----------+-----------+-----------+-----------+------------+-----------+-----------+-----------+-------------+-------------+-------------+-------------+--------------+--------------+-----------+-----------+-----------+-----------+------------+-----------+-----------+------------+------------+------------+------------+------------+------------+--------------+------------+-------------+------------+----------------+----------------+--------------+--------------+----------------+--------------+--------------+----------------+----------------+----------------+----------------+----------------+-----------------+-----------------+-----------------+----------------+-----------+----------+----------+----------+---------+--------+--------+--------+------+\n",
            "|     443|       6|02/03/2018 08:47:38|       141385|           9|           7|            553|           3773|            202|              0|     61.44444444|    87.53443767|           1460|              0|           539.0|    655.4329358|30597.30523|113.1661775|  9425.666667| 19069.11685|       73403|           1|     141385|   17673.125|23965.32327|      73403|         22|      51417|      8569.5|13036.89082|      31525|          1|            0|            0|            0|            0|           192|           152|63.65597482|49.51020264|          0|       1460| 254.4705882|474.7129551|225352.3897|           0|           0|           1|           1|           0|           0|             0|           1|            0|     270.375|     61.44444444|           539.0|             0|             0|               0|             0|             0|               0|               9|             553|               7|            3773|             8192|              119|                4|              20|        0.0|       0.0|         0|         0|      0.0|     0.0|       0|       0|Benign|\n",
            "|   49684|       6|02/03/2018 08:47:38|          281|           2|           1|             38|              0|             38|              0|            19.0|    26.87005769|              0|              0|             0.0|            0.0|135231.3167|10676.15658|        140.5|  174.655375|         264|          17|        281|       281.0|        0.0|        281|        281|          0|         0.0|        0.0|          0|          0|            1|            0|            0|            0|            40|            20|7117.437722|3558.718861|          0|         38|        19.0|21.93931023|481.3333333|           0|           1|           0|           0|           1|           0|             0|           0|            0| 25.33333333|            19.0|             0.0|             0|             0|               0|             0|             0|               0|               2|              38|               1|               0|              123|                0|                0|              20|        0.0|       0.0|         0|         0|      0.0|     0.0|       0|       0|Benign|\n",
            "|     443|       6|02/03/2018 08:47:40|       279824|          11|          15|           1086|          10527|            385|              0|     98.72727273|    129.3924966|           1460|              0|           701.8|    636.3141856| 41501.0864|92.91554692|     11192.96| 24379.44834|      112589|           1|     279728|     27972.8|36167.74032|     112589|         94|     258924| 18494.57143|36356.50372|     133669|          1|            0|            0|            0|            0|           232|           312|39.31042369|53.60512322|          0|       1460| 430.1111111| 566.234209|320621.1795|           0|           0|           1|           1|           0|           0|             0|           1|            1| 446.6538462|     98.72727273|           701.8|             0|             0|               0|             0|             0|               0|              11|            1086|              15|           10527|             8192|             1047|                5|              20|        0.0|       0.0|         0|         0|      0.0|     0.0|       0|       0|Benign|\n",
            "|     443|       6|02/03/2018 08:47:40|          132|           2|           0|              0|              0|              0|              0|             0.0|            0.0|              0|              0|             0.0|            0.0|        0.0|15151.51515|        132.0|         0.0|         132|         132|        132|       132.0|        0.0|        132|        132|          0|         0.0|        0.0|          0|          0|            0|            0|            0|            0|            40|             0|15151.51515|        0.0|          0|          0|         0.0|        0.0|        0.0|           0|           0|           0|           0|           1|           0|             0|           0|            0|         0.0|             0.0|             0.0|             0|             0|               0|             0|             0|               0|               2|               0|               0|               0|              256|               -1|                0|              20|        0.0|       0.0|         0|         0|      0.0|     0.0|       0|       0|Benign|\n",
            "+--------+--------+-------------------+-------------+------------+------------+---------------+---------------+---------------+---------------+----------------+---------------+---------------+---------------+----------------+---------------+-----------+-----------+-------------+------------+------------+------------+-----------+------------+-----------+-----------+-----------+-----------+------------+-----------+-----------+-----------+-------------+-------------+-------------+-------------+--------------+--------------+-----------+-----------+-----------+-----------+------------+-----------+-----------+------------+------------+------------+------------+------------+------------+--------------+------------+-------------+------------+----------------+----------------+--------------+--------------+----------------+--------------+--------------+----------------+----------------+----------------+----------------+----------------+-----------------+-----------------+-----------------+----------------+-----------+----------+----------+----------+---------+--------+--------+--------+------+\n",
            "only showing top 4 rows\n",
            "\n"
          ],
          "name": "stdout"
        }
      ]
    },
    {
      "cell_type": "code",
      "metadata": {
        "colab": {
          "base_uri": "https://localhost:8080/"
        },
        "id": "irMGx3-CtNjI",
        "outputId": "500eace9-ddbf-4ce0-a41a-53b5e7878a86"
      },
      "source": [
        "#Register temporary table\n",
        "df.registerTempTable('sample')\n",
        "flow_duration_by_port = sqlContext.sql(\"\"\"\n",
        "                           SELECT Protocol,`Dst Port`, count(\"Tot Fwd Pkts\") as tot_fwd_packets\n",
        "                           FROM sample\n",
        "                           GROUP By `Dst Port`,Protocol\n",
        "                           ORDER BY tot_fwd_packets DESC\n",
        "                           LIMIT 25\n",
        "                           \"\"\")\n",
        "flow_duration_by_port.show()"
      ],
      "execution_count": null,
      "outputs": [
        {
          "output_type": "stream",
          "text": [
            "+--------+--------+---------------+\n",
            "|Protocol|Dst Port|tot_fwd_packets|\n",
            "+--------+--------+---------------+\n",
            "|       6|    8080|         281637|\n",
            "|      17|      53|         192896|\n",
            "|       6|    3389|         175693|\n",
            "|       6|      80|         110411|\n",
            "|       6|     443|          94825|\n",
            "|       6|     445|          41706|\n",
            "|       0|       0|          13382|\n",
            "|      17|    5355|           4578|\n",
            "|      17|    3389|           1754|\n",
            "|      17|     137|           1641|\n",
            "|      17|      67|            707|\n",
            "|      17|     123|            461|\n",
            "|      17|     138|            442|\n",
            "|       6|      22|            324|\n",
            "|       6|      23|            128|\n",
            "|      17|   40468|             60|\n",
            "|      17|    1900|             58|\n",
            "|       6|     139|             43|\n",
            "|       6|   50220|             41|\n",
            "|       6|   49992|             40|\n",
            "+--------+--------+---------------+\n",
            "only showing top 20 rows\n",
            "\n"
          ],
          "name": "stdout"
        }
      ]
    },
    {
      "cell_type": "code",
      "metadata": {
        "colab": {
          "base_uri": "https://localhost:8080/"
        },
        "id": "0n7i5M24d2J4",
        "outputId": "ea2c8b41-1e6d-4345-d708-85a2049ff5aa"
      },
      "source": [
        "#Register temporary table\n",
        "df.registerTempTable('sample')\n",
        "flow_duration_by_port = sqlContext.sql(\"\"\"\n",
        "                           SELECT `Dst Port`,count(\"Flow Duration\") as flow_duration\n",
        "                           FROM sample\n",
        "                           GROUP By `Dst Port`\n",
        "                           ORDER BY flow_duration DESC\n",
        "                           LIMIT 25\n",
        "                           \"\"\")\n",
        "flow_duration_by_port.show()"
      ],
      "execution_count": null,
      "outputs": [
        {
          "output_type": "stream",
          "text": [
            "+--------+-------------+\n",
            "|Dst Port|flow_duration|\n",
            "+--------+-------------+\n",
            "|    8080|       281637|\n",
            "|      53|       192903|\n",
            "|    3389|       177447|\n",
            "|      80|       110411|\n",
            "|     443|        94825|\n",
            "|     445|        41706|\n",
            "|       0|        13382|\n",
            "|    5355|         4579|\n",
            "|     137|         1641|\n",
            "|      67|          707|\n",
            "|     123|          461|\n",
            "|     138|          442|\n",
            "|      22|          324|\n",
            "|      23|          128|\n",
            "|   40468|           61|\n",
            "|    1900|           59|\n",
            "|     139|           43|\n",
            "|   50220|           41|\n",
            "|   49992|           40|\n",
            "|   49977|           40|\n",
            "+--------+-------------+\n",
            "only showing top 20 rows\n",
            "\n"
          ],
          "name": "stdout"
        }
      ]
    },
    {
      "cell_type": "code",
      "metadata": {
        "colab": {
          "base_uri": "https://localhost:8080/",
          "height": 729
        },
        "id": "a4nHqCGoepwR",
        "outputId": "8f5b42e5-3c9e-4bc9-acfa-b8dd53ae9780"
      },
      "source": [
        "import matplotlib.pyplot as plt\n",
        "import pandas as pd\n",
        "\n",
        "flow_duration_by_port_df = pd.DataFrame(flow_duration_by_port.toPandas())\n",
        "flow_duration_by_port_df.set_index(\"Dst Port\", drop=True,inplace=True)\n",
        "labels_fig = flow_duration_by_port_df.plot(kind='bar')\n",
        "\n",
        "plt.rcParams[\"figure.figsize\"] = (10, 8)\n",
        "plt.rcParams.update({'font.size': 10})\n",
        "plt.tight_layout()\n",
        "#display(labels_fig.figure)"
      ],
      "execution_count": null,
      "outputs": [
        {
          "output_type": "display_data",
          "data": {
            "image/png": "[encoded data removed]",
            "text/plain": [
              "<Figure size 720x720 with 1 Axes>"
            ]
          },
          "metadata": {
            "tags": [],
            "needs_background": "light"
          }
        }
      ]
    },
    {
      "cell_type": "code",
      "metadata": {
        "colab": {
          "base_uri": "https://localhost:8080/"
        },
        "id": "0Tchx-dkUvLp",
        "outputId": "6a702379-39e7-495d-ba5f-ee19ef10e9fe"
      },
      "source": [
        "\n",
        "\n",
        "#Register temporary table\n",
        "df.registerTempTable('sample')\n",
        "labels = sqlContext.sql(\"\"\"\n",
        "                           SELECT Label ,count(*) as freq\n",
        "                           FROM sample\n",
        "                           GROUP By Label\n",
        "                           \"\"\")\n",
        "labels.show()"
      ],
      "execution_count": null,
      "outputs": [
        {
          "output_type": "stream",
          "text": [
            "+------+-----+\n",
            "| Label| freq|\n",
            "+------+-----+\n",
            "|Benign| 9520|\n",
            "|   Bot|36680|\n",
            "+------+-----+\n",
            "\n"
          ],
          "name": "stdout"
        }
      ]
    },
    {
      "cell_type": "code",
      "metadata": {
        "colab": {
          "base_uri": "https://localhost:8080/",
          "height": 297
        },
        "id": "Bb--aQO2dYBx",
        "outputId": "afa4376f-2ef0-4860-94d6-e909ea957f97"
      },
      "source": [
        "import matplotlib.pyplot as plt\n",
        "import pandas as pd\n",
        "\n",
        "labels_df = pd.DataFrame(labels.toPandas())\n",
        "labels_df.set_index(\"Label\", drop=True,inplace=True)\n",
        "labels_fig = labels_df.plot(kind='barh')\n",
        "\n",
        "plt.rcParams[\"figure.figsize\"] = (7, 5)\n",
        "plt.rcParams.update({'font.size': 10})\n",
        "plt.tight_layout()\n",
        "#display(labels_fig.figure)"
      ],
      "execution_count": null,
      "outputs": [
        {
          "output_type": "display_data",
          "data": {
            "image/png": "[encoded data removed]",
            "text/plain": [
              "<Figure size 432x288 with 1 Axes>"
            ]
          },
          "metadata": {
            "tags": [],
            "needs_background": "light"
          }
        }
      ]
    },
    {
      "cell_type": "markdown",
      "metadata": {
        "id": "176lhl1XY4_n"
      },
      "source": [
        "# Analyze and interpret Big Data using Pyspark"
      ]
    },
    {
      "cell_type": "markdown",
      "metadata": {
        "id": "vj-P7Hv9Gdod"
      },
      "source": [
        "## Using pyspark"
      ]
    },
    {
      "cell_type": "code",
      "metadata": {
        "colab": {
          "base_uri": "https://localhost:8080/"
        },
        "id": "wnZu0F4gIA-2",
        "outputId": "2901b731-b2f9-4ce9-9e8e-dd37eba09223"
      },
      "source": [
        "# Let's have a look at some columns\n",
        "df.select(\"Label\").distinct().show(10)"
      ],
      "execution_count": null,
      "outputs": [
        {
          "output_type": "stream",
          "text": [
            "+------+\n",
            "| Label|\n",
            "+------+\n",
            "|Benign|\n",
            "|   Bot|\n",
            "+------+\n",
            "\n"
          ],
          "name": "stdout"
        }
      ]
    },
    {
      "cell_type": "code",
      "metadata": {
        "colab": {
          "base_uri": "https://localhost:8080/"
        },
        "id": "bK0P2wjWIQDe",
        "outputId": "91c09c4d-2def-45de-dbf0-bc222fb8928d"
      },
      "source": [
        "df.groupBy(\"Dst Port\").count().filter(\"count >5\").orderBy(\"count\").show(10)"
      ],
      "execution_count": null,
      "outputs": [
        {
          "output_type": "stream",
          "text": [
            "+--------+-----+\n",
            "|Dst Port|count|\n",
            "+--------+-----+\n",
            "|   53597|    6|\n",
            "|   53294|    6|\n",
            "|   55577|    6|\n",
            "|   58431|    6|\n",
            "|   53110|    6|\n",
            "|   53658|    6|\n",
            "|   56350|    6|\n",
            "|   53168|    6|\n",
            "|   57150|    6|\n",
            "|   61785|    6|\n",
            "+--------+-----+\n",
            "only showing top 10 rows\n",
            "\n"
          ],
          "name": "stdout"
        }
      ]
    },
    {
      "cell_type": "code",
      "metadata": {
        "colab": {
          "base_uri": "https://localhost:8080/"
        },
        "id": "mmK7O44LOFQA",
        "outputId": "1965e746-ba07-4467-ac47-72801bf5a7ed"
      },
      "source": [
        "df.groupBy(\"Protocol\").count().filter(\"count >5\").orderBy(\"count\").show(10)"
      ],
      "execution_count": null,
      "outputs": [
        {
          "output_type": "stream",
          "text": [
            "+--------+-----+\n",
            "|Protocol|count|\n",
            "+--------+-----+\n",
            "|       0|  403|\n",
            "|      17| 1706|\n",
            "|       6|44091|\n",
            "+--------+-----+\n",
            "\n"
          ],
          "name": "stdout"
        }
      ]
    },
    {
      "cell_type": "code",
      "metadata": {
        "colab": {
          "base_uri": "https://localhost:8080/"
        },
        "id": "U8JA902MO07e",
        "outputId": "515b1898-d683-45b1-8053-70511f4b0231"
      },
      "source": [
        "df.select(\"Protocol\").distinct().show()"
      ],
      "execution_count": null,
      "outputs": [
        {
          "output_type": "stream",
          "text": [
            "+--------+\n",
            "|Protocol|\n",
            "+--------+\n",
            "|       6|\n",
            "|      17|\n",
            "|       0|\n",
            "+--------+\n",
            "\n"
          ],
          "name": "stdout"
        }
      ]
    },
    {
      "cell_type": "code",
      "metadata": {
        "colab": {
          "base_uri": "https://localhost:8080/",
          "height": 390
        },
        "id": "XaxhEZADQ0Ph",
        "outputId": "5712f1de-5a9a-47bd-e503-349e668fe932"
      },
      "source": [
        "import matplotlib.pyplot as plt\n",
        "\n",
        "sec_df =  df.select(['Protocol', \n",
        "                       'Tot Fwd Pkts', \n",
        "                       'Tot Bwd Pkts']\n",
        "                     )\\\n",
        "                     .groupBy('Protocol')\\\n",
        "                     .mean()\\\n",
        "                     .toPandas()\n",
        "\n",
        "\n",
        "sec_df.plot(kind = 'bar', x='Protocol', y = sec_df.columns.tolist()[1:], \n",
        "                         figsize=(12, 6), ylabel = 'Total Packets', xlabel = 'Protocol')\n",
        "plt.show()"
      ],
      "execution_count": null,
      "outputs": [
        {
          "output_type": "display_data",
          "data": {
            "image/png": "[encoded data removed]",
            "text/plain": [
              "<Figure size 864x432 with 1 Axes>"
            ]
          },
          "metadata": {
            "tags": [],
            "needs_background": "light"
          }
        }
      ]
    },
    {
      "cell_type": "code",
      "metadata": {
        "colab": {
          "base_uri": "https://localhost:8080/"
        },
        "id": "rpghfwukcubK",
        "outputId": "4cad8626-1428-4261-c793-b6bf02c0b7da"
      },
      "source": [
        "import pyspark.sql.functions as f\n",
        "\n",
        "\n",
        "#Extracting the day of month \n",
        "df1 = df.withColumn('Timestamp',f.dayofmonth(f.to_timestamp('Timestamp', 'dd/MM/yyyy')))\n",
        "df1.show(10)"
      ],
      "execution_count": null,
      "outputs": [
        {
          "output_type": "stream",
          "text": [
            "+--------+--------+---------+-------------+------------+------------+---------------+---------------+---------------+---------------+----------------+---------------+---------------+---------------+----------------+---------------+-----------+-----------+-------------+------------+------------+------------+-----------+------------+-----------+-----------+-----------+-----------+------------+-----------+-----------+-----------+-------------+-------------+-------------+-------------+--------------+--------------+-----------+-----------+-----------+-----------+------------+-----------+-----------+------------+------------+------------+------------+------------+------------+--------------+------------+-------------+------------+----------------+----------------+--------------+--------------+----------------+--------------+--------------+----------------+----------------+----------------+----------------+----------------+-----------------+-----------------+-----------------+----------------+-----------+----------+----------+----------+---------+--------+--------+--------+------+\n",
            "|Dst Port|Protocol|Timestamp|Flow Duration|Tot Fwd Pkts|Tot Bwd Pkts|TotLen Fwd Pkts|TotLen Bwd Pkts|Fwd Pkt Len Max|Fwd Pkt Len Min|Fwd Pkt Len Mean|Fwd Pkt Len Std|Bwd Pkt Len Max|Bwd Pkt Len Min|Bwd Pkt Len Mean|Bwd Pkt Len Std|Flow Byts/s|Flow Pkts/s|Flow IAT Mean|Flow IAT Std|Flow IAT Max|Flow IAT Min|Fwd IAT Tot|Fwd IAT Mean|Fwd IAT Std|Fwd IAT Max|Fwd IAT Min|Bwd IAT Tot|Bwd IAT Mean|Bwd IAT Std|Bwd IAT Max|Bwd IAT Min|Fwd PSH Flags|Bwd PSH Flags|Fwd URG Flags|Bwd URG Flags|Fwd Header Len|Bwd Header Len| Fwd Pkts/s| Bwd Pkts/s|Pkt Len Min|Pkt Len Max|Pkt Len Mean|Pkt Len Std|Pkt Len Var|FIN Flag Cnt|SYN Flag Cnt|RST Flag Cnt|PSH Flag Cnt|ACK Flag Cnt|URG Flag Cnt|CWE Flag Count|ECE Flag Cnt|Down/Up Ratio|Pkt Size Avg|Fwd Seg Size Avg|Bwd Seg Size Avg|Fwd Byts/b Avg|Fwd Pkts/b Avg|Fwd Blk Rate Avg|Bwd Byts/b Avg|Bwd Pkts/b Avg|Bwd Blk Rate Avg|Subflow Fwd Pkts|Subflow Fwd Byts|Subflow Bwd Pkts|Subflow Bwd Byts|Init Fwd Win Byts|Init Bwd Win Byts|Fwd Act Data Pkts|Fwd Seg Size Min|Active Mean|Active Std|Active Max|Active Min|Idle Mean|Idle Std|Idle Max|Idle Min| Label|\n",
            "+--------+--------+---------+-------------+------------+------------+---------------+---------------+---------------+---------------+----------------+---------------+---------------+---------------+----------------+---------------+-----------+-----------+-------------+------------+------------+------------+-----------+------------+-----------+-----------+-----------+-----------+------------+-----------+-----------+-----------+-------------+-------------+-------------+-------------+--------------+--------------+-----------+-----------+-----------+-----------+------------+-----------+-----------+------------+------------+------------+------------+------------+------------+--------------+------------+-------------+------------+----------------+----------------+--------------+--------------+----------------+--------------+--------------+----------------+----------------+----------------+----------------+----------------+-----------------+-----------------+-----------------+----------------+-----------+----------+----------+----------+---------+--------+--------+--------+------+\n",
            "|     443|       6|        2|       141385|           9|           7|            553|           3773|            202|              0|     61.44444444|    87.53443767|           1460|              0|           539.0|    655.4329358|30597.30523|113.1661775|  9425.666667| 19069.11685|       73403|           1|     141385|   17673.125|23965.32327|      73403|         22|      51417|      8569.5|13036.89082|      31525|          1|            0|            0|            0|            0|           192|           152|63.65597482|49.51020264|          0|       1460| 254.4705882|474.7129551|225352.3897|           0|           0|           1|           1|           0|           0|             0|           1|            0|     270.375|     61.44444444|           539.0|             0|             0|               0|             0|             0|               0|               9|             553|               7|            3773|             8192|              119|                4|              20|        0.0|       0.0|         0|         0|      0.0|     0.0|       0|       0|Benign|\n",
            "|   49684|       6|        2|          281|           2|           1|             38|              0|             38|              0|            19.0|    26.87005769|              0|              0|             0.0|            0.0|135231.3167|10676.15658|        140.5|  174.655375|         264|          17|        281|       281.0|        0.0|        281|        281|          0|         0.0|        0.0|          0|          0|            1|            0|            0|            0|            40|            20|7117.437722|3558.718861|          0|         38|        19.0|21.93931023|481.3333333|           0|           1|           0|           0|           1|           0|             0|           0|            0| 25.33333333|            19.0|             0.0|             0|             0|               0|             0|             0|               0|               2|              38|               1|               0|              123|                0|                0|              20|        0.0|       0.0|         0|         0|      0.0|     0.0|       0|       0|Benign|\n",
            "|     443|       6|        2|       279824|          11|          15|           1086|          10527|            385|              0|     98.72727273|    129.3924966|           1460|              0|           701.8|    636.3141856| 41501.0864|92.91554692|     11192.96| 24379.44834|      112589|           1|     279728|     27972.8|36167.74032|     112589|         94|     258924| 18494.57143|36356.50372|     133669|          1|            0|            0|            0|            0|           232|           312|39.31042369|53.60512322|          0|       1460| 430.1111111| 566.234209|320621.1795|           0|           0|           1|           1|           0|           0|             0|           1|            1| 446.6538462|     98.72727273|           701.8|             0|             0|               0|             0|             0|               0|              11|            1086|              15|           10527|             8192|             1047|                5|              20|        0.0|       0.0|         0|         0|      0.0|     0.0|       0|       0|Benign|\n",
            "|     443|       6|        2|          132|           2|           0|              0|              0|              0|              0|             0.0|            0.0|              0|              0|             0.0|            0.0|        0.0|15151.51515|        132.0|         0.0|         132|         132|        132|       132.0|        0.0|        132|        132|          0|         0.0|        0.0|          0|          0|            0|            0|            0|            0|            40|             0|15151.51515|        0.0|          0|          0|         0.0|        0.0|        0.0|           0|           0|           0|           0|           1|           0|             0|           0|            0|         0.0|             0.0|             0.0|             0|             0|               0|             0|             0|               0|               2|               0|               0|               0|              256|               -1|                0|              20|        0.0|       0.0|         0|         0|      0.0|     0.0|       0|       0|Benign|\n",
            "|     443|       6|        2|       274016|           9|          13|           1285|           6141|            517|              0|     142.7777778|    183.8877224|           1460|              0|     472.3846154|    611.1804887|27100.60726|80.28728249|  13048.38095| 26311.62703|      114077|           1|     273946|    34243.25|37996.56546|     114077|        201|     252994| 21082.83333|39075.73819|     135611|          1|            0|            0|            0|            0|           192|           272|32.84479738|47.44248511|          0|       1460| 322.8695652|497.2547641|247262.3004|           0|           0|           1|           1|           0|           0|             0|           1|            1| 337.5454545|     142.7777778|     472.3846154|             0|             0|               0|             0|             0|               0|               9|            1285|              13|            6141|             8192|             1047|                5|              20|        0.0|       0.0|         0|         0|      0.0|     0.0|       0|       0|Benign|\n",
            "|     443|       6|        2|          250|           2|           0|              0|              0|              0|              0|             0.0|            0.0|              0|              0|             0.0|            0.0|        0.0|     8000.0|        250.0|         0.0|         250|         250|        250|       250.0|        0.0|        250|        250|          0|         0.0|        0.0|          0|          0|            0|            0|            0|            0|            40|             0|     8000.0|        0.0|          0|          0|         0.0|        0.0|        0.0|           0|           0|           0|           0|           1|           0|             0|           0|            0|         0.0|             0.0|             0.0|             0|             0|               0|             0|             0|               0|               2|               0|               0|               0|              251|               -1|                0|              20|        0.0|       0.0|         0|         0|      0.0|     0.0|       0|       0|Benign|\n",
            "|      80|       6|        2|      5964033|           3|           1|              0|              0|              0|              0|             0.0|            0.0|              0|              0|             0.0|            0.0|        0.0|  0.6706871|    1988011.0|  3425209.65|     5943084|          19|    5964033|   2982016.5|4187581.818|    5943084|      20949|          0|         0.0|        0.0|          0|          0|            0|            0|            0|            0|            72|            32|0.503015325|0.167671775|          0|          0|         0.0|        0.0|        0.0|           0|           0|           1|           1|           0|           0|             0|           1|            0|         0.0|             0.0|             0.0|             0|             0|               0|             0|             0|               0|               3|               0|               1|               0|             8192|            29200|                0|              20|        0.0|       0.0|         0|         0|      0.0|     0.0|       0|       0|Benign|\n",
            "|   49690|       6|        2|          144|           2|           0|              0|              0|              0|              0|             0.0|            0.0|              0|              0|             0.0|            0.0|        0.0|13888.88889|        144.0|         0.0|         144|         144|        144|       144.0|        0.0|        144|        144|          0|         0.0|        0.0|          0|          0|            0|            0|            0|            0|            40|             0|13888.88889|        0.0|          0|          0|         0.0|        0.0|        0.0|           0|           0|           0|           0|           1|           0|             0|           0|            0|         0.0|             0.0|             0.0|             0|             0|               0|             0|             0|               0|               2|               0|               0|               0|              913|               -1|                0|              20|        0.0|       0.0|         0|         0|      0.0|     0.0|       0|       0|Benign|\n",
            "|     443|       6|        2|        90828|           8|           8|           1748|           3898|           1078|              0|           218.5|    363.7133879|           1460|              0|          487.25|    639.5062269|62161.44801|176.1571322|       6055.2| 9948.657879|       23343|           1|      69438| 9919.714286|11893.19116|      23365|         48|      69553| 9936.142857|12312.69524|      23723|          1|            0|            0|            0|            0|           172|           172|88.07856608|88.07856608|          0|       1460| 332.1176471|512.0358731|262180.7353|           0|           0|           1|           1|           0|           0|             0|           1|            1|     352.875|           218.5|          487.25|             0|             0|               0|             0|             0|               0|               8|            1748|               8|            3898|             8192|             8192|                5|              20|        0.0|       0.0|         0|         0|      0.0|     0.0|       0|       0|Benign|\n",
            "|     443|       6|        2|          152|           3|           0|             31|              0|             31|              0|     10.33333333|    17.89785834|              0|              0|             0.0|            0.0|203947.3684|19736.84211|         76.0| 63.63961031|         121|          31|        152|        76.0|63.63961031|        121|         31|          0|         0.0|        0.0|          0|          0|            0|            0|            0|            0|            60|             0|19736.84211|        0.0|          0|         31|        7.75|       15.5|     240.25|           0|           0|           0|           0|           1|           0|             0|           0|            0| 10.33333333|     10.33333333|             0.0|             0|             0|               0|             0|             0|               0|               3|              31|               0|               0|              257|               -1|                1|              20|        0.0|       0.0|         0|         0|      0.0|     0.0|       0|       0|Benign|\n",
            "+--------+--------+---------+-------------+------------+------------+---------------+---------------+---------------+---------------+----------------+---------------+---------------+---------------+----------------+---------------+-----------+-----------+-------------+------------+------------+------------+-----------+------------+-----------+-----------+-----------+-----------+------------+-----------+-----------+-----------+-------------+-------------+-------------+-------------+--------------+--------------+-----------+-----------+-----------+-----------+------------+-----------+-----------+------------+------------+------------+------------+------------+------------+--------------+------------+-------------+------------+----------------+----------------+--------------+--------------+----------------+--------------+--------------+----------------+----------------+----------------+----------------+----------------+-----------------+-----------------+-----------------+----------------+-----------+----------+----------+----------+---------+--------+--------+--------+------+\n",
            "only showing top 10 rows\n",
            "\n"
          ],
          "name": "stdout"
        }
      ]
    },
    {
      "cell_type": "code",
      "metadata": {
        "colab": {
          "base_uri": "https://localhost:8080/",
          "height": 781
        },
        "id": "3ABH5SpyRmM2",
        "outputId": "800cd2d5-05c2-4c8e-bb2e-bd19c1f59c3c"
      },
      "source": [
        "from pyspark.sql.functions import col\n",
        "\n",
        "tech = df.where(col('Protocol') == 0)\\\n",
        "           .select('Timestamp','Flow Duration', 'Tot Fwd Pkts', 'Tot Bwd Pkts')\n",
        "\n",
        "fig, axes = plt.subplots(nrows=2, ncols=1, figsize =(50, 20))\n",
        "\n",
        "#tech.toPandas().plot(kind = 'line', x = 'Timestamp', y='Flow Duration', \n",
        "                     #xlabel = 'Date Range', ylabel = 'Flow Duration', \n",
        "                     #ax = axes[0], color = 'mediumspringgreen')\n",
        "\n",
        "tech.toPandas().plot(kind = 'line', x = 'Timestamp', y='Tot Fwd Pkts',\n",
        "                     xlabel = 'Date Range', ylabel = 'Total Forward Packets',\n",
        "                     ax = axes[0], color = 'tomato')\n",
        "\n",
        "tech.toPandas().plot(kind = 'line', x = 'Timestamp', y='Tot Bwd Pkts', \n",
        "                     xlabel = 'Date Range', ylabel = 'Total Backwrd Packets', \n",
        "                     ax = axes[1], color = 'orange')\n",
        "\n",
        "plt.show()"
      ],
      "execution_count": null,
      "outputs": [
        {
          "output_type": "display_data",
          "data": {
            "image/png": "[encoded data removed]",
            "text/plain": [
              "<Figure size 3600x1440 with 2 Axes>"
            ]
          },
          "metadata": {
            "tags": [],
            "needs_background": "light"
          }
        }
      ]
    },
    {
      "cell_type": "markdown",
      "metadata": {
        "id": "W_T9lKxikyqU"
      },
      "source": [
        "## Descriptive Analytics"
      ]
    },
    {
      "cell_type": "code",
      "metadata": {
        "colab": {
          "base_uri": "https://localhost:8080/"
        },
        "id": "a5MHDlRonHVn",
        "outputId": "feda03e1-ebc4-4875-f1d8-315aa9502143"
      },
      "source": [
        "import pyspark.sql.functions as f\n",
        "\n",
        "\n",
        "#Extracting the day of month \n",
        "df = df.withColumn('Timestamp',f.dayofmonth(f.to_timestamp('Timestamp', 'dd/MM/yyyy')))\n",
        "df.show(10)\n",
        "\n",
        "num_cols=df.drop('Label').columns"
      ],
      "execution_count": 7,
      "outputs": [
        {
          "output_type": "stream",
          "text": [
            "+--------+--------+---------+-------------+------------+------------+---------------+---------------+---------------+---------------+----------------+---------------+---------------+---------------+----------------+---------------+-----------+-----------+-------------+------------+------------+------------+-----------+------------+-----------+-----------+-----------+-----------+------------+-----------+-----------+-----------+-------------+-------------+-------------+-------------+--------------+--------------+-----------+-----------+-----------+-----------+------------+-----------+-----------+------------+------------+------------+------------+------------+------------+--------------+------------+-------------+------------+----------------+----------------+--------------+--------------+----------------+--------------+--------------+----------------+----------------+----------------+----------------+----------------+-----------------+-----------------+-----------------+----------------+-----------+----------+----------+----------+---------+--------+--------+--------+------+\n",
            "|Dst Port|Protocol|Timestamp|Flow Duration|Tot Fwd Pkts|Tot Bwd Pkts|TotLen Fwd Pkts|TotLen Bwd Pkts|Fwd Pkt Len Max|Fwd Pkt Len Min|Fwd Pkt Len Mean|Fwd Pkt Len Std|Bwd Pkt Len Max|Bwd Pkt Len Min|Bwd Pkt Len Mean|Bwd Pkt Len Std|Flow Byts/s|Flow Pkts/s|Flow IAT Mean|Flow IAT Std|Flow IAT Max|Flow IAT Min|Fwd IAT Tot|Fwd IAT Mean|Fwd IAT Std|Fwd IAT Max|Fwd IAT Min|Bwd IAT Tot|Bwd IAT Mean|Bwd IAT Std|Bwd IAT Max|Bwd IAT Min|Fwd PSH Flags|Bwd PSH Flags|Fwd URG Flags|Bwd URG Flags|Fwd Header Len|Bwd Header Len| Fwd Pkts/s| Bwd Pkts/s|Pkt Len Min|Pkt Len Max|Pkt Len Mean|Pkt Len Std|Pkt Len Var|FIN Flag Cnt|SYN Flag Cnt|RST Flag Cnt|PSH Flag Cnt|ACK Flag Cnt|URG Flag Cnt|CWE Flag Count|ECE Flag Cnt|Down/Up Ratio|Pkt Size Avg|Fwd Seg Size Avg|Bwd Seg Size Avg|Fwd Byts/b Avg|Fwd Pkts/b Avg|Fwd Blk Rate Avg|Bwd Byts/b Avg|Bwd Pkts/b Avg|Bwd Blk Rate Avg|Subflow Fwd Pkts|Subflow Fwd Byts|Subflow Bwd Pkts|Subflow Bwd Byts|Init Fwd Win Byts|Init Bwd Win Byts|Fwd Act Data Pkts|Fwd Seg Size Min|Active Mean|Active Std|Active Max|Active Min|Idle Mean|Idle Std|Idle Max|Idle Min| Label|\n",
            "+--------+--------+---------+-------------+------------+------------+---------------+---------------+---------------+---------------+----------------+---------------+---------------+---------------+----------------+---------------+-----------+-----------+-------------+------------+------------+------------+-----------+------------+-----------+-----------+-----------+-----------+------------+-----------+-----------+-----------+-------------+-------------+-------------+-------------+--------------+--------------+-----------+-----------+-----------+-----------+------------+-----------+-----------+------------+------------+------------+------------+------------+------------+--------------+------------+-------------+------------+----------------+----------------+--------------+--------------+----------------+--------------+--------------+----------------+----------------+----------------+----------------+----------------+-----------------+-----------------+-----------------+----------------+-----------+----------+----------+----------+---------+--------+--------+--------+------+\n",
            "|     443|       6|        2|       141385|           9|           7|            553|           3773|            202|              0|     61.44444444|    87.53443767|           1460|              0|           539.0|    655.4329358|30597.30523|113.1661775|  9425.666667| 19069.11685|       73403|           1|     141385|   17673.125|23965.32327|      73403|         22|      51417|      8569.5|13036.89082|      31525|          1|            0|            0|            0|            0|           192|           152|63.65597482|49.51020264|          0|       1460| 254.4705882|474.7129551|225352.3897|           0|           0|           1|           1|           0|           0|             0|           1|            0|     270.375|     61.44444444|           539.0|             0|             0|               0|             0|             0|               0|               9|             553|               7|            3773|             8192|              119|                4|              20|        0.0|       0.0|         0|         0|      0.0|     0.0|       0|       0|Benign|\n",
            "|   49684|       6|        2|          281|           2|           1|             38|              0|             38|              0|            19.0|    26.87005769|              0|              0|             0.0|            0.0|135231.3167|10676.15658|        140.5|  174.655375|         264|          17|        281|       281.0|        0.0|        281|        281|          0|         0.0|        0.0|          0|          0|            1|            0|            0|            0|            40|            20|7117.437722|3558.718861|          0|         38|        19.0|21.93931023|481.3333333|           0|           1|           0|           0|           1|           0|             0|           0|            0| 25.33333333|            19.0|             0.0|             0|             0|               0|             0|             0|               0|               2|              38|               1|               0|              123|                0|                0|              20|        0.0|       0.0|         0|         0|      0.0|     0.0|       0|       0|Benign|\n",
            "|     443|       6|        2|       279824|          11|          15|           1086|          10527|            385|              0|     98.72727273|    129.3924966|           1460|              0|           701.8|    636.3141856| 41501.0864|92.91554692|     11192.96| 24379.44834|      112589|           1|     279728|     27972.8|36167.74032|     112589|         94|     258924| 18494.57143|36356.50372|     133669|          1|            0|            0|            0|            0|           232|           312|39.31042369|53.60512322|          0|       1460| 430.1111111| 566.234209|320621.1795|           0|           0|           1|           1|           0|           0|             0|           1|            1| 446.6538462|     98.72727273|           701.8|             0|             0|               0|             0|             0|               0|              11|            1086|              15|           10527|             8192|             1047|                5|              20|        0.0|       0.0|         0|         0|      0.0|     0.0|       0|       0|Benign|\n",
            "|     443|       6|        2|          132|           2|           0|              0|              0|              0|              0|             0.0|            0.0|              0|              0|             0.0|            0.0|        0.0|15151.51515|        132.0|         0.0|         132|         132|        132|       132.0|        0.0|        132|        132|          0|         0.0|        0.0|          0|          0|            0|            0|            0|            0|            40|             0|15151.51515|        0.0|          0|          0|         0.0|        0.0|        0.0|           0|           0|           0|           0|           1|           0|             0|           0|            0|         0.0|             0.0|             0.0|             0|             0|               0|             0|             0|               0|               2|               0|               0|               0|              256|               -1|                0|              20|        0.0|       0.0|         0|         0|      0.0|     0.0|       0|       0|Benign|\n",
            "|     443|       6|        2|       274016|           9|          13|           1285|           6141|            517|              0|     142.7777778|    183.8877224|           1460|              0|     472.3846154|    611.1804887|27100.60726|80.28728249|  13048.38095| 26311.62703|      114077|           1|     273946|    34243.25|37996.56546|     114077|        201|     252994| 21082.83333|39075.73819|     135611|          1|            0|            0|            0|            0|           192|           272|32.84479738|47.44248511|          0|       1460| 322.8695652|497.2547641|247262.3004|           0|           0|           1|           1|           0|           0|             0|           1|            1| 337.5454545|     142.7777778|     472.3846154|             0|             0|               0|             0|             0|               0|               9|            1285|              13|            6141|             8192|             1047|                5|              20|        0.0|       0.0|         0|         0|      0.0|     0.0|       0|       0|Benign|\n",
            "|     443|       6|        2|          250|           2|           0|              0|              0|              0|              0|             0.0|            0.0|              0|              0|             0.0|            0.0|        0.0|     8000.0|        250.0|         0.0|         250|         250|        250|       250.0|        0.0|        250|        250|          0|         0.0|        0.0|          0|          0|            0|            0|            0|            0|            40|             0|     8000.0|        0.0|          0|          0|         0.0|        0.0|        0.0|           0|           0|           0|           0|           1|           0|             0|           0|            0|         0.0|             0.0|             0.0|             0|             0|               0|             0|             0|               0|               2|               0|               0|               0|              251|               -1|                0|              20|        0.0|       0.0|         0|         0|      0.0|     0.0|       0|       0|Benign|\n",
            "|      80|       6|        2|      5964033|           3|           1|              0|              0|              0|              0|             0.0|            0.0|              0|              0|             0.0|            0.0|        0.0|  0.6706871|    1988011.0|  3425209.65|     5943084|          19|    5964033|   2982016.5|4187581.818|    5943084|      20949|          0|         0.0|        0.0|          0|          0|            0|            0|            0|            0|            72|            32|0.503015325|0.167671775|          0|          0|         0.0|        0.0|        0.0|           0|           0|           1|           1|           0|           0|             0|           1|            0|         0.0|             0.0|             0.0|             0|             0|               0|             0|             0|               0|               3|               0|               1|               0|             8192|            29200|                0|              20|        0.0|       0.0|         0|         0|      0.0|     0.0|       0|       0|Benign|\n",
            "|   49690|       6|        2|          144|           2|           0|              0|              0|              0|              0|             0.0|            0.0|              0|              0|             0.0|            0.0|        0.0|13888.88889|        144.0|         0.0|         144|         144|        144|       144.0|        0.0|        144|        144|          0|         0.0|        0.0|          0|          0|            0|            0|            0|            0|            40|             0|13888.88889|        0.0|          0|          0|         0.0|        0.0|        0.0|           0|           0|           0|           0|           1|           0|             0|           0|            0|         0.0|             0.0|             0.0|             0|             0|               0|             0|             0|               0|               2|               0|               0|               0|              913|               -1|                0|              20|        0.0|       0.0|         0|         0|      0.0|     0.0|       0|       0|Benign|\n",
            "|     443|       6|        2|        90828|           8|           8|           1748|           3898|           1078|              0|           218.5|    363.7133879|           1460|              0|          487.25|    639.5062269|62161.44801|176.1571322|       6055.2| 9948.657879|       23343|           1|      69438| 9919.714286|11893.19116|      23365|         48|      69553| 9936.142857|12312.69524|      23723|          1|            0|            0|            0|            0|           172|           172|88.07856608|88.07856608|          0|       1460| 332.1176471|512.0358731|262180.7353|           0|           0|           1|           1|           0|           0|             0|           1|            1|     352.875|           218.5|          487.25|             0|             0|               0|             0|             0|               0|               8|            1748|               8|            3898|             8192|             8192|                5|              20|        0.0|       0.0|         0|         0|      0.0|     0.0|       0|       0|Benign|\n",
            "|     443|       6|        2|          152|           3|           0|             31|              0|             31|              0|     10.33333333|    17.89785834|              0|              0|             0.0|            0.0|203947.3684|19736.84211|         76.0| 63.63961031|         121|          31|        152|        76.0|63.63961031|        121|         31|          0|         0.0|        0.0|          0|          0|            0|            0|            0|            0|            60|             0|19736.84211|        0.0|          0|         31|        7.75|       15.5|     240.25|           0|           0|           0|           0|           1|           0|             0|           0|            0| 10.33333333|     10.33333333|             0.0|             0|             0|               0|             0|             0|               0|               3|              31|               0|               0|              257|               -1|                1|              20|        0.0|       0.0|         0|         0|      0.0|     0.0|       0|       0|Benign|\n",
            "+--------+--------+---------+-------------+------------+------------+---------------+---------------+---------------+---------------+----------------+---------------+---------------+---------------+----------------+---------------+-----------+-----------+-------------+------------+------------+------------+-----------+------------+-----------+-----------+-----------+-----------+------------+-----------+-----------+-----------+-------------+-------------+-------------+-------------+--------------+--------------+-----------+-----------+-----------+-----------+------------+-----------+-----------+------------+------------+------------+------------+------------+------------+--------------+------------+-------------+------------+----------------+----------------+--------------+--------------+----------------+--------------+--------------+----------------+----------------+----------------+----------------+----------------+-----------------+-----------------+-----------------+----------------+-----------+----------+----------+----------+---------+--------+--------+--------+------+\n",
            "only showing top 10 rows\n",
            "\n"
          ],
          "name": "stdout"
        }
      ]
    },
    {
      "cell_type": "code",
      "metadata": {
        "colab": {
          "base_uri": "https://localhost:8080/"
        },
        "id": "ffV9thkykyQg",
        "outputId": "e7080305-051e-4f41-ff9a-99e00584f40b"
      },
      "source": [
        "df.describe().show()"
      ],
      "execution_count": null,
      "outputs": [
        {
          "output_type": "stream",
          "text": [
            "+-------+------------------+----------------+---------+--------------------+-----------------+------------------+------------------+------------------+------------------+------------------+------------------+-----------------+------------------+------------------+------------------+------------------+-----------+-----------+--------------------+------------------+-------------------+--------------------+--------------------+-------------------+------------------+------------------+--------------------+--------------------+-----------------+------------------+-----------------+------------------+--------------------+-------------+-------------+-------------+------------------+------------------+------------------+------------------+------------------+------------------+------------------+------------------+-----------------+--------------------+--------------------+-------------------+------------------+-------------------+--------------------+--------------+-------------------+------------------+------------------+------------------+------------------+--------------+--------------+--------------------+--------------+--------------+----------------+----------------+-----------------+------------------+-----------------+------------------+------------------+------------------+------------------+------------------+------------------+------------------+------------------+--------------------+------------------+--------------------+--------------------+-------+\n",
            "|summary|          Dst Port|        Protocol|Timestamp|       Flow Duration|     Tot Fwd Pkts|      Tot Bwd Pkts|   TotLen Fwd Pkts|   TotLen Bwd Pkts|   Fwd Pkt Len Max|   Fwd Pkt Len Min|  Fwd Pkt Len Mean|  Fwd Pkt Len Std|   Bwd Pkt Len Max|   Bwd Pkt Len Min|  Bwd Pkt Len Mean|   Bwd Pkt Len Std|Flow Byts/s|Flow Pkts/s|       Flow IAT Mean|      Flow IAT Std|       Flow IAT Max|        Flow IAT Min|         Fwd IAT Tot|       Fwd IAT Mean|       Fwd IAT Std|       Fwd IAT Max|         Fwd IAT Min|         Bwd IAT Tot|     Bwd IAT Mean|       Bwd IAT Std|      Bwd IAT Max|       Bwd IAT Min|       Fwd PSH Flags|Bwd PSH Flags|Fwd URG Flags|Bwd URG Flags|    Fwd Header Len|    Bwd Header Len|        Fwd Pkts/s|        Bwd Pkts/s|       Pkt Len Min|       Pkt Len Max|      Pkt Len Mean|       Pkt Len Std|      Pkt Len Var|        FIN Flag Cnt|        SYN Flag Cnt|       RST Flag Cnt|      PSH Flag Cnt|       ACK Flag Cnt|        URG Flag Cnt|CWE Flag Count|       ECE Flag Cnt|     Down/Up Ratio|      Pkt Size Avg|  Fwd Seg Size Avg|  Bwd Seg Size Avg|Fwd Byts/b Avg|Fwd Pkts/b Avg|    Fwd Blk Rate Avg|Bwd Byts/b Avg|Bwd Pkts/b Avg|Bwd Blk Rate Avg|Subflow Fwd Pkts| Subflow Fwd Byts|  Subflow Bwd Pkts| Subflow Bwd Byts| Init Fwd Win Byts| Init Bwd Win Byts| Fwd Act Data Pkts|  Fwd Seg Size Min|       Active Mean|        Active Std|        Active Max|        Active Min|           Idle Mean|          Idle Std|            Idle Max|            Idle Min|  Label|\n",
            "+-------+------------------+----------------+---------+--------------------+-----------------+------------------+------------------+------------------+------------------+------------------+------------------+-----------------+------------------+------------------+------------------+------------------+-----------+-----------+--------------------+------------------+-------------------+--------------------+--------------------+-------------------+------------------+------------------+--------------------+--------------------+-----------------+------------------+-----------------+------------------+--------------------+-------------+-------------+-------------+------------------+------------------+------------------+------------------+------------------+------------------+------------------+------------------+-----------------+--------------------+--------------------+-------------------+------------------+-------------------+--------------------+--------------+-------------------+------------------+------------------+------------------+------------------+--------------+--------------+--------------------+--------------+--------------+----------------+----------------+-----------------+------------------+-----------------+------------------+------------------+------------------+------------------+------------------+------------------+------------------+------------------+--------------------+------------------+--------------------+--------------------+-------+\n",
            "|  count|           1048571|         1048571|  1048571|             1048571|          1048571|           1048571|           1048571|           1048571|           1048571|           1048571|           1048571|          1048571|           1048571|           1048571|           1048571|           1048571|    1048571|    1048571|             1048571|           1048571|            1048571|             1048571|             1048571|            1048571|           1048571|           1048571|             1048571|             1048571|          1048571|           1048571|          1048571|           1048571|             1048571|      1048571|      1048571|      1048571|           1048571|           1048571|           1048571|           1048571|           1048571|           1048571|           1048571|           1048571|          1048571|             1048571|             1048571|            1048571|           1048571|            1048571|             1048571|       1048571|            1048571|           1048571|           1048571|           1048571|           1048571|       1048571|       1048571|             1048571|       1048571|       1048571|         1048571|         1048571|          1048571|           1048571|          1048571|           1048571|           1048571|           1048571|           1048571|           1048571|           1048571|           1048571|           1048571|             1048571|           1048571|             1048571|             1048571|1048571|\n",
            "|   mean|  8423.45777729882|8.04983448903317|      2.0|1.1514251150374176E7|5.887294231864128| 6.983196178418057| 392.0840963558977|         5271.2937|210.43123927707327| 8.249146695836524| 54.61638686022045|77.96060636213737|347.12146530850083| 19.41816815456464|102.79661839694465|125.71088405359566|        NaN|   Infinity|   4259847.985001246|  707733.292808309|       6325765.1475|        3939945.1642|       11242068.6317|  4497224.179331126| 767646.0398821044|      6150010.3277|        4019533.2369|        6282803.2694|535167.4042085772| 635149.8768015295|     1914006.2676|       127675.0078|0.030439521978006256|          0.0|          0.0|          0.0|123.75055575635794|144.53610103655356|17361.599092274544| 2415.061178624152| 8.104257127080569|380.38993163076225| 74.11418540529338|115.04940298886848|35944.02701832312|0.003693598239890289|0.030439521978006256| 0.2644112797321307|0.4571278435127426|0.33451144462320626|0.030359412953438535|           0.0|0.26441223341099457|0.4795888881153494|  83.7949593912488| 54.61638686022045|102.79661839694751|           0.0|           0.0|                 0.0|           0.0|           0.0|             0.0| 5.8872923245064|392.0840973095766| 6.983196178418057|5271.119234653638| 6925.826416141587|11235.889735649756|2.0442344867443407|17.454028387205064|122958.32251877077| 61309.95421440318|       190523.7819|        83054.7736|  4781215.5897157295|106422.82846398672|        4863795.8906|        4677034.4049|    0.0|\n",
            "| stddev|15161.778420022685|4.43261931612816|      0.0|  3.01211820604682E7|89.03333453313336|212.95836075135338|2159.7832848318176|308877.42086014006|266.94964185029943|20.949693101757436|57.628418046612374|96.93328273881713|503.72843244454657|45.463718418997374|166.01309537907719|194.86507394766127|        NaN|        NaN|1.6775385009964593E7|2973328.8882354912|1.896532206156221E7|1.6781752283714686E7|3.0004992954779577E7|1.684781228676854E7|3374040.9998289854|1.88277401163129E7|1.6854808502105795E7|2.3490156371746108E7|2603414.444233584|2722336.5956013524|8401710.916707674|2047744.1357151615| 0.17179343883183465|          0.0|          0.0|          0.0| 3901.935534362761| 4241.635914975965|  162131.450154753|38386.703037461426|19.242482814354492|495.70203551049985|107.74667261904573| 150.6906883254145|74989.97689768349| 0.06066266629016359| 0.17179343883183465|0.44101943309939723|0.4981588249395881| 0.4718196163167965| 0.17157431938585155|           0.0|0.44101994254546034|0.8294621043813718|111.84565836130919|57.628418046612374|166.01309537909745|           0.0|           0.0|                 0.0|           0.0|           0.0|             0.0|89.0333346378339|2159.783284658908|212.95836075135338|  308766.65208964|12733.964169996216|23668.463991296205|13.924658180042124| 5.179545513299477|2083102.8141632238|1261696.4052443388|2761460.7716766885|1759834.9617714342|1.7413105823007245E7|1462608.2649954797|1.7568110117509093E7|1.7333062658110764E7|    NaN|\n",
            "|    min|                 0|               0|        2|                   0|                1|                 0|                 0|                 0|                 0|                 0|               0.0|              0.0|                 0|                 0|               0.0|               0.0|        0.0|0.016669395|                 0.0|               0.0|                  0|                   0|                   0|                0.0|               0.0|                 0|                   0|                   0|              0.0|               0.0|                0|                 0|                   0|            0|            0|            0|                 0|                 0|               0.0|               0.0|                 0|                 0|               0.0|               0.0|              0.0|                   0|                   0|                  0|                 0|                  0|                   0|             0|                  0|                 0|               0.0|               0.0|               0.0|             0|             0|                   0|             0|             0|               0|               0|                0|                 0|                0|                -1|                -1|                 0|                 0|               0.0|               0.0|                 0|                 0|                 0.0|               0.0|                   0|                   0|      0|\n",
            "|    max|             65534|              17|        2|           119999997|            43159|             69241|           1100627|         101000000|              1711|              1460|            1460.0|      1032.375901|              1460|              1430|       1459.620142|       1032.375901|        NaN|   Infinity|               1.2E8|            8.45E7|          120000000|           120000000|           120000000|              1.2E8|            8.47E7|         120000000|           120000000|           120000000|            1.2E8|            8.48E7|        120000000|         120000000|                   1|            0|            0|            0|           2275036|           1384832|         3000000.0|         2000000.0|              1232|              1711|        1454.27451|        842.931393|      710533.3333|                   1|                   1|                  1|                 1|                  1|                   1|             0|                  1|               148|            1687.5|            1460.0|       1459.620142|             0|             0|0M\u0000M\u0000M\u0000M\u0000M\u0000M\u0000M\u0000M\u0000...|             0|             0|               0|           43159|          1100627|             69241|        100999675|             65535|             65535|              9262|                44|            1.11E8|            7.49E7|         111000000|         111000000|               1.2E8|            7.59E7|           120000000|           120000000|    Bot|\n",
            "+-------+------------------+----------------+---------+--------------------+-----------------+------------------+------------------+------------------+------------------+------------------+------------------+-----------------+------------------+------------------+------------------+------------------+-----------+-----------+--------------------+------------------+-------------------+--------------------+--------------------+-------------------+------------------+------------------+--------------------+--------------------+-----------------+------------------+-----------------+------------------+--------------------+-------------+-------------+-------------+------------------+------------------+------------------+------------------+------------------+------------------+------------------+------------------+-----------------+--------------------+--------------------+-------------------+------------------+-------------------+--------------------+--------------+-------------------+------------------+------------------+------------------+------------------+--------------+--------------+--------------------+--------------+--------------+----------------+----------------+-----------------+------------------+-----------------+------------------+------------------+------------------+------------------+------------------+------------------+------------------+------------------+--------------------+------------------+--------------------+--------------------+-------+\n",
            "\n"
          ],
          "name": "stdout"
        }
      ]
    },
    {
      "cell_type": "markdown",
      "metadata": {
        "id": "4nBzs03ml830"
      },
      "source": [
        "##### To get a brief description of each column ,we use the describe function."
      ]
    },
    {
      "cell_type": "code",
      "metadata": {
        "id": "rty6-2DNZBJJ"
      },
      "source": [
        " import numpy as np\n",
        " def describe_pd(df_in, columns, deciles=False):\n",
        "    '''\n",
        "    Function to union the basic stats results and deciles\n",
        "    :param df_in: the input dataframe\n",
        "    :param columns: the cloumn name list of the numerical variable\n",
        "    :param deciles: the deciles output\n",
        "\n",
        "    :return : the numerical describe info. of the input dataframe\n",
        "\n",
        "    \n",
        "    '''\n",
        "\n",
        "    if deciles:\n",
        "        percentiles = np.array(range(0, 110, 10))\n",
        "    else:\n",
        "        percentiles = [25, 50, 75]\n",
        "\n",
        "    percs = np.transpose([np.percentile(df_in.select(x).collect(), percentiles) for x in columns])\n",
        "    percs = pd.DataFrame(percs, columns=columns)\n",
        "    percs['summary'] = [str(p) + '%' for p in percentiles]\n",
        "\n",
        "    spark_describe = df_in.describe().toPandas()\n",
        "    new_df = pd.concat([spark_describe, percs],ignore_index=True)\n",
        "    new_df = new_df.round(2)\n",
        "    return new_df[['summary'] + columns]"
      ],
      "execution_count": null,
      "outputs": []
    },
    {
      "cell_type": "code",
      "metadata": {
        "colab": {
          "base_uri": "https://localhost:8080/",
          "height": 345
        },
        "id": "ki6cGTLDnC7N",
        "outputId": "f15f19a3-67ec-4863-d61a-490ad1fa7c11"
      },
      "source": [
        "describe_pd(df,num_cols,deciles=True)"
      ],
      "execution_count": null,
      "outputs": [
        {
          "output_type": "error",
          "ename": "TypeError",
          "evalue": "ignored",
          "traceback": [
            "\u001b[0;31m---------------------------------------------------------------------------\u001b[0m",
            "\u001b[0;31mTypeError\u001b[0m                                 Traceback (most recent call last)",
            "\u001b[0;32m<ipython-input-103-fe2591ef2f01>\u001b[0m in \u001b[0;36m<module>\u001b[0;34m()\u001b[0m\n\u001b[0;32m----> 1\u001b[0;31m \u001b[0mdescribe_pd\u001b[0m\u001b[0;34m(\u001b[0m\u001b[0mdf\u001b[0m\u001b[0;34m,\u001b[0m\u001b[0mnum_cols\u001b[0m\u001b[0;34m,\u001b[0m\u001b[0mdeciles\u001b[0m\u001b[0;34m=\u001b[0m\u001b[0;32mTrue\u001b[0m\u001b[0;34m)\u001b[0m\u001b[0;34m\u001b[0m\u001b[0;34m\u001b[0m\u001b[0m\n\u001b[0m",
            "\u001b[0;32m<ipython-input-102-dfded92b0975>\u001b[0m in \u001b[0;36mdescribe_pd\u001b[0;34m(df_in, columns, deciles)\u001b[0m\n\u001b[1;32m     17\u001b[0m        \u001b[0mpercentiles\u001b[0m \u001b[0;34m=\u001b[0m \u001b[0;34m[\u001b[0m\u001b[0;36m25\u001b[0m\u001b[0;34m,\u001b[0m \u001b[0;36m50\u001b[0m\u001b[0;34m,\u001b[0m \u001b[0;36m75\u001b[0m\u001b[0;34m]\u001b[0m\u001b[0;34m\u001b[0m\u001b[0;34m\u001b[0m\u001b[0m\n\u001b[1;32m     18\u001b[0m \u001b[0;34m\u001b[0m\u001b[0m\n\u001b[0;32m---> 19\u001b[0;31m    \u001b[0mpercs\u001b[0m \u001b[0;34m=\u001b[0m \u001b[0mnp\u001b[0m\u001b[0;34m.\u001b[0m\u001b[0mtranspose\u001b[0m\u001b[0;34m(\u001b[0m\u001b[0;34m[\u001b[0m\u001b[0mnp\u001b[0m\u001b[0;34m.\u001b[0m\u001b[0mpercentile\u001b[0m\u001b[0;34m(\u001b[0m\u001b[0mdf_in\u001b[0m\u001b[0;34m.\u001b[0m\u001b[0mselect\u001b[0m\u001b[0;34m(\u001b[0m\u001b[0mx\u001b[0m\u001b[0;34m)\u001b[0m\u001b[0;34m.\u001b[0m\u001b[0mcollect\u001b[0m\u001b[0;34m(\u001b[0m\u001b[0;34m)\u001b[0m\u001b[0;34m,\u001b[0m \u001b[0mpercentiles\u001b[0m\u001b[0;34m)\u001b[0m \u001b[0;32mfor\u001b[0m \u001b[0mx\u001b[0m \u001b[0;32min\u001b[0m \u001b[0mcolumns\u001b[0m\u001b[0;34m]\u001b[0m\u001b[0;34m)\u001b[0m\u001b[0;34m\u001b[0m\u001b[0;34m\u001b[0m\u001b[0m\n\u001b[0m\u001b[1;32m     20\u001b[0m    \u001b[0mpercs\u001b[0m \u001b[0;34m=\u001b[0m \u001b[0mpd\u001b[0m\u001b[0;34m.\u001b[0m\u001b[0mDataFrame\u001b[0m\u001b[0;34m(\u001b[0m\u001b[0mpercs\u001b[0m\u001b[0;34m,\u001b[0m \u001b[0mcolumns\u001b[0m\u001b[0;34m=\u001b[0m\u001b[0mcolumns\u001b[0m\u001b[0;34m)\u001b[0m\u001b[0;34m\u001b[0m\u001b[0;34m\u001b[0m\u001b[0m\n\u001b[1;32m     21\u001b[0m    \u001b[0mpercs\u001b[0m\u001b[0;34m[\u001b[0m\u001b[0;34m'summary'\u001b[0m\u001b[0;34m]\u001b[0m \u001b[0;34m=\u001b[0m \u001b[0;34m[\u001b[0m\u001b[0mstr\u001b[0m\u001b[0;34m(\u001b[0m\u001b[0mp\u001b[0m\u001b[0;34m)\u001b[0m \u001b[0;34m+\u001b[0m \u001b[0;34m'%'\u001b[0m \u001b[0;32mfor\u001b[0m \u001b[0mp\u001b[0m \u001b[0;32min\u001b[0m \u001b[0mpercentiles\u001b[0m\u001b[0;34m]\u001b[0m\u001b[0;34m\u001b[0m\u001b[0;34m\u001b[0m\u001b[0m\n",
            "\u001b[0;32m<ipython-input-102-dfded92b0975>\u001b[0m in \u001b[0;36m<listcomp>\u001b[0;34m(.0)\u001b[0m\n\u001b[1;32m     17\u001b[0m        \u001b[0mpercentiles\u001b[0m \u001b[0;34m=\u001b[0m \u001b[0;34m[\u001b[0m\u001b[0;36m25\u001b[0m\u001b[0;34m,\u001b[0m \u001b[0;36m50\u001b[0m\u001b[0;34m,\u001b[0m \u001b[0;36m75\u001b[0m\u001b[0;34m]\u001b[0m\u001b[0;34m\u001b[0m\u001b[0;34m\u001b[0m\u001b[0m\n\u001b[1;32m     18\u001b[0m \u001b[0;34m\u001b[0m\u001b[0m\n\u001b[0;32m---> 19\u001b[0;31m    \u001b[0mpercs\u001b[0m \u001b[0;34m=\u001b[0m \u001b[0mnp\u001b[0m\u001b[0;34m.\u001b[0m\u001b[0mtranspose\u001b[0m\u001b[0;34m(\u001b[0m\u001b[0;34m[\u001b[0m\u001b[0mnp\u001b[0m\u001b[0;34m.\u001b[0m\u001b[0mpercentile\u001b[0m\u001b[0;34m(\u001b[0m\u001b[0mdf_in\u001b[0m\u001b[0;34m.\u001b[0m\u001b[0mselect\u001b[0m\u001b[0;34m(\u001b[0m\u001b[0mx\u001b[0m\u001b[0;34m)\u001b[0m\u001b[0;34m.\u001b[0m\u001b[0mcollect\u001b[0m\u001b[0;34m(\u001b[0m\u001b[0;34m)\u001b[0m\u001b[0;34m,\u001b[0m \u001b[0mpercentiles\u001b[0m\u001b[0;34m)\u001b[0m \u001b[0;32mfor\u001b[0m \u001b[0mx\u001b[0m \u001b[0;32min\u001b[0m \u001b[0mcolumns\u001b[0m\u001b[0;34m]\u001b[0m\u001b[0;34m)\u001b[0m\u001b[0;34m\u001b[0m\u001b[0;34m\u001b[0m\u001b[0m\n\u001b[0m\u001b[1;32m     20\u001b[0m    \u001b[0mpercs\u001b[0m \u001b[0;34m=\u001b[0m \u001b[0mpd\u001b[0m\u001b[0;34m.\u001b[0m\u001b[0mDataFrame\u001b[0m\u001b[0;34m(\u001b[0m\u001b[0mpercs\u001b[0m\u001b[0;34m,\u001b[0m \u001b[0mcolumns\u001b[0m\u001b[0;34m=\u001b[0m\u001b[0mcolumns\u001b[0m\u001b[0;34m)\u001b[0m\u001b[0;34m\u001b[0m\u001b[0;34m\u001b[0m\u001b[0m\n\u001b[1;32m     21\u001b[0m    \u001b[0mpercs\u001b[0m\u001b[0;34m[\u001b[0m\u001b[0;34m'summary'\u001b[0m\u001b[0;34m]\u001b[0m \u001b[0;34m=\u001b[0m \u001b[0;34m[\u001b[0m\u001b[0mstr\u001b[0m\u001b[0;34m(\u001b[0m\u001b[0mp\u001b[0m\u001b[0;34m)\u001b[0m \u001b[0;34m+\u001b[0m \u001b[0;34m'%'\u001b[0m \u001b[0;32mfor\u001b[0m \u001b[0mp\u001b[0m \u001b[0;32min\u001b[0m \u001b[0mpercentiles\u001b[0m\u001b[0;34m]\u001b[0m\u001b[0;34m\u001b[0m\u001b[0;34m\u001b[0m\u001b[0m\n",
            "\u001b[0;32m<__array_function__ internals>\u001b[0m in \u001b[0;36mpercentile\u001b[0;34m(*args, **kwargs)\u001b[0m\n",
            "\u001b[0;32m/usr/local/lib/python3.6/dist-packages/numpy/lib/function_base.py\u001b[0m in \u001b[0;36mpercentile\u001b[0;34m(a, q, axis, out, overwrite_input, interpolation, keepdims)\u001b[0m\n\u001b[1;32m   3704\u001b[0m         \u001b[0;32mraise\u001b[0m \u001b[0mValueError\u001b[0m\u001b[0;34m(\u001b[0m\u001b[0;34m\"Percentiles must be in the range [0, 100]\"\u001b[0m\u001b[0;34m)\u001b[0m\u001b[0;34m\u001b[0m\u001b[0;34m\u001b[0m\u001b[0m\n\u001b[1;32m   3705\u001b[0m     return _quantile_unchecked(\n\u001b[0;32m-> 3706\u001b[0;31m         a, q, axis, out, overwrite_input, interpolation, keepdims)\n\u001b[0m\u001b[1;32m   3707\u001b[0m \u001b[0;34m\u001b[0m\u001b[0m\n\u001b[1;32m   3708\u001b[0m \u001b[0;34m\u001b[0m\u001b[0m\n",
            "\u001b[0;32m/usr/local/lib/python3.6/dist-packages/numpy/lib/function_base.py\u001b[0m in \u001b[0;36m_quantile_unchecked\u001b[0;34m(a, q, axis, out, overwrite_input, interpolation, keepdims)\u001b[0m\n\u001b[1;32m   3824\u001b[0m     r, k = _ureduce(a, func=_quantile_ureduce_func, q=q, axis=axis, out=out,\n\u001b[1;32m   3825\u001b[0m                     \u001b[0moverwrite_input\u001b[0m\u001b[0;34m=\u001b[0m\u001b[0moverwrite_input\u001b[0m\u001b[0;34m,\u001b[0m\u001b[0;34m\u001b[0m\u001b[0;34m\u001b[0m\u001b[0m\n\u001b[0;32m-> 3826\u001b[0;31m                     interpolation=interpolation)\n\u001b[0m\u001b[1;32m   3827\u001b[0m     \u001b[0;32mif\u001b[0m \u001b[0mkeepdims\u001b[0m\u001b[0;34m:\u001b[0m\u001b[0;34m\u001b[0m\u001b[0;34m\u001b[0m\u001b[0m\n\u001b[1;32m   3828\u001b[0m         \u001b[0;32mreturn\u001b[0m \u001b[0mr\u001b[0m\u001b[0;34m.\u001b[0m\u001b[0mreshape\u001b[0m\u001b[0;34m(\u001b[0m\u001b[0mq\u001b[0m\u001b[0;34m.\u001b[0m\u001b[0mshape\u001b[0m \u001b[0;34m+\u001b[0m \u001b[0mk\u001b[0m\u001b[0;34m)\u001b[0m\u001b[0;34m\u001b[0m\u001b[0;34m\u001b[0m\u001b[0m\n",
            "\u001b[0;32m/usr/local/lib/python3.6/dist-packages/numpy/lib/function_base.py\u001b[0m in \u001b[0;36m_ureduce\u001b[0;34m(a, func, **kwargs)\u001b[0m\n\u001b[1;32m   3401\u001b[0m         \u001b[0mkeepdim\u001b[0m \u001b[0;34m=\u001b[0m \u001b[0;34m(\u001b[0m\u001b[0;36m1\u001b[0m\u001b[0;34m,\u001b[0m\u001b[0;34m)\u001b[0m \u001b[0;34m*\u001b[0m \u001b[0ma\u001b[0m\u001b[0;34m.\u001b[0m\u001b[0mndim\u001b[0m\u001b[0;34m\u001b[0m\u001b[0;34m\u001b[0m\u001b[0m\n\u001b[1;32m   3402\u001b[0m \u001b[0;34m\u001b[0m\u001b[0m\n\u001b[0;32m-> 3403\u001b[0;31m     \u001b[0mr\u001b[0m \u001b[0;34m=\u001b[0m \u001b[0mfunc\u001b[0m\u001b[0;34m(\u001b[0m\u001b[0ma\u001b[0m\u001b[0;34m,\u001b[0m \u001b[0;34m**\u001b[0m\u001b[0mkwargs\u001b[0m\u001b[0;34m)\u001b[0m\u001b[0;34m\u001b[0m\u001b[0;34m\u001b[0m\u001b[0m\n\u001b[0m\u001b[1;32m   3404\u001b[0m     \u001b[0;32mreturn\u001b[0m \u001b[0mr\u001b[0m\u001b[0;34m,\u001b[0m \u001b[0mkeepdim\u001b[0m\u001b[0;34m\u001b[0m\u001b[0;34m\u001b[0m\u001b[0m\n\u001b[1;32m   3405\u001b[0m \u001b[0;34m\u001b[0m\u001b[0m\n",
            "\u001b[0;32m/usr/local/lib/python3.6/dist-packages/numpy/lib/function_base.py\u001b[0m in \u001b[0;36m_quantile_ureduce_func\u001b[0;34m(a, q, axis, out, overwrite_input, interpolation, keepdims)\u001b[0m\n\u001b[1;32m   3939\u001b[0m             \u001b[0mn\u001b[0m \u001b[0;34m=\u001b[0m \u001b[0mnp\u001b[0m\u001b[0;34m.\u001b[0m\u001b[0misnan\u001b[0m\u001b[0;34m(\u001b[0m\u001b[0map\u001b[0m\u001b[0;34m[\u001b[0m\u001b[0;34m-\u001b[0m\u001b[0;36m1\u001b[0m\u001b[0;34m:\u001b[0m\u001b[0;34m,\u001b[0m \u001b[0;34m...\u001b[0m\u001b[0;34m]\u001b[0m\u001b[0;34m)\u001b[0m\u001b[0;34m\u001b[0m\u001b[0;34m\u001b[0m\u001b[0m\n\u001b[1;32m   3940\u001b[0m \u001b[0;34m\u001b[0m\u001b[0m\n\u001b[0;32m-> 3941\u001b[0;31m         \u001b[0mx1\u001b[0m \u001b[0;34m=\u001b[0m \u001b[0mtake\u001b[0m\u001b[0;34m(\u001b[0m\u001b[0map\u001b[0m\u001b[0;34m,\u001b[0m \u001b[0mindices_below\u001b[0m\u001b[0;34m,\u001b[0m \u001b[0maxis\u001b[0m\u001b[0;34m=\u001b[0m\u001b[0maxis\u001b[0m\u001b[0;34m)\u001b[0m \u001b[0;34m*\u001b[0m \u001b[0mweights_below\u001b[0m\u001b[0;34m\u001b[0m\u001b[0;34m\u001b[0m\u001b[0m\n\u001b[0m\u001b[1;32m   3942\u001b[0m         \u001b[0mx2\u001b[0m \u001b[0;34m=\u001b[0m \u001b[0mtake\u001b[0m\u001b[0;34m(\u001b[0m\u001b[0map\u001b[0m\u001b[0;34m,\u001b[0m \u001b[0mindices_above\u001b[0m\u001b[0;34m,\u001b[0m \u001b[0maxis\u001b[0m\u001b[0;34m=\u001b[0m\u001b[0maxis\u001b[0m\u001b[0;34m)\u001b[0m \u001b[0;34m*\u001b[0m \u001b[0mweights_above\u001b[0m\u001b[0;34m\u001b[0m\u001b[0;34m\u001b[0m\u001b[0m\n\u001b[1;32m   3943\u001b[0m \u001b[0;34m\u001b[0m\u001b[0m\n",
            "\u001b[0;31mTypeError\u001b[0m: unsupported operand type(s) for *: 'decimal.Decimal' and 'float'"
          ]
        }
      ]
    },
    {
      "cell_type": "code",
      "metadata": {
        "colab": {
          "base_uri": "https://localhost:8080/"
        },
        "id": "UwuGLimuqEsK",
        "outputId": "0fc19868-4880-4545-8879-eaab60aa0d2e"
      },
      "source": [
        "#Kurtosis and skewness for each column\n",
        "\n",
        "\n",
        "from pyspark.sql.functions import col, skewness, kurtosis\n",
        "\n",
        "for col in num_cols:\n",
        "  df.select(skewness(col),kurtosis(col)).show()"
      ],
      "execution_count": null,
      "outputs": [
        {
          "output_type": "stream",
          "text": [
            "+------------------+------------------+\n",
            "|skewness(Dst Port)|kurtosis(Dst Port)|\n",
            "+------------------+------------------+\n",
            "|2.8275304453316163| 7.121988886627928|\n",
            "+------------------+------------------+\n",
            "\n",
            "+------------------+------------------+\n",
            "|skewness(Protocol)|kurtosis(Protocol)|\n",
            "+------------------+------------------+\n",
            "|1.8577989150730132|1.9142154579640875|\n",
            "+------------------+------------------+\n",
            "\n",
            "+-------------------+-------------------+\n",
            "|skewness(Timestamp)|kurtosis(Timestamp)|\n",
            "+-------------------+-------------------+\n",
            "|                NaN|                NaN|\n",
            "+-------------------+-------------------+\n",
            "\n",
            "+-----------------------+-----------------------+\n",
            "|skewness(Flow Duration)|kurtosis(Flow Duration)|\n",
            "+-----------------------+-----------------------+\n",
            "|      3.206555781706071|      8.882578517875729|\n",
            "+-----------------------+-----------------------+\n",
            "\n",
            "+----------------------+----------------------+\n",
            "|skewness(Tot Fwd Pkts)|kurtosis(Tot Fwd Pkts)|\n",
            "+----------------------+----------------------+\n",
            "|    466.74088167242144|     293230.8180418956|\n",
            "+----------------------+----------------------+\n",
            "\n",
            "+----------------------+----------------------+\n",
            "|skewness(Tot Bwd Pkts)|kurtosis(Tot Bwd Pkts)|\n",
            "+----------------------+----------------------+\n",
            "|     278.2095224792958|     90877.39005368746|\n",
            "+----------------------+----------------------+\n",
            "\n",
            "+-------------------------+-------------------------+\n",
            "|skewness(TotLen Fwd Pkts)|kurtosis(TotLen Fwd Pkts)|\n",
            "+-------------------------+-------------------------+\n",
            "|        293.0362785560924|         135916.127259011|\n",
            "+-------------------------+-------------------------+\n",
            "\n",
            "+-------------------------+-------------------------+\n",
            "|skewness(TotLen Bwd Pkts)|kurtosis(TotLen Bwd Pkts)|\n",
            "+-------------------------+-------------------------+\n",
            "|        283.6529081964093|         93554.3046217689|\n",
            "+-------------------------+-------------------------+\n",
            "\n",
            "+-------------------------+-------------------------+\n",
            "|skewness(Fwd Pkt Len Max)|kurtosis(Fwd Pkt Len Max)|\n",
            "+-------------------------+-------------------------+\n",
            "|       1.1423655307434937|       0.5985597088270365|\n",
            "+-------------------------+-------------------------+\n",
            "\n",
            "+-------------------------+-------------------------+\n",
            "|skewness(Fwd Pkt Len Min)|kurtosis(Fwd Pkt Len Min)|\n",
            "+-------------------------+-------------------------+\n",
            "|       14.691553887061815|         687.789017062841|\n",
            "+-------------------------+-------------------------+\n",
            "\n",
            "+--------------------------+--------------------------+\n",
            "|skewness(Fwd Pkt Len Mean)|kurtosis(Fwd Pkt Len Mean)|\n",
            "+--------------------------+--------------------------+\n",
            "|         2.151425247821877|          32.0204242587095|\n",
            "+--------------------------+--------------------------+\n",
            "\n",
            "+-------------------------+-------------------------+\n",
            "|skewness(Fwd Pkt Len Std)|kurtosis(Fwd Pkt Len Std)|\n",
            "+-------------------------+-------------------------+\n",
            "|       0.6373617333990431|     -0.49294737499376273|\n",
            "+-------------------------+-------------------------+\n",
            "\n",
            "+-------------------------+-------------------------+\n",
            "|skewness(Bwd Pkt Len Max)|kurtosis(Bwd Pkt Len Max)|\n",
            "+-------------------------+-------------------------+\n",
            "|       1.5811259458363898|        0.762084212843916|\n",
            "+-------------------------+-------------------------+\n",
            "\n",
            "+-------------------------+-------------------------+\n",
            "|skewness(Bwd Pkt Len Min)|kurtosis(Bwd Pkt Len Min)|\n",
            "+-------------------------+-------------------------+\n",
            "|       3.3322171816962425|        16.41096981514032|\n",
            "+-------------------------+-------------------------+\n",
            "\n",
            "+--------------------------+--------------------------+\n",
            "|skewness(Bwd Pkt Len Mean)|kurtosis(Bwd Pkt Len Mean)|\n",
            "+--------------------------+--------------------------+\n",
            "|        4.1575089378855115|         24.99874762678588|\n",
            "+--------------------------+--------------------------+\n",
            "\n",
            "+-------------------------+-------------------------+\n",
            "|skewness(Bwd Pkt Len Std)|kurtosis(Bwd Pkt Len Std)|\n",
            "+-------------------------+-------------------------+\n",
            "|       1.6865503949076603|       1.5149762727538914|\n",
            "+-------------------------+-------------------------+\n",
            "\n",
            "+---------------------+---------------------+\n",
            "|skewness(Flow Byts/s)|kurtosis(Flow Byts/s)|\n",
            "+---------------------+---------------------+\n",
            "|                  NaN|                  NaN|\n",
            "+---------------------+---------------------+\n",
            "\n",
            "+---------------------+---------------------+\n",
            "|skewness(Flow Pkts/s)|kurtosis(Flow Pkts/s)|\n",
            "+---------------------+---------------------+\n",
            "|                  NaN|                  NaN|\n",
            "+---------------------+---------------------+\n",
            "\n",
            "+-----------------------+-----------------------+\n",
            "|skewness(Flow IAT Mean)|kurtosis(Flow IAT Mean)|\n",
            "+-----------------------+-----------------------+\n",
            "|      5.278475667179557|     27.105549724238493|\n",
            "+-----------------------+-----------------------+\n",
            "\n",
            "+----------------------+----------------------+\n",
            "|skewness(Flow IAT Std)|kurtosis(Flow IAT Std)|\n",
            "+----------------------+----------------------+\n",
            "|     9.490709924783154|    146.58621573259308|\n",
            "+----------------------+----------------------+\n",
            "\n",
            "+----------------------+----------------------+\n",
            "|skewness(Flow IAT Max)|kurtosis(Flow IAT Max)|\n",
            "+----------------------+----------------------+\n",
            "|    4.1154159582125125|    16.288748717781672|\n",
            "+----------------------+----------------------+\n",
            "\n",
            "+----------------------+----------------------+\n",
            "|skewness(Flow IAT Min)|kurtosis(Flow IAT Min)|\n",
            "+----------------------+----------------------+\n",
            "|     5.337690325966049|     27.57935942736207|\n",
            "+----------------------+----------------------+\n",
            "\n",
            "+---------------------+---------------------+\n",
            "|skewness(Fwd IAT Tot)|kurtosis(Fwd IAT Tot)|\n",
            "+---------------------+---------------------+\n",
            "|   3.2291036263884485|     9.01561184463737|\n",
            "+---------------------+---------------------+\n",
            "\n",
            "+----------------------+----------------------+\n",
            "|skewness(Fwd IAT Mean)|kurtosis(Fwd IAT Mean)|\n",
            "+----------------------+----------------------+\n",
            "|     5.179664047782113|    26.262908027027745|\n",
            "+----------------------+----------------------+\n",
            "\n",
            "+---------------------+---------------------+\n",
            "|skewness(Fwd IAT Std)|kurtosis(Fwd IAT Std)|\n",
            "+---------------------+---------------------+\n",
            "|    7.481758871432452|    67.69501983247353|\n",
            "+---------------------+---------------------+\n",
            "\n",
            "+---------------------+---------------------+\n",
            "|skewness(Fwd IAT Max)|kurtosis(Fwd IAT Max)|\n",
            "+---------------------+---------------------+\n",
            "|    4.145494547778413|   16.500839796865243|\n",
            "+---------------------+---------------------+\n",
            "\n",
            "+---------------------+---------------------+\n",
            "|skewness(Fwd IAT Min)|kurtosis(Fwd IAT Min)|\n",
            "+---------------------+---------------------+\n",
            "|    5.278713393907439|   27.012258017068227|\n",
            "+---------------------+---------------------+\n",
            "\n",
            "+---------------------+---------------------+\n",
            "|skewness(Bwd IAT Tot)|kurtosis(Bwd IAT Tot)|\n",
            "+---------------------+---------------------+\n",
            "|    4.648799285334138|    20.24677693852014|\n",
            "+---------------------+---------------------+\n",
            "\n",
            "+----------------------+----------------------+\n",
            "|skewness(Bwd IAT Mean)|kurtosis(Bwd IAT Mean)|\n",
            "+----------------------+----------------------+\n",
            "|    17.138978083046915|     472.6897161215708|\n",
            "+----------------------+----------------------+\n",
            "\n",
            "+---------------------+---------------------+\n",
            "|skewness(Bwd IAT Std)|kurtosis(Bwd IAT Std)|\n",
            "+---------------------+---------------------+\n",
            "|     8.26480143594092|    89.03124083055536|\n",
            "+---------------------+---------------------+\n",
            "\n",
            "+---------------------+---------------------+\n",
            "|skewness(Bwd IAT Max)|kurtosis(Bwd IAT Max)|\n",
            "+---------------------+---------------------+\n",
            "|    7.240997231739541|   54.596201643370804|\n",
            "+---------------------+---------------------+\n",
            "\n",
            "+---------------------+---------------------+\n",
            "|skewness(Bwd IAT Min)|kurtosis(Bwd IAT Min)|\n",
            "+---------------------+---------------------+\n",
            "|   31.817661479646823|   1226.0984199280429|\n",
            "+---------------------+---------------------+\n",
            "\n",
            "+-----------------------+-----------------------+\n",
            "|skewness(Fwd PSH Flags)|kurtosis(Fwd PSH Flags)|\n",
            "+-----------------------+-----------------------+\n",
            "|     6.0530128504813385|      34.63896456809277|\n",
            "+-----------------------+-----------------------+\n",
            "\n",
            "+-----------------------+-----------------------+\n",
            "|skewness(Bwd PSH Flags)|kurtosis(Bwd PSH Flags)|\n",
            "+-----------------------+-----------------------+\n",
            "|                    NaN|                    NaN|\n",
            "+-----------------------+-----------------------+\n",
            "\n",
            "+-----------------------+-----------------------+\n",
            "|skewness(Fwd URG Flags)|kurtosis(Fwd URG Flags)|\n",
            "+-----------------------+-----------------------+\n",
            "|                    NaN|                    NaN|\n",
            "+-----------------------+-----------------------+\n",
            "\n",
            "+-----------------------+-----------------------+\n",
            "|skewness(Bwd URG Flags)|kurtosis(Bwd URG Flags)|\n",
            "+-----------------------+-----------------------+\n",
            "|                    NaN|                    NaN|\n",
            "+-----------------------+-----------------------+\n",
            "\n",
            "+------------------------+------------------------+\n",
            "|skewness(Fwd Header Len)|kurtosis(Fwd Header Len)|\n",
            "+------------------------+------------------------+\n",
            "|       709.2476271929407|         538940.68018929|\n",
            "+------------------------+------------------------+\n",
            "\n",
            "+------------------------+------------------------+\n",
            "|skewness(Bwd Header Len)|kurtosis(Bwd Header Len)|\n",
            "+------------------------+------------------------+\n",
            "|       283.8394921244707|       93794.20772308162|\n",
            "+------------------------+------------------------+\n",
            "\n",
            "+--------------------+--------------------+\n",
            "|skewness(Fwd Pkts/s)|kurtosis(Fwd Pkts/s)|\n",
            "+--------------------+--------------------+\n",
            "|  14.664328533493709|  225.52062318432036|\n",
            "+--------------------+--------------------+\n",
            "\n",
            "+--------------------+--------------------+\n",
            "|skewness(Bwd Pkts/s)|kurtosis(Bwd Pkts/s)|\n",
            "+--------------------+--------------------+\n",
            "|  49.927177725785214|   2740.260217139617|\n",
            "+--------------------+--------------------+\n",
            "\n",
            "+---------------------+---------------------+\n",
            "|skewness(Pkt Len Min)|kurtosis(Pkt Len Min)|\n",
            "+---------------------+---------------------+\n",
            "|    9.133168085472755|    274.6605612370427|\n",
            "+---------------------+---------------------+\n",
            "\n",
            "+---------------------+---------------------+\n",
            "|skewness(Pkt Len Max)|kurtosis(Pkt Len Max)|\n",
            "+---------------------+---------------------+\n",
            "|   1.3649397144299558|  0.39447752605815767|\n",
            "+---------------------+---------------------+\n",
            "\n",
            "+----------------------+----------------------+\n",
            "|skewness(Pkt Len Mean)|kurtosis(Pkt Len Mean)|\n",
            "+----------------------+----------------------+\n",
            "|     4.620336585944152|     36.18353715509117|\n",
            "+----------------------+----------------------+\n",
            "\n",
            "+---------------------+---------------------+\n",
            "|skewness(Pkt Len Std)|kurtosis(Pkt Len Std)|\n",
            "+---------------------+---------------------+\n",
            "|   1.6940745498356307|   2.8369240088803993|\n",
            "+---------------------+---------------------+\n",
            "\n",
            "+---------------------+---------------------+\n",
            "|skewness(Pkt Len Var)|kurtosis(Pkt Len Var)|\n",
            "+---------------------+---------------------+\n",
            "|   3.9492951155588982|    19.71512389103239|\n",
            "+---------------------+---------------------+\n",
            "\n",
            "+----------------------+----------------------+\n",
            "|skewness(FIN Flag Cnt)|kurtosis(FIN Flag Cnt)|\n",
            "+----------------------+----------------------+\n",
            "|    18.829807798512505|     352.5616617290423|\n",
            "+----------------------+----------------------+\n",
            "\n",
            "+----------------------+----------------------+\n",
            "|skewness(SYN Flag Cnt)|kurtosis(SYN Flag Cnt)|\n",
            "+----------------------+----------------------+\n",
            "|    6.0530128504813385|     34.63896456809277|\n",
            "+----------------------+----------------------+\n",
            "\n",
            "+----------------------+----------------------+\n",
            "|skewness(RST Flag Cnt)|kurtosis(RST Flag Cnt)|\n",
            "+----------------------+----------------------+\n",
            "|    0.6874186975882474|    -1.527455534206117|\n",
            "+----------------------+----------------------+\n",
            "\n",
            "+----------------------+----------------------+\n",
            "|skewness(PSH Flag Cnt)|kurtosis(PSH Flag Cnt)|\n",
            "+----------------------+----------------------+\n",
            "|    0.1079031958347442|   -1.9883569003286412|\n",
            "+----------------------+----------------------+\n",
            "\n",
            "+----------------------+----------------------+\n",
            "|skewness(ACK Flag Cnt)|kurtosis(ACK Flag Cnt)|\n",
            "+----------------------+----------------------+\n",
            "|    0.5486531266361833|    -1.698979746632373|\n",
            "+----------------------+----------------------+\n",
            "\n",
            "+----------------------+----------------------+\n",
            "|skewness(URG Flag Cnt)|kurtosis(URG Flag Cnt)|\n",
            "+----------------------+----------------------+\n",
            "|     6.707048559388035|    42.984500377987345|\n",
            "+----------------------+----------------------+\n",
            "\n",
            "+------------------------+------------------------+\n",
            "|skewness(CWE Flag Count)|kurtosis(CWE Flag Count)|\n",
            "+------------------------+------------------------+\n",
            "|                     NaN|                     NaN|\n",
            "+------------------------+------------------------+\n",
            "\n",
            "+----------------------+----------------------+\n",
            "|skewness(ECE Flag Cnt)|kurtosis(ECE Flag Cnt)|\n",
            "+----------------------+----------------------+\n",
            "|     0.687411139435588|   -1.5274659253798832|\n",
            "+----------------------+----------------------+\n",
            "\n",
            "+-----------------------+-----------------------+\n",
            "|skewness(Down/Up Ratio)|kurtosis(Down/Up Ratio)|\n",
            "+-----------------------+-----------------------+\n",
            "|     40.709894907235984|     3957.3586502703947|\n",
            "+-----------------------+-----------------------+\n",
            "\n",
            "+----------------------+----------------------+\n",
            "|skewness(Pkt Size Avg)|kurtosis(Pkt Size Avg)|\n",
            "+----------------------+----------------------+\n",
            "|     4.217264186179138|    31.818734124382757|\n",
            "+----------------------+----------------------+\n",
            "\n",
            "+--------------------------+--------------------------+\n",
            "|skewness(Fwd Seg Size Avg)|kurtosis(Fwd Seg Size Avg)|\n",
            "+--------------------------+--------------------------+\n",
            "|         2.151425247821877|          32.0204242587095|\n",
            "+--------------------------+--------------------------+\n",
            "\n",
            "+--------------------------+--------------------------+\n",
            "|skewness(Bwd Seg Size Avg)|kurtosis(Bwd Seg Size Avg)|\n",
            "+--------------------------+--------------------------+\n",
            "|         4.157508937886847|         24.99874762680542|\n",
            "+--------------------------+--------------------------+\n",
            "\n",
            "+------------------------+------------------------+\n",
            "|skewness(Fwd Byts/b Avg)|kurtosis(Fwd Byts/b Avg)|\n",
            "+------------------------+------------------------+\n",
            "|                     NaN|                     NaN|\n",
            "+------------------------+------------------------+\n",
            "\n",
            "+------------------------+------------------------+\n",
            "|skewness(Fwd Pkts/b Avg)|kurtosis(Fwd Pkts/b Avg)|\n",
            "+------------------------+------------------------+\n",
            "|                     NaN|                     NaN|\n",
            "+------------------------+------------------------+\n",
            "\n",
            "+--------------------------+--------------------------+\n",
            "|skewness(Fwd Blk Rate Avg)|kurtosis(Fwd Blk Rate Avg)|\n",
            "+--------------------------+--------------------------+\n",
            "|                       NaN|                       NaN|\n",
            "+--------------------------+--------------------------+\n",
            "\n",
            "+------------------------+------------------------+\n",
            "|skewness(Bwd Byts/b Avg)|kurtosis(Bwd Byts/b Avg)|\n",
            "+------------------------+------------------------+\n",
            "|                     NaN|                     NaN|\n",
            "+------------------------+------------------------+\n",
            "\n",
            "+------------------------+------------------------+\n",
            "|skewness(Bwd Pkts/b Avg)|kurtosis(Bwd Pkts/b Avg)|\n",
            "+------------------------+------------------------+\n",
            "|                     NaN|                     NaN|\n",
            "+------------------------+------------------------+\n",
            "\n",
            "+--------------------------+--------------------------+\n",
            "|skewness(Bwd Blk Rate Avg)|kurtosis(Bwd Blk Rate Avg)|\n",
            "+--------------------------+--------------------------+\n",
            "|                       NaN|                       NaN|\n",
            "+--------------------------+--------------------------+\n",
            "\n",
            "+--------------------------+--------------------------+\n",
            "|skewness(Subflow Fwd Pkts)|kurtosis(Subflow Fwd Pkts)|\n",
            "+--------------------------+--------------------------+\n",
            "|        466.74088167242144|         293230.8180418956|\n",
            "+--------------------------+--------------------------+\n",
            "\n",
            "+--------------------------+--------------------------+\n",
            "|skewness(Subflow Fwd Byts)|kurtosis(Subflow Fwd Byts)|\n",
            "+--------------------------+--------------------------+\n",
            "|         293.0362785560924|          135916.127259011|\n",
            "+--------------------------+--------------------------+\n",
            "\n",
            "+--------------------------+--------------------------+\n",
            "|skewness(Subflow Bwd Pkts)|kurtosis(Subflow Bwd Pkts)|\n",
            "+--------------------------+--------------------------+\n",
            "|         278.2095224792958|         90877.39005368746|\n",
            "+--------------------------+--------------------------+\n",
            "\n",
            "+--------------------------+--------------------------+\n",
            "|skewness(Subflow Bwd Byts)|kurtosis(Subflow Bwd Byts)|\n",
            "+--------------------------+--------------------------+\n",
            "|         283.6395009806996|         93543.42851017516|\n",
            "+--------------------------+--------------------------+\n",
            "\n",
            "+---------------------------+---------------------------+\n",
            "|skewness(Init Fwd Win Byts)|kurtosis(Init Fwd Win Byts)|\n",
            "+---------------------------+---------------------------+\n",
            "|          4.382563028950264|          20.20527890937931|\n",
            "+---------------------------+---------------------------+\n",
            "\n",
            "+---------------------------+---------------------------+\n",
            "|skewness(Init Bwd Win Byts)|kurtosis(Init Bwd Win Byts)|\n",
            "+---------------------------+---------------------------+\n",
            "|         2.0465719597812795|         2.2194422572035375|\n",
            "+---------------------------+---------------------------+\n",
            "\n",
            "+---------------------------+---------------------------+\n",
            "|skewness(Fwd Act Data Pkts)|kurtosis(Fwd Act Data Pkts)|\n",
            "+---------------------------+---------------------------+\n",
            "|         345.60835478002406|         160871.96402142706|\n",
            "+---------------------------+---------------------------+\n",
            "\n",
            "+--------------------------+--------------------------+\n",
            "|skewness(Fwd Seg Size Min)|kurtosis(Fwd Seg Size Min)|\n",
            "+--------------------------+--------------------------+\n",
            "|       -1.9492483629850925|         2.793284768099566|\n",
            "+--------------------------+--------------------------+\n",
            "\n",
            "+---------------------+---------------------+\n",
            "|skewness(Active Mean)|kurtosis(Active Mean)|\n",
            "+---------------------+---------------------+\n",
            "|   23.848583857527967|     637.088778450485|\n",
            "+---------------------+---------------------+\n",
            "\n",
            "+--------------------+--------------------+\n",
            "|skewness(Active Std)|kurtosis(Active Std)|\n",
            "+--------------------+--------------------+\n",
            "|  24.550205915708414|   629.5423672698531|\n",
            "+--------------------+--------------------+\n",
            "\n",
            "+--------------------+--------------------+\n",
            "|skewness(Active Max)|kurtosis(Active Max)|\n",
            "+--------------------+--------------------+\n",
            "|   19.50862393444721|  393.96127697123296|\n",
            "+--------------------+--------------------+\n",
            "\n",
            "+--------------------+--------------------+\n",
            "|skewness(Active Min)|kurtosis(Active Min)|\n",
            "+--------------------+--------------------+\n",
            "|  33.324660262046855|  1173.4414653643782|\n",
            "+--------------------+--------------------+\n",
            "\n",
            "+-------------------+-------------------+\n",
            "|skewness(Idle Mean)|kurtosis(Idle Mean)|\n",
            "+-------------------+-------------------+\n",
            "|  4.792165459735337|  22.41218989170913|\n",
            "+-------------------+-------------------+\n",
            "\n",
            "+------------------+------------------+\n",
            "|skewness(Idle Std)|kurtosis(Idle Std)|\n",
            "+------------------+------------------+\n",
            "|23.343462624431442| 641.2889321270333|\n",
            "+------------------+------------------+\n",
            "\n",
            "+------------------+------------------+\n",
            "|skewness(Idle Max)|kurtosis(Idle Max)|\n",
            "+------------------+------------------+\n",
            "|4.7203406560065035|21.683350924337624|\n",
            "+------------------+------------------+\n",
            "\n",
            "+------------------+------------------+\n",
            "|skewness(Idle Min)|kurtosis(Idle Min)|\n",
            "+------------------+------------------+\n",
            "|  4.86132119603103|23.005164430979377|\n",
            "+------------------+------------------+\n",
            "\n"
          ],
          "name": "stdout"
        }
      ]
    },
    {
      "cell_type": "code",
      "metadata": {
        "id": "e196jSTOdG2I"
      },
      "source": [
        "import matplotlib.pyplot as plt\n",
        "import numpy as np\n",
        "\n",
        "var = \"Flow Duration\"\n",
        "x = df.select(var).toPandas()\n",
        "bins = np.arange(0, 100, 5.0)\n",
        "\n",
        "plt.figure(figsize=(10,8))\n",
        "# the histogram of the data\n",
        "plt.hist(x, bins, alpha=0.8, histtype='bar',ec='black')\n",
        "\n",
        "plt.xlabel(var)\n",
        "plt.ylabel('percentage')\n",
        "plt.xticks(bins)\n",
        "plt.show()"
      ],
      "execution_count": null,
      "outputs": []
    },
    {
      "cell_type": "code",
      "metadata": {
        "id": "ftxEtZupcscw"
      },
      "source": [
        "import matplotlib.pyplot as plt\n",
        "import seaborn as sns\n",
        "\n",
        "#Box Plot\n",
        "var=\"Tot Fwd Packets\"\n",
        "x = df.select(var).toPandas()\n",
        "\n",
        "fig = plt.figure(figsize=(20, 8))\n",
        "ax = fig.add_subplot(1, 2, 1)\n",
        "ax = sns.boxplot(data=x)\n",
        "\n",
        "ax = fig.add_subplot(1, 2, 2)\n",
        "ax = sns.violinplot(data=x)"
      ],
      "execution_count": null,
      "outputs": []
    },
    {
      "cell_type": "code",
      "metadata": {
        "id": "WJ3siWSecrko"
      },
      "source": [
        "import matplotlib.pyplot as plt\n",
        "import seaborn as sns\n",
        "\n",
        "#Box Plot\n",
        "var=\"Tot Bwd Packets\"\n",
        "x = df.select(var).toPandas()\n",
        "\n",
        "fig = plt.figure(figsize=(20, 8))\n",
        "ax = fig.add_subplot(1, 2, 1)\n",
        "ax = sns.boxplot(data=x)\n",
        "\n",
        "ax = fig.add_subplot(1, 2, 2)\n",
        "ax = sns.violinplot(data=x)"
      ],
      "execution_count": null,
      "outputs": []
    },
    {
      "cell_type": "code",
      "metadata": {
        "id": "892421bLwgam",
        "colab": {
          "base_uri": "https://localhost:8080/",
          "height": 494
        },
        "outputId": "89e2acf4-9503-4d0a-ccba-c627b9ec2287"
      },
      "source": [
        "import matplotlib.pyplot as plt\n",
        "import seaborn as sns\n",
        "\n",
        "#Box Plot\n",
        "var=\"Flow Duration\"\n",
        "x = df.select(var).toPandas()\n",
        "\n",
        "fig = plt.figure(figsize=(20, 8))\n",
        "ax = fig.add_subplot(1, 2, 1)\n",
        "ax = sns.boxplot(data=x)\n",
        "\n",
        "ax = fig.add_subplot(1, 2, 2)\n",
        "ax = sns.violinplot(data=x)"
      ],
      "execution_count": null,
      "outputs": [
        {
          "output_type": "display_data",
          "data": {
            "image/png": "[encoded data removed]",
            "text/plain": [
              "<Figure size 1440x576 with 2 Axes>"
            ]
          },
          "metadata": {
            "tags": [],
            "needs_background": "light"
          }
        }
      ]
    },
    {
      "cell_type": "code",
      "metadata": {
        "id": "wQuO0NUa-rlu"
      },
      "source": [
        "# Data to plot\n",
        "labels = df.Label\n",
        "sizes =  plot_data.Percent\n",
        "colors = ['gold', 'yellowgreen', 'lightcoral','blue', 'lightskyblue','green','red']\n",
        "explode = (0, 0.1, 0, 0,0,0)  # explode 1st slice\n",
        "\n",
        "# Plot\n",
        "plt.figure(figsize=(10,8))\n",
        "plt.pie(sizes, explode=explode, labels=labels, colors=colors,\n",
        "        autopct='%1.1f%%', shadow=True, startangle=140)\n",
        "\n",
        "plt.axis('equal')\n",
        "plt.show()"
      ],
      "execution_count": null,
      "outputs": []
    },
    {
      "cell_type": "code",
      "metadata": {
        "id": "oSiNCvecwwfg"
      },
      "source": [
        "from pyspark.sql import functions as F\n",
        "from pyspark.sql.functions import rank,sum,col\n",
        "from pyspark.sql import Window\n",
        "\n",
        "df=df.sample(0.20)\n",
        "\n",
        "window = Window.rowsBetween(Window.unboundedPreceding,Window.unboundedFollowing)\n",
        "# withColumn('Percent %',F.format_string(\"%5.0f%%\\n\",col('Credit_num')*100/col('total'))).\\\n",
        "tab = df.select(['Protocol','Flow Duration']).\\\n",
        "   groupBy('Protocol').\\\n",
        "   agg(F.count('Flow Duration').alias('Flow Duration'),\n",
        "       F.mean('Flow Duration').alias('Flow Duration_avg'),\n",
        "       F.min('Flow Duration').alias('Flow Duration_min'),\n",
        "       F.max('Flow Duration').alias('Flow Duration_max')).\\\n",
        "   withColumn('total',sum(col('Flow Duration')).over(window)).\\\n",
        "   withColumn('Percent',col('Flow Duration')*100/col('total')).\\\n",
        "   drop(col('total'))"
      ],
      "execution_count": null,
      "outputs": []
    },
    {
      "cell_type": "code",
      "metadata": {
        "colab": {
          "base_uri": "https://localhost:8080/"
        },
        "id": "Btj-fH8P77T8",
        "outputId": "c40fd9a9-c547-4db2-d13a-4611e3febf89"
      },
      "source": [
        "tab.show()"
      ],
      "execution_count": null,
      "outputs": [
        {
          "output_type": "stream",
          "text": [
            "+--------+-------------+--------------------+-----------------+-----------------+------------------+\n",
            "|Protocol|Flow Duration|   Flow Duration_avg|Flow Duration_min|Flow Duration_max|           Percent|\n",
            "+--------+-------------+--------------------+-----------------+-----------------+------------------+\n",
            "|       6|       166322|1.2785620778501943E7|                0|        119999997| 79.45255212936203|\n",
            "|      17|        40308|  1261140.0898332838|               63|        119999432| 19.25526070652304|\n",
            "|       0|         2705|  8.70480319064695E7|               44|        119997167|1.2921871641149354|\n",
            "+--------+-------------+--------------------+-----------------+-----------------+------------------+\n",
            "\n"
          ],
          "name": "stdout"
        }
      ]
    },
    {
      "cell_type": "markdown",
      "metadata": {
        "id": "SDBtbbwm5obT"
      },
      "source": [
        "### Correlation Matrix"
      ]
    },
    {
      "cell_type": "code",
      "metadata": {
        "colab": {
          "base_uri": "https://localhost:8080/",
          "height": 1000
        },
        "id": "g72LOQM-bBZ7",
        "outputId": "25903472-2c41-48b2-9337-22adc7ed6d64"
      },
      "source": [
        "\n",
        "from pandas.plotting import scatter_matrix\n",
        "import pandas as pd\n",
        "\n",
        "\n",
        "numeric_features = [t[0] for t in df.dtypes if t[1] == 'int' or t[1] == 'double']\n",
        "sampled_data = df.select(numeric_features).sample(False, 0.8).toPandas()\n",
        "axs = scatter_matrix(sampled_data, figsize=(50, 50))\n",
        "n = len(sampled_data.columns)\n",
        "for i in range(n):\n",
        "    v = axs[i, 0]\n",
        "    v.yaxis.label.set_rotation(0)\n",
        "    v.yaxis.label.set_ha('right')\n",
        "    v.set_yticks(())\n",
        "    h = axs[n-1, i]\n",
        "    h.xaxis.label.set_rotation(90)\n",
        "    h.set_xticks(())"
      ],
      "execution_count": 17,
      "outputs": [
        {
          "output_type": "stream",
          "text": [
            "/usr/local/lib/python3.6/dist-packages/pandas/plotting/_matplotlib/misc.py:80: UserWarning: Attempting to set identical left == right == 2.0 results in singular transformations; automatically expanding.\n",
            "  ax.set_xlim(boundaries_list[j])\n"
          ],
          "name": "stderr"
        },
        {
          "output_type": "error",
          "ename": "ValueError",
          "evalue": "ignored",
          "traceback": [
            "\u001b[0;31m---------------------------------------------------------------------------\u001b[0m",
            "\u001b[0;31mValueError\u001b[0m                                Traceback (most recent call last)",
            "\u001b[0;32m<ipython-input-17-d7b3c868ec4c>\u001b[0m in \u001b[0;36m<module>\u001b[0;34m()\u001b[0m\n\u001b[1;32m      6\u001b[0m \u001b[0mnumeric_features\u001b[0m \u001b[0;34m=\u001b[0m \u001b[0;34m[\u001b[0m\u001b[0mt\u001b[0m\u001b[0;34m[\u001b[0m\u001b[0;36m0\u001b[0m\u001b[0;34m]\u001b[0m \u001b[0;32mfor\u001b[0m \u001b[0mt\u001b[0m \u001b[0;32min\u001b[0m \u001b[0mdf\u001b[0m\u001b[0;34m.\u001b[0m\u001b[0mdtypes\u001b[0m \u001b[0;32mif\u001b[0m \u001b[0mt\u001b[0m\u001b[0;34m[\u001b[0m\u001b[0;36m1\u001b[0m\u001b[0;34m]\u001b[0m \u001b[0;34m==\u001b[0m \u001b[0;34m'int'\u001b[0m \u001b[0;32mor\u001b[0m \u001b[0mt\u001b[0m\u001b[0;34m[\u001b[0m\u001b[0;36m1\u001b[0m\u001b[0;34m]\u001b[0m \u001b[0;34m==\u001b[0m \u001b[0;34m'double'\u001b[0m\u001b[0;34m]\u001b[0m\u001b[0;34m\u001b[0m\u001b[0;34m\u001b[0m\u001b[0m\n\u001b[1;32m      7\u001b[0m \u001b[0msampled_data\u001b[0m \u001b[0;34m=\u001b[0m \u001b[0mdf\u001b[0m\u001b[0;34m.\u001b[0m\u001b[0mselect\u001b[0m\u001b[0;34m(\u001b[0m\u001b[0mnumeric_features\u001b[0m\u001b[0;34m)\u001b[0m\u001b[0;34m.\u001b[0m\u001b[0msample\u001b[0m\u001b[0;34m(\u001b[0m\u001b[0;32mFalse\u001b[0m\u001b[0;34m,\u001b[0m \u001b[0;36m0.8\u001b[0m\u001b[0;34m)\u001b[0m\u001b[0;34m.\u001b[0m\u001b[0mtoPandas\u001b[0m\u001b[0;34m(\u001b[0m\u001b[0;34m)\u001b[0m\u001b[0;34m\u001b[0m\u001b[0;34m\u001b[0m\u001b[0m\n\u001b[0;32m----> 8\u001b[0;31m \u001b[0maxs\u001b[0m \u001b[0;34m=\u001b[0m \u001b[0mscatter_matrix\u001b[0m\u001b[0;34m(\u001b[0m\u001b[0msampled_data\u001b[0m\u001b[0;34m,\u001b[0m \u001b[0mfigsize\u001b[0m\u001b[0;34m=\u001b[0m\u001b[0;34m(\u001b[0m\u001b[0;36m50\u001b[0m\u001b[0;34m,\u001b[0m \u001b[0;36m50\u001b[0m\u001b[0;34m)\u001b[0m\u001b[0;34m)\u001b[0m\u001b[0;34m\u001b[0m\u001b[0;34m\u001b[0m\u001b[0m\n\u001b[0m\u001b[1;32m      9\u001b[0m \u001b[0mn\u001b[0m \u001b[0;34m=\u001b[0m \u001b[0mlen\u001b[0m\u001b[0;34m(\u001b[0m\u001b[0msampled_data\u001b[0m\u001b[0;34m.\u001b[0m\u001b[0mcolumns\u001b[0m\u001b[0;34m)\u001b[0m\u001b[0;34m\u001b[0m\u001b[0;34m\u001b[0m\u001b[0m\n\u001b[1;32m     10\u001b[0m \u001b[0;32mfor\u001b[0m \u001b[0mi\u001b[0m \u001b[0;32min\u001b[0m \u001b[0mrange\u001b[0m\u001b[0;34m(\u001b[0m\u001b[0mn\u001b[0m\u001b[0;34m)\u001b[0m\u001b[0;34m:\u001b[0m\u001b[0;34m\u001b[0m\u001b[0;34m\u001b[0m\u001b[0m\n",
            "\u001b[0;32m/usr/local/lib/python3.6/dist-packages/pandas/plotting/_misc.py\u001b[0m in \u001b[0;36mscatter_matrix\u001b[0;34m(frame, alpha, figsize, ax, grid, diagonal, marker, density_kwds, hist_kwds, range_padding, **kwargs)\u001b[0m\n\u001b[1;32m    137\u001b[0m         \u001b[0mhist_kwds\u001b[0m\u001b[0;34m=\u001b[0m\u001b[0mhist_kwds\u001b[0m\u001b[0;34m,\u001b[0m\u001b[0;34m\u001b[0m\u001b[0;34m\u001b[0m\u001b[0m\n\u001b[1;32m    138\u001b[0m         \u001b[0mrange_padding\u001b[0m\u001b[0;34m=\u001b[0m\u001b[0mrange_padding\u001b[0m\u001b[0;34m,\u001b[0m\u001b[0;34m\u001b[0m\u001b[0;34m\u001b[0m\u001b[0m\n\u001b[0;32m--> 139\u001b[0;31m         \u001b[0;34m**\u001b[0m\u001b[0mkwargs\u001b[0m\u001b[0;34m,\u001b[0m\u001b[0;34m\u001b[0m\u001b[0;34m\u001b[0m\u001b[0m\n\u001b[0m\u001b[1;32m    140\u001b[0m     )\n\u001b[1;32m    141\u001b[0m \u001b[0;34m\u001b[0m\u001b[0m\n",
            "\u001b[0;32m/usr/local/lib/python3.6/dist-packages/pandas/plotting/_matplotlib/misc.py\u001b[0m in \u001b[0;36mscatter_matrix\u001b[0;34m(frame, alpha, figsize, ax, grid, diagonal, marker, density_kwds, hist_kwds, range_padding, **kwds)\u001b[0m\n\u001b[1;32m     78\u001b[0m                 )\n\u001b[1;32m     79\u001b[0m \u001b[0;34m\u001b[0m\u001b[0m\n\u001b[0;32m---> 80\u001b[0;31m                 \u001b[0max\u001b[0m\u001b[0;34m.\u001b[0m\u001b[0mset_xlim\u001b[0m\u001b[0;34m(\u001b[0m\u001b[0mboundaries_list\u001b[0m\u001b[0;34m[\u001b[0m\u001b[0mj\u001b[0m\u001b[0;34m]\u001b[0m\u001b[0;34m)\u001b[0m\u001b[0;34m\u001b[0m\u001b[0;34m\u001b[0m\u001b[0m\n\u001b[0m\u001b[1;32m     81\u001b[0m                 \u001b[0max\u001b[0m\u001b[0;34m.\u001b[0m\u001b[0mset_ylim\u001b[0m\u001b[0;34m(\u001b[0m\u001b[0mboundaries_list\u001b[0m\u001b[0;34m[\u001b[0m\u001b[0mi\u001b[0m\u001b[0;34m]\u001b[0m\u001b[0;34m)\u001b[0m\u001b[0;34m\u001b[0m\u001b[0;34m\u001b[0m\u001b[0m\n\u001b[1;32m     82\u001b[0m \u001b[0;34m\u001b[0m\u001b[0m\n",
            "\u001b[0;32m/usr/local/lib/python3.6/dist-packages/matplotlib/axes/_base.py\u001b[0m in \u001b[0;36mset_xlim\u001b[0;34m(self, left, right, emit, auto, xmin, xmax)\u001b[0m\n\u001b[1;32m   3182\u001b[0m \u001b[0;34m\u001b[0m\u001b[0m\n\u001b[1;32m   3183\u001b[0m         \u001b[0mself\u001b[0m\u001b[0;34m.\u001b[0m\u001b[0m_process_unit_info\u001b[0m\u001b[0;34m(\u001b[0m\u001b[0mxdata\u001b[0m\u001b[0;34m=\u001b[0m\u001b[0;34m(\u001b[0m\u001b[0mleft\u001b[0m\u001b[0;34m,\u001b[0m \u001b[0mright\u001b[0m\u001b[0;34m)\u001b[0m\u001b[0;34m)\u001b[0m\u001b[0;34m\u001b[0m\u001b[0;34m\u001b[0m\u001b[0m\n\u001b[0;32m-> 3184\u001b[0;31m         \u001b[0mleft\u001b[0m \u001b[0;34m=\u001b[0m \u001b[0mself\u001b[0m\u001b[0;34m.\u001b[0m\u001b[0m_validate_converted_limits\u001b[0m\u001b[0;34m(\u001b[0m\u001b[0mleft\u001b[0m\u001b[0;34m,\u001b[0m \u001b[0mself\u001b[0m\u001b[0;34m.\u001b[0m\u001b[0mconvert_xunits\u001b[0m\u001b[0;34m)\u001b[0m\u001b[0;34m\u001b[0m\u001b[0;34m\u001b[0m\u001b[0m\n\u001b[0m\u001b[1;32m   3185\u001b[0m         \u001b[0mright\u001b[0m \u001b[0;34m=\u001b[0m \u001b[0mself\u001b[0m\u001b[0;34m.\u001b[0m\u001b[0m_validate_converted_limits\u001b[0m\u001b[0;34m(\u001b[0m\u001b[0mright\u001b[0m\u001b[0;34m,\u001b[0m \u001b[0mself\u001b[0m\u001b[0;34m.\u001b[0m\u001b[0mconvert_xunits\u001b[0m\u001b[0;34m)\u001b[0m\u001b[0;34m\u001b[0m\u001b[0;34m\u001b[0m\u001b[0m\n\u001b[1;32m   3186\u001b[0m \u001b[0;34m\u001b[0m\u001b[0m\n",
            "\u001b[0;32m/usr/local/lib/python3.6/dist-packages/matplotlib/axes/_base.py\u001b[0m in \u001b[0;36m_validate_converted_limits\u001b[0;34m(self, limit, convert)\u001b[0m\n\u001b[1;32m   3099\u001b[0m             if (isinstance(converted_limit, Real)\n\u001b[1;32m   3100\u001b[0m                     and not np.isfinite(converted_limit)):\n\u001b[0;32m-> 3101\u001b[0;31m                 \u001b[0;32mraise\u001b[0m \u001b[0mValueError\u001b[0m\u001b[0;34m(\u001b[0m\u001b[0;34m\"Axis limits cannot be NaN or Inf\"\u001b[0m\u001b[0;34m)\u001b[0m\u001b[0;34m\u001b[0m\u001b[0;34m\u001b[0m\u001b[0m\n\u001b[0m\u001b[1;32m   3102\u001b[0m             \u001b[0;32mreturn\u001b[0m \u001b[0mconverted_limit\u001b[0m\u001b[0;34m\u001b[0m\u001b[0;34m\u001b[0m\u001b[0m\n\u001b[1;32m   3103\u001b[0m \u001b[0;34m\u001b[0m\u001b[0m\n",
            "\u001b[0;31mValueError\u001b[0m: Axis limits cannot be NaN or Inf"
          ]
        },
        {
          "output_type": "display_data",
          "data": {
            "image/png": "[encoded data removed]",
            "text/plain": [
              "<Figure size 3600x3600 with 4624 Axes>"
            ]
          },
          "metadata": {
            "tags": [],
            "needs_background": "light"
          }
        }
      ]
    },
    {
      "cell_type": "code",
      "metadata": {
        "colab": {
          "base_uri": "https://localhost:8080/"
        },
        "id": "6WO6ef3udzJ6",
        "outputId": "33c76b14-24f2-4bd0-f264-4803125608ad"
      },
      "source": [
        "import six\n",
        "for i in df.columns:\n",
        "    if not( isinstance(df.select(i).take(1)[0][0], six.string_types)):\n",
        "        print( \"Correlation to Label for \", i, df.stat.corr('LabelIndex',i))"
      ],
      "execution_count": 15,
      "outputs": [
        {
          "output_type": "stream",
          "text": [
            "Correlation to MV for  Dst Port -0.057519205369691344\n",
            "Correlation to MV for  Protocol 0.32766492952291687\n",
            "Correlation to MV for  Timestamp nan\n",
            "Correlation to MV for  Flow Duration 0.3582927233917063\n",
            "Correlation to MV for  Tot Fwd Pkts 0.19725778903639474\n",
            "Correlation to MV for  Tot Bwd Pkts 0.1442792331750412\n",
            "Correlation to MV for  TotLen Fwd Pkts 0.14419095903897955\n",
            "Correlation to MV for  TotLen Bwd Pkts 0.0550412399219716\n",
            "Correlation to MV for  Fwd Pkt Len Max 0.2150394034649986\n",
            "Correlation to MV for  Fwd Pkt Len Min 0.299938919266105\n",
            "Correlation to MV for  Fwd Pkt Len Mean 0.09946693899670661\n",
            "Correlation to MV for  Fwd Pkt Len Std -0.0039055946752515947\n",
            "Correlation to MV for  Bwd Pkt Len Max 0.5467278320909231\n",
            "Correlation to MV for  Bwd Pkt Len Min 0.3402392716883845\n",
            "Correlation to MV for  Bwd Pkt Len Mean 0.4934484812278822\n",
            "Correlation to MV for  Bwd Pkt Len Std 0.481764052880998\n",
            "Correlation to MV for  Flow Byts/s nan\n",
            "Correlation to MV for  Flow Pkts/s nan\n",
            "Correlation to MV for  Flow IAT Mean 0.1661564792144314\n",
            "Correlation to MV for  Flow IAT Std 0.2655994066773242\n",
            "Correlation to MV for  Flow IAT Max 0.28126623598880496\n",
            "Correlation to MV for  Flow IAT Min 0.051526022994509264\n",
            "Correlation to MV for  Fwd IAT Tot 0.3547631071140551\n",
            "Correlation to MV for  Fwd IAT Mean 0.21442053684056456\n",
            "Correlation to MV for  Fwd IAT Std 0.2559640326459939\n",
            "Correlation to MV for  Fwd IAT Max 0.28377328563775295\n",
            "Correlation to MV for  Fwd IAT Min 0.09158342198060548\n",
            "Correlation to MV for  Bwd IAT Tot 0.3108981159464548\n",
            "Correlation to MV for  Bwd IAT Mean 0.2171595242535247\n",
            "Correlation to MV for  Bwd IAT Std 0.23021647199166598\n",
            "Correlation to MV for  Bwd IAT Max 0.24501091560731608\n",
            "Correlation to MV for  Bwd IAT Min 0.0990426587476401\n",
            "Correlation to MV for  Fwd PSH Flags 0.22373200754238973\n",
            "Correlation to MV for  Bwd PSH Flags nan\n",
            "Correlation to MV for  Fwd URG Flags nan\n",
            "Correlation to MV for  Bwd URG Flags nan\n",
            "Correlation to MV for  Fwd Header Len 0.15908311157428073\n",
            "Correlation to MV for  Bwd Header Len 0.14993414607963457\n",
            "Correlation to MV for  Fwd Pkts/s 0.1069650148322135\n",
            "Correlation to MV for  Bwd Pkts/s 0.05303851336124955\n",
            "Correlation to MV for  Pkt Len Min 0.3027441905135891\n",
            "Correlation to MV for  Pkt Len Max 0.41537822572360383\n",
            "Correlation to MV for  Pkt Len Mean 0.43360433392148157\n",
            "Correlation to MV for  Pkt Len Std 0.35946520808479054\n",
            "Correlation to MV for  Pkt Len Var 0.4375883141794682\n",
            "Correlation to MV for  FIN Flag Cnt 0.0438073769814138\n",
            "Correlation to MV for  SYN Flag Cnt 0.22373200754238973\n",
            "Correlation to MV for  RST Flag Cnt -0.12590818560681552\n",
            "Correlation to MV for  PSH Flag Cnt 0.06413464543786088\n",
            "Correlation to MV for  ACK Flag Cnt -0.24253940039691044\n",
            "Correlation to MV for  URG Flag Cnt 0.1239529134596912\n",
            "Correlation to MV for  CWE Flag Count nan\n",
            "Correlation to MV for  ECE Flag Cnt -0.12590818560681552\n",
            "Correlation to MV for  Down/Up Ratio -0.06312475843084199\n",
            "Correlation to MV for  Pkt Size Avg 0.442384188854004\n",
            "Correlation to MV for  Fwd Seg Size Avg 0.09946693899670661\n",
            "Correlation to MV for  Bwd Seg Size Avg 0.4934484812278822\n",
            "Correlation to MV for  Fwd Byts/b Avg nan\n",
            "Correlation to MV for  Fwd Pkts/b Avg nan\n",
            "Correlation to MV for  Fwd Blk Rate Avg nan\n",
            "Correlation to MV for  Bwd Byts/b Avg nan\n",
            "Correlation to MV for  Bwd Pkts/b Avg nan\n",
            "Correlation to MV for  Bwd Blk Rate Avg nan\n",
            "Correlation to MV for  Subflow Fwd Pkts 0.19725778903639474\n",
            "Correlation to MV for  Subflow Fwd Byts 0.14419095903897955\n",
            "Correlation to MV for  Subflow Bwd Pkts 0.1442792331750412\n",
            "Correlation to MV for  Subflow Bwd Byts 0.0550412399219716\n",
            "Correlation to MV for  Init Fwd Win Byts 0.14798050017305284\n",
            "Correlation to MV for  Init Bwd Win Byts 0.5456597481217944\n",
            "Correlation to MV for  Fwd Act Data Pkts 0.1134409756853754\n",
            "Correlation to MV for  Fwd Seg Size Min -0.3726066991410949\n",
            "Correlation to MV for  Active Mean 0.15225408281755837\n",
            "Correlation to MV for  Active Std 0.1323288323548249\n",
            "Correlation to MV for  Active Max 0.16531010110315955\n",
            "Correlation to MV for  Active Min 0.11422287750338368\n",
            "Correlation to MV for  Idle Mean 0.24132134224694524\n",
            "Correlation to MV for  Idle Std 0.13416136858338637\n",
            "Correlation to MV for  Idle Max 0.2484156992422385\n",
            "Correlation to MV for  Idle Min 0.22581554993110914\n",
            "Correlation to MV for  LabelIndex 1.0\n"
          ],
          "name": "stdout"
        }
      ]
    },
    {
      "cell_type": "markdown",
      "metadata": {
        "id": "-MRbIN8OfUPq"
      },
      "source": [
        "The correlation coefficient ranges from –1 to 1. When it is close to 1, it means that there is a strong positive correlation; for example, the median value tends to go up when the number of rooms goes up. When the coefficient is close to –1, it means that there is a strong negative correlation; the median value tends to go down when the percentage of the lower status of the population goes up. Finally, coefficients close to zero mean that there is no linear correlation."
      ]
    },
    {
      "cell_type": "code",
      "metadata": {
        "colab": {
          "base_uri": "https://localhost:8080/"
        },
        "id": "BtqPVRWMgLGW",
        "outputId": "51ef4a41-b4b6-4634-8f00-d187e7832b88"
      },
      "source": [
        "from pyspark.ml.feature import VectorAssembler\n",
        "vectorAssembler = VectorAssembler(inputCols = ['Protocol','Flow Duration','Bwd Pkt Len Max','Bwd Pkt Len Std','Bwd Pkt Len Mean','Pkt Size Avg','Bwd Seg Size Avg','Init Bwd Win Byts'], outputCol = 'features')\n",
        "vdf = vectorAssembler.transform(df)\n",
        "vdf = vdf.select(['features', 'LabelIndex'])\n",
        "vdf.show(3)"
      ],
      "execution_count": 19,
      "outputs": [
        {
          "output_type": "stream",
          "text": [
            "+--------------------+----------+\n",
            "|            features|LabelIndex|\n",
            "+--------------------+----------+\n",
            "|[6.0,141385.0,146...|       1.0|\n",
            "|(8,[0,1,5],[6.0,2...|       1.0|\n",
            "|[6.0,279824.0,146...|       1.0|\n",
            "+--------------------+----------+\n",
            "only showing top 3 rows\n",
            "\n"
          ],
          "name": "stdout"
        }
      ]
    },
    {
      "cell_type": "code",
      "metadata": {
        "id": "r-S3tJE_nAEq"
      },
      "source": [
        "splits = vdf.randomSplit([0.7, 0.3])\n",
        "train_df = splits[0]\n",
        "test_df = splits[1]"
      ],
      "execution_count": 20,
      "outputs": []
    },
    {
      "cell_type": "code",
      "metadata": {
        "colab": {
          "base_uri": "https://localhost:8080/"
        },
        "id": "kGkpOMugnElb",
        "outputId": "a75dd29c-28eb-4fe7-82a0-93a940849d5d"
      },
      "source": [
        "from pyspark.ml.regression import DecisionTreeRegressor\n",
        "from pyspark.ml.evaluation import RegressionEvaluator\n",
        "\n",
        "dt = DecisionTreeRegressor(featuresCol ='features', labelCol = 'LabelIndex')\n",
        "dt_model = dt.fit(train_df)\n",
        "dt_predictions = dt_model.transform(test_df)\n",
        "dt_evaluator = RegressionEvaluator(\n",
        "    labelCol=\"LabelIndex\", predictionCol=\"prediction\", metricName=\"rmse\")\n",
        "rmse = dt_evaluator.evaluate(dt_predictions)\n",
        "print(\"Root Mean Squared Error (RMSE) on test data = %g\" % rmse)"
      ],
      "execution_count": 23,
      "outputs": [
        {
          "output_type": "stream",
          "text": [
            "Root Mean Squared Error (RMSE) on test data = 0.0595708\n"
          ],
          "name": "stdout"
        }
      ]
    },
    {
      "cell_type": "code",
      "metadata": {
        "colab": {
          "base_uri": "https://localhost:8080/"
        },
        "id": "GYyfdNfEntM1",
        "outputId": "53bb659b-a562-4e16-abaa-fc91b9ee455b"
      },
      "source": [
        "dt_model.featureImportances"
      ],
      "execution_count": 24,
      "outputs": [
        {
          "output_type": "execute_result",
          "data": {
            "text/plain": [
              "SparseVector(8, {0: 0.1453, 1: 0.7986, 2: 0.0151, 3: 0.0167, 4: 0.0, 5: 0.0231, 7: 0.0012})"
            ]
          },
          "metadata": {
            "tags": []
          },
          "execution_count": 24
        }
      ]
    },
    {
      "cell_type": "code",
      "metadata": {
        "colab": {
          "base_uri": "https://localhost:8080/"
        },
        "id": "nWrBmYWrn1xT",
        "outputId": "aa28cbf8-bf16-4f97-8f8f-10db7709fbe1"
      },
      "source": [
        "df.take(1)"
      ],
      "execution_count": 25,
      "outputs": [
        {
          "output_type": "execute_result",
          "data": {
            "text/plain": [
              "[Row(Dst Port=443, Protocol=6, Timestamp=2, Flow Duration=141385, Tot Fwd Pkts=9, Tot Bwd Pkts=7, TotLen Fwd Pkts=553, TotLen Bwd Pkts=3773, Fwd Pkt Len Max=202, Fwd Pkt Len Min=0, Fwd Pkt Len Mean=61.44444444, Fwd Pkt Len Std=87.53443767, Bwd Pkt Len Max=1460, Bwd Pkt Len Min=0, Bwd Pkt Len Mean=539.0, Bwd Pkt Len Std=655.4329358, Flow Byts/s=30597.30523, Flow Pkts/s=113.1661775, Flow IAT Mean=9425.666667, Flow IAT Std=19069.11685, Flow IAT Max=Decimal('73403'), Flow IAT Min=Decimal('1'), Fwd IAT Tot=Decimal('141385'), Fwd IAT Mean=17673.125, Fwd IAT Std=23965.32327, Fwd IAT Max=Decimal('73403'), Fwd IAT Min=Decimal('22'), Bwd IAT Tot=Decimal('51417'), Bwd IAT Mean=8569.5, Bwd IAT Std=13036.89082, Bwd IAT Max=Decimal('31525'), Bwd IAT Min=Decimal('1'), Fwd PSH Flags=0, Bwd PSH Flags=0, Fwd URG Flags=0, Bwd URG Flags=0, Fwd Header Len=192, Bwd Header Len=152, Fwd Pkts/s=63.65597482, Bwd Pkts/s=49.51020264, Pkt Len Min=0, Pkt Len Max=1460, Pkt Len Mean=254.4705882, Pkt Len Std=474.7129551, Pkt Len Var=225352.3897, FIN Flag Cnt=0, SYN Flag Cnt=0, RST Flag Cnt=1, PSH Flag Cnt=1, ACK Flag Cnt=0, URG Flag Cnt=0, CWE Flag Count=0, ECE Flag Cnt=1, Down/Up Ratio=0, Pkt Size Avg=270.375, Fwd Seg Size Avg=61.44444444, Bwd Seg Size Avg=539.0, Fwd Byts/b Avg=0, Fwd Pkts/b Avg=0, Fwd Blk Rate Avg=0, Bwd Byts/b Avg=0, Bwd Pkts/b Avg=0, Bwd Blk Rate Avg=0, Subflow Fwd Pkts=9, Subflow Fwd Byts=553, Subflow Bwd Pkts=7, Subflow Bwd Byts=3773, Init Fwd Win Byts=8192, Init Bwd Win Byts=119, Fwd Act Data Pkts=4, Fwd Seg Size Min=20, Active Mean=0.0, Active Std=0.0, Active Max=Decimal('0'), Active Min=Decimal('0'), Idle Mean=0.0, Idle Std=0.0, Idle Max=Decimal('0'), Idle Min=Decimal('0'), LabelIndex=1.0)]"
            ]
          },
          "metadata": {
            "tags": []
          },
          "execution_count": 25
        }
      ]
    },
    {
      "cell_type": "code",
      "metadata": {
        "id": "8SqtTXMU58YQ",
        "colab": {
          "base_uri": "https://localhost:8080/"
        },
        "outputId": "b4b4afd7-c1d5-4052-af7d-227ccc756f68"
      },
      "source": [
        "from pyspark.mllib.stat import Statistics\n",
        "import pandas as pd\n",
        "\n",
        "corr_data = df.select(num_cols)\n",
        "\n",
        "col_names = corr_data.columns\n",
        "features = corr_data.rdd.map(lambda row: row[0:])\n",
        "corr_mat=Statistics.corr(features, method=\"pearson\")\n",
        "corr_df = pd.DataFrame(corr_mat)\n",
        "corr_df.index, corr_df.columns = col_names, col_names\n",
        "\n",
        "print(corr_df.to_string())"
      ],
      "execution_count": 16,
      "outputs": [
        {
          "output_type": "stream",
          "text": [
            "                   Dst Port  Protocol  Timestamp  Flow Duration  Tot Fwd Pkts  Tot Bwd Pkts  TotLen Fwd Pkts  TotLen Bwd Pkts  Fwd Pkt Len Max  Fwd Pkt Len Min  Fwd Pkt Len Mean  Fwd Pkt Len Std  Bwd Pkt Len Max  Bwd Pkt Len Min  Bwd Pkt Len Mean  Bwd Pkt Len Std  Flow Byts/s  Flow Pkts/s  Flow IAT Mean  Flow IAT Std  Flow IAT Max  Flow IAT Min  Fwd IAT Tot  Fwd IAT Mean  Fwd IAT Std  Fwd IAT Max  Fwd IAT Min  Bwd IAT Tot  Bwd IAT Mean  Bwd IAT Std  Bwd IAT Max  Bwd IAT Min  Fwd PSH Flags  Bwd PSH Flags  Fwd URG Flags  Bwd URG Flags  Fwd Header Len  Bwd Header Len  Fwd Pkts/s  Bwd Pkts/s  Pkt Len Min  Pkt Len Max  Pkt Len Mean  Pkt Len Std  Pkt Len Var  FIN Flag Cnt  SYN Flag Cnt  RST Flag Cnt  PSH Flag Cnt  ACK Flag Cnt  URG Flag Cnt  CWE Flag Count  ECE Flag Cnt  Down/Up Ratio  Pkt Size Avg  Fwd Seg Size Avg  Bwd Seg Size Avg  Fwd Byts/b Avg  Fwd Pkts/b Avg  Fwd Blk Rate Avg  Bwd Byts/b Avg  Bwd Pkts/b Avg  Bwd Blk Rate Avg  Subflow Fwd Pkts  Subflow Fwd Byts  Subflow Bwd Pkts  Subflow Bwd Byts  Init Fwd Win Byts  Init Bwd Win Byts  Fwd Act Data Pkts  Fwd Seg Size Min  Active Mean  Active Std  Active Max  Active Min  Idle Mean  Idle Std  Idle Max  Idle Min\n",
            "Dst Port           1.000000 -0.137164        NaN      -0.132108     -0.059381     -0.056632        -0.060192        -0.018941        -0.166828        -0.127030         -0.176684        -0.135176        -0.119656        -0.150273         -0.042378        -0.028048          NaN          NaN      -0.002704     -0.105350     -0.094992      0.047533    -0.130652     -0.031885    -0.102906    -0.094656     0.021274    -0.112108     -0.082588    -0.091305    -0.096826    -0.037301       0.043176            NaN            NaN            NaN       -0.035605       -0.063302    0.227648    0.043227    -0.130649    -0.140580     -0.155619    -0.126017    -0.149764      0.067554      0.043176      0.030211     -0.046581      0.122286      0.260181             NaN      0.030211      -0.083941     -0.160578         -0.176684         -0.042378             NaN             NaN               NaN             NaN             NaN               NaN         -0.059381         -0.060192         -0.056632         -0.018941           0.014494          -0.144740          -0.029070          0.169891    -0.067852   -0.059750   -0.073701   -0.050470  -0.085261 -0.049934 -0.087311 -0.079581\n",
            "Protocol          -0.137164  1.000000        NaN      -0.008914     -0.057779      0.029026         0.019580         0.033332        -0.089968         0.742297         -0.012100        -0.143329        -0.002742         0.782969          0.153493        -0.063285          NaN          NaN       0.049126      0.051720     -0.023148      0.002478    -0.010401      0.118131    -0.021962    -0.021599     0.110944     0.135562      0.151333     0.046728     0.068335     0.096356      -0.018729            NaN            NaN            NaN       -0.019268       -0.007463   -0.011033    0.004870     0.756394    -0.043307      0.106969    -0.046256    -0.034125     -0.003660     -0.018729     -0.153684     -0.169299     -0.144754     -0.010425             NaN     -0.153684       0.117087      0.168451         -0.012100          0.153493             NaN             NaN               NaN             NaN             NaN               NaN         -0.057779          0.019580          0.029026          0.033332          -0.144392          -0.047321           0.039918         -0.565192    -0.206748   -0.180593   -0.217887   -0.153498  -0.005693 -0.089242 -0.020676  0.003512\n",
            "Timestamp               NaN       NaN        1.0            NaN           NaN           NaN              NaN              NaN              NaN              NaN               NaN              NaN              NaN              NaN               NaN              NaN          NaN          NaN            NaN           NaN           NaN           NaN          NaN           NaN          NaN          NaN          NaN          NaN           NaN          NaN          NaN          NaN            NaN            NaN            NaN            NaN             NaN             NaN         NaN         NaN          NaN          NaN           NaN          NaN          NaN           NaN           NaN           NaN           NaN           NaN           NaN             NaN           NaN            NaN           NaN               NaN               NaN             NaN             NaN               NaN             NaN             NaN               NaN               NaN               NaN               NaN               NaN                NaN                NaN                NaN               NaN          NaN         NaN         NaN         NaN        NaN       NaN       NaN       NaN\n",
            "Flow Duration     -0.132108 -0.008914        NaN       1.000000      0.474359      0.334590         0.166812         0.115830         0.048129         0.010950         -0.048430        -0.038452         0.218660         0.049649          0.239046         0.188495          NaN          NaN       0.366959      0.640087      0.699634      0.104176     0.996263      0.485012     0.616742     0.703140     0.200090     0.854150      0.491906     0.570049     0.588107     0.173066       0.270847            NaN            NaN            NaN        0.352242        0.339783   -0.015520   -0.006881     0.011458     0.175258      0.191450     0.163356     0.244606     -0.004172      0.270847     -0.049383     -0.054037     -0.071674     -0.001201             NaN     -0.049383      -0.009926      0.171452         -0.048430          0.239046             NaN             NaN               NaN             NaN             NaN               NaN          0.474359          0.166812          0.334590          0.115830           0.238637           0.121663           0.195518         -0.363328     0.414486    0.384153    0.460145    0.299023   0.671183  0.376524  0.691802  0.626324\n",
            "Tot Fwd Pkts      -0.059381 -0.057779        NaN       0.474359      1.000000      0.741305         0.667208         0.268521         0.081421        -0.018369          0.008272         0.012545         0.144037         0.027010          0.154036         0.105558          NaN          NaN       0.043958      0.101506      0.164078      0.002281     0.476441      0.057631     0.109062     0.167270     0.005858     0.409220      0.049842     0.072943     0.104379     0.015704       0.243306            NaN            NaN            NaN        0.926291        0.708556   -0.010775   -0.005834    -0.018358     0.123360      0.138361     0.102906     0.133515     -0.003147      0.243306     -0.018632     -0.005170     -0.041160     -0.010335             NaN     -0.018632      -0.014909      0.125447          0.008272          0.154036             NaN             NaN               NaN             NaN             NaN               NaN          1.000000          0.667208          0.741305          0.268521           0.327225           0.213588           0.848468         -0.154037     0.226925    0.216496    0.260573    0.162194   0.135055  0.151054  0.150905  0.112976\n",
            "Tot Bwd Pkts      -0.056632  0.029026        NaN       0.334590      0.741305      1.000000         0.591053         0.727701         0.157407        -0.006969          0.096931         0.100392         0.177413         0.033820          0.253563         0.134278          NaN          NaN       0.021027      0.069299      0.132682     -0.003076     0.326812      0.041450     0.083005     0.110994     0.003108     0.399172      0.051147     0.086409     0.162430     0.015517       0.202268            NaN            NaN            NaN        0.736504        0.959119   -0.013550   -0.002753    -0.006992     0.181654      0.278172     0.181551     0.201896     -0.003388      0.202268      0.069260      0.077336     -0.084608     -0.008223             NaN      0.069260       0.275775      0.261759          0.096931          0.253563             NaN             NaN               NaN             NaN             NaN               NaN          0.741305          0.591053          1.000000          0.727701           0.312738           0.183200           0.666311         -0.010340     0.007346    0.030836    0.031933   -0.003146   0.104092  0.125964  0.120466  0.085331\n",
            "TotLen Fwd Pkts   -0.060192  0.019580        NaN       0.166812      0.667208      0.591053         1.000000         0.318987         0.302036        -0.010220          0.220979         0.222006         0.275076        -0.020278          0.251593         0.245691          NaN          NaN       0.013091      0.058685      0.088740     -0.004408     0.167364      0.027545     0.079842     0.092563    -0.005497     0.201024      0.035384     0.076123     0.099853     0.001124       0.025196            NaN            NaN            NaN        0.596308        0.471952   -0.014973   -0.004607    -0.010221     0.289522      0.293130     0.280435     0.269813     -0.004289      0.025196      0.128967      0.149403     -0.152858     -0.011427             NaN      0.128967       0.052140      0.282331          0.220979          0.251593             NaN             NaN               NaN             NaN             NaN               NaN          0.667208          1.000000          0.591053          0.318987           0.158008           0.209831           0.765176         -0.002376     0.008247    0.025026    0.030708    0.000600   0.066742  0.041839  0.068563  0.057676\n",
            "TotLen Bwd Pkts   -0.018941  0.033332        NaN       0.115830      0.268521      0.727701         0.318987         1.000000         0.054228         0.004925          0.013474         0.018979         0.100166         0.002896          0.249969         0.079815          NaN          NaN       0.005734      0.039145      0.127368     -0.000777     0.101503      0.012761     0.054887     0.088945    -0.001043     0.136258      0.011527     0.049898     0.149370     0.000089       0.009603            NaN            NaN            NaN        0.222031        0.651349   -0.002628   -0.001083     0.005088     0.091156      0.267744     0.117349     0.179523     -0.000711      0.009603      0.012139      0.011701     -0.024076     -0.002026             NaN      0.012139       0.055714      0.249651          0.013474          0.249969             NaN             NaN               NaN             NaN             NaN               NaN          0.268521          0.318987          0.727701          1.000000           0.017639           0.021970           0.281895         -0.024290     0.015830    0.044547    0.044157    0.000558   0.101427  0.176048  0.128410  0.076469\n",
            "Fwd Pkt Len Max   -0.166828 -0.089968        NaN       0.048129      0.081421      0.157407         0.302036         0.054228         1.000000        -0.079459          0.934409         0.938337         0.709523        -0.103394          0.536874         0.704973          NaN          NaN      -0.000947      0.066651      0.076626     -0.021125     0.048506      0.023282     0.111385     0.085786    -0.032919     0.096684      0.048524     0.117570     0.110882    -0.012182      -0.058378            NaN            NaN            NaN        0.116970        0.176218   -0.066725   -0.016372    -0.080609     0.887284      0.767991     0.887465     0.615195     -0.019468     -0.058378      0.808763      0.808474     -0.754387     -0.054055             NaN      0.808763       0.315097      0.768738          0.934409          0.536874             NaN             NaN               NaN             NaN             NaN               NaN          0.081421          0.302036          0.157407          0.054228           0.384398           0.568249           0.134583          0.130441    -0.053544   -0.046870   -0.055423   -0.039604   0.040588 -0.013079  0.035712  0.042312\n",
            "Fwd Pkt Len Min   -0.127030  0.742297        NaN       0.010950     -0.018369     -0.006969        -0.010220         0.004925        -0.079459         1.000000          0.037846        -0.140731        -0.011534         0.807637          0.140724        -0.073098          NaN          NaN       0.046984      0.025061      0.014610      0.032910     0.010835      0.066654    -0.011377     0.015570     0.075309     0.017056      0.050973    -0.002452     0.013051     0.052503       0.005154            NaN            NaN            NaN       -0.030065       -0.021888   -0.000814    0.061958     0.994865    -0.048337      0.124409    -0.065494    -0.049177     -0.003417      0.005154     -0.143499     -0.158079     -0.130007      0.006636             NaN     -0.143499       0.088374      0.203133          0.037846          0.140724             NaN             NaN               NaN             NaN             NaN               NaN         -0.018369         -0.010220         -0.006969          0.004925          -0.133662          -0.044144          -0.000688         -0.578428    -0.010484   -0.008542   -0.010245   -0.008005   0.019037 -0.005724  0.016807  0.019895\n",
            "Fwd Pkt Len Mean  -0.176684 -0.012100        NaN      -0.048430      0.008272      0.096931         0.220979         0.013474         0.934409         0.037846          1.000000         0.976642         0.495607        -0.012596          0.391373         0.504658          NaN          NaN      -0.021444      0.006529      0.007338     -0.019016    -0.048177     -0.010424     0.034228     0.013576    -0.026913    -0.009584      0.006383     0.038964     0.032755    -0.009994      -0.059445            NaN            NaN            NaN        0.048133        0.120464   -0.070947   -0.008507     0.035896     0.738306      0.678014     0.773858     0.437825     -0.021770     -0.059445      0.869293      0.869809     -0.844074     -0.057408             NaN      0.869293       0.409743      0.699095          1.000000          0.391373             NaN             NaN               NaN             NaN             NaN               NaN          0.008272          0.220979          0.096931          0.013474           0.387057           0.346321           0.070411          0.076088    -0.065411   -0.058600   -0.070403   -0.048021  -0.018949 -0.027305 -0.022050 -0.016076\n",
            "Fwd Pkt Len Std   -0.135176 -0.143329        NaN      -0.038452      0.012545      0.100392         0.222006         0.018979         0.938337        -0.140731          0.976642         1.000000         0.466762        -0.156552          0.345059         0.488752          NaN          NaN      -0.029473     -0.000269      0.000560     -0.024614    -0.037924     -0.021288     0.031724     0.005946    -0.040085     0.002206     -0.001698     0.039917     0.029478    -0.023811      -0.071708            NaN            NaN            NaN        0.052115        0.124365   -0.071002   -0.019143    -0.141732     0.725916      0.631249     0.767023     0.426718     -0.020848     -0.071708      0.909426      0.887432     -0.811090     -0.058818             NaN      0.909426       0.400182      0.638704          0.976642          0.345059             NaN             NaN               NaN             NaN             NaN               NaN          0.012545          0.222006          0.100392          0.018979           0.409257           0.316181           0.067841          0.176951    -0.062351   -0.055533   -0.066721   -0.045887  -0.021245 -0.031908 -0.025197 -0.017762\n",
            "Bwd Pkt Len Max   -0.119656 -0.002742        NaN       0.218660      0.144037      0.177413         0.275076         0.100166         0.709523        -0.011534          0.495607         0.466762         1.000000        -0.009697          0.850702         0.978461          NaN          NaN       0.061105      0.241190      0.280297     -0.012446     0.217710      0.117039     0.322072     0.291776    -0.015467     0.271756      0.149190     0.331081     0.331124     0.007733      -0.023677            NaN            NaN            NaN        0.169132        0.190826   -0.038727   -0.013273    -0.011521     0.942185      0.837013     0.889328     0.876554     -0.010641     -0.023677      0.383525      0.422269     -0.410923     -0.030315             NaN      0.383525       0.037666      0.818322          0.495607          0.850702             NaN             NaN               NaN             NaN             NaN               NaN          0.144037          0.275076          0.177413          0.100166           0.209174           0.798702           0.167314          0.034584    -0.024891   -0.020738   -0.023549   -0.018454   0.241719  0.042358  0.233200  0.241682\n",
            "Bwd Pkt Len Min   -0.150273  0.782969        NaN       0.049649      0.027010      0.033820        -0.020278         0.002896        -0.103394         0.807637         -0.012596        -0.156552        -0.009697         1.000000          0.177478        -0.085127          NaN          NaN       0.007289      0.012285     -0.001382     -0.003093     0.050223      0.020498    -0.005710    -0.000652     0.019913     0.066770      0.030404    -0.005656     0.004560     0.034769       0.087612            NaN            NaN            NaN        0.023120        0.026323   -0.012114    0.003198     0.817903    -0.053139      0.113178    -0.052412    -0.052410     -0.003868      0.087612     -0.162458     -0.178965     -0.124486     -0.011020             NaN     -0.162458       0.086160      0.189047         -0.012596          0.177478             NaN             NaN               NaN             NaN             NaN               NaN          0.027010         -0.020278          0.033820          0.002896          -0.075877          -0.011082          -0.009134         -0.609329    -0.012775   -0.010798   -0.013302   -0.009664  -0.000982 -0.002807 -0.001284 -0.001369\n",
            "Bwd Pkt Len Mean  -0.042378  0.153493        NaN       0.239046      0.154036      0.253563         0.251593         0.249969         0.536874         0.140724          0.391373         0.345059         0.850702         0.177478          1.000000         0.872899          NaN          NaN       0.054490      0.253929      0.336058     -0.012345     0.235996      0.109401     0.344770     0.340221    -0.011959     0.291251      0.131496     0.327970     0.380047     0.013237      -0.003111            NaN            NaN            NaN        0.158164        0.239253   -0.038606   -0.010953     0.142711     0.799995      0.923240     0.836332     0.926806     -0.010771     -0.003111      0.336933      0.361346     -0.411172     -0.030685             NaN      0.336933       0.061556      0.913022          0.391373          1.000000             NaN             NaN               NaN             NaN             NaN               NaN          0.154036          0.251593          0.253563          0.249969           0.171558           0.533128           0.167370         -0.088832    -0.023032   -0.013219   -0.016617   -0.019510   0.299026  0.074554  0.292149  0.294839\n",
            "Bwd Pkt Len Std   -0.028048 -0.063285        NaN       0.188495      0.105558      0.134278         0.245691         0.079815         0.704973        -0.073098          0.504658         0.488752         0.978461        -0.085127          0.872899         1.000000          NaN          NaN       0.054493      0.231077      0.269352     -0.013450     0.187366      0.106382     0.311978     0.279848    -0.018653     0.237580      0.136849     0.318341     0.315948     0.004145      -0.039657            NaN            NaN            NaN        0.129212        0.143979   -0.041419   -0.013817    -0.073807     0.935350      0.841969     0.908529     0.889226     -0.011402     -0.039657      0.443714      0.480434     -0.444618     -0.032482             NaN      0.443714       0.025491      0.820538          0.504658          0.872899             NaN             NaN               NaN             NaN             NaN               NaN          0.105558          0.245691          0.134278          0.079815           0.224090           0.739187           0.137585          0.084996    -0.028638   -0.023836   -0.027669   -0.021416   0.230512  0.040381  0.222083  0.230424\n",
            "Flow Byts/s             NaN       NaN        NaN            NaN           NaN           NaN              NaN              NaN              NaN              NaN               NaN              NaN              NaN              NaN               NaN              NaN          1.0          NaN            NaN           NaN           NaN           NaN          NaN           NaN          NaN          NaN          NaN          NaN           NaN          NaN          NaN          NaN            NaN            NaN            NaN            NaN             NaN             NaN         NaN         NaN          NaN          NaN           NaN          NaN          NaN           NaN           NaN           NaN           NaN           NaN           NaN             NaN           NaN            NaN           NaN               NaN               NaN             NaN             NaN               NaN             NaN             NaN               NaN               NaN               NaN               NaN               NaN                NaN                NaN                NaN               NaN          NaN         NaN         NaN         NaN        NaN       NaN       NaN       NaN\n",
            "Flow Pkts/s             NaN       NaN        NaN            NaN           NaN           NaN              NaN              NaN              NaN              NaN               NaN              NaN              NaN              NaN               NaN              NaN          NaN          1.0            NaN           NaN           NaN           NaN          NaN           NaN          NaN          NaN          NaN          NaN           NaN          NaN          NaN          NaN            NaN            NaN            NaN            NaN             NaN             NaN         NaN         NaN          NaN          NaN           NaN          NaN          NaN           NaN           NaN           NaN           NaN           NaN           NaN             NaN           NaN            NaN           NaN               NaN               NaN             NaN             NaN               NaN             NaN             NaN               NaN               NaN               NaN               NaN               NaN                NaN                NaN                NaN               NaN          NaN         NaN         NaN         NaN        NaN       NaN       NaN       NaN\n",
            "Flow IAT Mean     -0.002704  0.049126        NaN       0.366959      0.043958      0.021027         0.013091         0.005734        -0.000947         0.046984         -0.021444        -0.029473         0.061105         0.007289          0.054490         0.054493          NaN          NaN       1.000000      0.422400      0.571584      0.893343     0.354718      0.914092     0.285509     0.551519     0.863766     0.262213      0.391891     0.231824     0.286188     0.290213       0.055797            NaN            NaN            NaN        0.020426        0.020835   -0.007172   -0.003177     0.048116     0.042046      0.042348     0.033116     0.057956     -0.001922      0.055797     -0.031667     -0.021068     -0.023770      0.025619             NaN     -0.031667      -0.003870      0.039283         -0.021444          0.054490             NaN             NaN               NaN             NaN             NaN               NaN          0.043958          0.013091          0.021027          0.005734           0.138086           0.007848           0.020040         -0.101210     0.070770    0.060469    0.076725    0.053590   0.582740  0.179450  0.576639  0.572841\n",
            "Flow IAT Std      -0.105350  0.051720        NaN       0.640087      0.101506      0.069299         0.058685         0.039145         0.066651         0.025061          0.006529        -0.000269         0.241190         0.012285          0.253929         0.231077          NaN          NaN       0.422400      1.000000      0.867508      0.010935     0.614242      0.565547     0.831299     0.811941     0.238136     0.606758      0.791317     0.732829     0.826148     0.522493       0.105613            NaN            NaN            NaN        0.060717        0.071708   -0.011734   -0.005188     0.025808     0.206846      0.213766     0.200487     0.271382     -0.003143      0.105613      0.004643      0.022181     -0.085578      0.007488             NaN      0.004643       0.013691      0.199313          0.006529          0.253929             NaN             NaN               NaN             NaN             NaN               NaN          0.101506          0.058685          0.069299          0.039145           0.018931           0.019377           0.055284         -0.154644     0.116482    0.106162    0.129391    0.084907   0.840522  0.364362  0.848236  0.808620\n",
            "Flow IAT Max      -0.094992 -0.023148        NaN       0.699634      0.164078      0.132682         0.088740         0.127368         0.076626         0.014610          0.007338         0.000560         0.280297        -0.001382          0.336058         0.269352          NaN          NaN       0.571584      0.867508      1.000000      0.298765     0.682895      0.640187     0.862128     0.972806     0.362946     0.573301      0.555374     0.765280     0.835466     0.279298       0.087760            NaN            NaN            NaN        0.086688        0.134336   -0.012423   -0.005498     0.015149     0.241537      0.292940     0.246785     0.357079     -0.003336      0.087760      0.011865      0.019601     -0.090063      0.011624             NaN      0.011865       0.010803      0.273409          0.007338          0.336058             NaN             NaN               NaN             NaN             NaN               NaN          0.164078          0.088740          0.132682          0.127368           0.058504           0.020672           0.071965         -0.203641     0.226962    0.207669    0.250401    0.164779   0.951662  0.423964  0.963269  0.917995\n",
            "Flow IAT Min       0.047533  0.002478        NaN       0.104176      0.002281     -0.003076        -0.004408        -0.000777        -0.021125         0.032910         -0.019016        -0.024614        -0.012446        -0.003093         -0.012345        -0.013450          NaN          NaN       0.893343      0.010935      0.298765      1.000000     0.104904      0.722840     0.006794     0.307682     0.816225     0.004379      0.005710    -0.002881     0.000210     0.009171       0.007234            NaN            NaN            NaN       -0.002393       -0.003964   -0.002185   -0.000972     0.033699    -0.017668     -0.012200    -0.020475    -0.010607     -0.000588      0.007234     -0.021943     -0.022551      0.013713      0.022754             NaN     -0.021943      -0.011960     -0.010687         -0.019016         -0.012345             NaN             NaN               NaN             NaN             NaN               NaN          0.002281         -0.004408         -0.003076         -0.000777           0.146172          -0.006849          -0.001776         -0.020685     0.012026    0.008278    0.012068    0.010074   0.320483  0.015224  0.303951  0.331085\n",
            "Fwd IAT Tot       -0.130652 -0.010401        NaN       0.996263      0.476441      0.326812         0.167364         0.101503         0.048506         0.010835         -0.048177        -0.037924         0.217710         0.050223          0.235996         0.187366          NaN          NaN       0.354718      0.614242      0.682895      0.104904     1.000000      0.484306     0.617173     0.704338     0.199637     0.846897      0.458461     0.555784     0.565518     0.140968       0.270171            NaN            NaN            NaN        0.352370        0.331080   -0.015348   -0.006808     0.011477     0.174741      0.188037     0.162256     0.242564     -0.004127      0.270171     -0.048050     -0.056258     -0.070016     -0.000984             NaN     -0.048050      -0.015278      0.168257         -0.048177          0.235996             NaN             NaN               NaN             NaN             NaN               NaN          0.476441          0.167364          0.326812          0.101503           0.237763           0.123130           0.196409         -0.367817     0.416292    0.386873    0.462434    0.299759   0.656574  0.352431  0.674287  0.614714\n",
            "Fwd IAT Mean      -0.031885  0.118131        NaN       0.485012      0.057631      0.041450         0.027545         0.012761         0.023282         0.066654         -0.010424        -0.021288         0.117039         0.020498          0.109401         0.106382          NaN          NaN       0.914092      0.565547      0.640187      0.722840     0.484306      1.000000     0.401553     0.659224     0.888185     0.428165      0.563819     0.364653     0.435884     0.387731       0.079845            NaN            NaN            NaN        0.037437        0.040849   -0.009157   -0.004063     0.068381     0.091787      0.092282     0.080149     0.113251     -0.002463      0.079845     -0.027318     -0.023653     -0.042474      0.018039             NaN     -0.027318       0.000550      0.086288         -0.010424          0.109401             NaN             NaN               NaN             NaN             NaN               NaN          0.057631          0.027545          0.041450          0.012761           0.111917           0.020844           0.036156         -0.143786     0.057334    0.049312    0.063304    0.043393   0.653347  0.174906  0.642238  0.643573\n",
            "Fwd IAT Std       -0.102906 -0.021962        NaN       0.616742      0.109062      0.083005         0.079842         0.054887         0.111385        -0.011377          0.034228         0.031724         0.322072        -0.005710          0.344770         0.311978          NaN          NaN       0.285509      0.831299      0.862128      0.006794     0.617173      0.401553     1.000000     0.884767     0.007507     0.584605      0.422498     0.844904     0.807772     0.060480       0.117145            NaN            NaN            NaN        0.074691        0.088460   -0.011194   -0.004963    -0.011321     0.287168      0.299329     0.285146     0.374330     -0.003010      0.117145      0.043862      0.048026     -0.079173      0.006638             NaN      0.043862       0.000176      0.280655          0.034228          0.344770             NaN             NaN               NaN             NaN             NaN               NaN          0.109062          0.079842          0.083005          0.054887           0.027659           0.039217           0.063386         -0.093720     0.105791    0.100744    0.119402    0.075053   0.824112  0.321070  0.826490  0.798309\n",
            "Fwd IAT Max       -0.094656 -0.021599        NaN       0.703140      0.167270      0.110994         0.092563         0.088945         0.085786         0.015570          0.013576         0.005946         0.291776        -0.000652          0.340221         0.279848          NaN          NaN       0.551519      0.811941      0.972806      0.307682     0.704338      0.659224     0.884767     1.000000     0.375446     0.570007      0.475037     0.748333     0.791857     0.185674       0.090650            NaN            NaN            NaN        0.084928        0.109646   -0.012462   -0.005528     0.016256     0.252229      0.296131     0.255407     0.364433     -0.003351      0.090650      0.016429      0.015865     -0.089244      0.012157             NaN      0.016429       0.000050      0.276648          0.013576          0.340221             NaN             NaN               NaN             NaN             NaN               NaN          0.167270          0.092563          0.110994          0.088945           0.056180           0.032874           0.075009         -0.215595     0.230380    0.212463    0.254679    0.166360   0.927164  0.375074  0.932775  0.899216\n",
            "Fwd IAT Min        0.021274  0.110944        NaN       0.200090      0.005858      0.003108        -0.005497        -0.001043        -0.032919         0.075309         -0.026913        -0.040085        -0.015467         0.019913         -0.011959        -0.018653          NaN          NaN       0.863766      0.238136      0.362946      0.816225     0.199637      0.888185     0.007507     0.375446     1.000000     0.136838      0.361112     0.033729     0.147132     0.386743       0.006278            NaN            NaN            NaN       -0.001851       -0.001876   -0.003879   -0.001724     0.077081    -0.025902     -0.014033    -0.030962    -0.017730     -0.001044      0.006278     -0.040820     -0.041572     -0.007980      0.016838             NaN     -0.040820       0.003881     -0.012767         -0.026913         -0.011959             NaN             NaN               NaN             NaN             NaN               NaN          0.005858         -0.005497          0.003108         -0.001043           0.101569          -0.010337           0.005264         -0.099626     0.011437    0.005614    0.010728    0.010628   0.391761  0.020716  0.371712  0.403497\n",
            "Bwd IAT Tot       -0.112108  0.135562        NaN       0.854150      0.409220      0.399172         0.201024         0.136258         0.096684         0.017056         -0.009584         0.002206         0.271756         0.066770          0.291251         0.237580          NaN          NaN       0.262213      0.606758      0.573301      0.004379     0.846897      0.428165     0.584605     0.570007     0.136838     1.000000      0.571636     0.669295     0.691884     0.200785       0.317610            NaN            NaN            NaN        0.422821        0.406588   -0.013179   -0.005840     0.017607     0.235292      0.248479     0.223460     0.293370     -0.003544      0.317610     -0.008789     -0.011309     -0.037798     -0.010096             NaN     -0.008789       0.016834      0.227455         -0.009584          0.291251             NaN             NaN               NaN             NaN             NaN               NaN          0.409220          0.201024          0.399172          0.136258           0.307036           0.156291           0.231533         -0.093392     0.010101    0.013427    0.020360    0.006568   0.589604  0.165905  0.579603  0.572638\n",
            "Bwd IAT Mean      -0.082588  0.151333        NaN       0.491906      0.049842      0.051147         0.035384         0.011527         0.048524         0.050973          0.006383        -0.001698         0.149190         0.030404          0.131496         0.136849          NaN          NaN       0.391891      0.791317      0.555374      0.005710     0.458461      0.563819     0.422498     0.475037     0.361112     0.571636      1.000000     0.491808     0.668383     0.824687       0.112491            NaN            NaN            NaN        0.049450        0.052740   -0.009277   -0.004102     0.052235     0.123629      0.111448     0.108999     0.128662     -0.002495      0.112491     -0.016087      0.003193     -0.060140     -0.007108             NaN     -0.016087       0.020956      0.103810          0.006383          0.131496             NaN             NaN               NaN             NaN             NaN               NaN          0.049842          0.035384          0.051147          0.011527           0.019185           0.032469           0.044536         -0.103267     0.003115    0.000301    0.004836    0.003894   0.578179  0.183003  0.572915  0.559500\n",
            "Bwd IAT Std       -0.091305  0.046728        NaN       0.570049      0.072943      0.086409         0.076123         0.049898         0.117570        -0.002452          0.038964         0.039917         0.331081        -0.005656          0.327970         0.318341          NaN          NaN       0.231824      0.732829      0.765280     -0.002881     0.555784      0.364653     0.844904     0.748333     0.033729     0.669295      0.491808     1.000000     0.916028     0.034059       0.097194            NaN            NaN            NaN        0.077596        0.091249   -0.009905   -0.004369    -0.002367     0.301435      0.284484     0.290837     0.360026     -0.002665      0.097194      0.055834      0.059236     -0.074805     -0.007591             NaN      0.055834       0.023015      0.267219          0.038964          0.327970             NaN             NaN               NaN             NaN             NaN               NaN          0.072943          0.076123          0.086409          0.049898           0.037748           0.035950           0.067051         -0.022050     0.005017    0.005934    0.008543    0.003414   0.801680  0.233192  0.789562  0.789717\n",
            "Bwd IAT Max       -0.096826  0.068335        NaN       0.588107      0.104379      0.162430         0.099853         0.149370         0.110882         0.013051          0.032755         0.029478         0.331124         0.004560          0.380047         0.315948          NaN          NaN       0.286188      0.826148      0.835466      0.000210     0.565518      0.435884     0.807772     0.791857     0.147132     0.691884      0.668383     0.916028     1.000000     0.337410       0.096552            NaN            NaN            NaN        0.108034        0.164971   -0.010463   -0.004625     0.013475     0.297374      0.339854     0.300429     0.400315     -0.002814      0.096552      0.047308      0.056005     -0.079991     -0.008017             NaN      0.047308       0.036003      0.318802          0.032755          0.380047             NaN             NaN               NaN             NaN             NaN               NaN          0.104379          0.099853          0.162430          0.149370           0.041250           0.038481           0.086423         -0.039409     0.007443    0.009164    0.012077    0.004805   0.873372  0.260090  0.861816  0.860907\n",
            "Bwd IAT Min       -0.037301  0.096356        NaN       0.173066      0.015704      0.015517         0.001124         0.000089        -0.012182         0.052503         -0.009994        -0.023811         0.007733         0.034769          0.013237         0.004145          NaN          NaN       0.290213      0.522493      0.279298      0.009171     0.140968      0.387731     0.060480     0.185674     0.386743     0.200785      0.824687     0.034059     0.337410     1.000000       0.057586            NaN            NaN            NaN        0.015190        0.014345   -0.004197   -0.001861     0.053770    -0.005043      0.008905    -0.008697    -0.000276     -0.001129      0.057586     -0.035199     -0.012577     -0.024285     -0.003215             NaN     -0.035199       0.012100      0.008455         -0.009994          0.013237             NaN             NaN               NaN             NaN             NaN               NaN          0.015704          0.001124          0.015517          0.000089           0.007003           0.021134           0.006237         -0.067799     0.002152   -0.002529    0.000761    0.003766   0.294628  0.063516  0.287898  0.291454\n",
            "Fwd PSH Flags      0.043176 -0.018729        NaN       0.270847      0.243306      0.202268         0.025196         0.009603        -0.058378         0.005154         -0.059445        -0.071708        -0.023677         0.087612         -0.003111        -0.039657          NaN          NaN       0.055797      0.105613      0.087760      0.007234     0.270171      0.079845     0.117145     0.090650     0.006278     0.317610      0.112491     0.097194     0.096552     0.057586       1.000000            NaN            NaN            NaN        0.270585        0.222888    0.127828    0.110758    -0.009790    -0.041966     -0.001559    -0.041978    -0.030217     -0.002549      1.000000     -0.107055     -0.117932      0.129388      0.032149             NaN     -0.107055      -0.036851      0.002012         -0.059445         -0.003111             NaN             NaN               NaN             NaN             NaN               NaN          0.243306          0.025196          0.202268          0.009603           0.270789           0.111905           0.062679          0.022501    -0.005637   -0.004500   -0.005991   -0.004495   0.072997  0.054265  0.078053  0.063101\n",
            "Bwd PSH Flags           NaN       NaN        NaN            NaN           NaN           NaN              NaN              NaN              NaN              NaN               NaN              NaN              NaN              NaN               NaN              NaN          NaN          NaN            NaN           NaN           NaN           NaN          NaN           NaN          NaN          NaN          NaN          NaN           NaN          NaN          NaN          NaN            NaN            1.0            NaN            NaN             NaN             NaN         NaN         NaN          NaN          NaN           NaN          NaN          NaN           NaN           NaN           NaN           NaN           NaN           NaN             NaN           NaN            NaN           NaN               NaN               NaN             NaN             NaN               NaN             NaN             NaN               NaN               NaN               NaN               NaN               NaN                NaN                NaN                NaN               NaN          NaN         NaN         NaN         NaN        NaN       NaN       NaN       NaN\n",
            "Fwd URG Flags           NaN       NaN        NaN            NaN           NaN           NaN              NaN              NaN              NaN              NaN               NaN              NaN              NaN              NaN               NaN              NaN          NaN          NaN            NaN           NaN           NaN           NaN          NaN           NaN          NaN          NaN          NaN          NaN           NaN          NaN          NaN          NaN            NaN            NaN            1.0            NaN             NaN             NaN         NaN         NaN          NaN          NaN           NaN          NaN          NaN           NaN           NaN           NaN           NaN           NaN           NaN             NaN           NaN            NaN           NaN               NaN               NaN             NaN             NaN               NaN             NaN             NaN               NaN               NaN               NaN               NaN               NaN                NaN                NaN                NaN               NaN          NaN         NaN         NaN         NaN        NaN       NaN       NaN       NaN\n",
            "Bwd URG Flags           NaN       NaN        NaN            NaN           NaN           NaN              NaN              NaN              NaN              NaN               NaN              NaN              NaN              NaN               NaN              NaN          NaN          NaN            NaN           NaN           NaN           NaN          NaN           NaN          NaN          NaN          NaN          NaN           NaN          NaN          NaN          NaN            NaN            NaN            NaN            1.0             NaN             NaN         NaN         NaN          NaN          NaN           NaN          NaN          NaN           NaN           NaN           NaN           NaN           NaN           NaN             NaN           NaN            NaN           NaN               NaN               NaN             NaN             NaN               NaN             NaN             NaN               NaN               NaN               NaN               NaN               NaN                NaN                NaN                NaN               NaN          NaN         NaN         NaN         NaN        NaN       NaN       NaN       NaN\n",
            "Fwd Header Len    -0.035605 -0.019268        NaN       0.352242      0.926291      0.736504         0.596308         0.222031         0.116970        -0.030065          0.048133         0.052115         0.169132         0.023120          0.158164         0.129212          NaN          NaN       0.020426      0.060717      0.086688     -0.002393     0.352370      0.037437     0.074691     0.084928    -0.001851     0.422821      0.049450     0.077596     0.108034     0.015190       0.270585            NaN            NaN            NaN        1.000000        0.768690   -0.010782   -0.005744    -0.030282     0.158279      0.154476     0.131676     0.138298     -0.003175      0.270585      0.027645      0.047589     -0.033443     -0.010559             NaN      0.027645       0.002384      0.143070          0.048133          0.158164             NaN             NaN               NaN             NaN             NaN               NaN          0.926291          0.596308          0.736504          0.222031           0.400017           0.250405           0.816115          0.035157    -0.009309   -0.002007   -0.002816   -0.008891   0.065355  0.038233  0.067821  0.060329\n",
            "Bwd Header Len    -0.063302 -0.007463        NaN       0.339783      0.708556      0.959119         0.471952         0.651349         0.176218        -0.021888          0.120464         0.124365         0.190826         0.026323          0.239253         0.143979          NaN          NaN       0.020835      0.071708      0.134336     -0.003964     0.331080      0.040849     0.088460     0.109646    -0.001876     0.406588      0.052740     0.091249     0.164971     0.014345       0.222888            NaN            NaN            NaN        0.768690        1.000000   -0.015842   -0.003255    -0.022198     0.201530      0.274883     0.192562     0.195230     -0.003983      0.222888      0.099090      0.110371     -0.102638     -0.009755             NaN      0.099090       0.307982      0.259648          0.120464          0.239253             NaN             NaN               NaN             NaN             NaN               NaN          0.708556          0.471952          0.959119          0.651349           0.360924           0.210273           0.575460          0.021105     0.000906    0.014859    0.014037   -0.004193   0.103131  0.123018  0.119977  0.087356\n",
            "Fwd Pkts/s         0.227648 -0.011033        NaN      -0.015520     -0.010775     -0.013550        -0.014973        -0.002628        -0.066725        -0.000814         -0.070947        -0.071002        -0.038727        -0.012114         -0.038606        -0.041419          NaN          NaN      -0.007172     -0.011734     -0.012423     -0.002185    -0.015348     -0.009157    -0.011194    -0.012462    -0.003879    -0.013179     -0.009277    -0.009905    -0.010463    -0.004197       0.127828            NaN            NaN            NaN       -0.010782       -0.015842    1.000000    0.163939    -0.010385    -0.055713     -0.050106    -0.059056    -0.032624      0.031560      0.127828     -0.074874     -0.082769      0.088513      0.039927             NaN     -0.074874      -0.033293     -0.050387         -0.070947         -0.038606             NaN             NaN               NaN             NaN             NaN               NaN         -0.010775         -0.014973         -0.013550         -0.002628          -0.040989          -0.023069          -0.007512          0.014190    -0.006438   -0.005596   -0.006990   -0.004830  -0.010673 -0.005866 -0.010971 -0.010007\n",
            "Bwd Pkts/s         0.043227  0.004870        NaN      -0.006881     -0.005834     -0.002753        -0.004607        -0.001083        -0.016372         0.061958         -0.008507        -0.019143        -0.013273         0.003198         -0.010953        -0.013817          NaN          NaN      -0.003177     -0.005188     -0.005498     -0.000972    -0.006808     -0.004063    -0.004963    -0.005528    -0.001724    -0.005840     -0.004102    -0.004369    -0.004625    -0.001861       0.110758            NaN            NaN            NaN       -0.005744       -0.003255    0.163939    1.000000     0.004508    -0.015822     -0.009307    -0.015372    -0.011610     -0.000429      0.110758     -0.018851     -0.022351      0.021495      0.188247             NaN     -0.018851       0.028750     -0.007134         -0.008507         -0.010953             NaN             NaN               NaN             NaN             NaN               NaN         -0.005834         -0.004607         -0.002753         -0.001083          -0.013287          -0.006906          -0.002920         -0.001749    -0.002858   -0.002484   -0.003103   -0.002144  -0.004736 -0.002602 -0.004868 -0.004441\n",
            "Pkt Len Min       -0.130649  0.756394        NaN       0.011458     -0.018358     -0.006992        -0.010221         0.005088        -0.080609         0.994865          0.035896        -0.141732        -0.011521         0.817903          0.142711        -0.073807          NaN          NaN       0.048116      0.025808      0.015149      0.033699     0.011477      0.068381    -0.011321     0.016256     0.077081     0.017607      0.052235    -0.002367     0.013475     0.053770      -0.009790            NaN            NaN            NaN       -0.030282       -0.022198   -0.010385    0.004508     1.000000    -0.048842      0.124527    -0.065930    -0.049480     -0.003442     -0.009790     -0.144555     -0.159243     -0.134377      0.003058             NaN     -0.144555       0.085824      0.203569          0.035896          0.142711             NaN             NaN               NaN             NaN             NaN               NaN         -0.018358         -0.010221         -0.006992          0.005088          -0.135805          -0.044509          -0.000482         -0.589532    -0.010600   -0.008579   -0.010326   -0.008121   0.019679 -0.005855  0.017390  0.020559\n",
            "Pkt Len Max       -0.140580 -0.043307        NaN       0.175258      0.123360      0.181654         0.289522         0.091156         0.887284        -0.048337          0.738306         0.725916         0.942185        -0.053139          0.799995         0.935350          NaN          NaN       0.042046      0.206846      0.241537     -0.017668     0.174741      0.091787     0.287168     0.252229    -0.025902     0.235292      0.123629     0.301435     0.297374    -0.005043      -0.041966            NaN            NaN            NaN        0.158279        0.201530   -0.055713   -0.015822    -0.048842     1.000000      0.889523     0.977846     0.851958     -0.015997     -0.041966      0.638154      0.651351     -0.618921     -0.044679             NaN      0.638154       0.184027      0.878373          0.738306          0.799995             NaN             NaN               NaN             NaN             NaN               NaN          0.123360          0.289522          0.181654          0.091156           0.311816           0.707506           0.160305          0.082829    -0.042371   -0.035798   -0.042488   -0.031700   0.209060  0.025057  0.199701  0.210609\n",
            "Pkt Len Mean      -0.155619  0.106969        NaN       0.191450      0.138361      0.278172         0.293130         0.267744         0.767991         0.124409          0.678014         0.631249         0.837013         0.113178          0.923240         0.841969          NaN          NaN       0.042348      0.213766      0.292940     -0.012200     0.188037      0.092282     0.299329     0.296131    -0.014033     0.248479      0.111448     0.284484     0.339854     0.008905      -0.001559            NaN            NaN            NaN        0.154476        0.274883   -0.050106   -0.009307     0.124527     0.889523      1.000000     0.935030     0.904961     -0.016007     -0.001559      0.560411      0.583463     -0.609948     -0.041647             NaN      0.560411       0.202434      0.995249          0.678014          0.923240             NaN             NaN               NaN             NaN             NaN               NaN          0.138361          0.293130          0.278172          0.267744           0.268203           0.543274           0.168370         -0.035872    -0.038613   -0.027648   -0.033957   -0.030773   0.254516  0.064879  0.249290  0.250464\n",
            "Pkt Len Std       -0.126017 -0.046256        NaN       0.163356      0.102906      0.181551         0.280435         0.117349         0.887465        -0.065494          0.773858         0.767023         0.889328        -0.052412          0.836332         0.908529          NaN          NaN       0.033116      0.200487      0.246785     -0.020475     0.162256      0.080149     0.285146     0.255407    -0.030962     0.223460      0.108999     0.290837     0.300429    -0.008697      -0.041978            NaN            NaN            NaN        0.131676        0.192562   -0.059056   -0.015372    -0.065930     0.977846      0.935030     1.000000     0.880398     -0.017417     -0.041978      0.697502      0.708014     -0.673051     -0.048799             NaN      0.697502       0.215990      0.924239          0.773858          0.836332             NaN             NaN               NaN             NaN             NaN               NaN          0.102906          0.280435          0.181551          0.117349           0.331423           0.606863           0.142889          0.089632    -0.046451   -0.038021   -0.045612   -0.035319   0.214623  0.031367  0.205683  0.215062\n",
            "Pkt Len Var       -0.149764 -0.034125        NaN       0.244606      0.133515      0.201896         0.269813         0.179523         0.615195        -0.049177          0.437825         0.426718         0.876554        -0.052410          0.926806         0.889226          NaN          NaN       0.057956      0.271382      0.357079     -0.010607     0.242564      0.113251     0.374330     0.364433    -0.017730     0.293370      0.128662     0.360026     0.400315    -0.000276      -0.030217            NaN            NaN            NaN        0.138298        0.195230   -0.032624   -0.011610    -0.049480     0.851958      0.904961     0.880398     1.000000     -0.008983     -0.030217      0.355390      0.370256     -0.348200     -0.025520             NaN      0.355390       0.057144      0.875827          0.437825          0.926806             NaN             NaN               NaN             NaN             NaN               NaN          0.133515          0.269813          0.201896          0.179523           0.168877           0.569115           0.155340          0.054114    -0.015369   -0.008599   -0.010057   -0.013084   0.320965  0.065338  0.310439  0.319705\n",
            "FIN Flag Cnt       0.067554 -0.003660        NaN      -0.004172     -0.003147     -0.003388        -0.004289        -0.000711        -0.019468        -0.003417         -0.021770        -0.020848        -0.010641        -0.003868         -0.010771        -0.011402          NaN          NaN      -0.001922     -0.003143     -0.003336     -0.000588    -0.004127     -0.002463    -0.003010    -0.003351    -0.001044    -0.003544     -0.002495    -0.002665    -0.002814    -0.001129      -0.002549            NaN            NaN            NaN       -0.003175       -0.003983    0.031560   -0.000429    -0.003442    -0.015997     -0.016007    -0.017417    -0.008983      1.000000     -0.002549     -0.020917     -0.023043     -0.009923     -0.001419             NaN     -0.020917      -0.001808     -0.016826         -0.021770         -0.010771             NaN             NaN               NaN             NaN             NaN               NaN         -0.003147         -0.004289         -0.003388         -0.000711          -0.019649          -0.006422          -0.002182          0.004396    -0.001731   -0.001505   -0.001880   -0.001299  -0.002870 -0.001577 -0.002950 -0.002691\n",
            "SYN Flag Cnt       0.043176 -0.018729        NaN       0.270847      0.243306      0.202268         0.025196         0.009603        -0.058378         0.005154         -0.059445        -0.071708        -0.023677         0.087612         -0.003111        -0.039657          NaN          NaN       0.055797      0.105613      0.087760      0.007234     0.270171      0.079845     0.117145     0.090650     0.006278     0.317610      0.112491     0.097194     0.096552     0.057586       1.000000            NaN            NaN            NaN        0.270585        0.222888    0.127828    0.110758    -0.009790    -0.041966     -0.001559    -0.041978    -0.030217     -0.002549      1.000000     -0.107055     -0.117932      0.129388      0.032149             NaN     -0.107055      -0.036851      0.002012         -0.059445         -0.003111             NaN             NaN               NaN             NaN             NaN               NaN          0.243306          0.025196          0.202268          0.009603           0.270789           0.111905           0.062679          0.022501    -0.005637   -0.004500   -0.005991   -0.004495   0.072997  0.054265  0.078053  0.063101\n",
            "RST Flag Cnt       0.030211 -0.153684        NaN      -0.049383     -0.018632      0.069260         0.128967         0.012139         0.808763        -0.143499          0.869293         0.909426         0.383525        -0.162458          0.336933         0.443714          NaN          NaN      -0.031667      0.004643      0.011865     -0.021943    -0.048050     -0.027318     0.043862     0.016429    -0.040820    -0.008789     -0.016087     0.055834     0.047308    -0.035199      -0.107055            NaN            NaN            NaN        0.027645        0.099090   -0.074874   -0.018851    -0.144555     0.638154      0.560411     0.697502     0.355390     -0.020917     -0.107055      1.000000      0.907766     -0.827392     -0.059589             NaN      1.000000       0.430597      0.570656          0.869293          0.336933             NaN             NaN               NaN             NaN             NaN               NaN         -0.018632          0.128967          0.069260          0.012139           0.407033           0.175843           0.031673          0.196026    -0.068847   -0.060583   -0.074525   -0.051117   0.008976 -0.044724  0.001077  0.017231\n",
            "PSH Flag Cnt      -0.046581 -0.169299        NaN      -0.054037     -0.005170      0.077336         0.149403         0.011701         0.808474        -0.158079          0.869809         0.887432         0.422269        -0.178965          0.361346         0.480434          NaN          NaN      -0.021068      0.022181      0.019601     -0.022551    -0.056258     -0.023653     0.048026     0.015865    -0.041572    -0.011309      0.003193     0.059236     0.056005    -0.012577      -0.117932            NaN            NaN            NaN        0.047589        0.110371   -0.082769   -0.022351    -0.159243     0.651351      0.583463     0.708014     0.370256     -0.023043     -0.117932      0.907766      1.000000     -0.911459     -0.065643             NaN      0.907766       0.394432      0.590805          0.869809          0.361346             NaN             NaN               NaN             NaN             NaN               NaN         -0.005170          0.149403          0.077336          0.011701           0.464169           0.235830           0.050589          0.225506    -0.072883   -0.066519   -0.079853   -0.052929   0.010024 -0.031139  0.004046  0.016581\n",
            "ACK Flag Cnt       0.122286 -0.144754        NaN      -0.071674     -0.041160     -0.084608        -0.152858        -0.024076        -0.754387        -0.130007         -0.844074        -0.811090        -0.410923        -0.124486         -0.411172        -0.444618          NaN          NaN      -0.023770     -0.085578     -0.090063      0.013713    -0.070016     -0.042474    -0.079173    -0.089244    -0.007980    -0.037798     -0.060140    -0.074805    -0.079991    -0.024285       0.129388            NaN            NaN            NaN       -0.033443       -0.102638    0.088513    0.021495    -0.134377    -0.618921     -0.609948    -0.673051    -0.348200     -0.009923      0.129388     -0.827392     -0.911459      1.000000      0.072020             NaN     -0.827392      -0.429710     -0.640628         -0.844074         -0.411172             NaN             NaN               NaN             NaN             NaN               NaN         -0.041160         -0.152858         -0.084608         -0.024076          -0.385829          -0.210765          -0.064007          0.173900    -0.065864   -0.058203   -0.071772   -0.048953  -0.077151 -0.040492 -0.078473 -0.073512\n",
            "URG Flag Cnt       0.260181 -0.010425        NaN      -0.001201     -0.010335     -0.008223        -0.011427        -0.002026        -0.054055         0.006636         -0.057408        -0.058818        -0.030315        -0.011020         -0.030685        -0.032482          NaN          NaN       0.025619      0.007488      0.011624      0.022754    -0.000984      0.018039     0.006638     0.012157     0.016838    -0.010096     -0.007108    -0.007591    -0.008017    -0.003215       0.032149            NaN            NaN            NaN       -0.010559       -0.009755    0.039927    0.188247     0.003058    -0.044679     -0.041647    -0.048799    -0.025520     -0.001419      0.032149     -0.059589     -0.065643      0.072020      1.000000             NaN     -0.059589       0.021195     -0.042882         -0.057408         -0.030685             NaN             NaN               NaN             NaN             NaN               NaN         -0.010335         -0.011427         -0.008223         -0.002026          -0.028629          -0.003685          -0.004861          0.012524    -0.002563   -0.004286   -0.003566   -0.000887  -0.000964  0.025665  0.005950 -0.005682\n",
            "CWE Flag Count          NaN       NaN        NaN            NaN           NaN           NaN              NaN              NaN              NaN              NaN               NaN              NaN              NaN              NaN               NaN              NaN          NaN          NaN            NaN           NaN           NaN           NaN          NaN           NaN          NaN          NaN          NaN          NaN           NaN          NaN          NaN          NaN            NaN            NaN            NaN            NaN             NaN             NaN         NaN         NaN          NaN          NaN           NaN          NaN          NaN           NaN           NaN           NaN           NaN           NaN           NaN             1.0           NaN            NaN           NaN               NaN               NaN             NaN             NaN               NaN             NaN             NaN               NaN               NaN               NaN               NaN               NaN                NaN                NaN                NaN               NaN          NaN         NaN         NaN         NaN        NaN       NaN       NaN       NaN\n",
            "ECE Flag Cnt       0.030211 -0.153684        NaN      -0.049383     -0.018632      0.069260         0.128967         0.012139         0.808763        -0.143499          0.869293         0.909426         0.383525        -0.162458          0.336933         0.443714          NaN          NaN      -0.031667      0.004643      0.011865     -0.021943    -0.048050     -0.027318     0.043862     0.016429    -0.040820    -0.008789     -0.016087     0.055834     0.047308    -0.035199      -0.107055            NaN            NaN            NaN        0.027645        0.099090   -0.074874   -0.018851    -0.144555     0.638154      0.560411     0.697502     0.355390     -0.020917     -0.107055      1.000000      0.907766     -0.827392     -0.059589             NaN      1.000000       0.430597      0.570656          0.869293          0.336933             NaN             NaN               NaN             NaN             NaN               NaN         -0.018632          0.128967          0.069260          0.012139           0.407033           0.175843           0.031673          0.196026    -0.068847   -0.060583   -0.074525   -0.051117   0.008976 -0.044724  0.001077  0.017231\n",
            "Down/Up Ratio     -0.083941  0.117087        NaN      -0.009926     -0.014909      0.275775         0.052140         0.055714         0.315097         0.088374          0.409743         0.400182         0.037666         0.086160          0.061556         0.025491          NaN          NaN      -0.003870      0.013691      0.010803     -0.011960    -0.015278      0.000550     0.000176     0.000050     0.003881     0.016834      0.020956     0.023015     0.036003     0.012100      -0.036851            NaN            NaN            NaN        0.002384        0.307982   -0.033293    0.028750     0.085824     0.184027      0.202434     0.215990     0.057144     -0.001808     -0.036851      0.430597      0.394432     -0.429710      0.021195             NaN      0.430597       1.000000      0.220723          0.409743          0.061556             NaN             NaN               NaN             NaN             NaN               NaN         -0.014909          0.052140          0.275775          0.055714           0.177440          -0.069786           0.007200         -0.048153    -0.031710   -0.029470   -0.034081   -0.022601   0.014922  0.003613  0.014375  0.015074\n",
            "Pkt Size Avg      -0.160578  0.168451        NaN       0.171452      0.125447      0.261759         0.282331         0.249651         0.768738         0.203133          0.699095         0.638704         0.818322         0.189047          0.913022         0.820538          NaN          NaN       0.039283      0.199313      0.273409     -0.010687     0.168257      0.086288     0.280655     0.276648    -0.012767     0.227455      0.103810     0.267219     0.318802     0.008455       0.002012            NaN            NaN            NaN        0.143070        0.259648   -0.050387   -0.007134     0.203569     0.878373      0.995249     0.924239     0.875827     -0.016826      0.002012      0.570656      0.590805     -0.640628     -0.042882             NaN      0.570656       0.220723      1.000000          0.699095          0.913022             NaN             NaN               NaN             NaN             NaN               NaN          0.125447          0.282331          0.261759          0.249651           0.264321           0.525393           0.158837         -0.082147    -0.042296   -0.031355   -0.038500   -0.033355   0.236349  0.057713  0.231094  0.232996\n",
            "Fwd Seg Size Avg  -0.176684 -0.012100        NaN      -0.048430      0.008272      0.096931         0.220979         0.013474         0.934409         0.037846          1.000000         0.976642         0.495607        -0.012596          0.391373         0.504658          NaN          NaN      -0.021444      0.006529      0.007338     -0.019016    -0.048177     -0.010424     0.034228     0.013576    -0.026913    -0.009584      0.006383     0.038964     0.032755    -0.009994      -0.059445            NaN            NaN            NaN        0.048133        0.120464   -0.070947   -0.008507     0.035896     0.738306      0.678014     0.773858     0.437825     -0.021770     -0.059445      0.869293      0.869809     -0.844074     -0.057408             NaN      0.869293       0.409743      0.699095          1.000000          0.391373             NaN             NaN               NaN             NaN             NaN               NaN          0.008272          0.220979          0.096931          0.013474           0.387057           0.346321           0.070411          0.076088    -0.065411   -0.058600   -0.070403   -0.048021  -0.018949 -0.027305 -0.022050 -0.016076\n",
            "Bwd Seg Size Avg  -0.042378  0.153493        NaN       0.239046      0.154036      0.253563         0.251593         0.249969         0.536874         0.140724          0.391373         0.345059         0.850702         0.177478          1.000000         0.872899          NaN          NaN       0.054490      0.253929      0.336058     -0.012345     0.235996      0.109401     0.344770     0.340221    -0.011959     0.291251      0.131496     0.327970     0.380047     0.013237      -0.003111            NaN            NaN            NaN        0.158164        0.239253   -0.038606   -0.010953     0.142711     0.799995      0.923240     0.836332     0.926806     -0.010771     -0.003111      0.336933      0.361346     -0.411172     -0.030685             NaN      0.336933       0.061556      0.913022          0.391373          1.000000             NaN             NaN               NaN             NaN             NaN               NaN          0.154036          0.251593          0.253563          0.249969           0.171558           0.533128           0.167370         -0.088832    -0.023032   -0.013219   -0.016617   -0.019510   0.299026  0.074554  0.292149  0.294839\n",
            "Fwd Byts/b Avg          NaN       NaN        NaN            NaN           NaN           NaN              NaN              NaN              NaN              NaN               NaN              NaN              NaN              NaN               NaN              NaN          NaN          NaN            NaN           NaN           NaN           NaN          NaN           NaN          NaN          NaN          NaN          NaN           NaN          NaN          NaN          NaN            NaN            NaN            NaN            NaN             NaN             NaN         NaN         NaN          NaN          NaN           NaN          NaN          NaN           NaN           NaN           NaN           NaN           NaN           NaN             NaN           NaN            NaN           NaN               NaN               NaN             1.0             NaN               NaN             NaN             NaN               NaN               NaN               NaN               NaN               NaN                NaN                NaN                NaN               NaN          NaN         NaN         NaN         NaN        NaN       NaN       NaN       NaN\n",
            "Fwd Pkts/b Avg          NaN       NaN        NaN            NaN           NaN           NaN              NaN              NaN              NaN              NaN               NaN              NaN              NaN              NaN               NaN              NaN          NaN          NaN            NaN           NaN           NaN           NaN          NaN           NaN          NaN          NaN          NaN          NaN           NaN          NaN          NaN          NaN            NaN            NaN            NaN            NaN             NaN             NaN         NaN         NaN          NaN          NaN           NaN          NaN          NaN           NaN           NaN           NaN           NaN           NaN           NaN             NaN           NaN            NaN           NaN               NaN               NaN             NaN             1.0               NaN             NaN             NaN               NaN               NaN               NaN               NaN               NaN                NaN                NaN                NaN               NaN          NaN         NaN         NaN         NaN        NaN       NaN       NaN       NaN\n",
            "Fwd Blk Rate Avg        NaN       NaN        NaN            NaN           NaN           NaN              NaN              NaN              NaN              NaN               NaN              NaN              NaN              NaN               NaN              NaN          NaN          NaN            NaN           NaN           NaN           NaN          NaN           NaN          NaN          NaN          NaN          NaN           NaN          NaN          NaN          NaN            NaN            NaN            NaN            NaN             NaN             NaN         NaN         NaN          NaN          NaN           NaN          NaN          NaN           NaN           NaN           NaN           NaN           NaN           NaN             NaN           NaN            NaN           NaN               NaN               NaN             NaN             NaN               1.0             NaN             NaN               NaN               NaN               NaN               NaN               NaN                NaN                NaN                NaN               NaN          NaN         NaN         NaN         NaN        NaN       NaN       NaN       NaN\n",
            "Bwd Byts/b Avg          NaN       NaN        NaN            NaN           NaN           NaN              NaN              NaN              NaN              NaN               NaN              NaN              NaN              NaN               NaN              NaN          NaN          NaN            NaN           NaN           NaN           NaN          NaN           NaN          NaN          NaN          NaN          NaN           NaN          NaN          NaN          NaN            NaN            NaN            NaN            NaN             NaN             NaN         NaN         NaN          NaN          NaN           NaN          NaN          NaN           NaN           NaN           NaN           NaN           NaN           NaN             NaN           NaN            NaN           NaN               NaN               NaN             NaN             NaN               NaN             1.0             NaN               NaN               NaN               NaN               NaN               NaN                NaN                NaN                NaN               NaN          NaN         NaN         NaN         NaN        NaN       NaN       NaN       NaN\n",
            "Bwd Pkts/b Avg          NaN       NaN        NaN            NaN           NaN           NaN              NaN              NaN              NaN              NaN               NaN              NaN              NaN              NaN               NaN              NaN          NaN          NaN            NaN           NaN           NaN           NaN          NaN           NaN          NaN          NaN          NaN          NaN           NaN          NaN          NaN          NaN            NaN            NaN            NaN            NaN             NaN             NaN         NaN         NaN          NaN          NaN           NaN          NaN          NaN           NaN           NaN           NaN           NaN           NaN           NaN             NaN           NaN            NaN           NaN               NaN               NaN             NaN             NaN               NaN             NaN             1.0               NaN               NaN               NaN               NaN               NaN                NaN                NaN                NaN               NaN          NaN         NaN         NaN         NaN        NaN       NaN       NaN       NaN\n",
            "Bwd Blk Rate Avg        NaN       NaN        NaN            NaN           NaN           NaN              NaN              NaN              NaN              NaN               NaN              NaN              NaN              NaN               NaN              NaN          NaN          NaN            NaN           NaN           NaN           NaN          NaN           NaN          NaN          NaN          NaN          NaN           NaN          NaN          NaN          NaN            NaN            NaN            NaN            NaN             NaN             NaN         NaN         NaN          NaN          NaN           NaN          NaN          NaN           NaN           NaN           NaN           NaN           NaN           NaN             NaN           NaN            NaN           NaN               NaN               NaN             NaN             NaN               NaN             NaN             NaN               1.0               NaN               NaN               NaN               NaN                NaN                NaN                NaN               NaN          NaN         NaN         NaN         NaN        NaN       NaN       NaN       NaN\n",
            "Subflow Fwd Pkts  -0.059381 -0.057779        NaN       0.474359      1.000000      0.741305         0.667208         0.268521         0.081421        -0.018369          0.008272         0.012545         0.144037         0.027010          0.154036         0.105558          NaN          NaN       0.043958      0.101506      0.164078      0.002281     0.476441      0.057631     0.109062     0.167270     0.005858     0.409220      0.049842     0.072943     0.104379     0.015704       0.243306            NaN            NaN            NaN        0.926291        0.708556   -0.010775   -0.005834    -0.018358     0.123360      0.138361     0.102906     0.133515     -0.003147      0.243306     -0.018632     -0.005170     -0.041160     -0.010335             NaN     -0.018632      -0.014909      0.125447          0.008272          0.154036             NaN             NaN               NaN             NaN             NaN               NaN          1.000000          0.667208          0.741305          0.268521           0.327225           0.213588           0.848468         -0.154037     0.226925    0.216496    0.260573    0.162194   0.135055  0.151054  0.150905  0.112976\n",
            "Subflow Fwd Byts  -0.060192  0.019580        NaN       0.166812      0.667208      0.591053         1.000000         0.318987         0.302036        -0.010220          0.220979         0.222006         0.275076        -0.020278          0.251593         0.245691          NaN          NaN       0.013091      0.058685      0.088740     -0.004408     0.167364      0.027545     0.079842     0.092563    -0.005497     0.201024      0.035384     0.076123     0.099853     0.001124       0.025196            NaN            NaN            NaN        0.596308        0.471952   -0.014973   -0.004607    -0.010221     0.289522      0.293130     0.280435     0.269813     -0.004289      0.025196      0.128967      0.149403     -0.152858     -0.011427             NaN      0.128967       0.052140      0.282331          0.220979          0.251593             NaN             NaN               NaN             NaN             NaN               NaN          0.667208          1.000000          0.591053          0.318987           0.158008           0.209831           0.765176         -0.002376     0.008247    0.025026    0.030708    0.000600   0.066742  0.041839  0.068563  0.057676\n",
            "Subflow Bwd Pkts  -0.056632  0.029026        NaN       0.334590      0.741305      1.000000         0.591053         0.727701         0.157407        -0.006969          0.096931         0.100392         0.177413         0.033820          0.253563         0.134278          NaN          NaN       0.021027      0.069299      0.132682     -0.003076     0.326812      0.041450     0.083005     0.110994     0.003108     0.399172      0.051147     0.086409     0.162430     0.015517       0.202268            NaN            NaN            NaN        0.736504        0.959119   -0.013550   -0.002753    -0.006992     0.181654      0.278172     0.181551     0.201896     -0.003388      0.202268      0.069260      0.077336     -0.084608     -0.008223             NaN      0.069260       0.275775      0.261759          0.096931          0.253563             NaN             NaN               NaN             NaN             NaN               NaN          0.741305          0.591053          1.000000          0.727701           0.312738           0.183200           0.666311         -0.010340     0.007346    0.030836    0.031933   -0.003146   0.104092  0.125964  0.120466  0.085331\n",
            "Subflow Bwd Byts  -0.018941  0.033332        NaN       0.115830      0.268521      0.727701         0.318987         1.000000         0.054228         0.004925          0.013474         0.018979         0.100166         0.002896          0.249969         0.079815          NaN          NaN       0.005734      0.039145      0.127368     -0.000777     0.101503      0.012761     0.054887     0.088945    -0.001043     0.136258      0.011527     0.049898     0.149370     0.000089       0.009603            NaN            NaN            NaN        0.222031        0.651349   -0.002628   -0.001083     0.005088     0.091156      0.267744     0.117349     0.179523     -0.000711      0.009603      0.012139      0.011701     -0.024076     -0.002026             NaN      0.012139       0.055714      0.249651          0.013474          0.249969             NaN             NaN               NaN             NaN             NaN               NaN          0.268521          0.318987          0.727701          1.000000           0.017639           0.021970           0.281895         -0.024290     0.015830    0.044547    0.044157    0.000558   0.101427  0.176048  0.128410  0.076469\n",
            "Init Fwd Win Byts  0.014494 -0.144392        NaN       0.238637      0.327225      0.312738         0.158008         0.017639         0.384398        -0.133662          0.387057         0.409257         0.209174        -0.075877          0.171558         0.224090          NaN          NaN       0.138086      0.018931      0.058504      0.146172     0.237763      0.111917     0.027659     0.056180     0.101569     0.307036      0.019185     0.037748     0.041250     0.007003       0.270789            NaN            NaN            NaN        0.400017        0.360924   -0.040989   -0.013287    -0.135805     0.311816      0.268203     0.331423     0.168877     -0.019649      0.270789      0.407033      0.464169     -0.385829     -0.028629             NaN      0.407033       0.177440      0.264321          0.387057          0.171558             NaN             NaN               NaN             NaN             NaN               NaN          0.327225          0.158008          0.312738          0.017639           1.000000           0.290578           0.146490          0.197282    -0.061196   -0.055424   -0.066836   -0.044723   0.044115 -0.024764  0.037048  0.051102\n",
            "Init Bwd Win Byts -0.144740 -0.047321        NaN       0.121663      0.213588      0.183200         0.209831         0.021970         0.568249        -0.044144          0.346321         0.316181         0.798702        -0.011082          0.533128         0.739187          NaN          NaN       0.007848      0.019377      0.020672     -0.006849     0.123130      0.020844     0.039217     0.032874    -0.010337     0.156291      0.032469     0.035950     0.038481     0.021134       0.111905            NaN            NaN            NaN        0.250405        0.210273   -0.023069   -0.006906    -0.044509     0.707506      0.543274     0.606863     0.569115     -0.006422      0.111905      0.175843      0.235830     -0.210765     -0.003685             NaN      0.175843      -0.069786      0.525393          0.346321          0.533128             NaN             NaN               NaN             NaN             NaN               NaN          0.213588          0.209831          0.183200          0.021970           0.290578           1.000000           0.129802          0.057936    -0.019093   -0.018710   -0.021504   -0.013258  -0.028283 -0.019090 -0.029676 -0.025922\n",
            "Fwd Act Data Pkts -0.029070  0.039918        NaN       0.195518      0.848468      0.666311         0.765176         0.281895         0.134583        -0.000688          0.070411         0.067841         0.167314        -0.009134          0.167370         0.137585          NaN          NaN       0.020040      0.055284      0.071965     -0.001776     0.196409      0.036156     0.063386     0.075009     0.005264     0.231533      0.044536     0.067051     0.086423     0.006237       0.062679            NaN            NaN            NaN        0.816115        0.575460   -0.007512   -0.002920    -0.000482     0.160305      0.168370     0.142889     0.155340     -0.002182      0.062679      0.031673      0.050589     -0.064007     -0.004861             NaN      0.031673       0.007200      0.158837          0.070411          0.167370             NaN             NaN               NaN             NaN             NaN               NaN          0.848468          0.765176          0.666311          0.281895           0.146490           0.129802           1.000000         -0.024837     0.006083    0.025661    0.028811   -0.002611   0.062844  0.038185  0.064103  0.053631\n",
            "Fwd Seg Size Min   0.169891 -0.565192        NaN      -0.363328     -0.154037     -0.010340        -0.002376        -0.024290         0.130441        -0.578428          0.076088         0.176951         0.034584        -0.609329         -0.088832         0.084996          NaN          NaN      -0.101210     -0.154644     -0.203641     -0.020685    -0.367817     -0.143786    -0.093720    -0.215595    -0.099626    -0.093392     -0.103267    -0.022050    -0.039409    -0.067799       0.022501            NaN            NaN            NaN        0.035157        0.021105    0.014190   -0.001749    -0.589532     0.082829     -0.035872     0.089632     0.054114      0.004396      0.022501      0.196026      0.225506      0.173900      0.012524             NaN      0.196026      -0.048153     -0.082147          0.076088         -0.088832             NaN             NaN               NaN             NaN             NaN               NaN         -0.154037         -0.002376         -0.010340         -0.024290           0.197282           0.057936          -0.024837          1.000000    -0.468183   -0.421437   -0.509811   -0.343165  -0.189306 -0.227907 -0.214684 -0.157788\n",
            "Active Mean       -0.067852 -0.206748        NaN       0.414486      0.226925      0.007346         0.008247         0.015830        -0.053544        -0.010484         -0.065411        -0.062351        -0.024891        -0.012775         -0.023032        -0.028638          NaN          NaN       0.070770      0.116482      0.226962      0.012026     0.416292      0.057334     0.105791     0.230380     0.011437     0.010101      0.003115     0.005017     0.007443     0.002152      -0.005637            NaN            NaN            NaN       -0.009309        0.000906   -0.006438   -0.002858    -0.010600    -0.042371     -0.038613    -0.046451    -0.015369     -0.001731     -0.005637     -0.068847     -0.072883     -0.065864     -0.002563             NaN     -0.068847      -0.031710     -0.042296         -0.065411         -0.023032             NaN             NaN               NaN             NaN             NaN               NaN          0.226925          0.008247          0.007346          0.015830          -0.061196          -0.019093           0.006083         -0.468183     1.000000    0.553906    0.950947    0.907034   0.205107  0.281574  0.236702  0.170101\n",
            "Active Std        -0.059750 -0.180593        NaN       0.384153      0.216496      0.030836         0.025026         0.044547        -0.046870        -0.008542         -0.058600        -0.055533        -0.020738        -0.010798         -0.013219        -0.023836          NaN          NaN       0.060469      0.106162      0.207669      0.008278     0.386873      0.049312     0.100744     0.212463     0.005614     0.013427      0.000301     0.005934     0.009164    -0.002529      -0.004500            NaN            NaN            NaN       -0.002007        0.014859   -0.005596   -0.002484    -0.008579    -0.035798     -0.027648    -0.038021    -0.008599     -0.001505     -0.004500     -0.060583     -0.066519     -0.058203     -0.004286             NaN     -0.060583      -0.029470     -0.031355         -0.058600         -0.013219             NaN             NaN               NaN             NaN             NaN               NaN          0.216496          0.025026          0.030836          0.044547          -0.055424          -0.018710           0.025661         -0.421437     0.553906    1.000000    0.775305    0.152108   0.163816  0.393017  0.216496  0.108819\n",
            "Active Max        -0.073701 -0.217887        NaN       0.460145      0.260573      0.031933         0.030708         0.044157        -0.055423        -0.010245         -0.070403        -0.066721        -0.023549        -0.013302         -0.016617        -0.027669          NaN          NaN       0.076725      0.129391      0.250401      0.012068     0.462434      0.063304     0.119402     0.254679     0.010728     0.020360      0.004836     0.008543     0.012077     0.000761      -0.005991            NaN            NaN            NaN       -0.002816        0.014037   -0.006990   -0.003103    -0.010326    -0.042488     -0.033957    -0.045612    -0.010057     -0.001880     -0.005991     -0.074525     -0.079853     -0.071772     -0.003566             NaN     -0.074525      -0.034081     -0.038500         -0.070403         -0.016617             NaN             NaN               NaN             NaN             NaN               NaN          0.260573          0.030708          0.031933          0.044157          -0.066836          -0.021504           0.028811         -0.509811     0.950947    0.775305    1.000000    0.737883   0.216801  0.360463  0.261114  0.169005\n",
            "Active Min        -0.050470 -0.153498        NaN       0.299023      0.162194     -0.003146         0.000600         0.000558        -0.039604        -0.008005         -0.048021        -0.045887        -0.018454        -0.009664         -0.019510        -0.021416          NaN          NaN       0.053590      0.084907      0.164779      0.010074     0.299759      0.043393     0.075053     0.166360     0.010628     0.006568      0.003894     0.003414     0.004805     0.003766      -0.004495            NaN            NaN            NaN       -0.008891       -0.004193   -0.004830   -0.002144    -0.008121    -0.031700     -0.030773    -0.035319    -0.013084     -0.001299     -0.004495     -0.051117     -0.052929     -0.048953     -0.000887             NaN     -0.051117      -0.022601     -0.033355         -0.048021         -0.019510             NaN             NaN               NaN             NaN             NaN               NaN          0.162194          0.000600         -0.003146          0.000558          -0.044723          -0.013258          -0.002611         -0.343165     0.907034    0.152108    0.737883    1.000000   0.161053  0.135594  0.171894  0.147212\n",
            "Idle Mean         -0.085261 -0.005693        NaN       0.671183      0.135055      0.104092         0.066742         0.101427         0.040588         0.019037         -0.018949        -0.021245         0.241719        -0.000982          0.299026         0.230512          NaN          NaN       0.582740      0.840522      0.951662      0.320483     0.656574      0.653347     0.824112     0.927164     0.391761     0.589604      0.578179     0.801680     0.873372     0.294628       0.072997            NaN            NaN            NaN        0.065355        0.103131   -0.010673   -0.004736     0.019679     0.209060      0.254516     0.214623     0.320965     -0.002870      0.072997      0.008976      0.010024     -0.077151     -0.000964             NaN      0.008976       0.014922      0.236349         -0.018949          0.299026             NaN             NaN               NaN             NaN             NaN               NaN          0.135055          0.066742          0.104092          0.101427           0.044115          -0.028283           0.062844         -0.189306     0.205107    0.163816    0.216801    0.161053   1.000000  0.302043  0.987897  0.987442\n",
            "Idle Std          -0.049934 -0.089242        NaN       0.376524      0.151054      0.125964         0.041839         0.176048        -0.013079        -0.005724         -0.027305        -0.031908         0.042358        -0.002807          0.074554         0.040381          NaN          NaN       0.179450      0.364362      0.423964      0.015224     0.352431      0.174906     0.321070     0.375074     0.020716     0.165905      0.183003     0.233192     0.260090     0.063516       0.054265            NaN            NaN            NaN        0.038233        0.123018   -0.005866   -0.002602    -0.005855     0.025057      0.064879     0.031367     0.065338     -0.001577      0.054265     -0.044724     -0.031139     -0.040492      0.025665             NaN     -0.044724       0.003613      0.057713         -0.027305          0.074554             NaN             NaN               NaN             NaN             NaN               NaN          0.151054          0.041839          0.125964          0.176048          -0.024764          -0.019090           0.038185         -0.227907     0.281574    0.393017    0.360463    0.135594   0.302043  1.000000  0.440460  0.154094\n",
            "Idle Max          -0.087311 -0.020676        NaN       0.691802      0.150905      0.120466         0.068563         0.128410         0.035712         0.016807         -0.022050        -0.025197         0.233200        -0.001284          0.292149         0.222083          NaN          NaN       0.576639      0.848236      0.963269      0.303951     0.674287      0.642238     0.826490     0.932775     0.371712     0.579603      0.572915     0.789562     0.861816     0.287898       0.078053            NaN            NaN            NaN        0.067821        0.119977   -0.010971   -0.004868     0.017390     0.199701      0.249290     0.205683     0.310439     -0.002950      0.078053      0.001077      0.004046     -0.078473      0.005950             NaN      0.001077       0.014375      0.231094         -0.022050          0.292149             NaN             NaN               NaN             NaN             NaN               NaN          0.150905          0.068563          0.120466          0.128410           0.037048          -0.029676           0.064103         -0.214684     0.236702    0.216496    0.261114    0.171894   0.987897  0.440460  1.000000  0.952861\n",
            "Idle Min          -0.079581  0.003512        NaN       0.626324      0.112976      0.085331         0.057676         0.076469         0.042312         0.019895         -0.016076        -0.017762         0.241682        -0.001369          0.294839         0.230424          NaN          NaN       0.572841      0.808620      0.917995      0.331085     0.614714      0.643573     0.798309     0.899216     0.403497     0.572638      0.559500     0.789717     0.860907     0.291454       0.063101            NaN            NaN            NaN        0.060329        0.087356   -0.010007   -0.004441     0.020559     0.210609      0.250464     0.215062     0.319705     -0.002691      0.063101      0.017231      0.016581     -0.073512     -0.005682             NaN      0.017231       0.015074      0.232996         -0.016076          0.294839             NaN             NaN               NaN             NaN             NaN               NaN          0.112976          0.057676          0.085331          0.076469           0.051102          -0.025922           0.053631         -0.157788     0.170101    0.108819    0.169005    0.147212   0.987442  0.154094  0.952861  1.000000\n"
          ],
          "name": "stdout"
        }
      ]
    },
    {
      "cell_type": "markdown",
      "metadata": {
        "id": "JEb4HTRwiaJx"
      },
      "source": [
        "\n",
        "# Linear Regression Model\n",
        "\n",
        "\n",
        "Linear Regression model is one the oldest and widely used machine learning approach which assumes a relationship between dependent and independent variables. For example, we might want to model the flow duration."
      ]
    },
    {
      "cell_type": "markdown",
      "metadata": {
        "id": "21D9EANUvnwF"
      },
      "source": [
        "Now that we have uploaded the dataset, we can start analyzing. \n",
        "For our linear regression model we need to import two modules from Pyspark i.e. Vector Assembler and Linear Regression. Vector Assembler is a transformer that assembles all the features into one vector from multiple columns that contain type double. We could have used StringIndexer if any of our columns contains string values to convert it into numeric values. "
      ]
    },
    {
      "cell_type": "code",
      "metadata": {
        "id": "0ZeJ7WQCgM8g"
      },
      "source": [
        "from pyspark.ml.feature import VectorAssembler\n",
        "from pyspark.ml.regression import LinearRegression\n",
        "from pyspark.ml.feature import IndexToString, StringIndexer\n"
      ],
      "execution_count": 6,
      "outputs": []
    },
    {
      "cell_type": "markdown",
      "metadata": {
        "id": "UJLoAfqVv8-E"
      },
      "source": [
        "Notice that we used InferSchema inside read.csv mofule. InferSchema enables us to infer automatically different data types for each column.\n",
        "\n",
        "Let us print look into the dataset to see the data types of each column:"
      ]
    },
    {
      "cell_type": "code",
      "metadata": {
        "id": "Gok1FXWugYkE",
        "colab": {
          "base_uri": "https://localhost:8080/"
        },
        "outputId": "27822cfc-6d6d-45db-92a5-f5fb6ddc96a5"
      },
      "source": [
        "df.printSchema()"
      ],
      "execution_count": null,
      "outputs": [
        {
          "output_type": "stream",
          "text": [
            "root\n",
            " |-- Dst Port: integer (nullable = true)\n",
            " |-- Protocol: integer (nullable = true)\n",
            " |-- Timestamp: integer (nullable = true)\n",
            " |-- Flow Duration: integer (nullable = true)\n",
            " |-- Tot Fwd Pkts: integer (nullable = true)\n",
            " |-- Tot Bwd Pkts: integer (nullable = true)\n",
            " |-- TotLen Fwd Pkts: integer (nullable = true)\n",
            " |-- TotLen Bwd Pkts: decimal(9,0) (nullable = true)\n",
            " |-- Fwd Pkt Len Max: integer (nullable = true)\n",
            " |-- Fwd Pkt Len Min: integer (nullable = true)\n",
            " |-- Fwd Pkt Len Mean: double (nullable = true)\n",
            " |-- Fwd Pkt Len Std: double (nullable = true)\n",
            " |-- Bwd Pkt Len Max: integer (nullable = true)\n",
            " |-- Bwd Pkt Len Min: integer (nullable = true)\n",
            " |-- Bwd Pkt Len Mean: double (nullable = true)\n",
            " |-- Bwd Pkt Len Std: double (nullable = true)\n",
            " |-- Flow Byts/s: double (nullable = true)\n",
            " |-- Flow Pkts/s: double (nullable = true)\n",
            " |-- Flow IAT Mean: double (nullable = true)\n",
            " |-- Flow IAT Std: double (nullable = true)\n",
            " |-- Flow IAT Max: decimal(9,0) (nullable = true)\n",
            " |-- Flow IAT Min: decimal(9,0) (nullable = true)\n",
            " |-- Fwd IAT Tot: decimal(9,0) (nullable = true)\n",
            " |-- Fwd IAT Mean: double (nullable = true)\n",
            " |-- Fwd IAT Std: double (nullable = true)\n",
            " |-- Fwd IAT Max: decimal(9,0) (nullable = true)\n",
            " |-- Fwd IAT Min: decimal(9,0) (nullable = true)\n",
            " |-- Bwd IAT Tot: decimal(9,0) (nullable = true)\n",
            " |-- Bwd IAT Mean: double (nullable = true)\n",
            " |-- Bwd IAT Std: double (nullable = true)\n",
            " |-- Bwd IAT Max: decimal(9,0) (nullable = true)\n",
            " |-- Bwd IAT Min: decimal(9,0) (nullable = true)\n",
            " |-- Fwd PSH Flags: integer (nullable = true)\n",
            " |-- Bwd PSH Flags: integer (nullable = true)\n",
            " |-- Fwd URG Flags: integer (nullable = true)\n",
            " |-- Bwd URG Flags: integer (nullable = true)\n",
            " |-- Fwd Header Len: integer (nullable = true)\n",
            " |-- Bwd Header Len: integer (nullable = true)\n",
            " |-- Fwd Pkts/s: double (nullable = true)\n",
            " |-- Bwd Pkts/s: double (nullable = true)\n",
            " |-- Pkt Len Min: integer (nullable = true)\n",
            " |-- Pkt Len Max: integer (nullable = true)\n",
            " |-- Pkt Len Mean: double (nullable = true)\n",
            " |-- Pkt Len Std: double (nullable = true)\n",
            " |-- Pkt Len Var: double (nullable = true)\n",
            " |-- FIN Flag Cnt: integer (nullable = true)\n",
            " |-- SYN Flag Cnt: integer (nullable = true)\n",
            " |-- RST Flag Cnt: integer (nullable = true)\n",
            " |-- PSH Flag Cnt: integer (nullable = true)\n",
            " |-- ACK Flag Cnt: integer (nullable = true)\n",
            " |-- URG Flag Cnt: integer (nullable = true)\n",
            " |-- CWE Flag Count: integer (nullable = true)\n",
            " |-- ECE Flag Cnt: integer (nullable = true)\n",
            " |-- Down/Up Ratio: integer (nullable = true)\n",
            " |-- Pkt Size Avg: double (nullable = true)\n",
            " |-- Fwd Seg Size Avg: double (nullable = true)\n",
            " |-- Bwd Seg Size Avg: double (nullable = true)\n",
            " |-- Fwd Byts/b Avg: integer (nullable = true)\n",
            " |-- Fwd Pkts/b Avg: integer (nullable = true)\n",
            " |-- Fwd Blk Rate Avg: string (nullable = true)\n",
            " |-- Bwd Byts/b Avg: integer (nullable = true)\n",
            " |-- Bwd Pkts/b Avg: integer (nullable = true)\n",
            " |-- Bwd Blk Rate Avg: integer (nullable = true)\n",
            " |-- Subflow Fwd Pkts: integer (nullable = true)\n",
            " |-- Subflow Fwd Byts: integer (nullable = true)\n",
            " |-- Subflow Bwd Pkts: integer (nullable = true)\n",
            " |-- Subflow Bwd Byts: integer (nullable = true)\n",
            " |-- Init Fwd Win Byts: integer (nullable = true)\n",
            " |-- Init Bwd Win Byts: integer (nullable = true)\n",
            " |-- Fwd Act Data Pkts: integer (nullable = true)\n",
            " |-- Fwd Seg Size Min: integer (nullable = true)\n",
            " |-- Active Mean: double (nullable = true)\n",
            " |-- Active Std: double (nullable = true)\n",
            " |-- Active Max: decimal(9,0) (nullable = true)\n",
            " |-- Active Min: decimal(9,0) (nullable = true)\n",
            " |-- Idle Mean: double (nullable = true)\n",
            " |-- Idle Std: double (nullable = true)\n",
            " |-- Idle Max: decimal(9,0) (nullable = true)\n",
            " |-- Idle Min: decimal(9,0) (nullable = true)\n",
            " |-- Label: string (nullable = true)\n",
            "\n"
          ],
          "name": "stdout"
        }
      ]
    },
    {
      "cell_type": "markdown",
      "metadata": {
        "id": "3L9VJqsHwEGf"
      },
      "source": [
        "Next step is to convert all the features from different columns into a single column and let's call this new vector column as 'Attributes' in the outputCol."
      ]
    },
    {
      "cell_type": "code",
      "metadata": {
        "id": "sKSqdT9QgkfD",
        "colab": {
          "base_uri": "https://localhost:8080/"
        },
        "outputId": "6717e849-ecb8-428d-b6ee-9bfe58c033bb"
      },
      "source": [
        "#\n",
        "indexer = StringIndexer(inputCol=\"Label\", outputCol=\"LabelIndex\")\n",
        "indexed = indexer.fit(df).transform(df)\n",
        "indexed.show()\n",
        "\n",
        "df=indexed.drop('Label')\n",
        "df.show(10)\n",
        "\n"
      ],
      "execution_count": 14,
      "outputs": [
        {
          "output_type": "stream",
          "text": [
            "+--------+--------+---------+-------------+------------+------------+---------------+---------------+---------------+---------------+----------------+---------------+---------------+---------------+----------------+---------------+-----------+-----------+-------------+------------+------------+------------+-----------+------------+-----------+-----------+-----------+-----------+------------+-----------+-----------+-----------+-------------+-------------+-------------+-------------+--------------+--------------+-----------+-----------+-----------+-----------+------------+-----------+-----------+------------+------------+------------+------------+------------+------------+--------------+------------+-------------+------------+----------------+----------------+--------------+--------------+----------------+--------------+--------------+----------------+----------------+----------------+----------------+----------------+-----------------+-----------------+-----------------+----------------+-----------+-----------+----------+----------+-----------+-----------+--------+--------+------+----------+\n",
            "|Dst Port|Protocol|Timestamp|Flow Duration|Tot Fwd Pkts|Tot Bwd Pkts|TotLen Fwd Pkts|TotLen Bwd Pkts|Fwd Pkt Len Max|Fwd Pkt Len Min|Fwd Pkt Len Mean|Fwd Pkt Len Std|Bwd Pkt Len Max|Bwd Pkt Len Min|Bwd Pkt Len Mean|Bwd Pkt Len Std|Flow Byts/s|Flow Pkts/s|Flow IAT Mean|Flow IAT Std|Flow IAT Max|Flow IAT Min|Fwd IAT Tot|Fwd IAT Mean|Fwd IAT Std|Fwd IAT Max|Fwd IAT Min|Bwd IAT Tot|Bwd IAT Mean|Bwd IAT Std|Bwd IAT Max|Bwd IAT Min|Fwd PSH Flags|Bwd PSH Flags|Fwd URG Flags|Bwd URG Flags|Fwd Header Len|Bwd Header Len| Fwd Pkts/s| Bwd Pkts/s|Pkt Len Min|Pkt Len Max|Pkt Len Mean|Pkt Len Std|Pkt Len Var|FIN Flag Cnt|SYN Flag Cnt|RST Flag Cnt|PSH Flag Cnt|ACK Flag Cnt|URG Flag Cnt|CWE Flag Count|ECE Flag Cnt|Down/Up Ratio|Pkt Size Avg|Fwd Seg Size Avg|Bwd Seg Size Avg|Fwd Byts/b Avg|Fwd Pkts/b Avg|Fwd Blk Rate Avg|Bwd Byts/b Avg|Bwd Pkts/b Avg|Bwd Blk Rate Avg|Subflow Fwd Pkts|Subflow Fwd Byts|Subflow Bwd Pkts|Subflow Bwd Byts|Init Fwd Win Byts|Init Bwd Win Byts|Fwd Act Data Pkts|Fwd Seg Size Min|Active Mean| Active Std|Active Max|Active Min|  Idle Mean|   Idle Std|Idle Max|Idle Min| Label|LabelIndex|\n",
            "+--------+--------+---------+-------------+------------+------------+---------------+---------------+---------------+---------------+----------------+---------------+---------------+---------------+----------------+---------------+-----------+-----------+-------------+------------+------------+------------+-----------+------------+-----------+-----------+-----------+-----------+------------+-----------+-----------+-----------+-------------+-------------+-------------+-------------+--------------+--------------+-----------+-----------+-----------+-----------+------------+-----------+-----------+------------+------------+------------+------------+------------+------------+--------------+------------+-------------+------------+----------------+----------------+--------------+--------------+----------------+--------------+--------------+----------------+----------------+----------------+----------------+----------------+-----------------+-----------------+-----------------+----------------+-----------+-----------+----------+----------+-----------+-----------+--------+--------+------+----------+\n",
            "|     443|       6|        2|       141385|           9|           7|            553|           3773|            202|              0|     61.44444444|    87.53443767|           1460|              0|           539.0|    655.4329358|30597.30523|113.1661775|  9425.666667| 19069.11685|       73403|           1|     141385|   17673.125|23965.32327|      73403|         22|      51417|      8569.5|13036.89082|      31525|          1|            0|            0|            0|            0|           192|           152|63.65597482|49.51020264|          0|       1460| 254.4705882|474.7129551|225352.3897|           0|           0|           1|           1|           0|           0|             0|           1|            0|     270.375|     61.44444444|           539.0|             0|             0|               0|             0|             0|               0|               9|             553|               7|            3773|             8192|              119|                4|              20|        0.0|        0.0|         0|         0|        0.0|        0.0|       0|       0|Benign|       1.0|\n",
            "|   49684|       6|        2|          281|           2|           1|             38|              0|             38|              0|            19.0|    26.87005769|              0|              0|             0.0|            0.0|135231.3167|10676.15658|        140.5|  174.655375|         264|          17|        281|       281.0|        0.0|        281|        281|          0|         0.0|        0.0|          0|          0|            1|            0|            0|            0|            40|            20|7117.437722|3558.718861|          0|         38|        19.0|21.93931023|481.3333333|           0|           1|           0|           0|           1|           0|             0|           0|            0| 25.33333333|            19.0|             0.0|             0|             0|               0|             0|             0|               0|               2|              38|               1|               0|              123|                0|                0|              20|        0.0|        0.0|         0|         0|        0.0|        0.0|       0|       0|Benign|       1.0|\n",
            "|     443|       6|        2|       279824|          11|          15|           1086|          10527|            385|              0|     98.72727273|    129.3924966|           1460|              0|           701.8|    636.3141856| 41501.0864|92.91554692|     11192.96| 24379.44834|      112589|           1|     279728|     27972.8|36167.74032|     112589|         94|     258924| 18494.57143|36356.50372|     133669|          1|            0|            0|            0|            0|           232|           312|39.31042369|53.60512322|          0|       1460| 430.1111111| 566.234209|320621.1795|           0|           0|           1|           1|           0|           0|             0|           1|            1| 446.6538462|     98.72727273|           701.8|             0|             0|               0|             0|             0|               0|              11|            1086|              15|           10527|             8192|             1047|                5|              20|        0.0|        0.0|         0|         0|        0.0|        0.0|       0|       0|Benign|       1.0|\n",
            "|     443|       6|        2|          132|           2|           0|              0|              0|              0|              0|             0.0|            0.0|              0|              0|             0.0|            0.0|        0.0|15151.51515|        132.0|         0.0|         132|         132|        132|       132.0|        0.0|        132|        132|          0|         0.0|        0.0|          0|          0|            0|            0|            0|            0|            40|             0|15151.51515|        0.0|          0|          0|         0.0|        0.0|        0.0|           0|           0|           0|           0|           1|           0|             0|           0|            0|         0.0|             0.0|             0.0|             0|             0|               0|             0|             0|               0|               2|               0|               0|               0|              256|               -1|                0|              20|        0.0|        0.0|         0|         0|        0.0|        0.0|       0|       0|Benign|       1.0|\n",
            "|     443|       6|        2|       274016|           9|          13|           1285|           6141|            517|              0|     142.7777778|    183.8877224|           1460|              0|     472.3846154|    611.1804887|27100.60726|80.28728249|  13048.38095| 26311.62703|      114077|           1|     273946|    34243.25|37996.56546|     114077|        201|     252994| 21082.83333|39075.73819|     135611|          1|            0|            0|            0|            0|           192|           272|32.84479738|47.44248511|          0|       1460| 322.8695652|497.2547641|247262.3004|           0|           0|           1|           1|           0|           0|             0|           1|            1| 337.5454545|     142.7777778|     472.3846154|             0|             0|               0|             0|             0|               0|               9|            1285|              13|            6141|             8192|             1047|                5|              20|        0.0|        0.0|         0|         0|        0.0|        0.0|       0|       0|Benign|       1.0|\n",
            "|     443|       6|        2|          250|           2|           0|              0|              0|              0|              0|             0.0|            0.0|              0|              0|             0.0|            0.0|        0.0|     8000.0|        250.0|         0.0|         250|         250|        250|       250.0|        0.0|        250|        250|          0|         0.0|        0.0|          0|          0|            0|            0|            0|            0|            40|             0|     8000.0|        0.0|          0|          0|         0.0|        0.0|        0.0|           0|           0|           0|           0|           1|           0|             0|           0|            0|         0.0|             0.0|             0.0|             0|             0|               0|             0|             0|               0|               2|               0|               0|               0|              251|               -1|                0|              20|        0.0|        0.0|         0|         0|        0.0|        0.0|       0|       0|Benign|       1.0|\n",
            "|      80|       6|        2|      5964033|           3|           1|              0|              0|              0|              0|             0.0|            0.0|              0|              0|             0.0|            0.0|        0.0|  0.6706871|    1988011.0|  3425209.65|     5943084|          19|    5964033|   2982016.5|4187581.818|    5943084|      20949|          0|         0.0|        0.0|          0|          0|            0|            0|            0|            0|            72|            32|0.503015325|0.167671775|          0|          0|         0.0|        0.0|        0.0|           0|           0|           1|           1|           0|           0|             0|           1|            0|         0.0|             0.0|             0.0|             0|             0|               0|             0|             0|               0|               3|               0|               1|               0|             8192|            29200|                0|              20|        0.0|        0.0|         0|         0|        0.0|        0.0|       0|       0|Benign|       1.0|\n",
            "|   49690|       6|        2|          144|           2|           0|              0|              0|              0|              0|             0.0|            0.0|              0|              0|             0.0|            0.0|        0.0|13888.88889|        144.0|         0.0|         144|         144|        144|       144.0|        0.0|        144|        144|          0|         0.0|        0.0|          0|          0|            0|            0|            0|            0|            40|             0|13888.88889|        0.0|          0|          0|         0.0|        0.0|        0.0|           0|           0|           0|           0|           1|           0|             0|           0|            0|         0.0|             0.0|             0.0|             0|             0|               0|             0|             0|               0|               2|               0|               0|               0|              913|               -1|                0|              20|        0.0|        0.0|         0|         0|        0.0|        0.0|       0|       0|Benign|       1.0|\n",
            "|     443|       6|        2|        90828|           8|           8|           1748|           3898|           1078|              0|           218.5|    363.7133879|           1460|              0|          487.25|    639.5062269|62161.44801|176.1571322|       6055.2| 9948.657879|       23343|           1|      69438| 9919.714286|11893.19116|      23365|         48|      69553| 9936.142857|12312.69524|      23723|          1|            0|            0|            0|            0|           172|           172|88.07856608|88.07856608|          0|       1460| 332.1176471|512.0358731|262180.7353|           0|           0|           1|           1|           0|           0|             0|           1|            1|     352.875|           218.5|          487.25|             0|             0|               0|             0|             0|               0|               8|            1748|               8|            3898|             8192|             8192|                5|              20|        0.0|        0.0|         0|         0|        0.0|        0.0|       0|       0|Benign|       1.0|\n",
            "|     443|       6|        2|          152|           3|           0|             31|              0|             31|              0|     10.33333333|    17.89785834|              0|              0|             0.0|            0.0|203947.3684|19736.84211|         76.0| 63.63961031|         121|          31|        152|        76.0|63.63961031|        121|         31|          0|         0.0|        0.0|          0|          0|            0|            0|            0|            0|            60|             0|19736.84211|        0.0|          0|         31|        7.75|       15.5|     240.25|           0|           0|           0|           0|           1|           0|             0|           0|            0| 10.33333333|     10.33333333|             0.0|             0|             0|               0|             0|             0|               0|               3|              31|               0|               0|              257|               -1|                1|              20|        0.0|        0.0|         0|         0|        0.0|        0.0|       0|       0|Benign|       1.0|\n",
            "|     445|       6|        2|       234228|           3|           1|              0|              0|              0|              0|             0.0|            0.0|              0|              0|             0.0|            0.0|        0.0| 17.0773776|      78076.0| 131265.8661|      229627|          76|     234228|    117114.0|159224.8908|     229703|       4525|          0|         0.0|        0.0|          0|          0|            0|            0|            0|            0|            68|            28| 12.8080332|4.269344399|          0|          0|         0.0|        0.0|        0.0|           0|           0|           0|           1|           0|           0|             0|           0|            0|         0.0|             0.0|             0.0|             0|             0|               0|             0|             0|               0|               3|               0|               1|               0|             8192|             8192|                0|              20|        0.0|        0.0|         0|         0|        0.0|        0.0|       0|       0|Benign|       1.0|\n",
            "|     443|       6|        2|     60860062|          15|          13|            870|           3306|            535|              0|            58.0|    144.6315516|           1460|              0|     254.3076923|    538.4357567|68.61642698|0.460071828|   2254076.37| 4220283.566|    10000000|           1|   60900000| 4347147.286| 5134036.59|   10100000|       2138|   60800000|   5065870.5|5234966.454|   10100000|          1|            0|            0|            0|            0|           312|           264|0.246467051|0.213604777|          0|       1460|       144.0|380.8669621|145059.6429|           0|           0|           1|           1|           0|           0|             0|           1|            0| 149.1428571|            58.0|     254.3076923|             0|             0|               0|             0|             0|               0|              15|             870|              13|            3306|             8192|            31088|                9|              20|130201.6667|148831.6544|    434003|     69408|      1.0E7|16330.68406|10000000| 9968389|Benign|       1.0|\n",
            "|   49687|       6|        2|        68899|           2|           0|              0|              0|              0|              0|             0.0|            0.0|              0|              0|             0.0|            0.0|        0.0| 29.0279975|      68899.0|         0.0|       68899|       68899|      68899|     68899.0|        0.0|      68899|      68899|          0|         0.0|        0.0|          0|          0|            0|            0|            0|            0|            40|             0| 29.0279975|        0.0|          0|          0|         0.0|        0.0|        0.0|           0|           0|           0|           0|           1|           0|             0|           0|            0|         0.0|             0.0|             0.0|             0|             0|               0|             0|             0|               0|               2|               0|               0|               0|            31088|               -1|                0|              20|        0.0|        0.0|         0|         0|        0.0|        0.0|       0|       0|Benign|       1.0|\n",
            "|       0|       0|        2|    119250445|          72|           0|              0|              0|              0|              0|             0.0|            0.0|              0|              0|             0.0|            0.0|        0.0|0.603771332|  1679583.732| 2528448.202|    20100000|      170801|  119000000| 1679583.732|2528448.202|   20100000|     170801|          0|         0.0|        0.0|          0|          0|            0|            0|            0|            0|             0|             0|0.603771332|        0.0|          0|          0|         0.0|        0.0|        0.0|           0|           0|           0|           0|           0|           0|             0|           0|            0|         0.0|             0.0|             0.0|             0|             0|               0|             0|             0|               0|              72|               0|               0|               0|               -1|               -1|                0|               0|     4.64E7|     2.09E7|  61100000|  31600000|     1.33E7|9720570.758|20100000| 6381385|Benign|       1.0|\n",
            "|     443|       6|        2|    116185749|          21|          18|            749|           4567|            389|              0|     35.66666667|    94.42422006|           1460|              0|     253.7222222|    516.5058858|45.75432052|0.335669394|  3057519.711| 4582223.965|    10000000|           0|  116000000|  5809287.45|4929086.208|   10000000|         28|  111000000|   6505413.0|4920453.778|   10000000|          0|            0|            0|            0|            0|           432|           504|0.180745059|0.154924336|          0|       1460|       132.9|364.8855669|133141.4769|           0|           0|           1|           1|           0|           0|             0|           1|            0| 136.3076923|     35.66666667|     253.7222222|             0|             0|               0|             0|             0|               0|              21|             749|              18|            4567|             8192|              980|               15|              20|46760.16667|89026.69707|    329454|     20847| 9635383.25|1279465.907|10000000| 5572867|Benign|       1.0|\n",
            "|     443|       6|        2|     60602600|          13|          14|            338|           3264|            207|              0|            26.0|    64.51227273|           1460|              0|     233.1428571|    522.5606858|59.43639382| 0.44552544|  2330869.231| 4280721.113|    10000000|           0|   60600000| 5050216.667|5223517.717|   10100000|        637|   60500000| 4656495.385| 5204710.91|   10100000|          0|            0|            0|            0|            0|           272|           284|0.214512249|0.231013191|          0|       1460| 128.6428571|380.3625185|144675.6455|           0|           0|           1|           1|           0|           0|             0|           1|            1| 133.4074074|            26.0|     233.1428571|             0|             0|               0|             0|             0|               0|              13|             338|              14|            3264|             8192|            48180|                7|              20|106008.1667|92770.95438|    295376|     68039|  9994401.5|23886.95478|10000000| 9959152|Benign|       1.0|\n",
            "|      80|       6|        2|    116690356|          17|          16|            883|           1576|            436|              0|     51.94117647|    144.5551238|            788|              0|            98.5|    269.1532401|21.07286398| 0.28279972|  3646573.625| 4802617.578|    10000000|          16|  117000000|   7292436.0|4410906.134|   10000000|        143|  117000000| 7778611.133|4123216.976|   10000000|        528|            0|            0|            0|            0|           352|           464|0.145684704|0.137115016|          0|        788| 72.32352941|209.2010372|43765.07398|           0|           0|           1|           1|           0|           0|             0|           1|            0| 74.51515152|     51.94117647|            98.5|             0|             0|               0|             0|             0|               0|              17|             883|              16|            1576|             8192|              290|               13|              20|22699.66667|26978.00882|     88621|     11223|9700548.333|1014536.434|10000000| 6479791|Benign|       1.0|\n",
            "|      80|       6|        2|    119731397|          17|          16|            597|            768|            293|              0|     35.11764706|    97.06433585|            384|              0|            48.0|    131.1609698|11.40051845|0.275616929|  3741606.156| 4889656.525|    10000000|          17|  120000000|  7482496.75|4439470.787|   10000000|        564|  120000000|   7981337.0|4130418.387|   10000000|        303|            0|            0|            0|            0|           352|           464|0.141984479|0.133632451|          0|        384| 40.14705882|111.7112437|12479.40196|           0|           0|           1|           1|           0|           0|             0|           1|            0| 41.36363636|     35.11764706|            48.0|             0|             0|               0|             0|             0|               0|              17|             597|              16|             768|             8192|              980|               13|              20|    22859.0|26715.60238|     82791|     11324|9953803.333|138400.2774|10000000| 9520409|Benign|       1.0|\n",
            "|     443|       6|        2|    118281864|          36|          83|           1022|         108156|            250|              0|     28.38888889|    64.57344778|           1460|              0|     1303.084337|    429.7638661|923.0324608|1.006071396|  1002388.678| 7643655.563|    59000000|           0|  118000000| 3379481.829|     1.39E7|   59000000|        133|  118000000| 1441514.171|9159139.287|   59000000|          0|            0|            0|            0|            0|           732|          1672|0.304357733|0.701713663|          0|       1460| 909.8166667| 691.633871|478357.4115|           0|           0|           1|           1|           0|           0|             0|           1|            2| 917.4621849|     28.38888889|     1303.084337|             0|             0|               0|             0|             0|               0|              36|            1022|              83|          108156|             8192|              131|                8|              20|   134521.0|79961.04903|    191062|     77980|      5.9E7|44452.97491|59000000|58900000|Benign|       1.0|\n",
            "|     443|       6|        2|          192|           3|           0|             77|              0|             46|              0|     25.66666667|    23.45918441|              0|              0|             0.0|            0.0|401041.6667|    15625.0|         96.0| 110.3086579|         174|          18|        192|        96.0|110.3086579|        174|         18|          0|         0.0|        0.0|          0|          0|            1|            0|            0|            0|            60|             0|    15625.0|        0.0|          0|         46|       30.75|21.68524844|     470.25|           0|           1|           0|           0|           1|           0|             0|           0|            0|        41.0|     25.66666667|             0.0|             0|             0|               0|             0|             0|               0|               3|              77|               0|               0|              256|               -1|                1|              20|        0.0|        0.0|         0|         0|        0.0|        0.0|       0|       0|Benign|       1.0|\n",
            "+--------+--------+---------+-------------+------------+------------+---------------+---------------+---------------+---------------+----------------+---------------+---------------+---------------+----------------+---------------+-----------+-----------+-------------+------------+------------+------------+-----------+------------+-----------+-----------+-----------+-----------+------------+-----------+-----------+-----------+-------------+-------------+-------------+-------------+--------------+--------------+-----------+-----------+-----------+-----------+------------+-----------+-----------+------------+------------+------------+------------+------------+------------+--------------+------------+-------------+------------+----------------+----------------+--------------+--------------+----------------+--------------+--------------+----------------+----------------+----------------+----------------+----------------+-----------------+-----------------+-----------------+----------------+-----------+-----------+----------+----------+-----------+-----------+--------+--------+------+----------+\n",
            "only showing top 20 rows\n",
            "\n",
            "+--------+--------+---------+-------------+------------+------------+---------------+---------------+---------------+---------------+----------------+---------------+---------------+---------------+----------------+---------------+-----------+-----------+-------------+------------+------------+------------+-----------+------------+-----------+-----------+-----------+-----------+------------+-----------+-----------+-----------+-------------+-------------+-------------+-------------+--------------+--------------+-----------+-----------+-----------+-----------+------------+-----------+-----------+------------+------------+------------+------------+------------+------------+--------------+------------+-------------+------------+----------------+----------------+--------------+--------------+----------------+--------------+--------------+----------------+----------------+----------------+----------------+----------------+-----------------+-----------------+-----------------+----------------+-----------+----------+----------+----------+---------+--------+--------+--------+----------+\n",
            "|Dst Port|Protocol|Timestamp|Flow Duration|Tot Fwd Pkts|Tot Bwd Pkts|TotLen Fwd Pkts|TotLen Bwd Pkts|Fwd Pkt Len Max|Fwd Pkt Len Min|Fwd Pkt Len Mean|Fwd Pkt Len Std|Bwd Pkt Len Max|Bwd Pkt Len Min|Bwd Pkt Len Mean|Bwd Pkt Len Std|Flow Byts/s|Flow Pkts/s|Flow IAT Mean|Flow IAT Std|Flow IAT Max|Flow IAT Min|Fwd IAT Tot|Fwd IAT Mean|Fwd IAT Std|Fwd IAT Max|Fwd IAT Min|Bwd IAT Tot|Bwd IAT Mean|Bwd IAT Std|Bwd IAT Max|Bwd IAT Min|Fwd PSH Flags|Bwd PSH Flags|Fwd URG Flags|Bwd URG Flags|Fwd Header Len|Bwd Header Len| Fwd Pkts/s| Bwd Pkts/s|Pkt Len Min|Pkt Len Max|Pkt Len Mean|Pkt Len Std|Pkt Len Var|FIN Flag Cnt|SYN Flag Cnt|RST Flag Cnt|PSH Flag Cnt|ACK Flag Cnt|URG Flag Cnt|CWE Flag Count|ECE Flag Cnt|Down/Up Ratio|Pkt Size Avg|Fwd Seg Size Avg|Bwd Seg Size Avg|Fwd Byts/b Avg|Fwd Pkts/b Avg|Fwd Blk Rate Avg|Bwd Byts/b Avg|Bwd Pkts/b Avg|Bwd Blk Rate Avg|Subflow Fwd Pkts|Subflow Fwd Byts|Subflow Bwd Pkts|Subflow Bwd Byts|Init Fwd Win Byts|Init Bwd Win Byts|Fwd Act Data Pkts|Fwd Seg Size Min|Active Mean|Active Std|Active Max|Active Min|Idle Mean|Idle Std|Idle Max|Idle Min|LabelIndex|\n",
            "+--------+--------+---------+-------------+------------+------------+---------------+---------------+---------------+---------------+----------------+---------------+---------------+---------------+----------------+---------------+-----------+-----------+-------------+------------+------------+------------+-----------+------------+-----------+-----------+-----------+-----------+------------+-----------+-----------+-----------+-------------+-------------+-------------+-------------+--------------+--------------+-----------+-----------+-----------+-----------+------------+-----------+-----------+------------+------------+------------+------------+------------+------------+--------------+------------+-------------+------------+----------------+----------------+--------------+--------------+----------------+--------------+--------------+----------------+----------------+----------------+----------------+----------------+-----------------+-----------------+-----------------+----------------+-----------+----------+----------+----------+---------+--------+--------+--------+----------+\n",
            "|     443|       6|        2|       141385|           9|           7|            553|           3773|            202|              0|     61.44444444|    87.53443767|           1460|              0|           539.0|    655.4329358|30597.30523|113.1661775|  9425.666667| 19069.11685|       73403|           1|     141385|   17673.125|23965.32327|      73403|         22|      51417|      8569.5|13036.89082|      31525|          1|            0|            0|            0|            0|           192|           152|63.65597482|49.51020264|          0|       1460| 254.4705882|474.7129551|225352.3897|           0|           0|           1|           1|           0|           0|             0|           1|            0|     270.375|     61.44444444|           539.0|             0|             0|               0|             0|             0|               0|               9|             553|               7|            3773|             8192|              119|                4|              20|        0.0|       0.0|         0|         0|      0.0|     0.0|       0|       0|       1.0|\n",
            "|   49684|       6|        2|          281|           2|           1|             38|              0|             38|              0|            19.0|    26.87005769|              0|              0|             0.0|            0.0|135231.3167|10676.15658|        140.5|  174.655375|         264|          17|        281|       281.0|        0.0|        281|        281|          0|         0.0|        0.0|          0|          0|            1|            0|            0|            0|            40|            20|7117.437722|3558.718861|          0|         38|        19.0|21.93931023|481.3333333|           0|           1|           0|           0|           1|           0|             0|           0|            0| 25.33333333|            19.0|             0.0|             0|             0|               0|             0|             0|               0|               2|              38|               1|               0|              123|                0|                0|              20|        0.0|       0.0|         0|         0|      0.0|     0.0|       0|       0|       1.0|\n",
            "|     443|       6|        2|       279824|          11|          15|           1086|          10527|            385|              0|     98.72727273|    129.3924966|           1460|              0|           701.8|    636.3141856| 41501.0864|92.91554692|     11192.96| 24379.44834|      112589|           1|     279728|     27972.8|36167.74032|     112589|         94|     258924| 18494.57143|36356.50372|     133669|          1|            0|            0|            0|            0|           232|           312|39.31042369|53.60512322|          0|       1460| 430.1111111| 566.234209|320621.1795|           0|           0|           1|           1|           0|           0|             0|           1|            1| 446.6538462|     98.72727273|           701.8|             0|             0|               0|             0|             0|               0|              11|            1086|              15|           10527|             8192|             1047|                5|              20|        0.0|       0.0|         0|         0|      0.0|     0.0|       0|       0|       1.0|\n",
            "|     443|       6|        2|          132|           2|           0|              0|              0|              0|              0|             0.0|            0.0|              0|              0|             0.0|            0.0|        0.0|15151.51515|        132.0|         0.0|         132|         132|        132|       132.0|        0.0|        132|        132|          0|         0.0|        0.0|          0|          0|            0|            0|            0|            0|            40|             0|15151.51515|        0.0|          0|          0|         0.0|        0.0|        0.0|           0|           0|           0|           0|           1|           0|             0|           0|            0|         0.0|             0.0|             0.0|             0|             0|               0|             0|             0|               0|               2|               0|               0|               0|              256|               -1|                0|              20|        0.0|       0.0|         0|         0|      0.0|     0.0|       0|       0|       1.0|\n",
            "|     443|       6|        2|       274016|           9|          13|           1285|           6141|            517|              0|     142.7777778|    183.8877224|           1460|              0|     472.3846154|    611.1804887|27100.60726|80.28728249|  13048.38095| 26311.62703|      114077|           1|     273946|    34243.25|37996.56546|     114077|        201|     252994| 21082.83333|39075.73819|     135611|          1|            0|            0|            0|            0|           192|           272|32.84479738|47.44248511|          0|       1460| 322.8695652|497.2547641|247262.3004|           0|           0|           1|           1|           0|           0|             0|           1|            1| 337.5454545|     142.7777778|     472.3846154|             0|             0|               0|             0|             0|               0|               9|            1285|              13|            6141|             8192|             1047|                5|              20|        0.0|       0.0|         0|         0|      0.0|     0.0|       0|       0|       1.0|\n",
            "|     443|       6|        2|          250|           2|           0|              0|              0|              0|              0|             0.0|            0.0|              0|              0|             0.0|            0.0|        0.0|     8000.0|        250.0|         0.0|         250|         250|        250|       250.0|        0.0|        250|        250|          0|         0.0|        0.0|          0|          0|            0|            0|            0|            0|            40|             0|     8000.0|        0.0|          0|          0|         0.0|        0.0|        0.0|           0|           0|           0|           0|           1|           0|             0|           0|            0|         0.0|             0.0|             0.0|             0|             0|               0|             0|             0|               0|               2|               0|               0|               0|              251|               -1|                0|              20|        0.0|       0.0|         0|         0|      0.0|     0.0|       0|       0|       1.0|\n",
            "|      80|       6|        2|      5964033|           3|           1|              0|              0|              0|              0|             0.0|            0.0|              0|              0|             0.0|            0.0|        0.0|  0.6706871|    1988011.0|  3425209.65|     5943084|          19|    5964033|   2982016.5|4187581.818|    5943084|      20949|          0|         0.0|        0.0|          0|          0|            0|            0|            0|            0|            72|            32|0.503015325|0.167671775|          0|          0|         0.0|        0.0|        0.0|           0|           0|           1|           1|           0|           0|             0|           1|            0|         0.0|             0.0|             0.0|             0|             0|               0|             0|             0|               0|               3|               0|               1|               0|             8192|            29200|                0|              20|        0.0|       0.0|         0|         0|      0.0|     0.0|       0|       0|       1.0|\n",
            "|   49690|       6|        2|          144|           2|           0|              0|              0|              0|              0|             0.0|            0.0|              0|              0|             0.0|            0.0|        0.0|13888.88889|        144.0|         0.0|         144|         144|        144|       144.0|        0.0|        144|        144|          0|         0.0|        0.0|          0|          0|            0|            0|            0|            0|            40|             0|13888.88889|        0.0|          0|          0|         0.0|        0.0|        0.0|           0|           0|           0|           0|           1|           0|             0|           0|            0|         0.0|             0.0|             0.0|             0|             0|               0|             0|             0|               0|               2|               0|               0|               0|              913|               -1|                0|              20|        0.0|       0.0|         0|         0|      0.0|     0.0|       0|       0|       1.0|\n",
            "|     443|       6|        2|        90828|           8|           8|           1748|           3898|           1078|              0|           218.5|    363.7133879|           1460|              0|          487.25|    639.5062269|62161.44801|176.1571322|       6055.2| 9948.657879|       23343|           1|      69438| 9919.714286|11893.19116|      23365|         48|      69553| 9936.142857|12312.69524|      23723|          1|            0|            0|            0|            0|           172|           172|88.07856608|88.07856608|          0|       1460| 332.1176471|512.0358731|262180.7353|           0|           0|           1|           1|           0|           0|             0|           1|            1|     352.875|           218.5|          487.25|             0|             0|               0|             0|             0|               0|               8|            1748|               8|            3898|             8192|             8192|                5|              20|        0.0|       0.0|         0|         0|      0.0|     0.0|       0|       0|       1.0|\n",
            "|     443|       6|        2|          152|           3|           0|             31|              0|             31|              0|     10.33333333|    17.89785834|              0|              0|             0.0|            0.0|203947.3684|19736.84211|         76.0| 63.63961031|         121|          31|        152|        76.0|63.63961031|        121|         31|          0|         0.0|        0.0|          0|          0|            0|            0|            0|            0|            60|             0|19736.84211|        0.0|          0|         31|        7.75|       15.5|     240.25|           0|           0|           0|           0|           1|           0|             0|           0|            0| 10.33333333|     10.33333333|             0.0|             0|             0|               0|             0|             0|               0|               3|              31|               0|               0|              257|               -1|                1|              20|        0.0|       0.0|         0|         0|      0.0|     0.0|       0|       0|       1.0|\n",
            "+--------+--------+---------+-------------+------------+------------+---------------+---------------+---------------+---------------+----------------+---------------+---------------+---------------+----------------+---------------+-----------+-----------+-------------+------------+------------+------------+-----------+------------+-----------+-----------+-----------+-----------+------------+-----------+-----------+-----------+-------------+-------------+-------------+-------------+--------------+--------------+-----------+-----------+-----------+-----------+------------+-----------+-----------+------------+------------+------------+------------+------------+------------+--------------+------------+-------------+------------+----------------+----------------+--------------+--------------+----------------+--------------+--------------+----------------+----------------+----------------+----------------+----------------+-----------------+-----------------+-----------------+----------------+-----------+----------+----------+----------+---------+--------+--------+--------+----------+\n",
            "only showing top 10 rows\n",
            "\n"
          ],
          "name": "stdout"
        }
      ]
    },
    {
      "cell_type": "code",
      "metadata": {
        "colab": {
          "base_uri": "https://localhost:8080/"
        },
        "id": "GpyW4CDlKmtu",
        "outputId": "584d4492-1b46-43d3-ac20-b6ec38827fb6"
      },
      "source": [
        "# From above the whole data is for year 2018\n",
        "df2.select(\"Timestamp\").distinct().show()"
      ],
      "execution_count": null,
      "outputs": [
        {
          "output_type": "stream",
          "text": [
            "+---------+\n",
            "|Timestamp|\n",
            "+---------+\n",
            "|     2018|\n",
            "+---------+\n",
            "\n"
          ],
          "name": "stdout"
        }
      ]
    },
    {
      "cell_type": "code",
      "metadata": {
        "colab": {
          "base_uri": "https://localhost:8080/",
          "height": 1000
        },
        "id": "efs332RZLSV9",
        "outputId": "156b41eb-fb86-49fd-8720-a499dfdf2362"
      },
      "source": [
        "#Extracting the day of month \n",
        "\n",
        "from pyspark.sql import functions as f\n",
        "df_model = df.withColumn('Timestamp',f.dayofmonth(f.to_timestamp('Timestamp', 'dd/MM/yyyy')))\n",
        "df_model.show(10)"
      ],
      "execution_count": 26,
      "outputs": [
        {
          "output_type": "error",
          "ename": "AnalysisException",
          "evalue": "ignored",
          "traceback": [
            "\u001b[0;31m---------------------------------------------------------------------------\u001b[0m",
            "\u001b[0;31mPy4JJavaError\u001b[0m                             Traceback (most recent call last)",
            "\u001b[0;32m/content/spark-2.4.7-bin-hadoop2.7/python/pyspark/sql/utils.py\u001b[0m in \u001b[0;36mdeco\u001b[0;34m(*a, **kw)\u001b[0m\n\u001b[1;32m     62\u001b[0m         \u001b[0;32mtry\u001b[0m\u001b[0;34m:\u001b[0m\u001b[0;34m\u001b[0m\u001b[0;34m\u001b[0m\u001b[0m\n\u001b[0;32m---> 63\u001b[0;31m             \u001b[0;32mreturn\u001b[0m \u001b[0mf\u001b[0m\u001b[0;34m(\u001b[0m\u001b[0;34m*\u001b[0m\u001b[0ma\u001b[0m\u001b[0;34m,\u001b[0m \u001b[0;34m**\u001b[0m\u001b[0mkw\u001b[0m\u001b[0;34m)\u001b[0m\u001b[0;34m\u001b[0m\u001b[0;34m\u001b[0m\u001b[0m\n\u001b[0m\u001b[1;32m     64\u001b[0m         \u001b[0;32mexcept\u001b[0m \u001b[0mpy4j\u001b[0m\u001b[0;34m.\u001b[0m\u001b[0mprotocol\u001b[0m\u001b[0;34m.\u001b[0m\u001b[0mPy4JJavaError\u001b[0m \u001b[0;32mas\u001b[0m \u001b[0me\u001b[0m\u001b[0;34m:\u001b[0m\u001b[0;34m\u001b[0m\u001b[0;34m\u001b[0m\u001b[0m\n",
            "\u001b[0;32m/content/spark-2.4.7-bin-hadoop2.7/python/lib/py4j-0.10.7-src.zip/py4j/protocol.py\u001b[0m in \u001b[0;36mget_return_value\u001b[0;34m(answer, gateway_client, target_id, name)\u001b[0m\n\u001b[1;32m    327\u001b[0m                     \u001b[0;34m\"An error occurred while calling {0}{1}{2}.\\n\"\u001b[0m\u001b[0;34m.\u001b[0m\u001b[0;34m\u001b[0m\u001b[0;34m\u001b[0m\u001b[0m\n\u001b[0;32m--> 328\u001b[0;31m                     format(target_id, \".\", name), value)\n\u001b[0m\u001b[1;32m    329\u001b[0m             \u001b[0;32melse\u001b[0m\u001b[0;34m:\u001b[0m\u001b[0;34m\u001b[0m\u001b[0;34m\u001b[0m\u001b[0m\n",
            "\u001b[0;31mPy4JJavaError\u001b[0m: An error occurred while calling o291.withColumn.\n: org.apache.spark.sql.AnalysisException: cannot resolve 'unix_timestamp(`Timestamp`, 'dd/MM/yyyy')' due to data type mismatch: argument 1 requires (string or date or timestamp) type, however, '`Timestamp`' is of int type.;;\n'Project [Dst Port#10, Protocol#11, dayofmonth(to_timestamp('Timestamp, Some(dd/MM/yyyy))) AS Timestamp#16678, Flow Duration#13, Tot Fwd Pkts#14, Tot Bwd Pkts#15, TotLen Fwd Pkts#16, TotLen Bwd Pkts#17, Fwd Pkt Len Max#18, Fwd Pkt Len Min#19, Fwd Pkt Len Mean#20, Fwd Pkt Len Std#21, Bwd Pkt Len Max#22, Bwd Pkt Len Min#23, Bwd Pkt Len Mean#24, Bwd Pkt Len Std#25, Flow Byts/s#26, Flow Pkts/s#27, Flow IAT Mean#28, Flow IAT Std#29, Flow IAT Max#30, Flow IAT Min#31, Fwd IAT Tot#32, Fwd IAT Mean#33, ... 56 more fields]\n+- Project [Dst Port#10, Protocol#11, Timestamp#255, Flow Duration#13, Tot Fwd Pkts#14, Tot Bwd Pkts#15, TotLen Fwd Pkts#16, TotLen Bwd Pkts#17, Fwd Pkt Len Max#18, Fwd Pkt Len Min#19, Fwd Pkt Len Mean#20, Fwd Pkt Len Std#21, Bwd Pkt Len Max#22, Bwd Pkt Len Min#23, Bwd Pkt Len Mean#24, Bwd Pkt Len Std#25, Flow Byts/s#26, Flow Pkts/s#27, Flow IAT Mean#28, Flow IAT Std#29, Flow IAT Max#30, Flow IAT Min#31, Fwd IAT Tot#32, Fwd IAT Mean#33, ... 56 more fields]\n   +- Project [Dst Port#10, Protocol#11, Timestamp#255, Flow Duration#13, Tot Fwd Pkts#14, Tot Bwd Pkts#15, TotLen Fwd Pkts#16, TotLen Bwd Pkts#17, Fwd Pkt Len Max#18, Fwd Pkt Len Min#19, Fwd Pkt Len Mean#20, Fwd Pkt Len Std#21, Bwd Pkt Len Max#22, Bwd Pkt Len Min#23, Bwd Pkt Len Mean#24, Bwd Pkt Len Std#25, Flow Byts/s#26, Flow Pkts/s#27, Flow IAT Mean#28, Flow IAT Std#29, Flow IAT Max#30, Flow IAT Min#31, Fwd IAT Tot#32, Fwd IAT Mean#33, ... 57 more fields]\n      +- Project [Dst Port#10, Protocol#11, dayofmonth(cast(to_timestamp('Timestamp, Some(dd/MM/yyyy)) as date)) AS Timestamp#255, Flow Duration#13, Tot Fwd Pkts#14, Tot Bwd Pkts#15, TotLen Fwd Pkts#16, TotLen Bwd Pkts#17, Fwd Pkt Len Max#18, Fwd Pkt Len Min#19, Fwd Pkt Len Mean#20, Fwd Pkt Len Std#21, Bwd Pkt Len Max#22, Bwd Pkt Len Min#23, Bwd Pkt Len Mean#24, Bwd Pkt Len Std#25, Flow Byts/s#26, Flow Pkts/s#27, Flow IAT Mean#28, Flow IAT Std#29, Flow IAT Max#30, Flow IAT Min#31, Fwd IAT Tot#32, Fwd IAT Mean#33, ... 56 more fields]\n         +- Relation[Dst Port#10,Protocol#11,Timestamp#12,Flow Duration#13,Tot Fwd Pkts#14,Tot Bwd Pkts#15,TotLen Fwd Pkts#16,TotLen Bwd Pkts#17,Fwd Pkt Len Max#18,Fwd Pkt Len Min#19,Fwd Pkt Len Mean#20,Fwd Pkt Len Std#21,Bwd Pkt Len Max#22,Bwd Pkt Len Min#23,Bwd Pkt Len Mean#24,Bwd Pkt Len Std#25,Flow Byts/s#26,Flow Pkts/s#27,Flow IAT Mean#28,Flow IAT Std#29,Flow IAT Max#30,Flow IAT Min#31,Fwd IAT Tot#32,Fwd IAT Mean#33,... 56 more fields] csv\n\n\tat org.apache.spark.sql.catalyst.analysis.package$AnalysisErrorAt.failAnalysis(package.scala:42)\n\tat org.apache.spark.sql.catalyst.analysis.CheckAnalysis$$anonfun$checkAnalysis$1$$anonfun$apply$3.applyOrElse(CheckAnalysis.scala:116)\n\tat org.apache.spark.sql.catalyst.analysis.CheckAnalysis$$anonfun$checkAnalysis$1$$anonfun$apply$3.applyOrElse(CheckAnalysis.scala:108)\n\tat org.apache.spark.sql.catalyst.trees.TreeNode$$anonfun$transformUp$1.apply(TreeNode.scala:280)\n\tat org.apache.spark.sql.catalyst.trees.TreeNode$$anonfun$transformUp$1.apply(TreeNode.scala:280)\n\tat org.apache.spark.sql.catalyst.trees.CurrentOrigin$.withOrigin(TreeNode.scala:69)\n\tat org.apache.spark.sql.catalyst.trees.TreeNode.transformUp(TreeNode.scala:279)\n\tat org.apache.spark.sql.catalyst.trees.TreeNode$$anonfun$3.apply(TreeNode.scala:277)\n\tat org.apache.spark.sql.catalyst.trees.TreeNode$$anonfun$3.apply(TreeNode.scala:277)\n\tat org.apache.spark.sql.catalyst.trees.TreeNode$$anonfun$4.apply(TreeNode.scala:328)\n\tat org.apache.spark.sql.catalyst.trees.TreeNode.mapProductIterator(TreeNode.scala:186)\n\tat org.apache.spark.sql.catalyst.trees.TreeNode.mapChildren(TreeNode.scala:326)\n\tat org.apache.spark.sql.catalyst.trees.TreeNode.transformUp(TreeNode.scala:277)\n\tat org.apache.spark.sql.catalyst.trees.TreeNode$$anonfun$3.apply(TreeNode.scala:277)\n\tat org.apache.spark.sql.catalyst.trees.TreeNode$$anonfun$3.apply(TreeNode.scala:277)\n\tat org.apache.spark.sql.catalyst.trees.TreeNode$$anonfun$4.apply(TreeNode.scala:328)\n\tat org.apache.spark.sql.catalyst.trees.TreeNode.mapProductIterator(TreeNode.scala:186)\n\tat org.apache.spark.sql.catalyst.trees.TreeNode.mapChildren(TreeNode.scala:326)\n\tat org.apache.spark.sql.catalyst.trees.TreeNode.transformUp(TreeNode.scala:277)\n\tat org.apache.spark.sql.catalyst.trees.TreeNode$$anonfun$3.apply(TreeNode.scala:277)\n\tat org.apache.spark.sql.catalyst.trees.TreeNode$$anonfun$3.apply(TreeNode.scala:277)\n\tat org.apache.spark.sql.catalyst.trees.TreeNode$$anonfun$4.apply(TreeNode.scala:328)\n\tat org.apache.spark.sql.catalyst.trees.TreeNode.mapProductIterator(TreeNode.scala:186)\n\tat org.apache.spark.sql.catalyst.trees.TreeNode.mapChildren(TreeNode.scala:326)\n\tat org.apache.spark.sql.catalyst.trees.TreeNode.transformUp(TreeNode.scala:277)\n\tat org.apache.spark.sql.catalyst.trees.TreeNode$$anonfun$3.apply(TreeNode.scala:277)\n\tat org.apache.spark.sql.catalyst.trees.TreeNode$$anonfun$3.apply(TreeNode.scala:277)\n\tat org.apache.spark.sql.catalyst.trees.TreeNode$$anonfun$4.apply(TreeNode.scala:328)\n\tat org.apache.spark.sql.catalyst.trees.TreeNode.mapProductIterator(TreeNode.scala:186)\n\tat org.apache.spark.sql.catalyst.trees.TreeNode.mapChildren(TreeNode.scala:326)\n\tat org.apache.spark.sql.catalyst.trees.TreeNode.transformUp(TreeNode.scala:277)\n\tat org.apache.spark.sql.catalyst.plans.QueryPlan$$anonfun$transformExpressionsUp$1.apply(QueryPlan.scala:93)\n\tat org.apache.spark.sql.catalyst.plans.QueryPlan$$anonfun$transformExpressionsUp$1.apply(QueryPlan.scala:93)\n\tat org.apache.spark.sql.catalyst.plans.QueryPlan$$anonfun$1.apply(QueryPlan.scala:105)\n\tat org.apache.spark.sql.catalyst.plans.QueryPlan$$anonfun$1.apply(QueryPlan.scala:105)\n\tat org.apache.spark.sql.catalyst.trees.CurrentOrigin$.withOrigin(TreeNode.scala:69)\n\tat org.apache.spark.sql.catalyst.plans.QueryPlan.transformExpression$1(QueryPlan.scala:104)\n\tat org.apache.spark.sql.catalyst.plans.QueryPlan.org$apache$spark$sql$catalyst$plans$QueryPlan$$recursiveTransform$1(QueryPlan.scala:116)\n\tat org.apache.spark.sql.catalyst.plans.QueryPlan$$anonfun$org$apache$spark$sql$catalyst$plans$QueryPlan$$recursiveTransform$1$2.apply(QueryPlan.scala:121)\n\tat scala.collection.TraversableLike$$anonfun$map$1.apply(TraversableLike.scala:234)\n\tat scala.collection.TraversableLike$$anonfun$map$1.apply(TraversableLike.scala:234)\n\tat scala.collection.mutable.ResizableArray$class.foreach(ResizableArray.scala:59)\n\tat scala.collection.mutable.ArrayBuffer.foreach(ArrayBuffer.scala:48)\n\tat scala.collection.TraversableLike$class.map(TraversableLike.scala:234)\n\tat scala.collection.AbstractTraversable.map(Traversable.scala:104)\n\tat org.apache.spark.sql.catalyst.plans.QueryPlan.org$apache$spark$sql$catalyst$plans$QueryPlan$$recursiveTransform$1(QueryPlan.scala:121)\n\tat org.apache.spark.sql.catalyst.plans.QueryPlan$$anonfun$2.apply(QueryPlan.scala:126)\n\tat org.apache.spark.sql.catalyst.trees.TreeNode.mapProductIterator(TreeNode.scala:186)\n\tat org.apache.spark.sql.catalyst.plans.QueryPlan.mapExpressions(QueryPlan.scala:126)\n\tat org.apache.spark.sql.catalyst.plans.QueryPlan.transformExpressionsUp(QueryPlan.scala:93)\n\tat org.apache.spark.sql.catalyst.analysis.CheckAnalysis$$anonfun$checkAnalysis$1.apply(CheckAnalysis.scala:108)\n\tat org.apache.spark.sql.catalyst.analysis.CheckAnalysis$$anonfun$checkAnalysis$1.apply(CheckAnalysis.scala:86)\n\tat org.apache.spark.sql.catalyst.trees.TreeNode.foreachUp(TreeNode.scala:126)\n\tat org.apache.spark.sql.catalyst.analysis.CheckAnalysis$class.checkAnalysis(CheckAnalysis.scala:86)\n\tat org.apache.spark.sql.catalyst.analysis.Analyzer.checkAnalysis(Analyzer.scala:95)\n\tat org.apache.spark.sql.catalyst.analysis.Analyzer$$anonfun$executeAndCheck$1.apply(Analyzer.scala:108)\n\tat org.apache.spark.sql.catalyst.analysis.Analyzer$$anonfun$executeAndCheck$1.apply(Analyzer.scala:105)\n\tat org.apache.spark.sql.catalyst.plans.logical.AnalysisHelper$.markInAnalyzer(AnalysisHelper.scala:201)\n\tat org.apache.spark.sql.catalyst.analysis.Analyzer.executeAndCheck(Analyzer.scala:105)\n\tat org.apache.spark.sql.execution.QueryExecution.analyzed$lzycompute(QueryExecution.scala:58)\n\tat org.apache.spark.sql.execution.QueryExecution.analyzed(QueryExecution.scala:56)\n\tat org.apache.spark.sql.execution.QueryExecution.assertAnalyzed(QueryExecution.scala:48)\n\tat org.apache.spark.sql.Dataset$.ofRows(Dataset.scala:78)\n\tat org.apache.spark.sql.Dataset.org$apache$spark$sql$Dataset$$withPlan(Dataset.scala:3412)\n\tat org.apache.spark.sql.Dataset.select(Dataset.scala:1340)\n\tat org.apache.spark.sql.Dataset.withColumns(Dataset.scala:2258)\n\tat org.apache.spark.sql.Dataset.withColumn(Dataset.scala:2225)\n\tat sun.reflect.NativeMethodAccessorImpl.invoke0(Native Method)\n\tat sun.reflect.NativeMethodAccessorImpl.invoke(NativeMethodAccessorImpl.java:62)\n\tat sun.reflect.DelegatingMethodAccessorImpl.invoke(DelegatingMethodAccessorImpl.java:43)\n\tat java.lang.reflect.Method.invoke(Method.java:498)\n\tat py4j.reflection.MethodInvoker.invoke(MethodInvoker.java:244)\n\tat py4j.reflection.ReflectionEngine.invoke(ReflectionEngine.java:357)\n\tat py4j.Gateway.invoke(Gateway.java:282)\n\tat py4j.commands.AbstractCommand.invokeMethod(AbstractCommand.java:132)\n\tat py4j.commands.CallCommand.execute(CallCommand.java:79)\n\tat py4j.GatewayConnection.run(GatewayConnection.java:238)\n\tat java.lang.Thread.run(Thread.java:748)\n",
            "\nDuring handling of the above exception, another exception occurred:\n",
            "\u001b[0;31mAnalysisException\u001b[0m                         Traceback (most recent call last)",
            "\u001b[0;32m<ipython-input-26-f2e637c4081e>\u001b[0m in \u001b[0;36m<module>\u001b[0;34m()\u001b[0m\n\u001b[1;32m      2\u001b[0m \u001b[0;34m\u001b[0m\u001b[0m\n\u001b[1;32m      3\u001b[0m \u001b[0;32mfrom\u001b[0m \u001b[0mpyspark\u001b[0m\u001b[0;34m.\u001b[0m\u001b[0msql\u001b[0m \u001b[0;32mimport\u001b[0m \u001b[0mfunctions\u001b[0m \u001b[0;32mas\u001b[0m \u001b[0mf\u001b[0m\u001b[0;34m\u001b[0m\u001b[0;34m\u001b[0m\u001b[0m\n\u001b[0;32m----> 4\u001b[0;31m \u001b[0mdf_model\u001b[0m \u001b[0;34m=\u001b[0m \u001b[0mdf\u001b[0m\u001b[0;34m.\u001b[0m\u001b[0mwithColumn\u001b[0m\u001b[0;34m(\u001b[0m\u001b[0;34m'Timestamp'\u001b[0m\u001b[0;34m,\u001b[0m\u001b[0mf\u001b[0m\u001b[0;34m.\u001b[0m\u001b[0mdayofmonth\u001b[0m\u001b[0;34m(\u001b[0m\u001b[0mf\u001b[0m\u001b[0;34m.\u001b[0m\u001b[0mto_timestamp\u001b[0m\u001b[0;34m(\u001b[0m\u001b[0;34m'Timestamp'\u001b[0m\u001b[0;34m,\u001b[0m \u001b[0;34m'dd/MM/yyyy'\u001b[0m\u001b[0;34m)\u001b[0m\u001b[0;34m)\u001b[0m\u001b[0;34m)\u001b[0m\u001b[0;34m\u001b[0m\u001b[0;34m\u001b[0m\u001b[0m\n\u001b[0m\u001b[1;32m      5\u001b[0m \u001b[0mdf_model\u001b[0m\u001b[0;34m.\u001b[0m\u001b[0mshow\u001b[0m\u001b[0;34m(\u001b[0m\u001b[0;36m10\u001b[0m\u001b[0;34m)\u001b[0m\u001b[0;34m\u001b[0m\u001b[0;34m\u001b[0m\u001b[0m\n",
            "\u001b[0;32m/content/spark-2.4.7-bin-hadoop2.7/python/pyspark/sql/dataframe.py\u001b[0m in \u001b[0;36mwithColumn\u001b[0;34m(self, colName, col)\u001b[0m\n\u001b[1;32m   1996\u001b[0m         \"\"\"\n\u001b[1;32m   1997\u001b[0m         \u001b[0;32massert\u001b[0m \u001b[0misinstance\u001b[0m\u001b[0;34m(\u001b[0m\u001b[0mcol\u001b[0m\u001b[0;34m,\u001b[0m \u001b[0mColumn\u001b[0m\u001b[0;34m)\u001b[0m\u001b[0;34m,\u001b[0m \u001b[0;34m\"col should be Column\"\u001b[0m\u001b[0;34m\u001b[0m\u001b[0;34m\u001b[0m\u001b[0m\n\u001b[0;32m-> 1998\u001b[0;31m         \u001b[0;32mreturn\u001b[0m \u001b[0mDataFrame\u001b[0m\u001b[0;34m(\u001b[0m\u001b[0mself\u001b[0m\u001b[0;34m.\u001b[0m\u001b[0m_jdf\u001b[0m\u001b[0;34m.\u001b[0m\u001b[0mwithColumn\u001b[0m\u001b[0;34m(\u001b[0m\u001b[0mcolName\u001b[0m\u001b[0;34m,\u001b[0m \u001b[0mcol\u001b[0m\u001b[0;34m.\u001b[0m\u001b[0m_jc\u001b[0m\u001b[0;34m)\u001b[0m\u001b[0;34m,\u001b[0m \u001b[0mself\u001b[0m\u001b[0;34m.\u001b[0m\u001b[0msql_ctx\u001b[0m\u001b[0;34m)\u001b[0m\u001b[0;34m\u001b[0m\u001b[0;34m\u001b[0m\u001b[0m\n\u001b[0m\u001b[1;32m   1999\u001b[0m \u001b[0;34m\u001b[0m\u001b[0m\n\u001b[1;32m   2000\u001b[0m     \u001b[0;34m@\u001b[0m\u001b[0mignore_unicode_prefix\u001b[0m\u001b[0;34m\u001b[0m\u001b[0;34m\u001b[0m\u001b[0m\n",
            "\u001b[0;32m/content/spark-2.4.7-bin-hadoop2.7/python/lib/py4j-0.10.7-src.zip/py4j/java_gateway.py\u001b[0m in \u001b[0;36m__call__\u001b[0;34m(self, *args)\u001b[0m\n\u001b[1;32m   1255\u001b[0m         \u001b[0manswer\u001b[0m \u001b[0;34m=\u001b[0m \u001b[0mself\u001b[0m\u001b[0;34m.\u001b[0m\u001b[0mgateway_client\u001b[0m\u001b[0;34m.\u001b[0m\u001b[0msend_command\u001b[0m\u001b[0;34m(\u001b[0m\u001b[0mcommand\u001b[0m\u001b[0;34m)\u001b[0m\u001b[0;34m\u001b[0m\u001b[0;34m\u001b[0m\u001b[0m\n\u001b[1;32m   1256\u001b[0m         return_value = get_return_value(\n\u001b[0;32m-> 1257\u001b[0;31m             answer, self.gateway_client, self.target_id, self.name)\n\u001b[0m\u001b[1;32m   1258\u001b[0m \u001b[0;34m\u001b[0m\u001b[0m\n\u001b[1;32m   1259\u001b[0m         \u001b[0;32mfor\u001b[0m \u001b[0mtemp_arg\u001b[0m \u001b[0;32min\u001b[0m \u001b[0mtemp_args\u001b[0m\u001b[0;34m:\u001b[0m\u001b[0;34m\u001b[0m\u001b[0;34m\u001b[0m\u001b[0m\n",
            "\u001b[0;32m/content/spark-2.4.7-bin-hadoop2.7/python/pyspark/sql/utils.py\u001b[0m in \u001b[0;36mdeco\u001b[0;34m(*a, **kw)\u001b[0m\n\u001b[1;32m     67\u001b[0m                                              e.java_exception.getStackTrace()))\n\u001b[1;32m     68\u001b[0m             \u001b[0;32mif\u001b[0m \u001b[0ms\u001b[0m\u001b[0;34m.\u001b[0m\u001b[0mstartswith\u001b[0m\u001b[0;34m(\u001b[0m\u001b[0;34m'org.apache.spark.sql.AnalysisException: '\u001b[0m\u001b[0;34m)\u001b[0m\u001b[0;34m:\u001b[0m\u001b[0;34m\u001b[0m\u001b[0;34m\u001b[0m\u001b[0m\n\u001b[0;32m---> 69\u001b[0;31m                 \u001b[0;32mraise\u001b[0m \u001b[0mAnalysisException\u001b[0m\u001b[0;34m(\u001b[0m\u001b[0ms\u001b[0m\u001b[0;34m.\u001b[0m\u001b[0msplit\u001b[0m\u001b[0;34m(\u001b[0m\u001b[0;34m': '\u001b[0m\u001b[0;34m,\u001b[0m \u001b[0;36m1\u001b[0m\u001b[0;34m)\u001b[0m\u001b[0;34m[\u001b[0m\u001b[0;36m1\u001b[0m\u001b[0;34m]\u001b[0m\u001b[0;34m,\u001b[0m \u001b[0mstackTrace\u001b[0m\u001b[0;34m)\u001b[0m\u001b[0;34m\u001b[0m\u001b[0;34m\u001b[0m\u001b[0m\n\u001b[0m\u001b[1;32m     70\u001b[0m             \u001b[0;32mif\u001b[0m \u001b[0ms\u001b[0m\u001b[0;34m.\u001b[0m\u001b[0mstartswith\u001b[0m\u001b[0;34m(\u001b[0m\u001b[0;34m'org.apache.spark.sql.catalyst.analysis'\u001b[0m\u001b[0;34m)\u001b[0m\u001b[0;34m:\u001b[0m\u001b[0;34m\u001b[0m\u001b[0;34m\u001b[0m\u001b[0m\n\u001b[1;32m     71\u001b[0m                 \u001b[0;32mraise\u001b[0m \u001b[0mAnalysisException\u001b[0m\u001b[0;34m(\u001b[0m\u001b[0ms\u001b[0m\u001b[0;34m.\u001b[0m\u001b[0msplit\u001b[0m\u001b[0;34m(\u001b[0m\u001b[0;34m': '\u001b[0m\u001b[0;34m,\u001b[0m \u001b[0;36m1\u001b[0m\u001b[0;34m)\u001b[0m\u001b[0;34m[\u001b[0m\u001b[0;36m1\u001b[0m\u001b[0;34m]\u001b[0m\u001b[0;34m,\u001b[0m \u001b[0mstackTrace\u001b[0m\u001b[0;34m)\u001b[0m\u001b[0;34m\u001b[0m\u001b[0;34m\u001b[0m\u001b[0m\n",
            "\u001b[0;31mAnalysisException\u001b[0m: \"cannot resolve 'unix_timestamp(`Timestamp`, 'dd/MM/yyyy')' due to data type mismatch: argument 1 requires (string or date or timestamp) type, however, '`Timestamp`' is of int type.;;\\n'Project [Dst Port#10, Protocol#11, dayofmonth(to_timestamp('Timestamp, Some(dd/MM/yyyy))) AS Timestamp#16678, Flow Duration#13, Tot Fwd Pkts#14, Tot Bwd Pkts#15, TotLen Fwd Pkts#16, TotLen Bwd Pkts#17, Fwd Pkt Len Max#18, Fwd Pkt Len Min#19, Fwd Pkt Len Mean#20, Fwd Pkt Len Std#21, Bwd Pkt Len Max#22, Bwd Pkt Len Min#23, Bwd Pkt Len Mean#24, Bwd Pkt Len Std#25, Flow Byts/s#26, Flow Pkts/s#27, Flow IAT Mean#28, Flow IAT Std#29, Flow IAT Max#30, Flow IAT Min#31, Fwd IAT Tot#32, Fwd IAT Mean#33, ... 56 more fields]\\n+- Project [Dst Port#10, Protocol#11, Timestamp#255, Flow Duration#13, Tot Fwd Pkts#14, Tot Bwd Pkts#15, TotLen Fwd Pkts#16, TotLen Bwd Pkts#17, Fwd Pkt Len Max#18, Fwd Pkt Len Min#19, Fwd Pkt Len Mean#20, Fwd Pkt Len Std#21, Bwd Pkt Len Max#22, Bwd Pkt Len Min#23, Bwd Pkt Len Mean#24, Bwd Pkt Len Std#25, Flow Byts/s#26, Flow Pkts/s#27, Flow IAT Mean#28, Flow IAT Std#29, Flow IAT Max#30, Flow IAT Min#31, Fwd IAT Tot#32, Fwd IAT Mean#33, ... 56 more fields]\\n   +- Project [Dst Port#10, Protocol#11, Timestamp#255, Flow Duration#13, Tot Fwd Pkts#14, Tot Bwd Pkts#15, TotLen Fwd Pkts#16, TotLen Bwd Pkts#17, Fwd Pkt Len Max#18, Fwd Pkt Len Min#19, Fwd Pkt Len Mean#20, Fwd Pkt Len Std#21, Bwd Pkt Len Max#22, Bwd Pkt Len Min#23, Bwd Pkt Len Mean#24, Bwd Pkt Le..."
          ]
        }
      ]
    },
    {
      "cell_type": "code",
      "metadata": {
        "id": "2_9EK6cQNwPZ"
      },
      "source": [
        "## Dealing with null values\n",
        "\n",
        "#na func to drop rows with null values\n",
        "#rows having atleast a null value is dropped\n",
        "df.na.drop()\n",
        "df=df.na.fill(1)"
      ],
      "execution_count": 27,
      "outputs": []
    },
    {
      "cell_type": "code",
      "metadata": {
        "colab": {
          "base_uri": "https://localhost:8080/"
        },
        "id": "tFcMHH5xQNf7",
        "outputId": "c30cd85a-32b0-4cd9-f8fe-dea6b524bcd3"
      },
      "source": [
        "from pyspark.sql.functions import isnan, when, count, col\n",
        "\n",
        "df_model.select([count(when(isnan(c), c)).alias(c) for c in df_model.columns]).show()"
      ],
      "execution_count": null,
      "outputs": [
        {
          "output_type": "stream",
          "text": [
            "+--------+--------+---------+-------------+------------+------------+---------------+---------------+---------------+---------------+----------------+---------------+---------------+---------------+----------------+---------------+-----------+-----------+-------------+------------+------------+------------+-----------+------------+-----------+-----------+-----------+-----------+------------+-----------+-----------+-----------+-------------+-------------+-------------+-------------+--------------+--------------+----------+----------+-----------+-----------+------------+-----------+-----------+------------+------------+------------+------------+------------+------------+--------------+------------+-------------+------------+----------------+----------------+--------------+--------------+----------------+--------------+--------------+----------------+----------------+----------------+----------------+----------------+-----------------+-----------------+-----------------+----------------+-----------+----------+----------+----------+---------+--------+--------+--------+----------+\n",
            "|Dst Port|Protocol|Timestamp|Flow Duration|Tot Fwd Pkts|Tot Bwd Pkts|TotLen Fwd Pkts|TotLen Bwd Pkts|Fwd Pkt Len Max|Fwd Pkt Len Min|Fwd Pkt Len Mean|Fwd Pkt Len Std|Bwd Pkt Len Max|Bwd Pkt Len Min|Bwd Pkt Len Mean|Bwd Pkt Len Std|Flow Byts/s|Flow Pkts/s|Flow IAT Mean|Flow IAT Std|Flow IAT Max|Flow IAT Min|Fwd IAT Tot|Fwd IAT Mean|Fwd IAT Std|Fwd IAT Max|Fwd IAT Min|Bwd IAT Tot|Bwd IAT Mean|Bwd IAT Std|Bwd IAT Max|Bwd IAT Min|Fwd PSH Flags|Bwd PSH Flags|Fwd URG Flags|Bwd URG Flags|Fwd Header Len|Bwd Header Len|Fwd Pkts/s|Bwd Pkts/s|Pkt Len Min|Pkt Len Max|Pkt Len Mean|Pkt Len Std|Pkt Len Var|FIN Flag Cnt|SYN Flag Cnt|RST Flag Cnt|PSH Flag Cnt|ACK Flag Cnt|URG Flag Cnt|CWE Flag Count|ECE Flag Cnt|Down/Up Ratio|Pkt Size Avg|Fwd Seg Size Avg|Bwd Seg Size Avg|Fwd Byts/b Avg|Fwd Pkts/b Avg|Fwd Blk Rate Avg|Bwd Byts/b Avg|Bwd Pkts/b Avg|Bwd Blk Rate Avg|Subflow Fwd Pkts|Subflow Fwd Byts|Subflow Bwd Pkts|Subflow Bwd Byts|Init Fwd Win Byts|Init Bwd Win Byts|Fwd Act Data Pkts|Fwd Seg Size Min|Active Mean|Active Std|Active Max|Active Min|Idle Mean|Idle Std|Idle Max|Idle Min|LabelIndex|\n",
            "+--------+--------+---------+-------------+------------+------------+---------------+---------------+---------------+---------------+----------------+---------------+---------------+---------------+----------------+---------------+-----------+-----------+-------------+------------+------------+------------+-----------+------------+-----------+-----------+-----------+-----------+------------+-----------+-----------+-----------+-------------+-------------+-------------+-------------+--------------+--------------+----------+----------+-----------+-----------+------------+-----------+-----------+------------+------------+------------+------------+------------+------------+--------------+------------+-------------+------------+----------------+----------------+--------------+--------------+----------------+--------------+--------------+----------------+----------------+----------------+----------------+----------------+-----------------+-----------------+-----------------+----------------+-----------+----------+----------+----------+---------+--------+--------+--------+----------+\n",
            "|       0|       0|        0|            0|           0|           0|              0|              0|              0|              0|               0|              0|              0|              0|               0|              0|          0|          0|            0|           0|           0|           0|          0|           0|          0|          0|          0|          0|           0|          0|          0|          0|            0|            0|            0|            0|             0|             0|         0|         0|          0|          0|           0|          0|          0|           0|           0|           0|           0|           0|           0|             0|           0|            0|           0|               0|               0|             0|             0|               0|             0|             0|               0|               0|               0|               0|               0|                0|                0|                0|               0|          0|         0|         0|         0|        0|       0|       0|       0|         0|\n",
            "+--------+--------+---------+-------------+------------+------------+---------------+---------------+---------------+---------------+----------------+---------------+---------------+---------------+----------------+---------------+-----------+-----------+-------------+------------+------------+------------+-----------+------------+-----------+-----------+-----------+-----------+------------+-----------+-----------+-----------+-------------+-------------+-------------+-------------+--------------+--------------+----------+----------+-----------+-----------+------------+-----------+-----------+------------+------------+------------+------------+------------+------------+--------------+------------+-------------+------------+----------------+----------------+--------------+--------------+----------------+--------------+--------------+----------------+----------------+----------------+----------------+----------------+-----------------+-----------------+-----------------+----------------+-----------+----------+----------+----------+---------+--------+--------+--------+----------+\n",
            "\n"
          ],
          "name": "stdout"
        }
      ]
    },
    {
      "cell_type": "code",
      "metadata": {
        "colab": {
          "base_uri": "https://localhost:8080/"
        },
        "id": "Z7E8bGAOIMoD",
        "outputId": "cc0616b1-2f0d-4c34-be48-942b0a115cd2"
      },
      "source": [
        "#Input all the features in one vector column\n",
        "assembler = VectorAssembler(inputCols=df.columns, outputCol = 'Attributes')\n",
        "\n",
        "output = assembler.setHandleInvalid(\"skip\").transform(df)\n",
        "\n",
        "\n",
        "\n",
        "#Input vs Output\n",
        "finalized_data = output.select(\"Attributes\",\"Flow Duration\")\n",
        "\n",
        "finalized_data.show()"
      ],
      "execution_count": 28,
      "outputs": [
        {
          "output_type": "stream",
          "text": [
            "+--------------------+-------------+\n",
            "|          Attributes|Flow Duration|\n",
            "+--------------------+-------------+\n",
            "|[443.0,6.0,2.0,14...|       141385|\n",
            "|(80,[0,1,2,3,4,5,...|          281|\n",
            "|[443.0,6.0,2.0,27...|       279824|\n",
            "|(80,[0,1,2,3,4,17...|          132|\n",
            "|[443.0,6.0,2.0,27...|       274016|\n",
            "|(80,[0,1,2,3,4,17...|          250|\n",
            "|(80,[0,1,2,3,4,5,...|      5964033|\n",
            "|(80,[0,1,2,3,4,17...|          144|\n",
            "|[443.0,6.0,2.0,90...|        90828|\n",
            "|(80,[0,1,2,3,4,6,...|          152|\n",
            "|(80,[0,1,2,3,4,5,...|       234228|\n",
            "|[443.0,6.0,2.0,6....|     60860062|\n",
            "|(80,[0,1,2,3,4,17...|        68899|\n",
            "|(80,[2,3,4,17,18,...|    119250445|\n",
            "|[443.0,6.0,2.0,1....|    116185749|\n",
            "|[443.0,6.0,2.0,6....|     60602600|\n",
            "|[80.0,6.0,2.0,1.1...|    116690356|\n",
            "|[80.0,6.0,2.0,1.1...|    119731397|\n",
            "|[443.0,6.0,2.0,1....|    118281864|\n",
            "|(80,[0,1,2,3,4,6,...|          192|\n",
            "+--------------------+-------------+\n",
            "only showing top 20 rows\n",
            "\n"
          ],
          "name": "stdout"
        }
      ]
    },
    {
      "cell_type": "code",
      "metadata": {
        "colab": {
          "base_uri": "https://localhost:8080/"
        },
        "id": "n1KhXFol353f",
        "outputId": "d0bc1bc1-5bd7-43a9-8fe7-0347249461f7"
      },
      "source": [
        "features=tuple(df.drop('Flow Duration').columns)\n",
        "assembler = VectorAssembler(inputCols=features,outputCol=\"features\")\n",
        " \n",
        "raw_data=assembler.transform(df)\n",
        "raw_data.select(\"features\").show(truncate=True)"
      ],
      "execution_count": 30,
      "outputs": [
        {
          "output_type": "stream",
          "text": [
            "+--------------------+\n",
            "|            features|\n",
            "+--------------------+\n",
            "|[443.0,6.0,2.0,9....|\n",
            "|(79,[0,1,2,3,4,5,...|\n",
            "|[443.0,6.0,2.0,11...|\n",
            "|(79,[0,1,2,3,16,1...|\n",
            "|[443.0,6.0,2.0,9....|\n",
            "|(79,[0,1,2,3,16,1...|\n",
            "|(79,[0,1,2,3,4,16...|\n",
            "|(79,[0,1,2,3,16,1...|\n",
            "|[443.0,6.0,2.0,8....|\n",
            "|(79,[0,1,2,3,5,7,...|\n",
            "|(79,[0,1,2,3,4,16...|\n",
            "|[443.0,6.0,2.0,15...|\n",
            "|(79,[0,1,2,3,16,1...|\n",
            "|(79,[2,3,16,17,18...|\n",
            "|[443.0,6.0,2.0,21...|\n",
            "|[443.0,6.0,2.0,13...|\n",
            "|[80.0,6.0,2.0,17....|\n",
            "|[80.0,6.0,2.0,17....|\n",
            "|[443.0,6.0,2.0,36...|\n",
            "|(79,[0,1,2,3,5,7,...|\n",
            "+--------------------+\n",
            "only showing top 20 rows\n",
            "\n"
          ],
          "name": "stdout"
        }
      ]
    },
    {
      "cell_type": "code",
      "metadata": {
        "colab": {
          "base_uri": "https://localhost:8080/"
        },
        "id": "HqP_j9d54mKl",
        "outputId": "587e2632-c63a-4f88-b143-4dfae4800a1e"
      },
      "source": [
        "from pyspark.ml.feature import StandardScaler\n",
        "\n",
        "standardscaler=StandardScaler().setInputCol(\"features\").setOutputCol(\"Scaled_features\")\n",
        "raw_data=standardscaler.fit(raw_data).transform(raw_data)\n",
        "raw_data.select(\"features\",\"Scaled_features\").show(5)"
      ],
      "execution_count": 31,
      "outputs": [
        {
          "output_type": "stream",
          "text": [
            "+--------------------+--------------------+\n",
            "|            features|     Scaled_features|\n",
            "+--------------------+--------------------+\n",
            "|[443.0,6.0,2.0,9....|[0.04412987701118...|\n",
            "|(79,[0,1,2,3,4,5,...|(79,[0,1,2,3,4,5,...|\n",
            "|[443.0,6.0,2.0,11...|[0.04412987701118...|\n",
            "|(79,[0,1,2,3,16,1...|(79,[0,1,2,3,16,1...|\n",
            "|[443.0,6.0,2.0,9....|[0.04412987701118...|\n",
            "+--------------------+--------------------+\n",
            "only showing top 5 rows\n",
            "\n"
          ],
          "name": "stdout"
        }
      ]
    },
    {
      "cell_type": "markdown",
      "metadata": {
        "id": "dNgFCto2wHLd"
      },
      "source": [
        "Here, 'Attributes' are in the input features from all the columns and 'Flow Duration' is the target column.\n",
        "Next, we should split the training and testing data according to our dataset (0.8 and 0.2 in this case)."
      ]
    },
    {
      "cell_type": "code",
      "metadata": {
        "id": "kwe1VT0UNOIN",
        "colab": {
          "base_uri": "https://localhost:8080/",
          "height": 986
        },
        "outputId": "5a5dd315-0cbc-46f5-8a77-cda51cb15846"
      },
      "source": [
        "#Split training and testing data\n",
        "train_data,test_data = raw_data.randomSplit([0.8,0.2])\n",
        "\n",
        "\n",
        "regressor = LinearRegression(featuresCol = 'Scaled_features', labelCol = 'Flow Duration')\n",
        "\n",
        "#Learn to fit the model from training set\n",
        "regressor = regressor.fit(train_data)\n",
        "\n",
        "#To predict the prices on testing set\n",
        "pred = regressor.evaluate(test_data)\n",
        "\n",
        "#Predict the model\n",
        "pred.predictions.show()"
      ],
      "execution_count": 34,
      "outputs": [
        {
          "output_type": "error",
          "ename": "IllegalArgumentException",
          "evalue": "ignored",
          "traceback": [
            "\u001b[0;31m---------------------------------------------------------------------------\u001b[0m",
            "\u001b[0;31mPy4JJavaError\u001b[0m                             Traceback (most recent call last)",
            "\u001b[0;32m/content/spark-2.4.7-bin-hadoop2.7/python/pyspark/sql/utils.py\u001b[0m in \u001b[0;36mdeco\u001b[0;34m(*a, **kw)\u001b[0m\n\u001b[1;32m     62\u001b[0m         \u001b[0;32mtry\u001b[0m\u001b[0;34m:\u001b[0m\u001b[0;34m\u001b[0m\u001b[0;34m\u001b[0m\u001b[0m\n\u001b[0;32m---> 63\u001b[0;31m             \u001b[0;32mreturn\u001b[0m \u001b[0mf\u001b[0m\u001b[0;34m(\u001b[0m\u001b[0;34m*\u001b[0m\u001b[0ma\u001b[0m\u001b[0;34m,\u001b[0m \u001b[0;34m**\u001b[0m\u001b[0mkw\u001b[0m\u001b[0;34m)\u001b[0m\u001b[0;34m\u001b[0m\u001b[0;34m\u001b[0m\u001b[0m\n\u001b[0m\u001b[1;32m     64\u001b[0m         \u001b[0;32mexcept\u001b[0m \u001b[0mpy4j\u001b[0m\u001b[0;34m.\u001b[0m\u001b[0mprotocol\u001b[0m\u001b[0;34m.\u001b[0m\u001b[0mPy4JJavaError\u001b[0m \u001b[0;32mas\u001b[0m \u001b[0me\u001b[0m\u001b[0;34m:\u001b[0m\u001b[0;34m\u001b[0m\u001b[0;34m\u001b[0m\u001b[0m\n",
            "\u001b[0;32m/content/spark-2.4.7-bin-hadoop2.7/python/lib/py4j-0.10.7-src.zip/py4j/protocol.py\u001b[0m in \u001b[0;36mget_return_value\u001b[0;34m(answer, gateway_client, target_id, name)\u001b[0m\n\u001b[1;32m    327\u001b[0m                     \u001b[0;34m\"An error occurred while calling {0}{1}{2}.\\n\"\u001b[0m\u001b[0;34m.\u001b[0m\u001b[0;34m\u001b[0m\u001b[0;34m\u001b[0m\u001b[0m\n\u001b[0;32m--> 328\u001b[0;31m                     format(target_id, \".\", name), value)\n\u001b[0m\u001b[1;32m    329\u001b[0m             \u001b[0;32melse\u001b[0m\u001b[0;34m:\u001b[0m\u001b[0;34m\u001b[0m\u001b[0;34m\u001b[0m\u001b[0m\n",
            "\u001b[0;31mPy4JJavaError\u001b[0m: An error occurred while calling o1658.fit.\n: java.lang.IllegalArgumentException: requirement failed: init value should <= bound\n\tat scala.Predef$.require(Predef.scala:224)\n\tat breeze.optimize.StrongWolfeLineSearch.minimizeWithBound(StrongWolfe.scala:73)\n\tat breeze.optimize.StrongWolfeLineSearch.minimize(StrongWolfe.scala:62)\n\tat breeze.optimize.LBFGS.determineStepSize(LBFGS.scala:76)\n\tat breeze.optimize.LBFGS.determineStepSize(LBFGS.scala:39)\n\tat breeze.optimize.FirstOrderMinimizer$$anonfun$infiniteIterations$1.apply(FirstOrderMinimizer.scala:64)\n\tat breeze.optimize.FirstOrderMinimizer$$anonfun$infiniteIterations$1.apply(FirstOrderMinimizer.scala:62)\n\tat scala.collection.Iterator$$anon$7.next(Iterator.scala:129)\n\tat breeze.util.IteratorImplicits$RichIterator$$anon$2.next(Implicits.scala:71)\n\tat org.apache.spark.ml.optim.QuasiNewtonSolver.solve(NormalEquationSolver.scala:109)\n\tat org.apache.spark.ml.optim.WeightedLeastSquares.fit(WeightedLeastSquares.scala:271)\n\tat org.apache.spark.ml.regression.LinearRegression$$anonfun$train$1.apply(LinearRegression.scala:346)\n\tat org.apache.spark.ml.regression.LinearRegression$$anonfun$train$1.apply(LinearRegression.scala:320)\n\tat org.apache.spark.ml.util.Instrumentation$$anonfun$11.apply(Instrumentation.scala:185)\n\tat scala.util.Try$.apply(Try.scala:192)\n\tat org.apache.spark.ml.util.Instrumentation$.instrumented(Instrumentation.scala:185)\n\tat org.apache.spark.ml.regression.LinearRegression.train(LinearRegression.scala:320)\n\tat org.apache.spark.ml.regression.LinearRegression.train(LinearRegression.scala:177)\n\tat org.apache.spark.ml.Predictor.fit(Predictor.scala:118)\n\tat sun.reflect.NativeMethodAccessorImpl.invoke0(Native Method)\n\tat sun.reflect.NativeMethodAccessorImpl.invoke(NativeMethodAccessorImpl.java:62)\n\tat sun.reflect.DelegatingMethodAccessorImpl.invoke(DelegatingMethodAccessorImpl.java:43)\n\tat java.lang.reflect.Method.invoke(Method.java:498)\n\tat py4j.reflection.MethodInvoker.invoke(MethodInvoker.java:244)\n\tat py4j.reflection.ReflectionEngine.invoke(ReflectionEngine.java:357)\n\tat py4j.Gateway.invoke(Gateway.java:282)\n\tat py4j.commands.AbstractCommand.invokeMethod(AbstractCommand.java:132)\n\tat py4j.commands.CallCommand.execute(CallCommand.java:79)\n\tat py4j.GatewayConnection.run(GatewayConnection.java:238)\n\tat java.lang.Thread.run(Thread.java:748)\n",
            "\nDuring handling of the above exception, another exception occurred:\n",
            "\u001b[0;31mIllegalArgumentException\u001b[0m                  Traceback (most recent call last)",
            "\u001b[0;32m<ipython-input-34-627d76e46459>\u001b[0m in \u001b[0;36m<module>\u001b[0;34m()\u001b[0m\n\u001b[1;32m      6\u001b[0m \u001b[0;34m\u001b[0m\u001b[0m\n\u001b[1;32m      7\u001b[0m \u001b[0;31m#Learn to fit the model from training set\u001b[0m\u001b[0;34m\u001b[0m\u001b[0;34m\u001b[0m\u001b[0;34m\u001b[0m\u001b[0m\n\u001b[0;32m----> 8\u001b[0;31m \u001b[0mregressor\u001b[0m \u001b[0;34m=\u001b[0m \u001b[0mregressor\u001b[0m\u001b[0;34m.\u001b[0m\u001b[0mfit\u001b[0m\u001b[0;34m(\u001b[0m\u001b[0mtrain_data\u001b[0m\u001b[0;34m)\u001b[0m\u001b[0;34m\u001b[0m\u001b[0;34m\u001b[0m\u001b[0m\n\u001b[0m\u001b[1;32m      9\u001b[0m \u001b[0;34m\u001b[0m\u001b[0m\n\u001b[1;32m     10\u001b[0m \u001b[0;31m#To predict the prices on testing set\u001b[0m\u001b[0;34m\u001b[0m\u001b[0;34m\u001b[0m\u001b[0;34m\u001b[0m\u001b[0m\n",
            "\u001b[0;32m/content/spark-2.4.7-bin-hadoop2.7/python/pyspark/ml/base.py\u001b[0m in \u001b[0;36mfit\u001b[0;34m(self, dataset, params)\u001b[0m\n\u001b[1;32m    130\u001b[0m                 \u001b[0;32mreturn\u001b[0m \u001b[0mself\u001b[0m\u001b[0;34m.\u001b[0m\u001b[0mcopy\u001b[0m\u001b[0;34m(\u001b[0m\u001b[0mparams\u001b[0m\u001b[0;34m)\u001b[0m\u001b[0;34m.\u001b[0m\u001b[0m_fit\u001b[0m\u001b[0;34m(\u001b[0m\u001b[0mdataset\u001b[0m\u001b[0;34m)\u001b[0m\u001b[0;34m\u001b[0m\u001b[0;34m\u001b[0m\u001b[0m\n\u001b[1;32m    131\u001b[0m             \u001b[0;32melse\u001b[0m\u001b[0;34m:\u001b[0m\u001b[0;34m\u001b[0m\u001b[0;34m\u001b[0m\u001b[0m\n\u001b[0;32m--> 132\u001b[0;31m                 \u001b[0;32mreturn\u001b[0m \u001b[0mself\u001b[0m\u001b[0;34m.\u001b[0m\u001b[0m_fit\u001b[0m\u001b[0;34m(\u001b[0m\u001b[0mdataset\u001b[0m\u001b[0;34m)\u001b[0m\u001b[0;34m\u001b[0m\u001b[0;34m\u001b[0m\u001b[0m\n\u001b[0m\u001b[1;32m    133\u001b[0m         \u001b[0;32melse\u001b[0m\u001b[0;34m:\u001b[0m\u001b[0;34m\u001b[0m\u001b[0;34m\u001b[0m\u001b[0m\n\u001b[1;32m    134\u001b[0m             raise ValueError(\"Params must be either a param map or a list/tuple of param maps, \"\n",
            "\u001b[0;32m/content/spark-2.4.7-bin-hadoop2.7/python/pyspark/ml/wrapper.py\u001b[0m in \u001b[0;36m_fit\u001b[0;34m(self, dataset)\u001b[0m\n\u001b[1;32m    293\u001b[0m \u001b[0;34m\u001b[0m\u001b[0m\n\u001b[1;32m    294\u001b[0m     \u001b[0;32mdef\u001b[0m \u001b[0m_fit\u001b[0m\u001b[0;34m(\u001b[0m\u001b[0mself\u001b[0m\u001b[0;34m,\u001b[0m \u001b[0mdataset\u001b[0m\u001b[0;34m)\u001b[0m\u001b[0;34m:\u001b[0m\u001b[0;34m\u001b[0m\u001b[0;34m\u001b[0m\u001b[0m\n\u001b[0;32m--> 295\u001b[0;31m         \u001b[0mjava_model\u001b[0m \u001b[0;34m=\u001b[0m \u001b[0mself\u001b[0m\u001b[0;34m.\u001b[0m\u001b[0m_fit_java\u001b[0m\u001b[0;34m(\u001b[0m\u001b[0mdataset\u001b[0m\u001b[0;34m)\u001b[0m\u001b[0;34m\u001b[0m\u001b[0;34m\u001b[0m\u001b[0m\n\u001b[0m\u001b[1;32m    296\u001b[0m         \u001b[0mmodel\u001b[0m \u001b[0;34m=\u001b[0m \u001b[0mself\u001b[0m\u001b[0;34m.\u001b[0m\u001b[0m_create_model\u001b[0m\u001b[0;34m(\u001b[0m\u001b[0mjava_model\u001b[0m\u001b[0;34m)\u001b[0m\u001b[0;34m\u001b[0m\u001b[0;34m\u001b[0m\u001b[0m\n\u001b[1;32m    297\u001b[0m         \u001b[0;32mreturn\u001b[0m \u001b[0mself\u001b[0m\u001b[0;34m.\u001b[0m\u001b[0m_copyValues\u001b[0m\u001b[0;34m(\u001b[0m\u001b[0mmodel\u001b[0m\u001b[0;34m)\u001b[0m\u001b[0;34m\u001b[0m\u001b[0;34m\u001b[0m\u001b[0m\n",
            "\u001b[0;32m/content/spark-2.4.7-bin-hadoop2.7/python/pyspark/ml/wrapper.py\u001b[0m in \u001b[0;36m_fit_java\u001b[0;34m(self, dataset)\u001b[0m\n\u001b[1;32m    290\u001b[0m         \"\"\"\n\u001b[1;32m    291\u001b[0m         \u001b[0mself\u001b[0m\u001b[0;34m.\u001b[0m\u001b[0m_transfer_params_to_java\u001b[0m\u001b[0;34m(\u001b[0m\u001b[0;34m)\u001b[0m\u001b[0;34m\u001b[0m\u001b[0;34m\u001b[0m\u001b[0m\n\u001b[0;32m--> 292\u001b[0;31m         \u001b[0;32mreturn\u001b[0m \u001b[0mself\u001b[0m\u001b[0;34m.\u001b[0m\u001b[0m_java_obj\u001b[0m\u001b[0;34m.\u001b[0m\u001b[0mfit\u001b[0m\u001b[0;34m(\u001b[0m\u001b[0mdataset\u001b[0m\u001b[0;34m.\u001b[0m\u001b[0m_jdf\u001b[0m\u001b[0;34m)\u001b[0m\u001b[0;34m\u001b[0m\u001b[0;34m\u001b[0m\u001b[0m\n\u001b[0m\u001b[1;32m    293\u001b[0m \u001b[0;34m\u001b[0m\u001b[0m\n\u001b[1;32m    294\u001b[0m     \u001b[0;32mdef\u001b[0m \u001b[0m_fit\u001b[0m\u001b[0;34m(\u001b[0m\u001b[0mself\u001b[0m\u001b[0;34m,\u001b[0m \u001b[0mdataset\u001b[0m\u001b[0;34m)\u001b[0m\u001b[0;34m:\u001b[0m\u001b[0;34m\u001b[0m\u001b[0;34m\u001b[0m\u001b[0m\n",
            "\u001b[0;32m/content/spark-2.4.7-bin-hadoop2.7/python/lib/py4j-0.10.7-src.zip/py4j/java_gateway.py\u001b[0m in \u001b[0;36m__call__\u001b[0;34m(self, *args)\u001b[0m\n\u001b[1;32m   1255\u001b[0m         \u001b[0manswer\u001b[0m \u001b[0;34m=\u001b[0m \u001b[0mself\u001b[0m\u001b[0;34m.\u001b[0m\u001b[0mgateway_client\u001b[0m\u001b[0;34m.\u001b[0m\u001b[0msend_command\u001b[0m\u001b[0;34m(\u001b[0m\u001b[0mcommand\u001b[0m\u001b[0;34m)\u001b[0m\u001b[0;34m\u001b[0m\u001b[0;34m\u001b[0m\u001b[0m\n\u001b[1;32m   1256\u001b[0m         return_value = get_return_value(\n\u001b[0;32m-> 1257\u001b[0;31m             answer, self.gateway_client, self.target_id, self.name)\n\u001b[0m\u001b[1;32m   1258\u001b[0m \u001b[0;34m\u001b[0m\u001b[0m\n\u001b[1;32m   1259\u001b[0m         \u001b[0;32mfor\u001b[0m \u001b[0mtemp_arg\u001b[0m \u001b[0;32min\u001b[0m \u001b[0mtemp_args\u001b[0m\u001b[0;34m:\u001b[0m\u001b[0;34m\u001b[0m\u001b[0;34m\u001b[0m\u001b[0m\n",
            "\u001b[0;32m/content/spark-2.4.7-bin-hadoop2.7/python/pyspark/sql/utils.py\u001b[0m in \u001b[0;36mdeco\u001b[0;34m(*a, **kw)\u001b[0m\n\u001b[1;32m     77\u001b[0m                 \u001b[0;32mraise\u001b[0m \u001b[0mQueryExecutionException\u001b[0m\u001b[0;34m(\u001b[0m\u001b[0ms\u001b[0m\u001b[0;34m.\u001b[0m\u001b[0msplit\u001b[0m\u001b[0;34m(\u001b[0m\u001b[0;34m': '\u001b[0m\u001b[0;34m,\u001b[0m \u001b[0;36m1\u001b[0m\u001b[0;34m)\u001b[0m\u001b[0;34m[\u001b[0m\u001b[0;36m1\u001b[0m\u001b[0;34m]\u001b[0m\u001b[0;34m,\u001b[0m \u001b[0mstackTrace\u001b[0m\u001b[0;34m)\u001b[0m\u001b[0;34m\u001b[0m\u001b[0;34m\u001b[0m\u001b[0m\n\u001b[1;32m     78\u001b[0m             \u001b[0;32mif\u001b[0m \u001b[0ms\u001b[0m\u001b[0;34m.\u001b[0m\u001b[0mstartswith\u001b[0m\u001b[0;34m(\u001b[0m\u001b[0;34m'java.lang.IllegalArgumentException: '\u001b[0m\u001b[0;34m)\u001b[0m\u001b[0;34m:\u001b[0m\u001b[0;34m\u001b[0m\u001b[0;34m\u001b[0m\u001b[0m\n\u001b[0;32m---> 79\u001b[0;31m                 \u001b[0;32mraise\u001b[0m \u001b[0mIllegalArgumentException\u001b[0m\u001b[0;34m(\u001b[0m\u001b[0ms\u001b[0m\u001b[0;34m.\u001b[0m\u001b[0msplit\u001b[0m\u001b[0;34m(\u001b[0m\u001b[0;34m': '\u001b[0m\u001b[0;34m,\u001b[0m \u001b[0;36m1\u001b[0m\u001b[0;34m)\u001b[0m\u001b[0;34m[\u001b[0m\u001b[0;36m1\u001b[0m\u001b[0;34m]\u001b[0m\u001b[0;34m,\u001b[0m \u001b[0mstackTrace\u001b[0m\u001b[0;34m)\u001b[0m\u001b[0;34m\u001b[0m\u001b[0;34m\u001b[0m\u001b[0m\n\u001b[0m\u001b[1;32m     80\u001b[0m             \u001b[0;32mraise\u001b[0m\u001b[0;34m\u001b[0m\u001b[0;34m\u001b[0m\u001b[0m\n\u001b[1;32m     81\u001b[0m     \u001b[0;32mreturn\u001b[0m \u001b[0mdeco\u001b[0m\u001b[0;34m\u001b[0m\u001b[0;34m\u001b[0m\u001b[0m\n",
            "\u001b[0;31mIllegalArgumentException\u001b[0m: 'requirement failed: init value should <= bound'"
          ]
        }
      ]
    },
    {
      "cell_type": "markdown",
      "metadata": {
        "id": "Y3vYyp5dwOm_"
      },
      "source": [
        "We can also print the coefficient and intercept of the regression model by using the following command:"
      ]
    },
    {
      "cell_type": "code",
      "metadata": {
        "id": "Eja1BLiaTThT",
        "colab": {
          "base_uri": "https://localhost:8080/",
          "height": 50
        },
        "outputId": "ebaaeadc-ac17-4e59-a494-62810e1e9438"
      },
      "source": [
        "#coefficient of the regression model\n",
        "coeff = regressor.coefficients\n",
        "\n",
        "#X and Y intercept\n",
        "intr = regressor.intercept\n",
        "\n",
        "print (\"The coefficient of the model is : %a\" %coeff)\n",
        "print (\"The Intercept of the model is : %f\" %intr)\n"
      ],
      "execution_count": null,
      "outputs": [
        {
          "output_type": "stream",
          "text": [
            "The coefficient of the model is : DenseVector([-0.1239, 0.056, 0.0205, 2.7283, -16.8634, 3.218, 0.0163, -1.4331, 0.3657, -0.0134, -0.9328, 0.0096, -0.6229])\n",
            "The Intercept of the model is : 39.049826\n"
          ],
          "name": "stdout"
        }
      ]
    },
    {
      "cell_type": "markdown",
      "metadata": {
        "id": "oPBKTq0CeP5J"
      },
      "source": [
        ""
      ]
    },
    {
      "cell_type": "markdown",
      "metadata": {
        "id": "iVBEWJ_MRTNu"
      },
      "source": [
        "# Classification Model"
      ]
    },
    {
      "cell_type": "code",
      "metadata": {
        "colab": {
          "base_uri": "https://localhost:8080/"
        },
        "id": "0pM9DE0XTDlF",
        "outputId": "0a3c5b2d-7553-4b63-839f-c25f0f53b37f"
      },
      "source": [
        "df.show(10)"
      ],
      "execution_count": null,
      "outputs": [
        {
          "output_type": "stream",
          "text": [
            "+--------+--------+-------------------+-------------+------------+------------+---------------+---------------+---------------+---------------+----------------+---------------+---------------+---------------+----------------+---------------+-----------+-----------+-------------+------------+------------+------------+-----------+------------+-----------+-----------+-----------+-----------+------------+-----------+-----------+-----------+-------------+-------------+-------------+-------------+--------------+--------------+-----------+-----------+-----------+-----------+------------+-----------+-----------+------------+------------+------------+------------+------------+------------+--------------+------------+-------------+------------+----------------+----------------+--------------+--------------+----------------+--------------+--------------+----------------+----------------+----------------+----------------+----------------+-----------------+-----------------+-----------------+----------------+-----------+----------+----------+----------+---------+--------+--------+--------+----------+\n",
            "|Dst Port|Protocol|          Timestamp|Flow Duration|Tot Fwd Pkts|Tot Bwd Pkts|TotLen Fwd Pkts|TotLen Bwd Pkts|Fwd Pkt Len Max|Fwd Pkt Len Min|Fwd Pkt Len Mean|Fwd Pkt Len Std|Bwd Pkt Len Max|Bwd Pkt Len Min|Bwd Pkt Len Mean|Bwd Pkt Len Std|Flow Byts/s|Flow Pkts/s|Flow IAT Mean|Flow IAT Std|Flow IAT Max|Flow IAT Min|Fwd IAT Tot|Fwd IAT Mean|Fwd IAT Std|Fwd IAT Max|Fwd IAT Min|Bwd IAT Tot|Bwd IAT Mean|Bwd IAT Std|Bwd IAT Max|Bwd IAT Min|Fwd PSH Flags|Bwd PSH Flags|Fwd URG Flags|Bwd URG Flags|Fwd Header Len|Bwd Header Len| Fwd Pkts/s| Bwd Pkts/s|Pkt Len Min|Pkt Len Max|Pkt Len Mean|Pkt Len Std|Pkt Len Var|FIN Flag Cnt|SYN Flag Cnt|RST Flag Cnt|PSH Flag Cnt|ACK Flag Cnt|URG Flag Cnt|CWE Flag Count|ECE Flag Cnt|Down/Up Ratio|Pkt Size Avg|Fwd Seg Size Avg|Bwd Seg Size Avg|Fwd Byts/b Avg|Fwd Pkts/b Avg|Fwd Blk Rate Avg|Bwd Byts/b Avg|Bwd Pkts/b Avg|Bwd Blk Rate Avg|Subflow Fwd Pkts|Subflow Fwd Byts|Subflow Bwd Pkts|Subflow Bwd Byts|Init Fwd Win Byts|Init Bwd Win Byts|Fwd Act Data Pkts|Fwd Seg Size Min|Active Mean|Active Std|Active Max|Active Min|Idle Mean|Idle Std|Idle Max|Idle Min|LabelIndex|\n",
            "+--------+--------+-------------------+-------------+------------+------------+---------------+---------------+---------------+---------------+----------------+---------------+---------------+---------------+----------------+---------------+-----------+-----------+-------------+------------+------------+------------+-----------+------------+-----------+-----------+-----------+-----------+------------+-----------+-----------+-----------+-------------+-------------+-------------+-------------+--------------+--------------+-----------+-----------+-----------+-----------+------------+-----------+-----------+------------+------------+------------+------------+------------+------------+--------------+------------+-------------+------------+----------------+----------------+--------------+--------------+----------------+--------------+--------------+----------------+----------------+----------------+----------------+----------------+-----------------+-----------------+-----------------+----------------+-----------+----------+----------+----------+---------+--------+--------+--------+----------+\n",
            "|     443|       6|02/03/2018 08:47:38|       141385|           9|           7|            553|           3773|            202|              0|     61.44444444|    87.53443767|           1460|              0|           539.0|    655.4329358|30597.30523|113.1661775|  9425.666667| 19069.11685|       73403|           1|     141385|   17673.125|23965.32327|      73403|         22|      51417|      8569.5|13036.89082|      31525|          1|            0|            0|            0|            0|           192|           152|63.65597482|49.51020264|          0|       1460| 254.4705882|474.7129551|225352.3897|           0|           0|           1|           1|           0|           0|             0|           1|            0|     270.375|     61.44444444|           539.0|             0|             0|               0|             0|             0|               0|               9|             553|               7|            3773|             8192|              119|                4|              20|        0.0|       0.0|         0|         0|      0.0|     0.0|       0|       0|       1.0|\n",
            "|   49684|       6|02/03/2018 08:47:38|          281|           2|           1|             38|              0|             38|              0|            19.0|    26.87005769|              0|              0|             0.0|            0.0|135231.3167|10676.15658|        140.5|  174.655375|         264|          17|        281|       281.0|        0.0|        281|        281|          0|         0.0|        0.0|          0|          0|            1|            0|            0|            0|            40|            20|7117.437722|3558.718861|          0|         38|        19.0|21.93931023|481.3333333|           0|           1|           0|           0|           1|           0|             0|           0|            0| 25.33333333|            19.0|             0.0|             0|             0|               0|             0|             0|               0|               2|              38|               1|               0|              123|                0|                0|              20|        0.0|       0.0|         0|         0|      0.0|     0.0|       0|       0|       1.0|\n",
            "|     443|       6|02/03/2018 08:47:40|       279824|          11|          15|           1086|          10527|            385|              0|     98.72727273|    129.3924966|           1460|              0|           701.8|    636.3141856| 41501.0864|92.91554692|     11192.96| 24379.44834|      112589|           1|     279728|     27972.8|36167.74032|     112589|         94|     258924| 18494.57143|36356.50372|     133669|          1|            0|            0|            0|            0|           232|           312|39.31042369|53.60512322|          0|       1460| 430.1111111| 566.234209|320621.1795|           0|           0|           1|           1|           0|           0|             0|           1|            1| 446.6538462|     98.72727273|           701.8|             0|             0|               0|             0|             0|               0|              11|            1086|              15|           10527|             8192|             1047|                5|              20|        0.0|       0.0|         0|         0|      0.0|     0.0|       0|       0|       1.0|\n",
            "|     443|       6|02/03/2018 08:47:40|          132|           2|           0|              0|              0|              0|              0|             0.0|            0.0|              0|              0|             0.0|            0.0|        0.0|15151.51515|        132.0|         0.0|         132|         132|        132|       132.0|        0.0|        132|        132|          0|         0.0|        0.0|          0|          0|            0|            0|            0|            0|            40|             0|15151.51515|        0.0|          0|          0|         0.0|        0.0|        0.0|           0|           0|           0|           0|           1|           0|             0|           0|            0|         0.0|             0.0|             0.0|             0|             0|               0|             0|             0|               0|               2|               0|               0|               0|              256|               -1|                0|              20|        0.0|       0.0|         0|         0|      0.0|     0.0|       0|       0|       1.0|\n",
            "|     443|       6|02/03/2018 08:47:41|       274016|           9|          13|           1285|           6141|            517|              0|     142.7777778|    183.8877224|           1460|              0|     472.3846154|    611.1804887|27100.60726|80.28728249|  13048.38095| 26311.62703|      114077|           1|     273946|    34243.25|37996.56546|     114077|        201|     252994| 21082.83333|39075.73819|     135611|          1|            0|            0|            0|            0|           192|           272|32.84479738|47.44248511|          0|       1460| 322.8695652|497.2547641|247262.3004|           0|           0|           1|           1|           0|           0|             0|           1|            1| 337.5454545|     142.7777778|     472.3846154|             0|             0|               0|             0|             0|               0|               9|            1285|              13|            6141|             8192|             1047|                5|              20|        0.0|       0.0|         0|         0|      0.0|     0.0|       0|       0|       1.0|\n",
            "|     443|       6|02/03/2018 08:47:41|          250|           2|           0|              0|              0|              0|              0|             0.0|            0.0|              0|              0|             0.0|            0.0|        0.0|     8000.0|        250.0|         0.0|         250|         250|        250|       250.0|        0.0|        250|        250|          0|         0.0|        0.0|          0|          0|            0|            0|            0|            0|            40|             0|     8000.0|        0.0|          0|          0|         0.0|        0.0|        0.0|           0|           0|           0|           0|           1|           0|             0|           0|            0|         0.0|             0.0|             0.0|             0|             0|               0|             0|             0|               0|               2|               0|               0|               0|              251|               -1|                0|              20|        0.0|       0.0|         0|         0|      0.0|     0.0|       0|       0|       1.0|\n",
            "|      80|       6|02/03/2018 08:47:41|      5964033|           3|           1|              0|              0|              0|              0|             0.0|            0.0|              0|              0|             0.0|            0.0|        0.0|  0.6706871|    1988011.0|  3425209.65|     5943084|          19|    5964033|   2982016.5|4187581.818|    5943084|      20949|          0|         0.0|        0.0|          0|          0|            0|            0|            0|            0|            72|            32|0.503015325|0.167671775|          0|          0|         0.0|        0.0|        0.0|           0|           0|           1|           1|           0|           0|             0|           1|            0|         0.0|             0.0|             0.0|             0|             0|               0|             0|             0|               0|               3|               0|               1|               0|             8192|            29200|                0|              20|        0.0|       0.0|         0|         0|      0.0|     0.0|       0|       0|       1.0|\n",
            "|   49690|       6|02/03/2018 08:47:46|          144|           2|           0|              0|              0|              0|              0|             0.0|            0.0|              0|              0|             0.0|            0.0|        0.0|13888.88889|        144.0|         0.0|         144|         144|        144|       144.0|        0.0|        144|        144|          0|         0.0|        0.0|          0|          0|            0|            0|            0|            0|            40|             0|13888.88889|        0.0|          0|          0|         0.0|        0.0|        0.0|           0|           0|           0|           0|           1|           0|             0|           0|            0|         0.0|             0.0|             0.0|             0|             0|               0|             0|             0|               0|               2|               0|               0|               0|              913|               -1|                0|              20|        0.0|       0.0|         0|         0|      0.0|     0.0|       0|       0|       1.0|\n",
            "|     443|       6|02/03/2018 08:48:17|        90828|           8|           8|           1748|           3898|           1078|              0|           218.5|    363.7133879|           1460|              0|          487.25|    639.5062269|62161.44801|176.1571322|       6055.2| 9948.657879|       23343|           1|      69438| 9919.714286|11893.19116|      23365|         48|      69553| 9936.142857|12312.69524|      23723|          1|            0|            0|            0|            0|           172|           172|88.07856608|88.07856608|          0|       1460| 332.1176471|512.0358731|262180.7353|           0|           0|           1|           1|           0|           0|             0|           1|            1|     352.875|           218.5|          487.25|             0|             0|               0|             0|             0|               0|               8|            1748|               8|            3898|             8192|             8192|                5|              20|        0.0|       0.0|         0|         0|      0.0|     0.0|       0|       0|       1.0|\n",
            "|     443|       6|02/03/2018 08:48:17|          152|           3|           0|             31|              0|             31|              0|     10.33333333|    17.89785834|              0|              0|             0.0|            0.0|203947.3684|19736.84211|         76.0| 63.63961031|         121|          31|        152|        76.0|63.63961031|        121|         31|          0|         0.0|        0.0|          0|          0|            0|            0|            0|            0|            60|             0|19736.84211|        0.0|          0|         31|        7.75|       15.5|     240.25|           0|           0|           0|           0|           1|           0|             0|           0|            0| 10.33333333|     10.33333333|             0.0|             0|             0|               0|             0|             0|               0|               3|              31|               0|               0|              257|               -1|                1|              20|        0.0|       0.0|         0|         0|      0.0|     0.0|       0|       0|       1.0|\n",
            "+--------+--------+-------------------+-------------+------------+------------+---------------+---------------+---------------+---------------+----------------+---------------+---------------+---------------+----------------+---------------+-----------+-----------+-------------+------------+------------+------------+-----------+------------+-----------+-----------+-----------+-----------+------------+-----------+-----------+-----------+-------------+-------------+-------------+-------------+--------------+--------------+-----------+-----------+-----------+-----------+------------+-----------+-----------+------------+------------+------------+------------+------------+------------+--------------+------------+-------------+------------+----------------+----------------+--------------+--------------+----------------+--------------+--------------+----------------+----------------+----------------+----------------+----------------+-----------------+-----------------+-----------------+----------------+-----------+----------+----------+----------+---------+--------+--------+--------+----------+\n",
            "only showing top 10 rows\n",
            "\n"
          ],
          "name": "stdout"
        }
      ]
    },
    {
      "cell_type": "code",
      "metadata": {
        "colab": {
          "base_uri": "https://localhost:8080/"
        },
        "id": "nWzMJVTFTM7g",
        "outputId": "8e03d4a8-2cd0-4f4e-8c8c-c7c5b16274e2"
      },
      "source": [
        "#Extracting the day of month \n",
        "df1 = df.withColumn('Timestamp',f.dayofmonth(f.to_timestamp('Timestamp', 'dd/MM/yyyy')))\n",
        "df1.show(10)"
      ],
      "execution_count": null,
      "outputs": [
        {
          "output_type": "stream",
          "text": [
            "+--------+--------+---------+-------------+------------+------------+---------------+---------------+---------------+---------------+----------------+---------------+---------------+---------------+----------------+---------------+-----------+-----------+-------------+------------+------------+------------+-----------+------------+-----------+-----------+-----------+-----------+------------+-----------+-----------+-----------+-------------+-------------+-------------+-------------+--------------+--------------+-----------+-----------+-----------+-----------+------------+-----------+-----------+------------+------------+------------+------------+------------+------------+--------------+------------+-------------+------------+----------------+----------------+--------------+--------------+----------------+--------------+--------------+----------------+----------------+----------------+----------------+----------------+-----------------+-----------------+-----------------+----------------+-----------+----------+----------+----------+---------+--------+--------+--------+------+\n",
            "|Dst Port|Protocol|Timestamp|Flow Duration|Tot Fwd Pkts|Tot Bwd Pkts|TotLen Fwd Pkts|TotLen Bwd Pkts|Fwd Pkt Len Max|Fwd Pkt Len Min|Fwd Pkt Len Mean|Fwd Pkt Len Std|Bwd Pkt Len Max|Bwd Pkt Len Min|Bwd Pkt Len Mean|Bwd Pkt Len Std|Flow Byts/s|Flow Pkts/s|Flow IAT Mean|Flow IAT Std|Flow IAT Max|Flow IAT Min|Fwd IAT Tot|Fwd IAT Mean|Fwd IAT Std|Fwd IAT Max|Fwd IAT Min|Bwd IAT Tot|Bwd IAT Mean|Bwd IAT Std|Bwd IAT Max|Bwd IAT Min|Fwd PSH Flags|Bwd PSH Flags|Fwd URG Flags|Bwd URG Flags|Fwd Header Len|Bwd Header Len| Fwd Pkts/s| Bwd Pkts/s|Pkt Len Min|Pkt Len Max|Pkt Len Mean|Pkt Len Std|Pkt Len Var|FIN Flag Cnt|SYN Flag Cnt|RST Flag Cnt|PSH Flag Cnt|ACK Flag Cnt|URG Flag Cnt|CWE Flag Count|ECE Flag Cnt|Down/Up Ratio|Pkt Size Avg|Fwd Seg Size Avg|Bwd Seg Size Avg|Fwd Byts/b Avg|Fwd Pkts/b Avg|Fwd Blk Rate Avg|Bwd Byts/b Avg|Bwd Pkts/b Avg|Bwd Blk Rate Avg|Subflow Fwd Pkts|Subflow Fwd Byts|Subflow Bwd Pkts|Subflow Bwd Byts|Init Fwd Win Byts|Init Bwd Win Byts|Fwd Act Data Pkts|Fwd Seg Size Min|Active Mean|Active Std|Active Max|Active Min|Idle Mean|Idle Std|Idle Max|Idle Min| Label|\n",
            "+--------+--------+---------+-------------+------------+------------+---------------+---------------+---------------+---------------+----------------+---------------+---------------+---------------+----------------+---------------+-----------+-----------+-------------+------------+------------+------------+-----------+------------+-----------+-----------+-----------+-----------+------------+-----------+-----------+-----------+-------------+-------------+-------------+-------------+--------------+--------------+-----------+-----------+-----------+-----------+------------+-----------+-----------+------------+------------+------------+------------+------------+------------+--------------+------------+-------------+------------+----------------+----------------+--------------+--------------+----------------+--------------+--------------+----------------+----------------+----------------+----------------+----------------+-----------------+-----------------+-----------------+----------------+-----------+----------+----------+----------+---------+--------+--------+--------+------+\n",
            "|     443|       6|        2|       141385|           9|           7|            553|           3773|            202|              0|     61.44444444|    87.53443767|           1460|              0|           539.0|    655.4329358|30597.30523|113.1661775|  9425.666667| 19069.11685|       73403|           1|     141385|   17673.125|23965.32327|      73403|         22|      51417|      8569.5|13036.89082|      31525|          1|            0|            0|            0|            0|           192|           152|63.65597482|49.51020264|          0|       1460| 254.4705882|474.7129551|225352.3897|           0|           0|           1|           1|           0|           0|             0|           1|            0|     270.375|     61.44444444|           539.0|             0|             0|               0|             0|             0|               0|               9|             553|               7|            3773|             8192|              119|                4|              20|        0.0|       0.0|         0|         0|      0.0|     0.0|       0|       0|Benign|\n",
            "|   49684|       6|        2|          281|           2|           1|             38|              0|             38|              0|            19.0|    26.87005769|              0|              0|             0.0|            0.0|135231.3167|10676.15658|        140.5|  174.655375|         264|          17|        281|       281.0|        0.0|        281|        281|          0|         0.0|        0.0|          0|          0|            1|            0|            0|            0|            40|            20|7117.437722|3558.718861|          0|         38|        19.0|21.93931023|481.3333333|           0|           1|           0|           0|           1|           0|             0|           0|            0| 25.33333333|            19.0|             0.0|             0|             0|               0|             0|             0|               0|               2|              38|               1|               0|              123|                0|                0|              20|        0.0|       0.0|         0|         0|      0.0|     0.0|       0|       0|Benign|\n",
            "|     443|       6|        2|       279824|          11|          15|           1086|          10527|            385|              0|     98.72727273|    129.3924966|           1460|              0|           701.8|    636.3141856| 41501.0864|92.91554692|     11192.96| 24379.44834|      112589|           1|     279728|     27972.8|36167.74032|     112589|         94|     258924| 18494.57143|36356.50372|     133669|          1|            0|            0|            0|            0|           232|           312|39.31042369|53.60512322|          0|       1460| 430.1111111| 566.234209|320621.1795|           0|           0|           1|           1|           0|           0|             0|           1|            1| 446.6538462|     98.72727273|           701.8|             0|             0|               0|             0|             0|               0|              11|            1086|              15|           10527|             8192|             1047|                5|              20|        0.0|       0.0|         0|         0|      0.0|     0.0|       0|       0|Benign|\n",
            "|     443|       6|        2|          132|           2|           0|              0|              0|              0|              0|             0.0|            0.0|              0|              0|             0.0|            0.0|        0.0|15151.51515|        132.0|         0.0|         132|         132|        132|       132.0|        0.0|        132|        132|          0|         0.0|        0.0|          0|          0|            0|            0|            0|            0|            40|             0|15151.51515|        0.0|          0|          0|         0.0|        0.0|        0.0|           0|           0|           0|           0|           1|           0|             0|           0|            0|         0.0|             0.0|             0.0|             0|             0|               0|             0|             0|               0|               2|               0|               0|               0|              256|               -1|                0|              20|        0.0|       0.0|         0|         0|      0.0|     0.0|       0|       0|Benign|\n",
            "|     443|       6|        2|       274016|           9|          13|           1285|           6141|            517|              0|     142.7777778|    183.8877224|           1460|              0|     472.3846154|    611.1804887|27100.60726|80.28728249|  13048.38095| 26311.62703|      114077|           1|     273946|    34243.25|37996.56546|     114077|        201|     252994| 21082.83333|39075.73819|     135611|          1|            0|            0|            0|            0|           192|           272|32.84479738|47.44248511|          0|       1460| 322.8695652|497.2547641|247262.3004|           0|           0|           1|           1|           0|           0|             0|           1|            1| 337.5454545|     142.7777778|     472.3846154|             0|             0|               0|             0|             0|               0|               9|            1285|              13|            6141|             8192|             1047|                5|              20|        0.0|       0.0|         0|         0|      0.0|     0.0|       0|       0|Benign|\n",
            "|     443|       6|        2|          250|           2|           0|              0|              0|              0|              0|             0.0|            0.0|              0|              0|             0.0|            0.0|        0.0|     8000.0|        250.0|         0.0|         250|         250|        250|       250.0|        0.0|        250|        250|          0|         0.0|        0.0|          0|          0|            0|            0|            0|            0|            40|             0|     8000.0|        0.0|          0|          0|         0.0|        0.0|        0.0|           0|           0|           0|           0|           1|           0|             0|           0|            0|         0.0|             0.0|             0.0|             0|             0|               0|             0|             0|               0|               2|               0|               0|               0|              251|               -1|                0|              20|        0.0|       0.0|         0|         0|      0.0|     0.0|       0|       0|Benign|\n",
            "|      80|       6|        2|      5964033|           3|           1|              0|              0|              0|              0|             0.0|            0.0|              0|              0|             0.0|            0.0|        0.0|  0.6706871|    1988011.0|  3425209.65|     5943084|          19|    5964033|   2982016.5|4187581.818|    5943084|      20949|          0|         0.0|        0.0|          0|          0|            0|            0|            0|            0|            72|            32|0.503015325|0.167671775|          0|          0|         0.0|        0.0|        0.0|           0|           0|           1|           1|           0|           0|             0|           1|            0|         0.0|             0.0|             0.0|             0|             0|               0|             0|             0|               0|               3|               0|               1|               0|             8192|            29200|                0|              20|        0.0|       0.0|         0|         0|      0.0|     0.0|       0|       0|Benign|\n",
            "|   49690|       6|        2|          144|           2|           0|              0|              0|              0|              0|             0.0|            0.0|              0|              0|             0.0|            0.0|        0.0|13888.88889|        144.0|         0.0|         144|         144|        144|       144.0|        0.0|        144|        144|          0|         0.0|        0.0|          0|          0|            0|            0|            0|            0|            40|             0|13888.88889|        0.0|          0|          0|         0.0|        0.0|        0.0|           0|           0|           0|           0|           1|           0|             0|           0|            0|         0.0|             0.0|             0.0|             0|             0|               0|             0|             0|               0|               2|               0|               0|               0|              913|               -1|                0|              20|        0.0|       0.0|         0|         0|      0.0|     0.0|       0|       0|Benign|\n",
            "|     443|       6|        2|        90828|           8|           8|           1748|           3898|           1078|              0|           218.5|    363.7133879|           1460|              0|          487.25|    639.5062269|62161.44801|176.1571322|       6055.2| 9948.657879|       23343|           1|      69438| 9919.714286|11893.19116|      23365|         48|      69553| 9936.142857|12312.69524|      23723|          1|            0|            0|            0|            0|           172|           172|88.07856608|88.07856608|          0|       1460| 332.1176471|512.0358731|262180.7353|           0|           0|           1|           1|           0|           0|             0|           1|            1|     352.875|           218.5|          487.25|             0|             0|               0|             0|             0|               0|               8|            1748|               8|            3898|             8192|             8192|                5|              20|        0.0|       0.0|         0|         0|      0.0|     0.0|       0|       0|Benign|\n",
            "|     443|       6|        2|          152|           3|           0|             31|              0|             31|              0|     10.33333333|    17.89785834|              0|              0|             0.0|            0.0|203947.3684|19736.84211|         76.0| 63.63961031|         121|          31|        152|        76.0|63.63961031|        121|         31|          0|         0.0|        0.0|          0|          0|            0|            0|            0|            0|            60|             0|19736.84211|        0.0|          0|         31|        7.75|       15.5|     240.25|           0|           0|           0|           0|           1|           0|             0|           0|            0| 10.33333333|     10.33333333|             0.0|             0|             0|               0|             0|             0|               0|               3|              31|               0|               0|              257|               -1|                1|              20|        0.0|       0.0|         0|         0|      0.0|     0.0|       0|       0|Benign|\n",
            "+--------+--------+---------+-------------+------------+------------+---------------+---------------+---------------+---------------+----------------+---------------+---------------+---------------+----------------+---------------+-----------+-----------+-------------+------------+------------+------------+-----------+------------+-----------+-----------+-----------+-----------+------------+-----------+-----------+-----------+-------------+-------------+-------------+-------------+--------------+--------------+-----------+-----------+-----------+-----------+------------+-----------+-----------+------------+------------+------------+------------+------------+------------+--------------+------------+-------------+------------+----------------+----------------+--------------+--------------+----------------+--------------+--------------+----------------+----------------+----------------+----------------+----------------+-----------------+-----------------+-----------------+----------------+-----------+----------+----------+----------+---------+--------+--------+--------+------+\n",
            "only showing top 10 rows\n",
            "\n"
          ],
          "name": "stdout"
        }
      ]
    },
    {
      "cell_type": "code",
      "metadata": {
        "colab": {
          "base_uri": "https://localhost:8080/"
        },
        "id": "EpIH2IA_WOi3",
        "outputId": "a6fafb03-db19-41af-c706-317bf052b9fc"
      },
      "source": [
        "df1.printSchema()"
      ],
      "execution_count": null,
      "outputs": [
        {
          "output_type": "stream",
          "text": [
            "root\n",
            " |-- Dst Port: integer (nullable = true)\n",
            " |-- Protocol: integer (nullable = true)\n",
            " |-- Timestamp: integer (nullable = true)\n",
            " |-- Flow Duration: integer (nullable = true)\n",
            " |-- Tot Fwd Pkts: integer (nullable = true)\n",
            " |-- Tot Bwd Pkts: integer (nullable = true)\n",
            " |-- TotLen Fwd Pkts: integer (nullable = true)\n",
            " |-- TotLen Bwd Pkts: decimal(9,0) (nullable = true)\n",
            " |-- Fwd Pkt Len Max: integer (nullable = true)\n",
            " |-- Fwd Pkt Len Min: integer (nullable = true)\n",
            " |-- Fwd Pkt Len Mean: double (nullable = true)\n",
            " |-- Fwd Pkt Len Std: double (nullable = true)\n",
            " |-- Bwd Pkt Len Max: integer (nullable = true)\n",
            " |-- Bwd Pkt Len Min: integer (nullable = true)\n",
            " |-- Bwd Pkt Len Mean: double (nullable = true)\n",
            " |-- Bwd Pkt Len Std: double (nullable = true)\n",
            " |-- Flow Byts/s: double (nullable = true)\n",
            " |-- Flow Pkts/s: double (nullable = true)\n",
            " |-- Flow IAT Mean: double (nullable = true)\n",
            " |-- Flow IAT Std: double (nullable = true)\n",
            " |-- Flow IAT Max: decimal(9,0) (nullable = true)\n",
            " |-- Flow IAT Min: decimal(9,0) (nullable = true)\n",
            " |-- Fwd IAT Tot: decimal(9,0) (nullable = true)\n",
            " |-- Fwd IAT Mean: double (nullable = true)\n",
            " |-- Fwd IAT Std: double (nullable = true)\n",
            " |-- Fwd IAT Max: decimal(9,0) (nullable = true)\n",
            " |-- Fwd IAT Min: decimal(9,0) (nullable = true)\n",
            " |-- Bwd IAT Tot: decimal(9,0) (nullable = true)\n",
            " |-- Bwd IAT Mean: double (nullable = true)\n",
            " |-- Bwd IAT Std: double (nullable = true)\n",
            " |-- Bwd IAT Max: decimal(9,0) (nullable = true)\n",
            " |-- Bwd IAT Min: decimal(9,0) (nullable = true)\n",
            " |-- Fwd PSH Flags: integer (nullable = true)\n",
            " |-- Bwd PSH Flags: integer (nullable = true)\n",
            " |-- Fwd URG Flags: integer (nullable = true)\n",
            " |-- Bwd URG Flags: integer (nullable = true)\n",
            " |-- Fwd Header Len: integer (nullable = true)\n",
            " |-- Bwd Header Len: integer (nullable = true)\n",
            " |-- Fwd Pkts/s: double (nullable = true)\n",
            " |-- Bwd Pkts/s: double (nullable = true)\n",
            " |-- Pkt Len Min: integer (nullable = true)\n",
            " |-- Pkt Len Max: integer (nullable = true)\n",
            " |-- Pkt Len Mean: double (nullable = true)\n",
            " |-- Pkt Len Std: double (nullable = true)\n",
            " |-- Pkt Len Var: double (nullable = true)\n",
            " |-- FIN Flag Cnt: integer (nullable = true)\n",
            " |-- SYN Flag Cnt: integer (nullable = true)\n",
            " |-- RST Flag Cnt: integer (nullable = true)\n",
            " |-- PSH Flag Cnt: integer (nullable = true)\n",
            " |-- ACK Flag Cnt: integer (nullable = true)\n",
            " |-- URG Flag Cnt: integer (nullable = true)\n",
            " |-- CWE Flag Count: integer (nullable = true)\n",
            " |-- ECE Flag Cnt: integer (nullable = true)\n",
            " |-- Down/Up Ratio: integer (nullable = true)\n",
            " |-- Pkt Size Avg: double (nullable = true)\n",
            " |-- Fwd Seg Size Avg: double (nullable = true)\n",
            " |-- Bwd Seg Size Avg: double (nullable = true)\n",
            " |-- Fwd Byts/b Avg: integer (nullable = true)\n",
            " |-- Fwd Pkts/b Avg: integer (nullable = true)\n",
            " |-- Fwd Blk Rate Avg: string (nullable = true)\n",
            " |-- Bwd Byts/b Avg: integer (nullable = true)\n",
            " |-- Bwd Pkts/b Avg: integer (nullable = true)\n",
            " |-- Bwd Blk Rate Avg: integer (nullable = true)\n",
            " |-- Subflow Fwd Pkts: integer (nullable = true)\n",
            " |-- Subflow Fwd Byts: integer (nullable = true)\n",
            " |-- Subflow Bwd Pkts: integer (nullable = true)\n",
            " |-- Subflow Bwd Byts: integer (nullable = true)\n",
            " |-- Init Fwd Win Byts: integer (nullable = true)\n",
            " |-- Init Bwd Win Byts: integer (nullable = true)\n",
            " |-- Fwd Act Data Pkts: integer (nullable = true)\n",
            " |-- Fwd Seg Size Min: integer (nullable = true)\n",
            " |-- Active Mean: double (nullable = true)\n",
            " |-- Active Std: double (nullable = true)\n",
            " |-- Active Max: decimal(9,0) (nullable = true)\n",
            " |-- Active Min: decimal(9,0) (nullable = true)\n",
            " |-- Idle Mean: double (nullable = true)\n",
            " |-- Idle Std: double (nullable = true)\n",
            " |-- Idle Max: decimal(9,0) (nullable = true)\n",
            " |-- Idle Min: decimal(9,0) (nullable = true)\n",
            " |-- Label: string (nullable = true)\n",
            "\n"
          ],
          "name": "stdout"
        }
      ]
    },
    {
      "cell_type": "code",
      "metadata": {
        "colab": {
          "base_uri": "https://localhost:8080/",
          "height": 165
        },
        "id": "2C7-fHdbWy3l",
        "outputId": "51254348-c2e4-4289-c9ed-302a16395d86"
      },
      "source": [
        "df3=df3.withColumn(\"Fwd Blk Rate Avg\", df3(\"Fwd Blk Rate Avg\").cast(DoubleType))"
      ],
      "execution_count": null,
      "outputs": [
        {
          "output_type": "error",
          "ename": "TypeError",
          "evalue": "ignored",
          "traceback": [
            "\u001b[0;31m---------------------------------------------------------------------------\u001b[0m",
            "\u001b[0;31mTypeError\u001b[0m                                 Traceback (most recent call last)",
            "\u001b[0;32m<ipython-input-73-eefac3fed33b>\u001b[0m in \u001b[0;36m<module>\u001b[0;34m()\u001b[0m\n\u001b[0;32m----> 1\u001b[0;31m \u001b[0mdf3\u001b[0m\u001b[0;34m=\u001b[0m\u001b[0mdf3\u001b[0m\u001b[0;34m.\u001b[0m\u001b[0mwithColumn\u001b[0m\u001b[0;34m(\u001b[0m\u001b[0;34m\"Fwd Blk Rate Avg\"\u001b[0m\u001b[0;34m,\u001b[0m \u001b[0mdf3\u001b[0m\u001b[0;34m(\u001b[0m\u001b[0;34m\"Fwd Blk Rate Avg\"\u001b[0m\u001b[0;34m)\u001b[0m\u001b[0;34m.\u001b[0m\u001b[0mcast\u001b[0m\u001b[0;34m(\u001b[0m\u001b[0mDoubleType\u001b[0m\u001b[0;34m)\u001b[0m\u001b[0;34m)\u001b[0m\u001b[0;34m\u001b[0m\u001b[0;34m\u001b[0m\u001b[0m\n\u001b[0m",
            "\u001b[0;31mTypeError\u001b[0m: 'DataFrame' object is not callable"
          ]
        }
      ]
    },
    {
      "cell_type": "code",
      "metadata": {
        "id": "ugYXPX-yRV2h"
      },
      "source": [
        "from pyspark.ml.feature import OneHotEncoderEstimator, StringIndexer, VectorAssembler\n",
        "categoricalColumns = ['Label']\n",
        "stages = []\n",
        "for categoricalCol in categoricalColumns:\n",
        "    stringIndexer = StringIndexer(inputCol = categoricalCol, outputCol = categoricalCol + 'Index')\n",
        "    encoder = OneHotEncoderEstimator(inputCols=[stringIndexer.getOutputCol()], outputCols=[categoricalCol + \"classVec\"])\n",
        "    stages += [stringIndexer, encoder]\n",
        "label_stringIdx = StringIndexer(inputCol = 'Label', outputCol = 'labels')\n",
        "stages += [label_stringIdx]\n",
        "numericCols = df1.drop(\"labels\").columns\n",
        "assemblerInputs = [c + \"classVec\" for c in categoricalColumns] + numericCols\n",
        "assembler = VectorAssembler(inputCols=assemblerInputs, outputCol=\"features\")\n",
        "stages += [assembler]"
      ],
      "execution_count": null,
      "outputs": []
    },
    {
      "cell_type": "markdown",
      "metadata": {
        "id": "eFheUHKjSdO8"
      },
      "source": [
        "The above code are taken from databricks’ official site and it indexes each categorical column using the StringIndexer, then converts the indexed categories into one-hot encoded variables. The resulting output has the binary vectors appended to the end of each row. We use the StringIndexer again to encode our labels to label indices. Next, we use the VectorAssembler to combine all the feature columns into a single vector column."
      ]
    },
    {
      "cell_type": "code",
      "metadata": {
        "colab": {
          "base_uri": "https://localhost:8080/",
          "height": 709
        },
        "id": "gYIJdThdSd1s",
        "outputId": "78db9d0b-7d44-41af-d098-7424b814ff02"
      },
      "source": [
        "from pyspark.ml import Pipeline\n",
        "pipeline = Pipeline(stages = stages)\n",
        "pipelineModel = pipeline.fit(df1)\n",
        "df1 = pipelineModel.transform(df1)\n",
        "\n",
        "cols=df1.columns\n",
        "selectedCols = ['labels', 'features'] + cols\n",
        "df1 = df1.select(selectedCols)\n",
        "df1.printSchema()"
      ],
      "execution_count": null,
      "outputs": [
        {
          "output_type": "error",
          "ename": "IllegalArgumentException",
          "evalue": "ignored",
          "traceback": [
            "\u001b[0;31m---------------------------------------------------------------------------\u001b[0m",
            "\u001b[0;31mPy4JJavaError\u001b[0m                             Traceback (most recent call last)",
            "\u001b[0;32m/content/spark-2.4.7-bin-hadoop2.7/python/pyspark/sql/utils.py\u001b[0m in \u001b[0;36mdeco\u001b[0;34m(*a, **kw)\u001b[0m\n\u001b[1;32m     62\u001b[0m         \u001b[0;32mtry\u001b[0m\u001b[0;34m:\u001b[0m\u001b[0;34m\u001b[0m\u001b[0;34m\u001b[0m\u001b[0m\n\u001b[0;32m---> 63\u001b[0;31m             \u001b[0;32mreturn\u001b[0m \u001b[0mf\u001b[0m\u001b[0;34m(\u001b[0m\u001b[0;34m*\u001b[0m\u001b[0ma\u001b[0m\u001b[0;34m,\u001b[0m \u001b[0;34m**\u001b[0m\u001b[0mkw\u001b[0m\u001b[0;34m)\u001b[0m\u001b[0;34m\u001b[0m\u001b[0;34m\u001b[0m\u001b[0m\n\u001b[0m\u001b[1;32m     64\u001b[0m         \u001b[0;32mexcept\u001b[0m \u001b[0mpy4j\u001b[0m\u001b[0;34m.\u001b[0m\u001b[0mprotocol\u001b[0m\u001b[0;34m.\u001b[0m\u001b[0mPy4JJavaError\u001b[0m \u001b[0;32mas\u001b[0m \u001b[0me\u001b[0m\u001b[0;34m:\u001b[0m\u001b[0;34m\u001b[0m\u001b[0;34m\u001b[0m\u001b[0m\n",
            "\u001b[0;32m/content/spark-2.4.7-bin-hadoop2.7/python/lib/py4j-0.10.7-src.zip/py4j/protocol.py\u001b[0m in \u001b[0;36mget_return_value\u001b[0;34m(answer, gateway_client, target_id, name)\u001b[0m\n\u001b[1;32m    327\u001b[0m                     \u001b[0;34m\"An error occurred while calling {0}{1}{2}.\\n\"\u001b[0m\u001b[0;34m.\u001b[0m\u001b[0;34m\u001b[0m\u001b[0;34m\u001b[0m\u001b[0m\n\u001b[0;32m--> 328\u001b[0;31m                     format(target_id, \".\", name), value)\n\u001b[0m\u001b[1;32m    329\u001b[0m             \u001b[0;32melse\u001b[0m\u001b[0;34m:\u001b[0m\u001b[0;34m\u001b[0m\u001b[0;34m\u001b[0m\u001b[0m\n",
            "\u001b[0;31mPy4JJavaError\u001b[0m: An error occurred while calling o3250.transform.\n: java.lang.IllegalArgumentException: Data type string of column Label is not supported.\n\tat org.apache.spark.ml.feature.VectorAssembler.transformSchema(VectorAssembler.scala:169)\n\tat org.apache.spark.ml.PipelineStage.transformSchema(Pipeline.scala:74)\n\tat org.apache.spark.ml.feature.VectorAssembler.transform(VectorAssembler.scala:86)\n\tat sun.reflect.NativeMethodAccessorImpl.invoke0(Native Method)\n\tat sun.reflect.NativeMethodAccessorImpl.invoke(NativeMethodAccessorImpl.java:62)\n\tat sun.reflect.DelegatingMethodAccessorImpl.invoke(DelegatingMethodAccessorImpl.java:43)\n\tat java.lang.reflect.Method.invoke(Method.java:498)\n\tat py4j.reflection.MethodInvoker.invoke(MethodInvoker.java:244)\n\tat py4j.reflection.ReflectionEngine.invoke(ReflectionEngine.java:357)\n\tat py4j.Gateway.invoke(Gateway.java:282)\n\tat py4j.commands.AbstractCommand.invokeMethod(AbstractCommand.java:132)\n\tat py4j.commands.CallCommand.execute(CallCommand.java:79)\n\tat py4j.GatewayConnection.run(GatewayConnection.java:238)\n\tat java.lang.Thread.run(Thread.java:748)\n",
            "\nDuring handling of the above exception, another exception occurred:\n",
            "\u001b[0;31mIllegalArgumentException\u001b[0m                  Traceback (most recent call last)",
            "\u001b[0;32m<ipython-input-51-3882021f90d3>\u001b[0m in \u001b[0;36m<module>\u001b[0;34m()\u001b[0m\n\u001b[1;32m      2\u001b[0m \u001b[0mpipeline\u001b[0m \u001b[0;34m=\u001b[0m \u001b[0mPipeline\u001b[0m\u001b[0;34m(\u001b[0m\u001b[0mstages\u001b[0m \u001b[0;34m=\u001b[0m \u001b[0mstages\u001b[0m\u001b[0;34m)\u001b[0m\u001b[0;34m\u001b[0m\u001b[0;34m\u001b[0m\u001b[0m\n\u001b[1;32m      3\u001b[0m \u001b[0mpipelineModel\u001b[0m \u001b[0;34m=\u001b[0m \u001b[0mpipeline\u001b[0m\u001b[0;34m.\u001b[0m\u001b[0mfit\u001b[0m\u001b[0;34m(\u001b[0m\u001b[0mdf1\u001b[0m\u001b[0;34m)\u001b[0m\u001b[0;34m\u001b[0m\u001b[0;34m\u001b[0m\u001b[0m\n\u001b[0;32m----> 4\u001b[0;31m \u001b[0mdf1\u001b[0m \u001b[0;34m=\u001b[0m \u001b[0mpipelineModel\u001b[0m\u001b[0;34m.\u001b[0m\u001b[0mtransform\u001b[0m\u001b[0;34m(\u001b[0m\u001b[0mdf1\u001b[0m\u001b[0;34m)\u001b[0m\u001b[0;34m\u001b[0m\u001b[0;34m\u001b[0m\u001b[0m\n\u001b[0m\u001b[1;32m      5\u001b[0m \u001b[0;34m\u001b[0m\u001b[0m\n\u001b[1;32m      6\u001b[0m \u001b[0mcols\u001b[0m\u001b[0;34m=\u001b[0m\u001b[0mdf1\u001b[0m\u001b[0;34m.\u001b[0m\u001b[0mcolumns\u001b[0m\u001b[0;34m\u001b[0m\u001b[0;34m\u001b[0m\u001b[0m\n",
            "\u001b[0;32m/content/spark-2.4.7-bin-hadoop2.7/python/pyspark/ml/base.py\u001b[0m in \u001b[0;36mtransform\u001b[0;34m(self, dataset, params)\u001b[0m\n\u001b[1;32m    171\u001b[0m                 \u001b[0;32mreturn\u001b[0m \u001b[0mself\u001b[0m\u001b[0;34m.\u001b[0m\u001b[0mcopy\u001b[0m\u001b[0;34m(\u001b[0m\u001b[0mparams\u001b[0m\u001b[0;34m)\u001b[0m\u001b[0;34m.\u001b[0m\u001b[0m_transform\u001b[0m\u001b[0;34m(\u001b[0m\u001b[0mdataset\u001b[0m\u001b[0;34m)\u001b[0m\u001b[0;34m\u001b[0m\u001b[0;34m\u001b[0m\u001b[0m\n\u001b[1;32m    172\u001b[0m             \u001b[0;32melse\u001b[0m\u001b[0;34m:\u001b[0m\u001b[0;34m\u001b[0m\u001b[0;34m\u001b[0m\u001b[0m\n\u001b[0;32m--> 173\u001b[0;31m                 \u001b[0;32mreturn\u001b[0m \u001b[0mself\u001b[0m\u001b[0;34m.\u001b[0m\u001b[0m_transform\u001b[0m\u001b[0;34m(\u001b[0m\u001b[0mdataset\u001b[0m\u001b[0;34m)\u001b[0m\u001b[0;34m\u001b[0m\u001b[0;34m\u001b[0m\u001b[0m\n\u001b[0m\u001b[1;32m    174\u001b[0m         \u001b[0;32melse\u001b[0m\u001b[0;34m:\u001b[0m\u001b[0;34m\u001b[0m\u001b[0;34m\u001b[0m\u001b[0m\n\u001b[1;32m    175\u001b[0m             \u001b[0;32mraise\u001b[0m \u001b[0mValueError\u001b[0m\u001b[0;34m(\u001b[0m\u001b[0;34m\"Params must be a param map but got %s.\"\u001b[0m \u001b[0;34m%\u001b[0m \u001b[0mtype\u001b[0m\u001b[0;34m(\u001b[0m\u001b[0mparams\u001b[0m\u001b[0;34m)\u001b[0m\u001b[0;34m)\u001b[0m\u001b[0;34m\u001b[0m\u001b[0;34m\u001b[0m\u001b[0m\n",
            "\u001b[0;32m/content/spark-2.4.7-bin-hadoop2.7/python/pyspark/ml/pipeline.py\u001b[0m in \u001b[0;36m_transform\u001b[0;34m(self, dataset)\u001b[0m\n\u001b[1;32m    260\u001b[0m     \u001b[0;32mdef\u001b[0m \u001b[0m_transform\u001b[0m\u001b[0;34m(\u001b[0m\u001b[0mself\u001b[0m\u001b[0;34m,\u001b[0m \u001b[0mdataset\u001b[0m\u001b[0;34m)\u001b[0m\u001b[0;34m:\u001b[0m\u001b[0;34m\u001b[0m\u001b[0;34m\u001b[0m\u001b[0m\n\u001b[1;32m    261\u001b[0m         \u001b[0;32mfor\u001b[0m \u001b[0mt\u001b[0m \u001b[0;32min\u001b[0m \u001b[0mself\u001b[0m\u001b[0;34m.\u001b[0m\u001b[0mstages\u001b[0m\u001b[0;34m:\u001b[0m\u001b[0;34m\u001b[0m\u001b[0;34m\u001b[0m\u001b[0m\n\u001b[0;32m--> 262\u001b[0;31m             \u001b[0mdataset\u001b[0m \u001b[0;34m=\u001b[0m \u001b[0mt\u001b[0m\u001b[0;34m.\u001b[0m\u001b[0mtransform\u001b[0m\u001b[0;34m(\u001b[0m\u001b[0mdataset\u001b[0m\u001b[0;34m)\u001b[0m\u001b[0;34m\u001b[0m\u001b[0;34m\u001b[0m\u001b[0m\n\u001b[0m\u001b[1;32m    263\u001b[0m         \u001b[0;32mreturn\u001b[0m \u001b[0mdataset\u001b[0m\u001b[0;34m\u001b[0m\u001b[0;34m\u001b[0m\u001b[0m\n\u001b[1;32m    264\u001b[0m \u001b[0;34m\u001b[0m\u001b[0m\n",
            "\u001b[0;32m/content/spark-2.4.7-bin-hadoop2.7/python/pyspark/ml/base.py\u001b[0m in \u001b[0;36mtransform\u001b[0;34m(self, dataset, params)\u001b[0m\n\u001b[1;32m    171\u001b[0m                 \u001b[0;32mreturn\u001b[0m \u001b[0mself\u001b[0m\u001b[0;34m.\u001b[0m\u001b[0mcopy\u001b[0m\u001b[0;34m(\u001b[0m\u001b[0mparams\u001b[0m\u001b[0;34m)\u001b[0m\u001b[0;34m.\u001b[0m\u001b[0m_transform\u001b[0m\u001b[0;34m(\u001b[0m\u001b[0mdataset\u001b[0m\u001b[0;34m)\u001b[0m\u001b[0;34m\u001b[0m\u001b[0;34m\u001b[0m\u001b[0m\n\u001b[1;32m    172\u001b[0m             \u001b[0;32melse\u001b[0m\u001b[0;34m:\u001b[0m\u001b[0;34m\u001b[0m\u001b[0;34m\u001b[0m\u001b[0m\n\u001b[0;32m--> 173\u001b[0;31m                 \u001b[0;32mreturn\u001b[0m \u001b[0mself\u001b[0m\u001b[0;34m.\u001b[0m\u001b[0m_transform\u001b[0m\u001b[0;34m(\u001b[0m\u001b[0mdataset\u001b[0m\u001b[0;34m)\u001b[0m\u001b[0;34m\u001b[0m\u001b[0;34m\u001b[0m\u001b[0m\n\u001b[0m\u001b[1;32m    174\u001b[0m         \u001b[0;32melse\u001b[0m\u001b[0;34m:\u001b[0m\u001b[0;34m\u001b[0m\u001b[0;34m\u001b[0m\u001b[0m\n\u001b[1;32m    175\u001b[0m             \u001b[0;32mraise\u001b[0m \u001b[0mValueError\u001b[0m\u001b[0;34m(\u001b[0m\u001b[0;34m\"Params must be a param map but got %s.\"\u001b[0m \u001b[0;34m%\u001b[0m \u001b[0mtype\u001b[0m\u001b[0;34m(\u001b[0m\u001b[0mparams\u001b[0m\u001b[0;34m)\u001b[0m\u001b[0;34m)\u001b[0m\u001b[0;34m\u001b[0m\u001b[0;34m\u001b[0m\u001b[0m\n",
            "\u001b[0;32m/content/spark-2.4.7-bin-hadoop2.7/python/pyspark/ml/wrapper.py\u001b[0m in \u001b[0;36m_transform\u001b[0;34m(self, dataset)\u001b[0m\n\u001b[1;32m    310\u001b[0m     \u001b[0;32mdef\u001b[0m \u001b[0m_transform\u001b[0m\u001b[0;34m(\u001b[0m\u001b[0mself\u001b[0m\u001b[0;34m,\u001b[0m \u001b[0mdataset\u001b[0m\u001b[0;34m)\u001b[0m\u001b[0;34m:\u001b[0m\u001b[0;34m\u001b[0m\u001b[0;34m\u001b[0m\u001b[0m\n\u001b[1;32m    311\u001b[0m         \u001b[0mself\u001b[0m\u001b[0;34m.\u001b[0m\u001b[0m_transfer_params_to_java\u001b[0m\u001b[0;34m(\u001b[0m\u001b[0;34m)\u001b[0m\u001b[0;34m\u001b[0m\u001b[0;34m\u001b[0m\u001b[0m\n\u001b[0;32m--> 312\u001b[0;31m         \u001b[0;32mreturn\u001b[0m \u001b[0mDataFrame\u001b[0m\u001b[0;34m(\u001b[0m\u001b[0mself\u001b[0m\u001b[0;34m.\u001b[0m\u001b[0m_java_obj\u001b[0m\u001b[0;34m.\u001b[0m\u001b[0mtransform\u001b[0m\u001b[0;34m(\u001b[0m\u001b[0mdataset\u001b[0m\u001b[0;34m.\u001b[0m\u001b[0m_jdf\u001b[0m\u001b[0;34m)\u001b[0m\u001b[0;34m,\u001b[0m \u001b[0mdataset\u001b[0m\u001b[0;34m.\u001b[0m\u001b[0msql_ctx\u001b[0m\u001b[0;34m)\u001b[0m\u001b[0;34m\u001b[0m\u001b[0;34m\u001b[0m\u001b[0m\n\u001b[0m\u001b[1;32m    313\u001b[0m \u001b[0;34m\u001b[0m\u001b[0m\n\u001b[1;32m    314\u001b[0m \u001b[0;34m\u001b[0m\u001b[0m\n",
            "\u001b[0;32m/content/spark-2.4.7-bin-hadoop2.7/python/lib/py4j-0.10.7-src.zip/py4j/java_gateway.py\u001b[0m in \u001b[0;36m__call__\u001b[0;34m(self, *args)\u001b[0m\n\u001b[1;32m   1255\u001b[0m         \u001b[0manswer\u001b[0m \u001b[0;34m=\u001b[0m \u001b[0mself\u001b[0m\u001b[0;34m.\u001b[0m\u001b[0mgateway_client\u001b[0m\u001b[0;34m.\u001b[0m\u001b[0msend_command\u001b[0m\u001b[0;34m(\u001b[0m\u001b[0mcommand\u001b[0m\u001b[0;34m)\u001b[0m\u001b[0;34m\u001b[0m\u001b[0;34m\u001b[0m\u001b[0m\n\u001b[1;32m   1256\u001b[0m         return_value = get_return_value(\n\u001b[0;32m-> 1257\u001b[0;31m             answer, self.gateway_client, self.target_id, self.name)\n\u001b[0m\u001b[1;32m   1258\u001b[0m \u001b[0;34m\u001b[0m\u001b[0m\n\u001b[1;32m   1259\u001b[0m         \u001b[0;32mfor\u001b[0m \u001b[0mtemp_arg\u001b[0m \u001b[0;32min\u001b[0m \u001b[0mtemp_args\u001b[0m\u001b[0;34m:\u001b[0m\u001b[0;34m\u001b[0m\u001b[0;34m\u001b[0m\u001b[0m\n",
            "\u001b[0;32m/content/spark-2.4.7-bin-hadoop2.7/python/pyspark/sql/utils.py\u001b[0m in \u001b[0;36mdeco\u001b[0;34m(*a, **kw)\u001b[0m\n\u001b[1;32m     77\u001b[0m                 \u001b[0;32mraise\u001b[0m \u001b[0mQueryExecutionException\u001b[0m\u001b[0;34m(\u001b[0m\u001b[0ms\u001b[0m\u001b[0;34m.\u001b[0m\u001b[0msplit\u001b[0m\u001b[0;34m(\u001b[0m\u001b[0;34m': '\u001b[0m\u001b[0;34m,\u001b[0m \u001b[0;36m1\u001b[0m\u001b[0;34m)\u001b[0m\u001b[0;34m[\u001b[0m\u001b[0;36m1\u001b[0m\u001b[0;34m]\u001b[0m\u001b[0;34m,\u001b[0m \u001b[0mstackTrace\u001b[0m\u001b[0;34m)\u001b[0m\u001b[0;34m\u001b[0m\u001b[0;34m\u001b[0m\u001b[0m\n\u001b[1;32m     78\u001b[0m             \u001b[0;32mif\u001b[0m \u001b[0ms\u001b[0m\u001b[0;34m.\u001b[0m\u001b[0mstartswith\u001b[0m\u001b[0;34m(\u001b[0m\u001b[0;34m'java.lang.IllegalArgumentException: '\u001b[0m\u001b[0;34m)\u001b[0m\u001b[0;34m:\u001b[0m\u001b[0;34m\u001b[0m\u001b[0;34m\u001b[0m\u001b[0m\n\u001b[0;32m---> 79\u001b[0;31m                 \u001b[0;32mraise\u001b[0m \u001b[0mIllegalArgumentException\u001b[0m\u001b[0;34m(\u001b[0m\u001b[0ms\u001b[0m\u001b[0;34m.\u001b[0m\u001b[0msplit\u001b[0m\u001b[0;34m(\u001b[0m\u001b[0;34m': '\u001b[0m\u001b[0;34m,\u001b[0m \u001b[0;36m1\u001b[0m\u001b[0;34m)\u001b[0m\u001b[0;34m[\u001b[0m\u001b[0;36m1\u001b[0m\u001b[0;34m]\u001b[0m\u001b[0;34m,\u001b[0m \u001b[0mstackTrace\u001b[0m\u001b[0;34m)\u001b[0m\u001b[0;34m\u001b[0m\u001b[0;34m\u001b[0m\u001b[0m\n\u001b[0m\u001b[1;32m     80\u001b[0m             \u001b[0;32mraise\u001b[0m\u001b[0;34m\u001b[0m\u001b[0;34m\u001b[0m\u001b[0m\n\u001b[1;32m     81\u001b[0m     \u001b[0;32mreturn\u001b[0m \u001b[0mdeco\u001b[0m\u001b[0;34m\u001b[0m\u001b[0;34m\u001b[0m\u001b[0m\n",
            "\u001b[0;31mIllegalArgumentException\u001b[0m: 'Data type string of column Label is not supported.'"
          ]
        }
      ]
    },
    {
      "cell_type": "code",
      "metadata": {
        "id": "V2I3HvK4Smy5"
      },
      "source": [
        "train, test = df.randomSplit([0.7, 0.3], seed = 2018)\n",
        "print(\"Training Dataset Count: \" + str(train.count()))\n",
        "print(\"Test Dataset Count: \" + str(test.count()))"
      ],
      "execution_count": null,
      "outputs": []
    },
    {
      "cell_type": "code",
      "metadata": {
        "id": "7acD0cDWSqUH"
      },
      "source": [
        "from pyspark.ml.classification import LogisticRegression\n",
        "lr = LogisticRegression(featuresCol = 'features', labelCol = 'label', maxIter=10)\n",
        "lrModel = lr.fit(train)"
      ],
      "execution_count": null,
      "outputs": []
    },
    {
      "cell_type": "code",
      "metadata": {
        "id": "FGSdXCnFSttI"
      },
      "source": [
        "import matplotlib.pyplot as plt\n",
        "import numpy as np\n",
        "beta = np.sort(lrModel.coefficients)\n",
        "plt.plot(beta)\n",
        "plt.ylabel('Beta Coefficients')\n",
        "plt.show()"
      ],
      "execution_count": null,
      "outputs": []
    },
    {
      "cell_type": "code",
      "metadata": {
        "id": "y5tHaHuTSx9l"
      },
      "source": [
        "trainingSummary = lrModel.summary\n",
        "roc = trainingSummary.roc.toPandas()\n",
        "plt.plot(roc['FPR'],roc['TPR'])\n",
        "plt.ylabel('False Positive Rate')\n",
        "plt.xlabel('True Positive Rate')\n",
        "plt.title('ROC Curve')\n",
        "plt.show()\n",
        "print('Training set areaUnderROC: ' + str(trainingSummary.areaUnderROC))"
      ],
      "execution_count": null,
      "outputs": []
    },
    {
      "cell_type": "code",
      "metadata": {
        "id": "Eelwwt_RS1RV"
      },
      "source": [
        "pr = trainingSummary.pr.toPandas()\n",
        "plt.plot(pr['recall'],pr['precision'])\n",
        "plt.ylabel('Precision')\n",
        "plt.xlabel('Recall')\n",
        "plt.show()"
      ],
      "execution_count": null,
      "outputs": []
    },
    {
      "cell_type": "markdown",
      "metadata": {
        "id": "aaajHr1cYNRD"
      },
      "source": [
        "# Clustering Model"
      ]
    },
    {
      "cell_type": "code",
      "metadata": {
        "colab": {
          "base_uri": "https://localhost:8080/"
        },
        "id": "xX3Sk_0MZtsK",
        "outputId": "6a55c99b-3535-48bd-a507-9d568f65cf8f"
      },
      "source": [
        "from pyspark.ml.feature import VectorAssembler\n",
        "\n",
        "features =  df3.columns \n",
        "      \n",
        " \n",
        "\n",
        "assembler = VectorAssembler(inputCols=features,outputCol=\"features\")\n",
        "\n",
        "dataset=assembler.transform(df3)\n",
        "dataset.select(\"features\").show(truncate=False)"
      ],
      "execution_count": null,
      "outputs": [
        {
          "output_type": "stream",
          "text": [
            "+-------------------------------------------------------------------------------------------------------------------------------------------------------------------------------------------------------------------------------------------------------------------------------------------------------------------------------------------------------------------------------------------------------------------------------------------------------------------------------------------------------------------------------------------------------------------------------------------------+\n",
            "|features                                                                                                                                                                                                                                                                                                                                                                                                                                                                                                                                                                                         |\n",
            "+-------------------------------------------------------------------------------------------------------------------------------------------------------------------------------------------------------------------------------------------------------------------------------------------------------------------------------------------------------------------------------------------------------------------------------------------------------------------------------------------------------------------------------------------------------------------------------------------------+\n",
            "|[443.0,6.0,2.0,141385.0,9.0,7.0,553.0,3773.0,202.0,0.0,61.44444444,87.53443767,1460.0,0.0,539.0,655.4329358,30597.30523,113.1661775,9425.666667,19069.11685,73403.0,1.0,141385.0,17673.125,23965.32327,73403.0,22.0,51417.0,8569.5,13036.89082,31525.0,1.0,0.0,0.0,0.0,0.0,192.0,152.0,63.65597482,49.51020264,0.0,1460.0,254.4705882,474.7129551,225352.3897,0.0,0.0,1.0,1.0,0.0,0.0,0.0,1.0,0.0,270.375,61.44444444,539.0,0.0,0.0,0.0,0.0,0.0,0.0,9.0,553.0,7.0,3773.0,8192.0,119.0,4.0,20.0,0.0,0.0,0.0,0.0,0.0,0.0,0.0,0.0,1.0]                                                              |\n",
            "|(80,[0,1,2,3,4,5,6,8,10,11,16,17,18,19,20,21,22,23,25,26,32,36,37,38,39,41,42,43,44,46,49,54,55,63,64,65,67,70,79],[49684.0,6.0,2.0,281.0,2.0,1.0,38.0,38.0,19.0,26.87005769,135231.3167,10676.15658,140.5,174.655375,264.0,17.0,281.0,281.0,281.0,281.0,1.0,40.0,20.0,7117.437722,3558.718861,38.0,19.0,21.93931023,481.3333333,1.0,1.0,25.33333333,19.0,2.0,38.0,1.0,123.0,20.0,1.0])                                                                                                                                                                                                          |\n",
            "|[443.0,6.0,2.0,279824.0,11.0,15.0,1086.0,10527.0,385.0,0.0,98.72727273,129.3924966,1460.0,0.0,701.8,636.3141856,41501.0864,92.91554692,11192.96,24379.44834,112589.0,1.0,279728.0,27972.8,36167.74032,112589.0,94.0,258924.0,18494.57143,36356.50372,133669.0,1.0,0.0,0.0,0.0,0.0,232.0,312.0,39.31042369,53.60512322,0.0,1460.0,430.1111111,566.234209,320621.1795,0.0,0.0,1.0,1.0,0.0,0.0,0.0,1.0,1.0,446.6538462,98.72727273,701.8,0.0,0.0,0.0,0.0,0.0,0.0,11.0,1086.0,15.0,10527.0,8192.0,1047.0,5.0,20.0,0.0,0.0,0.0,0.0,0.0,0.0,0.0,0.0,1.0]                                               |\n",
            "|(80,[0,1,2,3,4,17,18,20,21,22,23,25,26,36,38,49,63,67,68,70,79],[443.0,6.0,2.0,132.0,2.0,15151.51515,132.0,132.0,132.0,132.0,132.0,132.0,132.0,40.0,15151.51515,1.0,2.0,256.0,-1.0,20.0,1.0])                                                                                                                                                                                                                                                                                                                                                                                                    |\n",
            "|[443.0,6.0,2.0,274016.0,9.0,13.0,1285.0,6141.0,517.0,0.0,142.7777778,183.8877224,1460.0,0.0,472.3846154,611.1804887,27100.60726,80.28728249,13048.38095,26311.62703,114077.0,1.0,273946.0,34243.25,37996.56546,114077.0,201.0,252994.0,21082.83333,39075.73819,135611.0,1.0,0.0,0.0,0.0,0.0,192.0,272.0,32.84479738,47.44248511,0.0,1460.0,322.8695652,497.2547641,247262.3004,0.0,0.0,1.0,1.0,0.0,0.0,0.0,1.0,1.0,337.5454545,142.7777778,472.3846154,0.0,0.0,0.0,0.0,0.0,0.0,9.0,1285.0,13.0,6141.0,8192.0,1047.0,5.0,20.0,0.0,0.0,0.0,0.0,0.0,0.0,0.0,0.0,1.0]                                |\n",
            "|(80,[0,1,2,3,4,17,18,20,21,22,23,25,26,36,38,49,63,67,68,70,79],[443.0,6.0,2.0,250.0,2.0,8000.0,250.0,250.0,250.0,250.0,250.0,250.0,250.0,40.0,8000.0,1.0,2.0,251.0,-1.0,20.0,1.0])                                                                                                                                                                                                                                                                                                                                                                                                              |\n",
            "|(80,[0,1,2,3,4,5,17,18,19,20,21,22,23,24,25,26,36,37,38,39,47,48,52,63,65,67,68,70,79],[80.0,6.0,2.0,5964033.0,3.0,1.0,0.6706871,1988011.0,3425209.65,5943084.0,19.0,5964033.0,2982016.5,4187581.818,5943084.0,20949.0,72.0,32.0,0.503015325,0.167671775,1.0,1.0,1.0,3.0,1.0,8192.0,29200.0,20.0,1.0])                                                                                                                                                                                                                                                                                           |\n",
            "|(80,[0,1,2,3,4,17,18,20,21,22,23,25,26,36,38,49,63,67,68,70,79],[49690.0,6.0,2.0,144.0,2.0,13888.88889,144.0,144.0,144.0,144.0,144.0,144.0,144.0,40.0,13888.88889,1.0,2.0,913.0,-1.0,20.0,1.0])                                                                                                                                                                                                                                                                                                                                                                                                  |\n",
            "|[443.0,6.0,2.0,90828.0,8.0,8.0,1748.0,3898.0,1078.0,0.0,218.5,363.7133879,1460.0,0.0,487.25,639.5062269,62161.44801,176.1571322,6055.2,9948.657879,23343.0,1.0,69438.0,9919.714286,11893.19116,23365.0,48.0,69553.0,9936.142857,12312.69524,23723.0,1.0,0.0,0.0,0.0,0.0,172.0,172.0,88.07856608,88.07856608,0.0,1460.0,332.1176471,512.0358731,262180.7353,0.0,0.0,1.0,1.0,0.0,0.0,0.0,1.0,1.0,352.875,218.5,487.25,0.0,0.0,0.0,0.0,0.0,0.0,8.0,1748.0,8.0,3898.0,8192.0,8192.0,5.0,20.0,0.0,0.0,0.0,0.0,0.0,0.0,0.0,0.0,1.0]                                                                    |\n",
            "|(80,[0,1,2,3,4,6,8,10,11,16,17,18,19,20,21,22,23,24,25,26,36,38,41,42,43,44,49,54,55,63,64,67,68,69,70,79],[443.0,6.0,2.0,152.0,3.0,31.0,31.0,10.33333333,17.89785834,203947.3684,19736.84211,76.0,63.63961031,121.0,31.0,152.0,76.0,63.63961031,121.0,31.0,60.0,19736.84211,31.0,7.75,15.5,240.25,1.0,10.33333333,10.33333333,3.0,31.0,257.0,-1.0,1.0,20.0,1.0])                                                                                                                                                                                                                                |\n",
            "|(80,[0,1,2,3,4,5,17,18,19,20,21,22,23,24,25,26,36,37,38,39,48,63,65,67,68,70,79],[445.0,6.0,2.0,234228.0,3.0,1.0,17.0773776,78076.0,131265.8661,229627.0,76.0,234228.0,117114.0,159224.8908,229703.0,4525.0,68.0,28.0,12.8080332,4.269344399,1.0,3.0,1.0,8192.0,8192.0,20.0,1.0])                                                                                                                                                                                                                                                                                                                |\n",
            "|[443.0,6.0,2.0,6.0860062E7,15.0,13.0,870.0,3306.0,535.0,0.0,58.0,144.6315516,1460.0,0.0,254.3076923,538.4357567,68.61642698,0.460071828,2254076.37,4220283.566,1.0E7,1.0,6.09E7,4347147.286,5134036.59,1.01E7,2138.0,6.08E7,5065870.5,5234966.454,1.01E7,1.0,0.0,0.0,0.0,0.0,312.0,264.0,0.246467051,0.213604777,0.0,1460.0,144.0,380.8669621,145059.6429,0.0,0.0,1.0,1.0,0.0,0.0,0.0,1.0,0.0,149.1428571,58.0,254.3076923,0.0,0.0,0.0,0.0,0.0,0.0,15.0,870.0,13.0,3306.0,8192.0,31088.0,9.0,20.0,130201.6667,148831.6544,434003.0,69408.0,1.0E7,16330.68406,1.0E7,9968389.0,1.0]                |\n",
            "|(80,[0,1,2,3,4,17,18,20,21,22,23,25,26,36,38,49,63,67,68,70,79],[49687.0,6.0,2.0,68899.0,2.0,29.0279975,68899.0,68899.0,68899.0,68899.0,68899.0,68899.0,68899.0,40.0,29.0279975,1.0,2.0,31088.0,-1.0,20.0,1.0])                                                                                                                                                                                                                                                                                                                                                                                  |\n",
            "|(80,[2,3,4,17,18,19,20,21,22,23,24,25,26,38,63,67,68,71,72,73,74,75,76,77,78,79],[2.0,1.19250445E8,72.0,0.603771332,1679583.732,2528448.202,2.01E7,170801.0,1.19E8,1679583.732,2528448.202,2.01E7,170801.0,0.603771332,72.0,-1.0,-1.0,4.64E7,2.09E7,6.11E7,3.16E7,1.33E7,9720570.758,2.01E7,6381385.0,1.0])                                                                                                                                                                                                                                                                                      |\n",
            "|[443.0,6.0,2.0,1.16185749E8,21.0,18.0,749.0,4567.0,389.0,0.0,35.66666667,94.42422006,1460.0,0.0,253.7222222,516.5058858,45.75432052,0.335669394,3057519.711,4582223.965,1.0E7,0.0,1.16E8,5809287.45,4929086.208,1.0E7,28.0,1.11E8,6505413.0,4920453.778,1.0E7,0.0,0.0,0.0,0.0,0.0,432.0,504.0,0.180745059,0.154924336,0.0,1460.0,132.9,364.8855669,133141.4769,0.0,0.0,1.0,1.0,0.0,0.0,0.0,1.0,0.0,136.3076923,35.66666667,253.7222222,0.0,0.0,0.0,0.0,0.0,0.0,21.0,749.0,18.0,4567.0,8192.0,980.0,15.0,20.0,46760.16667,89026.69707,329454.0,20847.0,9635383.25,1279465.907,1.0E7,5572867.0,1.0]|\n",
            "|[443.0,6.0,2.0,6.06026E7,13.0,14.0,338.0,3264.0,207.0,0.0,26.0,64.51227273,1460.0,0.0,233.1428571,522.5606858,59.43639382,0.44552544,2330869.231,4280721.113,1.0E7,0.0,6.06E7,5050216.667,5223517.717,1.01E7,637.0,6.05E7,4656495.385,5204710.91,1.01E7,0.0,0.0,0.0,0.0,0.0,272.0,284.0,0.214512249,0.231013191,0.0,1460.0,128.6428571,380.3625185,144675.6455,0.0,0.0,1.0,1.0,0.0,0.0,0.0,1.0,1.0,133.4074074,26.0,233.1428571,0.0,0.0,0.0,0.0,0.0,0.0,13.0,338.0,14.0,3264.0,8192.0,48180.0,7.0,20.0,106008.1667,92770.95438,295376.0,68039.0,9994401.5,23886.95478,1.0E7,9959152.0,1.0]       |\n",
            "|[80.0,6.0,2.0,1.16690356E8,17.0,16.0,883.0,1576.0,436.0,0.0,51.94117647,144.5551238,788.0,0.0,98.5,269.1532401,21.07286398,0.28279972,3646573.625,4802617.578,1.0E7,16.0,1.17E8,7292436.0,4410906.134,1.0E7,143.0,1.17E8,7778611.133,4123216.976,1.0E7,528.0,0.0,0.0,0.0,0.0,352.0,464.0,0.145684704,0.137115016,0.0,788.0,72.32352941,209.2010372,43765.07398,0.0,0.0,1.0,1.0,0.0,0.0,0.0,1.0,0.0,74.51515152,51.94117647,98.5,0.0,0.0,0.0,0.0,0.0,0.0,17.0,883.0,16.0,1576.0,8192.0,290.0,13.0,20.0,22699.66667,26978.00882,88621.0,11223.0,9700548.333,1014536.434,1.0E7,6479791.0,1.0]       |\n",
            "|[80.0,6.0,2.0,1.19731397E8,17.0,16.0,597.0,768.0,293.0,0.0,35.11764706,97.06433585,384.0,0.0,48.0,131.1609698,11.40051845,0.275616929,3741606.156,4889656.525,1.0E7,17.0,1.2E8,7482496.75,4439470.787,1.0E7,564.0,1.2E8,7981337.0,4130418.387,1.0E7,303.0,0.0,0.0,0.0,0.0,352.0,464.0,0.141984479,0.133632451,0.0,384.0,40.14705882,111.7112437,12479.40196,0.0,0.0,1.0,1.0,0.0,0.0,0.0,1.0,0.0,41.36363636,35.11764706,48.0,0.0,0.0,0.0,0.0,0.0,0.0,17.0,597.0,16.0,768.0,8192.0,980.0,13.0,20.0,22859.0,26715.60238,82791.0,11324.0,9953803.333,138400.2774,1.0E7,9520409.0,1.0]               |\n",
            "|[443.0,6.0,2.0,1.18281864E8,36.0,83.0,1022.0,108156.0,250.0,0.0,28.38888889,64.57344778,1460.0,0.0,1303.084337,429.7638661,923.0324608,1.006071396,1002388.678,7643655.563,5.9E7,0.0,1.18E8,3379481.829,1.39E7,5.9E7,133.0,1.18E8,1441514.171,9159139.287,5.9E7,0.0,0.0,0.0,0.0,0.0,732.0,1672.0,0.304357733,0.701713663,0.0,1460.0,909.8166667,691.633871,478357.4115,0.0,0.0,1.0,1.0,0.0,0.0,0.0,1.0,2.0,917.4621849,28.38888889,1303.084337,0.0,0.0,0.0,0.0,0.0,0.0,36.0,1022.0,83.0,108156.0,8192.0,131.0,8.0,20.0,134521.0,79961.04903,191062.0,77980.0,5.9E7,44452.97491,5.9E7,5.89E7,1.0] |\n",
            "|(80,[0,1,2,3,4,6,8,10,11,16,17,18,19,20,21,22,23,24,25,26,32,36,38,41,42,43,44,46,49,54,55,63,64,67,68,69,70,79],[443.0,6.0,2.0,192.0,3.0,77.0,46.0,25.66666667,23.45918441,401041.6667,15625.0,96.0,110.3086579,174.0,18.0,192.0,96.0,110.3086579,174.0,18.0,1.0,60.0,15625.0,46.0,30.75,21.68524844,470.25,1.0,1.0,41.0,25.66666667,3.0,77.0,256.0,-1.0,1.0,20.0,1.0])                                                                                                                                                                                                                         |\n",
            "+-------------------------------------------------------------------------------------------------------------------------------------------------------------------------------------------------------------------------------------------------------------------------------------------------------------------------------------------------------------------------------------------------------------------------------------------------------------------------------------------------------------------------------------------------------------------------------------------------+\n",
            "only showing top 20 rows\n",
            "\n"
          ],
          "name": "stdout"
        }
      ]
    },
    {
      "cell_type": "code",
      "metadata": {
        "colab": {
          "base_uri": "https://localhost:8080/"
        },
        "id": "BBjJdSu_YPR6",
        "outputId": "5a2131af-b086-4340-8e6b-1629ce2dd49e"
      },
      "source": [
        "#%spark.pyspark\n",
        "\n",
        "from pyspark.ml.evaluation import ClusteringEvaluator\n",
        "from pyspark.ml.clustering import KMeans\n",
        "\n",
        "# Trains a k-means model.\n",
        "kmeans = KMeans().setK(5).setSeed(1)\n",
        "model = kmeans.fit(dataset)\n",
        "\n",
        "# Make predictions\n",
        "predictions = model.transform(dataset)\n",
        "\n",
        "# Evaluate clustering by computing Silhouette score\n",
        "evaluator = ClusteringEvaluator()\n",
        "\n",
        "#silhouette = evaluator.evaluate(predictions)\n",
        "#print(\"Silhouette with squared euclidean distance = \" + str(silhouette))\n",
        "\n",
        "\n",
        "# Evaluate clustering.\n",
        "cost = model.computeCost(dataset)\n",
        "print(\"Within Set Sum of Squared Errors = \" + str(cost))\n",
        "\n",
        "# Shows the result.\n",
        "print(\"Cluster Centers: \")\n",
        "ctr=[]\n",
        "centers = model.clusterCenters()\n",
        "for center in centers:\n",
        "    ctr.append(center)\n",
        "    print(center)"
      ],
      "execution_count": null,
      "outputs": [
        {
          "output_type": "stream",
          "text": [
            "Within Set Sum of Squared Errors = inf\n",
            "Cluster Centers: \n",
            "[8.08084082e+03 6.44794288e+00 2.00000000e+00 3.31691055e+06\n",
            " 4.32202043e+00 3.61182976e+00 2.62154513e+02 6.32624509e+02\n",
            " 1.89344927e+02 1.89444077e+00 5.74955827e+01 9.44752065e+01\n",
            " 1.55011864e+02 4.52999296e+00 4.05992095e+01 6.10535038e+01\n",
            "            inf            inf 2.59521690e+05 1.86327432e+05\n",
            " 7.94466458e+05 1.62271424e+05 3.27169134e+06 3.49299035e+05\n",
            " 1.88949604e+05 7.90131252e+05 2.16708889e+05 2.36506371e+06\n",
            " 1.82136160e+05 1.58246288e+05 4.97146219e+05 6.45750272e+04\n",
            " 1.23171096e-02 0.00000000e+00 0.00000000e+00 0.00000000e+00\n",
            " 8.38286056e+01 7.55575438e+01 5.27495247e+03 6.66994381e+02\n",
            " 1.87593311e+00 2.41451190e+02 4.20948189e+01 7.76274297e+01\n",
            " 1.54103179e+04 6.55846095e-04 1.23171096e-02 4.62664761e-01\n",
            " 5.08771275e-01 4.36622872e-01 5.09213838e-03 0.00000000e+00\n",
            " 4.62664761e-01 4.98539010e-01 4.76285438e+01 5.74955827e+01\n",
            " 4.05992095e+01 0.00000000e+00 0.00000000e+00 0.00000000e+00\n",
            " 0.00000000e+00 0.00000000e+00 0.00000000e+00 4.32202043e+00\n",
            " 2.62154513e+02 3.61182976e+00 6.32399549e+02 5.42944135e+03\n",
            " 5.18088147e+03 1.23594996e+00 1.92985113e+01 1.96344973e+05\n",
            " 1.07878159e+05 2.86812292e+05 1.21131888e+05 6.32599098e+05\n",
            " 4.53778717e+04 6.70201800e+05 5.89743496e+05 1.86468242e-01]\n"
          ],
          "name": "stdout"
        }
      ]
    },
    {
      "cell_type": "markdown",
      "metadata": {
        "id": "H0nQpmd1bRY8"
      },
      "source": [
        "This code below is taken directly from the Spark ML documentation with some modifications, because there’s only one way to use the algorithm. A couple items to note:\n",
        "\n",
        "KMeans().setK(2).setSeed(1)⁠—The number 2 is the number of clusters to divide the data into. We see that any number larger than 2 causes this value ClusteringEvaluator() to fall below 0.5, meaning it’s not a clear division. Another way to check the optimal number of clusters would be to plot an elbow curve.\n",
        "predictions = model.transform(dataset)—This will add the prediction column to the dataframe, so we can show which patients qualify for which category.\n",
        "The rest of the code is self-evident. The code prints the cluster centers for each division as well as the sum of squared errors. That’s a clue to how it works: it computes the distance of each data point from its guess as to the center of the cluster, adjusts the guesses, then repeats until the number reaches its minimum. The distance of each point from this central point is squared so that distance is always positive. The goal is to have the smallest number possible—the shortest distance between all the data points."
      ]
    },
    {
      "cell_type": "markdown",
      "metadata": {
        "id": "lsAxPg_VbYKw"
      },
      "source": [
        "Below, the algorithm shows the squared Euclidean distance.\n",
        "\n",
        "If this number is negative, the data cannot be separated at all.\n",
        "Values closer to 1 indicate maximum separation.\n",
        "Values close to zero mean the data could barely be separated.\n",
        "In this example, 0.81 is not bad."
      ]
    },
    {
      "cell_type": "code",
      "metadata": {
        "id": "lZVQ7261bXiz"
      },
      "source": [
        ""
      ],
      "execution_count": null,
      "outputs": []
    },
    {
      "cell_type": "code",
      "metadata": {
        "id": "gxu81lD7Z2PN"
      },
      "source": [
        "from pyspark.ml.evaluation import ClusteringEvaluator\n",
        "from pyspark.ml.clustering import KMeans\n",
        "\n",
        "# Trains a k-means model.\n",
        "kmeans = KMeans().setK(2).setSeed(1)\n",
        "model = kmeans.fit(dataset)\n",
        "\n",
        "# Make predictions\n",
        "predictions = model.transform(dataset)\n",
        "\n",
        "# Evaluate clustering by computing Silhouette score\n",
        "evaluator = ClusteringEvaluator()\n",
        "\n",
        "silhouette = evaluator.evaluate(predictions)\n",
        "print(\"Silhouette with squared euclidean distance = \" + str(silhouette))\n",
        "\n",
        "\n",
        "# Evaluate clustering.\n",
        "cost = model.computeCost(dataset)\n",
        "print(\"Within Set Sum of Squared Errors = \" + str(cost))\n",
        "\n",
        "# Shows the result.\n",
        "print(\"Cluster Centers: \")\n",
        "ctr=[]\n",
        "centers = model.clusterCenters()\n",
        "for center in centers:\n",
        "    ctr.append(center)\n",
        "    print(center)"
      ],
      "execution_count": null,
      "outputs": []
    }
  ]
}